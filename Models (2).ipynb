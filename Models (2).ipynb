{
 "cells": [
  {
   "cell_type": "code",
   "execution_count": 31,
   "id": "dbd428f3",
   "metadata": {
    "id": "9c6d5556"
   },
   "outputs": [],
   "source": [
    "import pandas as pd\n",
    "import numpy as np\n",
    "import matplotlib.pyplot as plt\n",
    "from matplotlib import pylab as plot\n",
    "from sklearn.metrics import roc_curve, roc_auc_score, f1_score\n",
    "from sklearn.model_selection import GridSearchCV\n",
    "\n",
    "pd.options.display.max_columns = 50\n",
    "pd.options.display.max_rows = 80"
   ]
  },
  {
   "cell_type": "code",
   "execution_count": 32,
   "id": "c871adaf",
   "metadata": {
    "colab": {
     "base_uri": "https://localhost:8080/",
     "height": 285
    },
    "id": "6b6bd3ed",
    "outputId": "670c33c6-d8fb-42c9-8466-ba71be6461cd",
    "scrolled": true
   },
   "outputs": [
    {
     "data": {
      "text/html": [
       "<div>\n",
       "<style scoped>\n",
       "    .dataframe tbody tr th:only-of-type {\n",
       "        vertical-align: middle;\n",
       "    }\n",
       "\n",
       "    .dataframe tbody tr th {\n",
       "        vertical-align: top;\n",
       "    }\n",
       "\n",
       "    .dataframe thead th {\n",
       "        text-align: right;\n",
       "    }\n",
       "</style>\n",
       "<table border=\"1\" class=\"dataframe\">\n",
       "  <thead>\n",
       "    <tr style=\"text-align: right;\">\n",
       "      <th></th>\n",
       "      <th>ID</th>\n",
       "      <th>Age</th>\n",
       "      <th>Ind_Household</th>\n",
       "      <th>Age_group</th>\n",
       "      <th>District</th>\n",
       "      <th>Region</th>\n",
       "      <th>Lifetime</th>\n",
       "      <th>Income</th>\n",
       "      <th>Segment</th>\n",
       "      <th>Ind_deposit</th>\n",
       "      <th>Ind_email</th>\n",
       "      <th>Ind_phone</th>\n",
       "      <th>Ind_salary</th>\n",
       "      <th>trans_6_month</th>\n",
       "      <th>trans_9_month</th>\n",
       "      <th>trans_12_month</th>\n",
       "      <th>amont_trans</th>\n",
       "      <th>amont_day_from</th>\n",
       "      <th>trans_3_month</th>\n",
       "      <th>Gender</th>\n",
       "      <th>Target1</th>\n",
       "      <th>Target2</th>\n",
       "    </tr>\n",
       "  </thead>\n",
       "  <tbody>\n",
       "    <tr>\n",
       "      <th>0</th>\n",
       "      <td>1200000001</td>\n",
       "      <td>51.0</td>\n",
       "      <td>No</td>\n",
       "      <td>middle</td>\n",
       "      <td>02</td>\n",
       "      <td>Midlands</td>\n",
       "      <td>3.0</td>\n",
       "      <td>53</td>\n",
       "      <td>Platinum</td>\n",
       "      <td>No</td>\n",
       "      <td>Yes</td>\n",
       "      <td>Yes</td>\n",
       "      <td>No</td>\n",
       "      <td>2026.27</td>\n",
       "      <td>2964.23</td>\n",
       "      <td>4140.91</td>\n",
       "      <td>3</td>\n",
       "      <td>21</td>\n",
       "      <td>910.02</td>\n",
       "      <td>F</td>\n",
       "      <td>No</td>\n",
       "      <td>No</td>\n",
       "    </tr>\n",
       "    <tr>\n",
       "      <th>1</th>\n",
       "      <td>1200000002</td>\n",
       "      <td>47.0</td>\n",
       "      <td>No</td>\n",
       "      <td>middle</td>\n",
       "      <td>34</td>\n",
       "      <td>Midlands</td>\n",
       "      <td>2.0</td>\n",
       "      <td>51</td>\n",
       "      <td>Gold</td>\n",
       "      <td>No</td>\n",
       "      <td>Yes</td>\n",
       "      <td>Yes</td>\n",
       "      <td>No</td>\n",
       "      <td>2033.14</td>\n",
       "      <td>2969.30</td>\n",
       "      <td>4202.63</td>\n",
       "      <td>5</td>\n",
       "      <td>14</td>\n",
       "      <td>977.80</td>\n",
       "      <td>U</td>\n",
       "      <td>No</td>\n",
       "      <td>No</td>\n",
       "    </tr>\n",
       "    <tr>\n",
       "      <th>2</th>\n",
       "      <td>1200000003</td>\n",
       "      <td>45.0</td>\n",
       "      <td>No</td>\n",
       "      <td>middle</td>\n",
       "      <td>17</td>\n",
       "      <td>North</td>\n",
       "      <td>6.0</td>\n",
       "      <td>50</td>\n",
       "      <td>Silver</td>\n",
       "      <td>No</td>\n",
       "      <td>Yes</td>\n",
       "      <td>Yes</td>\n",
       "      <td>No</td>\n",
       "      <td>2085.68</td>\n",
       "      <td>3080.13</td>\n",
       "      <td>4277.45</td>\n",
       "      <td>11</td>\n",
       "      <td>16</td>\n",
       "      <td>1001.54</td>\n",
       "      <td>M</td>\n",
       "      <td>No</td>\n",
       "      <td>No</td>\n",
       "    </tr>\n",
       "    <tr>\n",
       "      <th>3</th>\n",
       "      <td>1200000004</td>\n",
       "      <td>78.0</td>\n",
       "      <td>No</td>\n",
       "      <td>senior</td>\n",
       "      <td>49</td>\n",
       "      <td>Midlands</td>\n",
       "      <td>12.0</td>\n",
       "      <td>52</td>\n",
       "      <td>Platinum</td>\n",
       "      <td>Yes</td>\n",
       "      <td>Yes</td>\n",
       "      <td>Yes</td>\n",
       "      <td>No</td>\n",
       "      <td>2026.58</td>\n",
       "      <td>3001.34</td>\n",
       "      <td>4105.54</td>\n",
       "      <td>3</td>\n",
       "      <td>15</td>\n",
       "      <td>980.78</td>\n",
       "      <td>F</td>\n",
       "      <td>No</td>\n",
       "      <td>No</td>\n",
       "    </tr>\n",
       "    <tr>\n",
       "      <th>4</th>\n",
       "      <td>1200000005</td>\n",
       "      <td>57.0</td>\n",
       "      <td>No</td>\n",
       "      <td>middle</td>\n",
       "      <td>19</td>\n",
       "      <td>South East</td>\n",
       "      <td>8.0</td>\n",
       "      <td>52</td>\n",
       "      <td>Silver</td>\n",
       "      <td>Yes</td>\n",
       "      <td>Yes</td>\n",
       "      <td>Yes</td>\n",
       "      <td>No</td>\n",
       "      <td>2142.23</td>\n",
       "      <td>3188.19</td>\n",
       "      <td>4401.98</td>\n",
       "      <td>2</td>\n",
       "      <td>26</td>\n",
       "      <td>1003.68</td>\n",
       "      <td>F</td>\n",
       "      <td>Yes</td>\n",
       "      <td>No</td>\n",
       "    </tr>\n",
       "  </tbody>\n",
       "</table>\n",
       "</div>"
      ],
      "text/plain": [
       "           ID   Age Ind_Household Age_group District      Region  Lifetime  \\\n",
       "0  1200000001  51.0            No    middle       02    Midlands       3.0   \n",
       "1  1200000002  47.0            No    middle       34    Midlands       2.0   \n",
       "2  1200000003  45.0            No    middle       17       North       6.0   \n",
       "3  1200000004  78.0            No    senior       49    Midlands      12.0   \n",
       "4  1200000005  57.0            No    middle       19  South East       8.0   \n",
       "\n",
       "   Income   Segment Ind_deposit Ind_email Ind_phone Ind_salary  trans_6_month  \\\n",
       "0      53  Platinum          No       Yes       Yes         No        2026.27   \n",
       "1      51      Gold          No       Yes       Yes         No        2033.14   \n",
       "2      50    Silver          No       Yes       Yes         No        2085.68   \n",
       "3      52  Platinum         Yes       Yes       Yes         No        2026.58   \n",
       "4      52    Silver         Yes       Yes       Yes         No        2142.23   \n",
       "\n",
       "   trans_9_month  trans_12_month  amont_trans  amont_day_from  trans_3_month  \\\n",
       "0        2964.23         4140.91            3              21         910.02   \n",
       "1        2969.30         4202.63            5              14         977.80   \n",
       "2        3080.13         4277.45           11              16        1001.54   \n",
       "3        3001.34         4105.54            3              15         980.78   \n",
       "4        3188.19         4401.98            2              26        1003.68   \n",
       "\n",
       "  Gender Target1 Target2  \n",
       "0      F      No      No  \n",
       "1      U      No      No  \n",
       "2      M      No      No  \n",
       "3      F      No      No  \n",
       "4      F     Yes      No  "
      ]
     },
     "execution_count": 32,
     "metadata": {},
     "output_type": "execute_result"
    }
   ],
   "source": [
    "df_train = pd.read_csv('WORK_bank_data_train.csv', sep=';')\n",
    "df_train.head()"
   ]
  },
  {
   "cell_type": "code",
   "execution_count": 33,
   "id": "879961a3",
   "metadata": {
    "colab": {
     "base_uri": "https://localhost:8080/",
     "height": 319
    },
    "id": "5a1ee9a8",
    "outputId": "9074fb45-7d79-46ae-a97a-68198e6213cf"
   },
   "outputs": [
    {
     "data": {
      "text/html": [
       "<div>\n",
       "<style scoped>\n",
       "    .dataframe tbody tr th:only-of-type {\n",
       "        vertical-align: middle;\n",
       "    }\n",
       "\n",
       "    .dataframe tbody tr th {\n",
       "        vertical-align: top;\n",
       "    }\n",
       "\n",
       "    .dataframe thead th {\n",
       "        text-align: right;\n",
       "    }\n",
       "</style>\n",
       "<table border=\"1\" class=\"dataframe\">\n",
       "  <thead>\n",
       "    <tr style=\"text-align: right;\">\n",
       "      <th></th>\n",
       "      <th>ID</th>\n",
       "      <th>Age</th>\n",
       "      <th>Ind_House_hold</th>\n",
       "      <th>Age_group</th>\n",
       "      <th>District</th>\n",
       "      <th>Region</th>\n",
       "      <th>Lifetime</th>\n",
       "      <th>Income</th>\n",
       "      <th>Segment</th>\n",
       "      <th>Ind_deposit</th>\n",
       "      <th>Ind_salary</th>\n",
       "      <th>trans_6_month</th>\n",
       "      <th>trans_9_month</th>\n",
       "      <th>trans_12_month</th>\n",
       "      <th>amont_trans</th>\n",
       "      <th>amont_day_from</th>\n",
       "      <th>trans_3_month</th>\n",
       "      <th>Gender</th>\n",
       "    </tr>\n",
       "  </thead>\n",
       "  <tbody>\n",
       "    <tr>\n",
       "      <th>0</th>\n",
       "      <td>1200000027</td>\n",
       "      <td>50.0</td>\n",
       "      <td>No</td>\n",
       "      <td>middle</td>\n",
       "      <td>22</td>\n",
       "      <td>South East</td>\n",
       "      <td>5.0</td>\n",
       "      <td>47</td>\n",
       "      <td>Tin</td>\n",
       "      <td>Yes</td>\n",
       "      <td>No</td>\n",
       "      <td>2062.32</td>\n",
       "      <td>2978.92</td>\n",
       "      <td>4054.13</td>\n",
       "      <td>7</td>\n",
       "      <td>17</td>\n",
       "      <td>950.45</td>\n",
       "      <td>M</td>\n",
       "    </tr>\n",
       "    <tr>\n",
       "      <th>1</th>\n",
       "      <td>1200000040</td>\n",
       "      <td>34.0</td>\n",
       "      <td>No</td>\n",
       "      <td>middle</td>\n",
       "      <td>47</td>\n",
       "      <td>South East</td>\n",
       "      <td>5.0</td>\n",
       "      <td>54</td>\n",
       "      <td>Tin</td>\n",
       "      <td>No</td>\n",
       "      <td>No</td>\n",
       "      <td>2000.73</td>\n",
       "      <td>3111.23</td>\n",
       "      <td>4265.02</td>\n",
       "      <td>5</td>\n",
       "      <td>17</td>\n",
       "      <td>982.29</td>\n",
       "      <td>F</td>\n",
       "    </tr>\n",
       "    <tr>\n",
       "      <th>2</th>\n",
       "      <td>1200000041</td>\n",
       "      <td>NaN</td>\n",
       "      <td>Yes</td>\n",
       "      <td>unknown</td>\n",
       "      <td>14</td>\n",
       "      <td>South East</td>\n",
       "      <td>28.0</td>\n",
       "      <td>52</td>\n",
       "      <td>Gold</td>\n",
       "      <td>Yes</td>\n",
       "      <td>No</td>\n",
       "      <td>1991.05</td>\n",
       "      <td>2990.26</td>\n",
       "      <td>4193.14</td>\n",
       "      <td>9</td>\n",
       "      <td>33</td>\n",
       "      <td>909.27</td>\n",
       "      <td>F</td>\n",
       "    </tr>\n",
       "    <tr>\n",
       "      <th>3</th>\n",
       "      <td>1200000071</td>\n",
       "      <td>61.0</td>\n",
       "      <td>No</td>\n",
       "      <td>senior</td>\n",
       "      <td>23</td>\n",
       "      <td>Midlands</td>\n",
       "      <td>3.0</td>\n",
       "      <td>54</td>\n",
       "      <td>Silver</td>\n",
       "      <td>Yes</td>\n",
       "      <td>No</td>\n",
       "      <td>2094.12</td>\n",
       "      <td>3089.97</td>\n",
       "      <td>4167.11</td>\n",
       "      <td>5</td>\n",
       "      <td>17</td>\n",
       "      <td>933.91</td>\n",
       "      <td>F</td>\n",
       "    </tr>\n",
       "    <tr>\n",
       "      <th>4</th>\n",
       "      <td>1200000080</td>\n",
       "      <td>44.0</td>\n",
       "      <td>No</td>\n",
       "      <td>middle</td>\n",
       "      <td>51</td>\n",
       "      <td>North</td>\n",
       "      <td>8.0</td>\n",
       "      <td>43</td>\n",
       "      <td>Silver</td>\n",
       "      <td>Yes</td>\n",
       "      <td>No</td>\n",
       "      <td>2034.41</td>\n",
       "      <td>2972.27</td>\n",
       "      <td>4165.87</td>\n",
       "      <td>5</td>\n",
       "      <td>17</td>\n",
       "      <td>917.13</td>\n",
       "      <td>F</td>\n",
       "    </tr>\n",
       "  </tbody>\n",
       "</table>\n",
       "</div>"
      ],
      "text/plain": [
       "           ID   Age Ind_House_hold Age_group District      Region  Lifetime  \\\n",
       "0  1200000027  50.0             No    middle       22  South East       5.0   \n",
       "1  1200000040  34.0             No    middle       47  South East       5.0   \n",
       "2  1200000041   NaN            Yes   unknown       14  South East      28.0   \n",
       "3  1200000071  61.0             No    senior       23    Midlands       3.0   \n",
       "4  1200000080  44.0             No    middle       51       North       8.0   \n",
       "\n",
       "   Income Segment Ind_deposit Ind_salary  trans_6_month  trans_9_month  \\\n",
       "0      47     Tin         Yes         No        2062.32        2978.92   \n",
       "1      54     Tin          No         No        2000.73        3111.23   \n",
       "2      52    Gold         Yes         No        1991.05        2990.26   \n",
       "3      54  Silver         Yes         No        2094.12        3089.97   \n",
       "4      43  Silver         Yes         No        2034.41        2972.27   \n",
       "\n",
       "   trans_12_month  amont_trans  amont_day_from  trans_3_month Gender  \n",
       "0         4054.13            7              17         950.45      M  \n",
       "1         4265.02            5              17         982.29      F  \n",
       "2         4193.14            9              33         909.27      F  \n",
       "3         4167.11            5              17         933.91      F  \n",
       "4         4165.87            5              17         917.13      F  "
      ]
     },
     "execution_count": 33,
     "metadata": {},
     "output_type": "execute_result"
    }
   ],
   "source": [
    "df_test = pd.read_csv('WORK_WORK_BANK_DATA_test_sample.csv', sep=';')\n",
    "df_test.head()"
   ]
  },
  {
   "cell_type": "code",
   "execution_count": 34,
   "id": "a2012102",
   "metadata": {
    "id": "a7ae2f4a"
   },
   "outputs": [],
   "source": [
    "def encoder(data, columns):\n",
    "    for column in columns:\n",
    "        tmp = pd.get_dummies(data[column], prefix=column)\n",
    "        data = data.drop(columns=[column])\n",
    "        data = data.join(tmp)\n",
    "    return data\n",
    "\n",
    "def code(data, columns):\n",
    "    for column in columns:\n",
    "        data[column] = 1 * (data[column] == 'Yes')\n",
    "    return data\n",
    "\n",
    "def data_preparation(df, is_train=True):\n",
    "    df['Age'].fillna(round(df['Age'].mean(), 0), inplace=True)\n",
    "    df['Lifetime'].fillna(round(df['Lifetime'].mean(), 0), inplace=True)\n",
    "    \n",
    "    if not is_train:\n",
    "        df.rename(columns = {'Ind_House_hold' : 'Ind_Household'}, inplace = True)\n",
    "    \n",
    "    columns_to_delete_train = ['Ind_email', 'Ind_phone']\n",
    "\n",
    "    columns_to_delete = [\"Ind_Household\", \"District\", \"Ind_deposit\", \"Ind_salary\",\n",
    "                      \"trans_6_month\", \"trans_9_month\", \"trans_12_month\", \"amont_trans\",\n",
    "                      \"trans_3_month\"] #IV < 0.01\n",
    "\n",
    "    if is_train:\n",
    "        columns_to_label_encoding = ['Target1', 'Target2']\n",
    "        df = code(df, columns=columns_to_label_encoding)\n",
    "        df.drop(columns=columns_to_delete_train, inplace=True)\n",
    "\n",
    "    df.drop(columns=columns_to_delete, inplace=True)\n",
    "    \n",
    "    columns_to_encoder = ['Age_group', 'Region', 'Segment', 'Gender']\n",
    "    df = encoder(df, columns=columns_to_encoder)\n",
    "\n",
    "    df.drop(columns=[\"Region_Unknown\", \"Gender_U\", \"Age_group_unknown\"], inplace=True)\n",
    "    \n",
    "    return df"
   ]
  },
  {
   "cell_type": "code",
   "execution_count": 35,
   "id": "217095dd",
   "metadata": {
    "id": "5527b9d8"
   },
   "outputs": [],
   "source": [
    "df_train = data_preparation(df_train)\n",
    "df_test = data_preparation(df_test, False)"
   ]
  },
  {
   "cell_type": "markdown",
   "id": "e0c42055",
   "metadata": {
    "id": "XRqdnuZzBNzH"
   },
   "source": [
    "Делим данные на тест и на трейн"
   ]
  },
  {
   "cell_type": "code",
   "execution_count": 36,
   "id": "9ea84dc6",
   "metadata": {
    "id": "c5524600"
   },
   "outputs": [],
   "source": [
    "y1 = df_train.loc[:, ['Target1']] #колонка таргета 1\n",
    "y2 = df_train.loc[:, ['Target2']] #колонка таргета 2\n",
    "x = df_train.drop(columns = ['Target1', 'Target2']) #фичи"
   ]
  },
  {
   "cell_type": "code",
   "execution_count": 37,
   "id": "f561b45b",
   "metadata": {
    "id": "9992cefb"
   },
   "outputs": [],
   "source": [
    "from sklearn.model_selection import train_test_split\n",
    "x1 = x.copy()\n",
    "x2 = x.copy()\n",
    "x1_train, x1_test, y1_train, y1_test = train_test_split(x1, y1, test_size=0.3, random_state=1)\n",
    "x2_train, x2_test, y2_train, y2_test = train_test_split(x2, y2, test_size=0.3, random_state=1)"
   ]
  },
  {
   "cell_type": "markdown",
   "id": "efa9545b",
   "metadata": {
    "id": "D4HF3RoaB3J7"
   },
   "source": [
    "### Модели для Таргета 1"
   ]
  },
  {
   "cell_type": "markdown",
   "id": "bb54f544",
   "metadata": {
    "id": "0cfeb308"
   },
   "source": [
    "#### Линейная классификация "
   ]
  },
  {
   "cell_type": "code",
   "execution_count": null,
   "id": "76ff2830",
   "metadata": {
    "id": "31ce0e74"
   },
   "outputs": [],
   "source": [
    "from sklearn.linear_model import LinearRegression\n",
    "from sklearn.preprocessing import StandardScaler\n",
    "\n",
    "#нормируем данные\n",
    "scaler = StandardScaler()\n",
    "x1_train_1 = scaler.fit_transform(x1_train)\n",
    "x1_test_1 = scaler.transform(x1_test)\n",
    "\n",
    "clf_lr = LinearRegression()\n",
    "clf_lr.fit(x1_train_1, y1_train)\n",
    "\n",
    "y1_pred_test = clf_lr.predict(x1_test_1)\n",
    "y1_pred_train = clf_lr.predict(x1_train_1)"
   ]
  },
  {
   "cell_type": "code",
   "execution_count": null,
   "id": "a3a175b9",
   "metadata": {
    "colab": {
     "base_uri": "https://localhost:8080/"
    },
    "id": "7e983edb",
    "outputId": "279fd856-c315-4ab4-a6ed-f7ee3eabc4eb"
   },
   "outputs": [
    {
     "data": {
      "text/plain": [
       "(689833, 1)"
      ]
     },
     "execution_count": 34,
     "metadata": {},
     "output_type": "execute_result"
    }
   ],
   "source": [
    "y1_pred_train.shape"
   ]
  },
  {
   "cell_type": "code",
   "execution_count": null,
   "id": "9edaf101",
   "metadata": {
    "colab": {
     "base_uri": "https://localhost:8080/"
    },
    "id": "589e70e2",
    "outputId": "5bbe24da-b252-4736-b142-9e67abdb3f88",
    "scrolled": true
   },
   "outputs": [
    {
     "data": {
      "text/plain": [
       "(295644, 1)"
      ]
     },
     "execution_count": 35,
     "metadata": {},
     "output_type": "execute_result"
    }
   ],
   "source": [
    "y1_pred_test.shape"
   ]
  },
  {
   "cell_type": "code",
   "execution_count": null,
   "id": "d789b5fd",
   "metadata": {
    "colab": {
     "base_uri": "https://localhost:8080/"
    },
    "id": "542d9aaa",
    "outputId": "ab17dd0b-966d-48a9-a5e1-b191c077d5df",
    "scrolled": true
   },
   "outputs": [
    {
     "name": "stdout",
     "output_type": "stream",
     "text": [
      "accuracy for train:  0.7966667294838026\n",
      "accuracy for test:  0.7979461785119941\n"
     ]
    }
   ],
   "source": [
    "from sklearn.metrics import accuracy_score\n",
    "print(\"accuracy for train: \", accuracy_score(y1_train, y1_pred_train > 0.5))\n",
    "print(\"accuracy for test: \", accuracy_score(y1_test, y1_pred_test > 0.5))"
   ]
  },
  {
   "cell_type": "code",
   "execution_count": null,
   "id": "82865277",
   "metadata": {
    "colab": {
     "base_uri": "https://localhost:8080/"
    },
    "id": "457dc177",
    "outputId": "0c4f4107-a8f4-4bcf-b8c8-b2a20b2c8963"
   },
   "outputs": [
    {
     "name": "stdout",
     "output_type": "stream",
     "text": [
      "f1 score for train:  0.4663729675028723\n",
      "f1 score for train:  0.46934351958781206\n",
      "roc_auc_score for train:  0.8185840544690578\n",
      "roc_auc_score for train:  0.8205242104368542\n"
     ]
    }
   ],
   "source": [
    "print(\"f1 score for train: \", f1_score(y1_train, y1_pred_train > 0.5))\n",
    "print(\"f1 score for train: \", f1_score(y1_test, y1_pred_test > 0.5))\n",
    "print(\"roc_auc_score for train: \", roc_auc_score(y1_train, y1_pred_train))\n",
    "print(\"roc_auc_score for train: \", roc_auc_score(y1_test, y1_pred_test))"
   ]
  },
  {
   "cell_type": "code",
   "execution_count": null,
   "id": "a56d62cc",
   "metadata": {
    "colab": {
     "base_uri": "https://localhost:8080/",
     "height": 350
    },
    "id": "14c6b007",
    "outputId": "15152ce1-77ec-415d-e437-fd2934c5280a"
   },
   "outputs": [
    {
     "data": {
      "image/png": "[encoded data removed]",
      "text/plain": [
       "<Figure size 576x360 with 1 Axes>"
      ]
     },
     "metadata": {
      "needs_background": "light"
     },
     "output_type": "display_data"
    }
   ],
   "source": [
    "fpr1, tpr1, _ = roc_curve(y1_test, y1_pred_test, drop_intermediate=False)\n",
    "\n",
    "plt.figure(figsize=(8, 5))\n",
    "plt.clf()\n",
    "plt.plot(fpr1, tpr1)\n",
    "plt.plot(fpr1, fpr1)\n",
    "plt.xlabel('FPR')\n",
    "plt.ylabel('TPR')\n",
    "plt.title('ROC curve linear regression for Target1')\n",
    "plt.show()"
   ]
  },
  {
   "cell_type": "markdown",
   "id": "c06bd2b0",
   "metadata": {
    "id": "mHGnoPN7CWE5"
   },
   "source": [
    "#### Дерево решений"
   ]
  },
  {
   "cell_type": "code",
   "execution_count": null,
   "id": "d64910c3",
   "metadata": {
    "id": "_4Scmu-NCa1W"
   },
   "outputs": [],
   "source": [
    "from sklearn.tree import DecisionTreeClassifier\n",
    "from sklearn.model_selection import RandomizedSearchCV"
   ]
  },
  {
   "cell_type": "code",
   "execution_count": null,
   "id": "5f69f5e6",
   "metadata": {
    "colab": {
     "base_uri": "https://localhost:8080/"
    },
    "id": "4vf3iEHOCa5e",
    "outputId": "c57c3735-1e0b-4d7d-f325-595848c13d7a"
   },
   "outputs": [
    {
     "name": "stdout",
     "output_type": "stream",
     "text": [
      "Fitting 5 folds for each of 100 candidates, totalling 500 fits\n",
      "[CV 1/5] END criterion=gini, max_depth=4, max_features=sqrt, min_samples_leaf=7, min_samples_split=6, splitter=best;, score=0.816 total time=   0.4s\n",
      "[CV 2/5] END criterion=gini, max_depth=4, max_features=sqrt, min_samples_leaf=7, min_samples_split=6, splitter=best;, score=0.804 total time=   0.5s\n",
      "[CV 3/5] END criterion=gini, max_depth=4, max_features=sqrt, min_samples_leaf=7, min_samples_split=6, splitter=best;, score=0.792 total time=   0.5s\n",
      "[CV 4/5] END criterion=gini, max_depth=4, max_features=sqrt, min_samples_leaf=7, min_samples_split=6, splitter=best;, score=0.805 total time=   0.5s\n",
      "[CV 5/5] END criterion=gini, max_depth=4, max_features=sqrt, min_samples_leaf=7, min_samples_split=6, splitter=best;, score=0.769 total time=   0.5s\n",
      "[CV 1/5] END criterion=entropy, max_depth=4, max_features=log2, min_samples_leaf=5, min_samples_split=6, splitter=best;, score=0.826 total time=   0.5s\n",
      "[CV 2/5] END criterion=entropy, max_depth=4, max_features=log2, min_samples_leaf=5, min_samples_split=6, splitter=best;, score=0.820 total time=   0.5s\n",
      "[CV 3/5] END criterion=entropy, max_depth=4, max_features=log2, min_samples_leaf=5, min_samples_split=6, splitter=best;, score=0.794 total time=   0.5s\n",
      "[CV 4/5] END criterion=entropy, max_depth=4, max_features=log2, min_samples_leaf=5, min_samples_split=6, splitter=best;, score=0.783 total time=   0.5s\n",
      "[CV 5/5] END criterion=entropy, max_depth=4, max_features=log2, min_samples_leaf=5, min_samples_split=6, splitter=best;, score=0.814 total time=   0.5s\n",
      "[CV 1/5] END criterion=entropy, max_depth=6, max_features=log2, min_samples_leaf=3, min_samples_split=1, splitter=best;, score=nan total time=   0.2s\n",
      "[CV 2/5] END criterion=entropy, max_depth=6, max_features=log2, min_samples_leaf=3, min_samples_split=1, splitter=best;, score=nan total time=   0.2s\n",
      "[CV 3/5] END criterion=entropy, max_depth=6, max_features=log2, min_samples_leaf=3, min_samples_split=1, splitter=best;, score=nan total time=   0.2s\n",
      "[CV 4/5] END criterion=entropy, max_depth=6, max_features=log2, min_samples_leaf=3, min_samples_split=1, splitter=best;, score=nan total time=   0.2s\n",
      "[CV 5/5] END criterion=entropy, max_depth=6, max_features=log2, min_samples_leaf=3, min_samples_split=1, splitter=best;, score=nan total time=   0.2s\n",
      "[CV 1/5] END criterion=gini, max_depth=7, max_features=log2, min_samples_leaf=5, min_samples_split=6, splitter=random;, score=0.769 total time=   0.5s\n",
      "[CV 2/5] END criterion=gini, max_depth=7, max_features=log2, min_samples_leaf=5, min_samples_split=6, splitter=random;, score=0.798 total time=   0.5s\n",
      "[CV 3/5] END criterion=gini, max_depth=7, max_features=log2, min_samples_leaf=5, min_samples_split=6, splitter=random;, score=0.796 total time=   0.4s\n",
      "[CV 4/5] END criterion=gini, max_depth=7, max_features=log2, min_samples_leaf=5, min_samples_split=6, splitter=random;, score=0.803 total time=   0.5s\n",
      "[CV 5/5] END criterion=gini, max_depth=7, max_features=log2, min_samples_leaf=5, min_samples_split=6, splitter=random;, score=0.794 total time=   0.4s\n",
      "[CV 1/5] END criterion=log_loss, max_depth=8, max_features=sqrt, min_samples_leaf=5, min_samples_split=1, splitter=random;, score=nan total time=   0.2s\n",
      "[CV 2/5] END criterion=log_loss, max_depth=8, max_features=sqrt, min_samples_leaf=5, min_samples_split=1, splitter=random;, score=nan total time=   0.2s\n",
      "[CV 3/5] END criterion=log_loss, max_depth=8, max_features=sqrt, min_samples_leaf=5, min_samples_split=1, splitter=random;, score=nan total time=   0.2s\n",
      "[CV 4/5] END criterion=log_loss, max_depth=8, max_features=sqrt, min_samples_leaf=5, min_samples_split=1, splitter=random;, score=nan total time=   0.2s\n",
      "[CV 5/5] END criterion=log_loss, max_depth=8, max_features=sqrt, min_samples_leaf=5, min_samples_split=1, splitter=random;, score=nan total time=   0.2s\n",
      "[CV 1/5] END criterion=gini, max_depth=4, max_features=sqrt, min_samples_leaf=1, min_samples_split=8, splitter=best;, score=0.813 total time=   0.5s\n",
      "[CV 2/5] END criterion=gini, max_depth=4, max_features=sqrt, min_samples_leaf=1, min_samples_split=8, splitter=best;, score=0.811 total time=   0.5s\n",
      "[CV 3/5] END criterion=gini, max_depth=4, max_features=sqrt, min_samples_leaf=1, min_samples_split=8, splitter=best;, score=0.827 total time=   0.5s\n",
      "[CV 4/5] END criterion=gini, max_depth=4, max_features=sqrt, min_samples_leaf=1, min_samples_split=8, splitter=best;, score=0.818 total time=   0.5s\n",
      "[CV 5/5] END criterion=gini, max_depth=4, max_features=sqrt, min_samples_leaf=1, min_samples_split=8, splitter=best;, score=0.831 total time=   0.5s\n",
      "[CV 1/5] END criterion=entropy, max_depth=8, max_features=sqrt, min_samples_leaf=3, min_samples_split=8, splitter=best;, score=0.845 total time=   0.8s\n",
      "[CV 2/5] END criterion=entropy, max_depth=8, max_features=sqrt, min_samples_leaf=3, min_samples_split=8, splitter=best;, score=0.843 total time=   0.8s\n",
      "[CV 3/5] END criterion=entropy, max_depth=8, max_features=sqrt, min_samples_leaf=3, min_samples_split=8, splitter=best;, score=0.835 total time=   0.8s\n",
      "[CV 4/5] END criterion=entropy, max_depth=8, max_features=sqrt, min_samples_leaf=3, min_samples_split=8, splitter=best;, score=0.834 total time=   0.9s\n",
      "[CV 5/5] END criterion=entropy, max_depth=8, max_features=sqrt, min_samples_leaf=3, min_samples_split=8, splitter=best;, score=0.840 total time=   0.7s\n",
      "[CV 1/5] END criterion=log_loss, max_depth=12, max_features=sqrt, min_samples_leaf=5, min_samples_split=2, splitter=best;, score=nan total time=   0.2s\n",
      "[CV 2/5] END criterion=log_loss, max_depth=12, max_features=sqrt, min_samples_leaf=5, min_samples_split=2, splitter=best;, score=nan total time=   0.2s\n",
      "[CV 3/5] END criterion=log_loss, max_depth=12, max_features=sqrt, min_samples_leaf=5, min_samples_split=2, splitter=best;, score=nan total time=   0.2s\n",
      "[CV 4/5] END criterion=log_loss, max_depth=12, max_features=sqrt, min_samples_leaf=5, min_samples_split=2, splitter=best;, score=nan total time=   0.2s\n",
      "[CV 5/5] END criterion=log_loss, max_depth=12, max_features=sqrt, min_samples_leaf=5, min_samples_split=2, splitter=best;, score=nan total time=   0.2s\n",
      "[CV 1/5] END criterion=gini, max_depth=10, max_features=None, min_samples_leaf=5, min_samples_split=4, splitter=random;, score=0.849 total time=   1.7s\n",
      "[CV 2/5] END criterion=gini, max_depth=10, max_features=None, min_samples_leaf=5, min_samples_split=4, splitter=random;, score=0.850 total time=   1.7s\n",
      "[CV 3/5] END criterion=gini, max_depth=10, max_features=None, min_samples_leaf=5, min_samples_split=4, splitter=random;, score=0.848 total time=   1.8s\n",
      "[CV 4/5] END criterion=gini, max_depth=10, max_features=None, min_samples_leaf=5, min_samples_split=4, splitter=random;, score=0.848 total time=   1.8s\n",
      "[CV 5/5] END criterion=gini, max_depth=10, max_features=None, min_samples_leaf=5, min_samples_split=4, splitter=random;, score=0.851 total time=   1.7s\n",
      "[CV 1/5] END criterion=log_loss, max_depth=7, max_features=log2, min_samples_leaf=7, min_samples_split=6, splitter=best;, score=nan total time=   0.2s\n",
      "[CV 2/5] END criterion=log_loss, max_depth=7, max_features=log2, min_samples_leaf=7, min_samples_split=6, splitter=best;, score=nan total time=   0.2s\n",
      "[CV 3/5] END criterion=log_loss, max_depth=7, max_features=log2, min_samples_leaf=7, min_samples_split=6, splitter=best;, score=nan total time=   0.2s\n",
      "[CV 4/5] END criterion=log_loss, max_depth=7, max_features=log2, min_samples_leaf=7, min_samples_split=6, splitter=best;, score=nan total time=   0.2s\n",
      "[CV 5/5] END criterion=log_loss, max_depth=7, max_features=log2, min_samples_leaf=7, min_samples_split=6, splitter=best;, score=nan total time=   0.2s\n",
      "[CV 1/5] END criterion=log_loss, max_depth=4, max_features=sqrt, min_samples_leaf=1, min_samples_split=8, splitter=best;, score=nan total time=   0.2s\n",
      "[CV 2/5] END criterion=log_loss, max_depth=4, max_features=sqrt, min_samples_leaf=1, min_samples_split=8, splitter=best;, score=nan total time=   0.2s\n",
      "[CV 3/5] END criterion=log_loss, max_depth=4, max_features=sqrt, min_samples_leaf=1, min_samples_split=8, splitter=best;, score=nan total time=   0.2s\n",
      "[CV 4/5] END criterion=log_loss, max_depth=4, max_features=sqrt, min_samples_leaf=1, min_samples_split=8, splitter=best;, score=nan total time=   0.2s\n",
      "[CV 5/5] END criterion=log_loss, max_depth=4, max_features=sqrt, min_samples_leaf=1, min_samples_split=8, splitter=best;, score=nan total time=   0.2s\n",
      "[CV 1/5] END criterion=entropy, max_depth=8, max_features=None, min_samples_leaf=3, min_samples_split=1, splitter=random;, score=nan total time=   0.2s\n",
      "[CV 2/5] END criterion=entropy, max_depth=8, max_features=None, min_samples_leaf=3, min_samples_split=1, splitter=random;, score=nan total time=   0.2s\n",
      "[CV 3/5] END criterion=entropy, max_depth=8, max_features=None, min_samples_leaf=3, min_samples_split=1, splitter=random;, score=nan total time=   0.2s\n",
      "[CV 4/5] END criterion=entropy, max_depth=8, max_features=None, min_samples_leaf=3, min_samples_split=1, splitter=random;, score=nan total time=   0.2s\n",
      "[CV 5/5] END criterion=entropy, max_depth=8, max_features=None, min_samples_leaf=3, min_samples_split=1, splitter=random;, score=nan total time=   0.2s\n",
      "[CV 1/5] END criterion=gini, max_depth=7, max_features=sqrt, min_samples_leaf=7, min_samples_split=1, splitter=best;, score=nan total time=   0.2s\n",
      "[CV 2/5] END criterion=gini, max_depth=7, max_features=sqrt, min_samples_leaf=7, min_samples_split=1, splitter=best;, score=nan total time=   0.2s\n",
      "[CV 3/5] END criterion=gini, max_depth=7, max_features=sqrt, min_samples_leaf=7, min_samples_split=1, splitter=best;, score=nan total time=   0.2s\n",
      "[CV 4/5] END criterion=gini, max_depth=7, max_features=sqrt, min_samples_leaf=7, min_samples_split=1, splitter=best;, score=nan total time=   0.2s\n",
      "[CV 5/5] END criterion=gini, max_depth=7, max_features=sqrt, min_samples_leaf=7, min_samples_split=1, splitter=best;, score=nan total time=   0.2s\n",
      "[CV 1/5] END criterion=log_loss, max_depth=7, max_features=None, min_samples_leaf=5, min_samples_split=6, splitter=random;, score=nan total time=   0.2s\n",
      "[CV 2/5] END criterion=log_loss, max_depth=7, max_features=None, min_samples_leaf=5, min_samples_split=6, splitter=random;, score=nan total time=   0.2s\n",
      "[CV 3/5] END criterion=log_loss, max_depth=7, max_features=None, min_samples_leaf=5, min_samples_split=6, splitter=random;, score=nan total time=   0.2s\n",
      "[CV 4/5] END criterion=log_loss, max_depth=7, max_features=None, min_samples_leaf=5, min_samples_split=6, splitter=random;, score=nan total time=   0.2s\n",
      "[CV 5/5] END criterion=log_loss, max_depth=7, max_features=None, min_samples_leaf=5, min_samples_split=6, splitter=random;, score=nan total time=   0.2s\n",
      "[CV 1/5] END criterion=log_loss, max_depth=12, max_features=None, min_samples_leaf=3, min_samples_split=2, splitter=best;, score=nan total time=   0.2s\n",
      "[CV 2/5] END criterion=log_loss, max_depth=12, max_features=None, min_samples_leaf=3, min_samples_split=2, splitter=best;, score=nan total time=   0.2s\n",
      "[CV 3/5] END criterion=log_loss, max_depth=12, max_features=None, min_samples_leaf=3, min_samples_split=2, splitter=best;, score=nan total time=   0.2s\n",
      "[CV 4/5] END criterion=log_loss, max_depth=12, max_features=None, min_samples_leaf=3, min_samples_split=2, splitter=best;, score=nan total time=   0.2s\n",
      "[CV 5/5] END criterion=log_loss, max_depth=12, max_features=None, min_samples_leaf=3, min_samples_split=2, splitter=best;, score=nan total time=   0.2s\n",
      "[CV 1/5] END criterion=entropy, max_depth=12, max_features=sqrt, min_samples_leaf=3, min_samples_split=8, splitter=random;, score=0.835 total time=   0.7s\n",
      "[CV 2/5] END criterion=entropy, max_depth=12, max_features=sqrt, min_samples_leaf=3, min_samples_split=8, splitter=random;, score=0.803 total time=   0.6s\n",
      "[CV 3/5] END criterion=entropy, max_depth=12, max_features=sqrt, min_samples_leaf=3, min_samples_split=8, splitter=random;, score=0.813 total time=   0.6s\n",
      "[CV 4/5] END criterion=entropy, max_depth=12, max_features=sqrt, min_samples_leaf=3, min_samples_split=8, splitter=random;, score=0.821 total time=   0.6s\n",
      "[CV 5/5] END criterion=entropy, max_depth=12, max_features=sqrt, min_samples_leaf=3, min_samples_split=8, splitter=random;, score=0.830 total time=   0.7s\n",
      "[CV 1/5] END criterion=entropy, max_depth=2, max_features=log2, min_samples_leaf=5, min_samples_split=1, splitter=random;, score=nan total time=   0.2s\n",
      "[CV 2/5] END criterion=entropy, max_depth=2, max_features=log2, min_samples_leaf=5, min_samples_split=1, splitter=random;, score=nan total time=   0.2s\n",
      "[CV 3/5] END criterion=entropy, max_depth=2, max_features=log2, min_samples_leaf=5, min_samples_split=1, splitter=random;, score=nan total time=   0.2s\n",
      "[CV 4/5] END criterion=entropy, max_depth=2, max_features=log2, min_samples_leaf=5, min_samples_split=1, splitter=random;, score=nan total time=   0.2s\n",
      "[CV 5/5] END criterion=entropy, max_depth=2, max_features=log2, min_samples_leaf=5, min_samples_split=1, splitter=random;, score=nan total time=   0.2s\n",
      "[CV 1/5] END criterion=gini, max_depth=6, max_features=sqrt, min_samples_leaf=1, min_samples_split=2, splitter=best;, score=0.828 total time=   0.7s\n",
      "[CV 2/5] END criterion=gini, max_depth=6, max_features=sqrt, min_samples_leaf=1, min_samples_split=2, splitter=best;, score=0.843 total time=   0.6s\n",
      "[CV 3/5] END criterion=gini, max_depth=6, max_features=sqrt, min_samples_leaf=1, min_samples_split=2, splitter=best;, score=0.834 total time=   0.6s\n",
      "[CV 4/5] END criterion=gini, max_depth=6, max_features=sqrt, min_samples_leaf=1, min_samples_split=2, splitter=best;, score=0.843 total time=   0.6s\n",
      "[CV 5/5] END criterion=gini, max_depth=6, max_features=sqrt, min_samples_leaf=1, min_samples_split=2, splitter=best;, score=0.819 total time=   0.6s\n",
      "[CV 1/5] END criterion=entropy, max_depth=10, max_features=sqrt, min_samples_leaf=7, min_samples_split=2, splitter=random;, score=0.780 total time=   0.6s\n",
      "[CV 2/5] END criterion=entropy, max_depth=10, max_features=sqrt, min_samples_leaf=7, min_samples_split=2, splitter=random;, score=0.798 total time=   0.6s\n",
      "[CV 3/5] END criterion=entropy, max_depth=10, max_features=sqrt, min_samples_leaf=7, min_samples_split=2, splitter=random;, score=0.808 total time=   0.6s\n",
      "[CV 4/5] END criterion=entropy, max_depth=10, max_features=sqrt, min_samples_leaf=7, min_samples_split=2, splitter=random;, score=0.785 total time=   0.6s\n",
      "[CV 5/5] END criterion=entropy, max_depth=10, max_features=sqrt, min_samples_leaf=7, min_samples_split=2, splitter=random;, score=0.807 total time=   0.6s\n",
      "[CV 1/5] END criterion=gini, max_depth=10, max_features=sqrt, min_samples_leaf=1, min_samples_split=8, splitter=random;, score=0.793 total time=   0.6s\n",
      "[CV 2/5] END criterion=gini, max_depth=10, max_features=sqrt, min_samples_leaf=1, min_samples_split=8, splitter=random;, score=0.792 total time=   0.6s\n",
      "[CV 3/5] END criterion=gini, max_depth=10, max_features=sqrt, min_samples_leaf=1, min_samples_split=8, splitter=random;, score=0.798 total time=   0.6s\n",
      "[CV 4/5] END criterion=gini, max_depth=10, max_features=sqrt, min_samples_leaf=1, min_samples_split=8, splitter=random;, score=0.830 total time=   0.6s\n",
      "[CV 5/5] END criterion=gini, max_depth=10, max_features=sqrt, min_samples_leaf=1, min_samples_split=8, splitter=random;, score=0.798 total time=   0.6s\n",
      "[CV 1/5] END criterion=entropy, max_depth=4, max_features=None, min_samples_leaf=7, min_samples_split=4, splitter=random;, score=0.799 total time=   0.8s\n",
      "[CV 2/5] END criterion=entropy, max_depth=4, max_features=None, min_samples_leaf=7, min_samples_split=4, splitter=random;, score=0.806 total time=   0.8s\n",
      "[CV 3/5] END criterion=entropy, max_depth=4, max_features=None, min_samples_leaf=7, min_samples_split=4, splitter=random;, score=0.810 total time=   0.9s\n",
      "[CV 4/5] END criterion=entropy, max_depth=4, max_features=None, min_samples_leaf=7, min_samples_split=4, splitter=random;, score=0.795 total time=   0.8s\n",
      "[CV 5/5] END criterion=entropy, max_depth=4, max_features=None, min_samples_leaf=7, min_samples_split=4, splitter=random;, score=0.805 total time=   0.8s\n",
      "[CV 1/5] END criterion=entropy, max_depth=8, max_features=log2, min_samples_leaf=7, min_samples_split=4, splitter=random;, score=0.794 total time=   0.5s\n",
      "[CV 2/5] END criterion=entropy, max_depth=8, max_features=log2, min_samples_leaf=7, min_samples_split=4, splitter=random;, score=0.775 total time=   0.5s\n",
      "[CV 3/5] END criterion=entropy, max_depth=8, max_features=log2, min_samples_leaf=7, min_samples_split=4, splitter=random;, score=0.772 total time=   0.5s\n",
      "[CV 4/5] END criterion=entropy, max_depth=8, max_features=log2, min_samples_leaf=7, min_samples_split=4, splitter=random;, score=0.794 total time=   0.5s\n",
      "[CV 5/5] END criterion=entropy, max_depth=8, max_features=log2, min_samples_leaf=7, min_samples_split=4, splitter=random;, score=0.823 total time=   0.5s\n",
      "[CV 1/5] END criterion=entropy, max_depth=8, max_features=sqrt, min_samples_leaf=5, min_samples_split=2, splitter=best;, score=0.836 total time=   0.7s\n",
      "[CV 2/5] END criterion=entropy, max_depth=8, max_features=sqrt, min_samples_leaf=5, min_samples_split=2, splitter=best;, score=0.845 total time=   0.8s\n",
      "[CV 3/5] END criterion=entropy, max_depth=8, max_features=sqrt, min_samples_leaf=5, min_samples_split=2, splitter=best;, score=0.820 total time=   0.7s\n",
      "[CV 4/5] END criterion=entropy, max_depth=8, max_features=sqrt, min_samples_leaf=5, min_samples_split=2, splitter=best;, score=0.836 total time=   0.7s\n",
      "[CV 5/5] END criterion=entropy, max_depth=8, max_features=sqrt, min_samples_leaf=5, min_samples_split=2, splitter=best;, score=0.819 total time=   0.8s\n",
      "[CV 1/5] END criterion=entropy, max_depth=6, max_features=log2, min_samples_leaf=1, min_samples_split=6, splitter=random;, score=0.776 total time=   0.4s\n",
      "[CV 2/5] END criterion=entropy, max_depth=6, max_features=log2, min_samples_leaf=1, min_samples_split=6, splitter=random;, score=0.788 total time=   0.4s\n",
      "[CV 3/5] END criterion=entropy, max_depth=6, max_features=log2, min_samples_leaf=1, min_samples_split=6, splitter=random;, score=0.788 total time=   0.4s\n",
      "[CV 4/5] END criterion=entropy, max_depth=6, max_features=log2, min_samples_leaf=1, min_samples_split=6, splitter=random;, score=0.818 total time=   0.4s\n",
      "[CV 5/5] END criterion=entropy, max_depth=6, max_features=log2, min_samples_leaf=1, min_samples_split=6, splitter=random;, score=0.809 total time=   0.4s\n",
      "[CV 1/5] END criterion=log_loss, max_depth=7, max_features=None, min_samples_leaf=5, min_samples_split=2, splitter=best;, score=nan total time=   0.2s\n",
      "[CV 2/5] END criterion=log_loss, max_depth=7, max_features=None, min_samples_leaf=5, min_samples_split=2, splitter=best;, score=nan total time=   0.2s\n",
      "[CV 3/5] END criterion=log_loss, max_depth=7, max_features=None, min_samples_leaf=5, min_samples_split=2, splitter=best;, score=nan total time=   0.2s\n",
      "[CV 4/5] END criterion=log_loss, max_depth=7, max_features=None, min_samples_leaf=5, min_samples_split=2, splitter=best;, score=nan total time=   0.2s\n",
      "[CV 5/5] END criterion=log_loss, max_depth=7, max_features=None, min_samples_leaf=5, min_samples_split=2, splitter=best;, score=nan total time=   0.2s\n",
      "[CV 1/5] END criterion=entropy, max_depth=7, max_features=log2, min_samples_leaf=3, min_samples_split=6, splitter=best;, score=0.833 total time=   0.7s\n",
      "[CV 2/5] END criterion=entropy, max_depth=7, max_features=log2, min_samples_leaf=3, min_samples_split=6, splitter=best;, score=0.803 total time=   0.7s\n",
      "[CV 3/5] END criterion=entropy, max_depth=7, max_features=log2, min_samples_leaf=3, min_samples_split=6, splitter=best;, score=0.821 total time=   0.7s\n",
      "[CV 4/5] END criterion=entropy, max_depth=7, max_features=log2, min_samples_leaf=3, min_samples_split=6, splitter=best;, score=0.834 total time=   0.7s\n",
      "[CV 5/5] END criterion=entropy, max_depth=7, max_features=log2, min_samples_leaf=3, min_samples_split=6, splitter=best;, score=0.840 total time=   0.7s\n",
      "[CV 1/5] END criterion=entropy, max_depth=2, max_features=None, min_samples_leaf=3, min_samples_split=6, splitter=random;, score=0.767 total time=   0.5s\n",
      "[CV 2/5] END criterion=entropy, max_depth=2, max_features=None, min_samples_leaf=3, min_samples_split=6, splitter=random;, score=0.764 total time=   0.5s\n",
      "[CV 3/5] END criterion=entropy, max_depth=2, max_features=None, min_samples_leaf=3, min_samples_split=6, splitter=random;, score=0.813 total time=   0.5s\n",
      "[CV 4/5] END criterion=entropy, max_depth=2, max_features=None, min_samples_leaf=3, min_samples_split=6, splitter=random;, score=0.753 total time=   0.5s\n",
      "[CV 5/5] END criterion=entropy, max_depth=2, max_features=None, min_samples_leaf=3, min_samples_split=6, splitter=random;, score=0.814 total time=   0.5s\n",
      "[CV 1/5] END criterion=gini, max_depth=2, max_features=sqrt, min_samples_leaf=3, min_samples_split=6, splitter=best;, score=0.757 total time=   0.4s\n",
      "[CV 2/5] END criterion=gini, max_depth=2, max_features=sqrt, min_samples_leaf=3, min_samples_split=6, splitter=best;, score=0.753 total time=   0.3s\n",
      "[CV 3/5] END criterion=gini, max_depth=2, max_features=sqrt, min_samples_leaf=3, min_samples_split=6, splitter=best;, score=0.755 total time=   0.3s\n",
      "[CV 4/5] END criterion=gini, max_depth=2, max_features=sqrt, min_samples_leaf=3, min_samples_split=6, splitter=best;, score=0.763 total time=   0.4s\n",
      "[CV 5/5] END criterion=gini, max_depth=2, max_features=sqrt, min_samples_leaf=3, min_samples_split=6, splitter=best;, score=0.826 total time=   0.4s\n",
      "[CV 1/5] END criterion=entropy, max_depth=2, max_features=None, min_samples_leaf=3, min_samples_split=1, splitter=random;, score=nan total time=   0.2s\n",
      "[CV 2/5] END criterion=entropy, max_depth=2, max_features=None, min_samples_leaf=3, min_samples_split=1, splitter=random;, score=nan total time=   0.2s\n",
      "[CV 3/5] END criterion=entropy, max_depth=2, max_features=None, min_samples_leaf=3, min_samples_split=1, splitter=random;, score=nan total time=   0.2s\n",
      "[CV 4/5] END criterion=entropy, max_depth=2, max_features=None, min_samples_leaf=3, min_samples_split=1, splitter=random;, score=nan total time=   0.2s\n",
      "[CV 5/5] END criterion=entropy, max_depth=2, max_features=None, min_samples_leaf=3, min_samples_split=1, splitter=random;, score=nan total time=   0.2s\n",
      "[CV 1/5] END criterion=entropy, max_depth=4, max_features=log2, min_samples_leaf=3, min_samples_split=8, splitter=random;, score=0.761 total time=   0.3s\n",
      "[CV 2/5] END criterion=entropy, max_depth=4, max_features=log2, min_samples_leaf=3, min_samples_split=8, splitter=random;, score=0.770 total time=   0.3s\n",
      "[CV 3/5] END criterion=entropy, max_depth=4, max_features=log2, min_samples_leaf=3, min_samples_split=8, splitter=random;, score=0.776 total time=   0.3s\n",
      "[CV 4/5] END criterion=entropy, max_depth=4, max_features=log2, min_samples_leaf=3, min_samples_split=8, splitter=random;, score=0.754 total time=   0.3s\n",
      "[CV 5/5] END criterion=entropy, max_depth=4, max_features=log2, min_samples_leaf=3, min_samples_split=8, splitter=random;, score=0.776 total time=   0.3s\n",
      "[CV 1/5] END criterion=gini, max_depth=10, max_features=sqrt, min_samples_leaf=1, min_samples_split=2, splitter=random;, score=0.784 total time=   0.6s\n",
      "[CV 2/5] END criterion=gini, max_depth=10, max_features=sqrt, min_samples_leaf=1, min_samples_split=2, splitter=random;, score=0.774 total time=   0.6s\n",
      "[CV 3/5] END criterion=gini, max_depth=10, max_features=sqrt, min_samples_leaf=1, min_samples_split=2, splitter=random;, score=0.776 total time=   0.5s\n",
      "[CV 4/5] END criterion=gini, max_depth=10, max_features=sqrt, min_samples_leaf=1, min_samples_split=2, splitter=random;, score=0.809 total time=   0.6s\n",
      "[CV 5/5] END criterion=gini, max_depth=10, max_features=sqrt, min_samples_leaf=1, min_samples_split=2, splitter=random;, score=0.815 total time=   0.6s\n",
      "[CV 1/5] END criterion=log_loss, max_depth=12, max_features=log2, min_samples_leaf=7, min_samples_split=6, splitter=best;, score=nan total time=   0.2s\n",
      "[CV 2/5] END criterion=log_loss, max_depth=12, max_features=log2, min_samples_leaf=7, min_samples_split=6, splitter=best;, score=nan total time=   0.2s\n",
      "[CV 3/5] END criterion=log_loss, max_depth=12, max_features=log2, min_samples_leaf=7, min_samples_split=6, splitter=best;, score=nan total time=   0.2s\n",
      "[CV 4/5] END criterion=log_loss, max_depth=12, max_features=log2, min_samples_leaf=7, min_samples_split=6, splitter=best;, score=nan total time=   0.2s\n",
      "[CV 5/5] END criterion=log_loss, max_depth=12, max_features=log2, min_samples_leaf=7, min_samples_split=6, splitter=best;, score=nan total time=   0.2s\n",
      "[CV 1/5] END criterion=gini, max_depth=2, max_features=sqrt, min_samples_leaf=1, min_samples_split=4, splitter=best;, score=0.758 total time=   0.4s\n",
      "[CV 2/5] END criterion=gini, max_depth=2, max_features=sqrt, min_samples_leaf=1, min_samples_split=4, splitter=best;, score=0.757 total time=   0.3s\n",
      "[CV 3/5] END criterion=gini, max_depth=2, max_features=sqrt, min_samples_leaf=1, min_samples_split=4, splitter=best;, score=0.764 total time=   0.3s\n",
      "[CV 4/5] END criterion=gini, max_depth=2, max_features=sqrt, min_samples_leaf=1, min_samples_split=4, splitter=best;, score=0.764 total time=   0.3s\n",
      "[CV 5/5] END criterion=gini, max_depth=2, max_features=sqrt, min_samples_leaf=1, min_samples_split=4, splitter=best;, score=0.753 total time=   0.3s\n",
      "[CV 1/5] END criterion=entropy, max_depth=10, max_features=log2, min_samples_leaf=5, min_samples_split=2, splitter=best;, score=0.849 total time=   1.0s\n",
      "[CV 2/5] END criterion=entropy, max_depth=10, max_features=log2, min_samples_leaf=5, min_samples_split=2, splitter=best;, score=0.841 total time=   0.9s\n",
      "[CV 3/5] END criterion=entropy, max_depth=10, max_features=log2, min_samples_leaf=5, min_samples_split=2, splitter=best;, score=0.840 total time=   0.9s\n",
      "[CV 4/5] END criterion=entropy, max_depth=10, max_features=log2, min_samples_leaf=5, min_samples_split=2, splitter=best;, score=0.849 total time=   1.0s\n",
      "[CV 5/5] END criterion=entropy, max_depth=10, max_features=log2, min_samples_leaf=5, min_samples_split=2, splitter=best;, score=0.829 total time=   0.8s\n",
      "[CV 1/5] END criterion=entropy, max_depth=7, max_features=log2, min_samples_leaf=1, min_samples_split=1, splitter=best;, score=nan total time=   0.2s\n",
      "[CV 2/5] END criterion=entropy, max_depth=7, max_features=log2, min_samples_leaf=1, min_samples_split=1, splitter=best;, score=nan total time=   0.2s\n",
      "[CV 3/5] END criterion=entropy, max_depth=7, max_features=log2, min_samples_leaf=1, min_samples_split=1, splitter=best;, score=nan total time=   0.2s\n",
      "[CV 4/5] END criterion=entropy, max_depth=7, max_features=log2, min_samples_leaf=1, min_samples_split=1, splitter=best;, score=nan total time=   0.2s\n",
      "[CV 5/5] END criterion=entropy, max_depth=7, max_features=log2, min_samples_leaf=1, min_samples_split=1, splitter=best;, score=nan total time=   0.2s\n",
      "[CV 1/5] END criterion=log_loss, max_depth=2, max_features=None, min_samples_leaf=3, min_samples_split=6, splitter=random;, score=nan total time=   0.2s\n",
      "[CV 2/5] END criterion=log_loss, max_depth=2, max_features=None, min_samples_leaf=3, min_samples_split=6, splitter=random;, score=nan total time=   0.2s\n",
      "[CV 3/5] END criterion=log_loss, max_depth=2, max_features=None, min_samples_leaf=3, min_samples_split=6, splitter=random;, score=nan total time=   0.2s\n",
      "[CV 4/5] END criterion=log_loss, max_depth=2, max_features=None, min_samples_leaf=3, min_samples_split=6, splitter=random;, score=nan total time=   0.2s\n",
      "[CV 5/5] END criterion=log_loss, max_depth=2, max_features=None, min_samples_leaf=3, min_samples_split=6, splitter=random;, score=nan total time=   0.2s\n",
      "[CV 1/5] END criterion=gini, max_depth=6, max_features=None, min_samples_leaf=7, min_samples_split=2, splitter=random;, score=0.841 total time=   1.2s\n",
      "[CV 2/5] END criterion=gini, max_depth=6, max_features=None, min_samples_leaf=7, min_samples_split=2, splitter=random;, score=0.831 total time=   1.1s\n",
      "[CV 3/5] END criterion=gini, max_depth=6, max_features=None, min_samples_leaf=7, min_samples_split=2, splitter=random;, score=0.831 total time=   1.2s\n",
      "[CV 4/5] END criterion=gini, max_depth=6, max_features=None, min_samples_leaf=7, min_samples_split=2, splitter=random;, score=0.801 total time=   1.1s\n",
      "[CV 5/5] END criterion=gini, max_depth=6, max_features=None, min_samples_leaf=7, min_samples_split=2, splitter=random;, score=0.845 total time=   1.1s\n",
      "[CV 1/5] END criterion=log_loss, max_depth=6, max_features=log2, min_samples_leaf=1, min_samples_split=6, splitter=best;, score=nan total time=   0.2s\n",
      "[CV 2/5] END criterion=log_loss, max_depth=6, max_features=log2, min_samples_leaf=1, min_samples_split=6, splitter=best;, score=nan total time=   0.2s\n",
      "[CV 3/5] END criterion=log_loss, max_depth=6, max_features=log2, min_samples_leaf=1, min_samples_split=6, splitter=best;, score=nan total time=   0.2s\n",
      "[CV 4/5] END criterion=log_loss, max_depth=6, max_features=log2, min_samples_leaf=1, min_samples_split=6, splitter=best;, score=nan total time=   0.2s\n",
      "[CV 5/5] END criterion=log_loss, max_depth=6, max_features=log2, min_samples_leaf=1, min_samples_split=6, splitter=best;, score=nan total time=   0.2s\n",
      "[CV 1/5] END criterion=gini, max_depth=7, max_features=None, min_samples_leaf=3, min_samples_split=6, splitter=random;, score=0.829 total time=   1.3s\n",
      "[CV 2/5] END criterion=gini, max_depth=7, max_features=None, min_samples_leaf=3, min_samples_split=6, splitter=random;, score=0.843 total time=   1.3s\n",
      "[CV 3/5] END criterion=gini, max_depth=7, max_features=None, min_samples_leaf=3, min_samples_split=6, splitter=random;, score=0.839 total time=   1.2s\n",
      "[CV 4/5] END criterion=gini, max_depth=7, max_features=None, min_samples_leaf=3, min_samples_split=6, splitter=random;, score=0.844 total time=   1.3s\n",
      "[CV 5/5] END criterion=gini, max_depth=7, max_features=None, min_samples_leaf=3, min_samples_split=6, splitter=random;, score=0.825 total time=   1.3s\n",
      "[CV 1/5] END criterion=gini, max_depth=4, max_features=sqrt, min_samples_leaf=3, min_samples_split=4, splitter=random;, score=0.757 total time=   0.3s\n",
      "[CV 2/5] END criterion=gini, max_depth=4, max_features=sqrt, min_samples_leaf=3, min_samples_split=4, splitter=random;, score=0.762 total time=   0.3s\n",
      "[CV 3/5] END criterion=gini, max_depth=4, max_features=sqrt, min_samples_leaf=3, min_samples_split=4, splitter=random;, score=0.759 total time=   0.3s\n",
      "[CV 4/5] END criterion=gini, max_depth=4, max_features=sqrt, min_samples_leaf=3, min_samples_split=4, splitter=random;, score=0.783 total time=   0.4s\n",
      "[CV 5/5] END criterion=gini, max_depth=4, max_features=sqrt, min_samples_leaf=3, min_samples_split=4, splitter=random;, score=0.762 total time=   0.3s\n",
      "[CV 1/5] END criterion=gini, max_depth=12, max_features=sqrt, min_samples_leaf=1, min_samples_split=4, splitter=random;, score=0.817 total time=   0.6s\n",
      "[CV 2/5] END criterion=gini, max_depth=12, max_features=sqrt, min_samples_leaf=1, min_samples_split=4, splitter=random;, score=0.810 total time=   0.6s\n",
      "[CV 3/5] END criterion=gini, max_depth=12, max_features=sqrt, min_samples_leaf=1, min_samples_split=4, splitter=random;, score=0.809 total time=   0.6s\n",
      "[CV 4/5] END criterion=gini, max_depth=12, max_features=sqrt, min_samples_leaf=1, min_samples_split=4, splitter=random;, score=0.806 total time=   0.6s\n",
      "[CV 5/5] END criterion=gini, max_depth=12, max_features=sqrt, min_samples_leaf=1, min_samples_split=4, splitter=random;, score=0.832 total time=   0.6s\n",
      "[CV 1/5] END criterion=log_loss, max_depth=7, max_features=None, min_samples_leaf=7, min_samples_split=1, splitter=best;, score=nan total time=   0.2s\n",
      "[CV 2/5] END criterion=log_loss, max_depth=7, max_features=None, min_samples_leaf=7, min_samples_split=1, splitter=best;, score=nan total time=   0.2s\n",
      "[CV 3/5] END criterion=log_loss, max_depth=7, max_features=None, min_samples_leaf=7, min_samples_split=1, splitter=best;, score=nan total time=   0.2s\n",
      "[CV 4/5] END criterion=log_loss, max_depth=7, max_features=None, min_samples_leaf=7, min_samples_split=1, splitter=best;, score=nan total time=   0.2s\n",
      "[CV 5/5] END criterion=log_loss, max_depth=7, max_features=None, min_samples_leaf=7, min_samples_split=1, splitter=best;, score=nan total time=   0.2s\n",
      "[CV 1/5] END criterion=gini, max_depth=7, max_features=None, min_samples_leaf=7, min_samples_split=8, splitter=random;, score=0.840 total time=   1.2s\n",
      "[CV 2/5] END criterion=gini, max_depth=7, max_features=None, min_samples_leaf=7, min_samples_split=8, splitter=random;, score=0.841 total time=   1.2s\n",
      "[CV 3/5] END criterion=gini, max_depth=7, max_features=None, min_samples_leaf=7, min_samples_split=8, splitter=random;, score=0.842 total time=   1.3s\n",
      "[CV 4/5] END criterion=gini, max_depth=7, max_features=None, min_samples_leaf=7, min_samples_split=8, splitter=random;, score=0.841 total time=   1.3s\n",
      "[CV 5/5] END criterion=gini, max_depth=7, max_features=None, min_samples_leaf=7, min_samples_split=8, splitter=random;, score=0.835 total time=   1.2s\n",
      "[CV 1/5] END criterion=entropy, max_depth=12, max_features=log2, min_samples_leaf=1, min_samples_split=6, splitter=random;, score=0.815 total time=   0.6s\n",
      "[CV 2/5] END criterion=entropy, max_depth=12, max_features=log2, min_samples_leaf=1, min_samples_split=6, splitter=random;, score=0.830 total time=   0.6s\n",
      "[CV 3/5] END criterion=entropy, max_depth=12, max_features=log2, min_samples_leaf=1, min_samples_split=6, splitter=random;, score=0.816 total time=   0.7s\n",
      "[CV 4/5] END criterion=entropy, max_depth=12, max_features=log2, min_samples_leaf=1, min_samples_split=6, splitter=random;, score=0.835 total time=   0.7s\n",
      "[CV 5/5] END criterion=entropy, max_depth=12, max_features=log2, min_samples_leaf=1, min_samples_split=6, splitter=random;, score=0.821 total time=   0.7s\n",
      "[CV 1/5] END criterion=entropy, max_depth=7, max_features=None, min_samples_leaf=7, min_samples_split=6, splitter=random;, score=0.818 total time=   1.3s\n",
      "[CV 2/5] END criterion=entropy, max_depth=7, max_features=None, min_samples_leaf=7, min_samples_split=6, splitter=random;, score=0.832 total time=   1.3s\n",
      "[CV 3/5] END criterion=entropy, max_depth=7, max_features=None, min_samples_leaf=7, min_samples_split=6, splitter=random;, score=0.837 total time=   1.3s\n",
      "[CV 4/5] END criterion=entropy, max_depth=7, max_features=None, min_samples_leaf=7, min_samples_split=6, splitter=random;, score=0.840 total time=   1.2s\n",
      "[CV 5/5] END criterion=entropy, max_depth=7, max_features=None, min_samples_leaf=7, min_samples_split=6, splitter=random;, score=0.823 total time=   1.2s\n",
      "[CV 1/5] END criterion=entropy, max_depth=12, max_features=sqrt, min_samples_leaf=7, min_samples_split=6, splitter=random;, score=0.805 total time=   0.6s\n",
      "[CV 2/5] END criterion=entropy, max_depth=12, max_features=sqrt, min_samples_leaf=7, min_samples_split=6, splitter=random;, score=0.790 total time=   0.6s\n",
      "[CV 3/5] END criterion=entropy, max_depth=12, max_features=sqrt, min_samples_leaf=7, min_samples_split=6, splitter=random;, score=0.806 total time=   0.6s\n",
      "[CV 4/5] END criterion=entropy, max_depth=12, max_features=sqrt, min_samples_leaf=7, min_samples_split=6, splitter=random;, score=0.815 total time=   0.6s\n",
      "[CV 5/5] END criterion=entropy, max_depth=12, max_features=sqrt, min_samples_leaf=7, min_samples_split=6, splitter=random;, score=0.831 total time=   0.7s\n",
      "[CV 1/5] END criterion=log_loss, max_depth=8, max_features=log2, min_samples_leaf=5, min_samples_split=4, splitter=best;, score=nan total time=   0.2s\n",
      "[CV 2/5] END criterion=log_loss, max_depth=8, max_features=log2, min_samples_leaf=5, min_samples_split=4, splitter=best;, score=nan total time=   0.2s\n",
      "[CV 3/5] END criterion=log_loss, max_depth=8, max_features=log2, min_samples_leaf=5, min_samples_split=4, splitter=best;, score=nan total time=   0.2s\n",
      "[CV 4/5] END criterion=log_loss, max_depth=8, max_features=log2, min_samples_leaf=5, min_samples_split=4, splitter=best;, score=nan total time=   0.2s\n",
      "[CV 5/5] END criterion=log_loss, max_depth=8, max_features=log2, min_samples_leaf=5, min_samples_split=4, splitter=best;, score=nan total time=   0.2s\n",
      "[CV 1/5] END criterion=gini, max_depth=12, max_features=None, min_samples_leaf=1, min_samples_split=8, splitter=best;, score=0.854 total time=   3.6s\n",
      "[CV 2/5] END criterion=gini, max_depth=12, max_features=None, min_samples_leaf=1, min_samples_split=8, splitter=best;, score=0.856 total time=   3.5s\n",
      "[CV 3/5] END criterion=gini, max_depth=12, max_features=None, min_samples_leaf=1, min_samples_split=8, splitter=best;, score=0.854 total time=   3.5s\n",
      "[CV 4/5] END criterion=gini, max_depth=12, max_features=None, min_samples_leaf=1, min_samples_split=8, splitter=best;, score=0.855 total time=   3.5s\n",
      "[CV 5/5] END criterion=gini, max_depth=12, max_features=None, min_samples_leaf=1, min_samples_split=8, splitter=best;, score=0.857 total time=   3.6s\n",
      "[CV 1/5] END criterion=entropy, max_depth=12, max_features=log2, min_samples_leaf=1, min_samples_split=4, splitter=random;, score=0.810 total time=   0.6s\n",
      "[CV 2/5] END criterion=entropy, max_depth=12, max_features=log2, min_samples_leaf=1, min_samples_split=4, splitter=random;, score=0.833 total time=   0.6s\n",
      "[CV 3/5] END criterion=entropy, max_depth=12, max_features=log2, min_samples_leaf=1, min_samples_split=4, splitter=random;, score=0.820 total time=   0.7s\n",
      "[CV 4/5] END criterion=entropy, max_depth=12, max_features=log2, min_samples_leaf=1, min_samples_split=4, splitter=random;, score=0.816 total time=   0.6s\n",
      "[CV 5/5] END criterion=entropy, max_depth=12, max_features=log2, min_samples_leaf=1, min_samples_split=4, splitter=random;, score=0.821 total time=   0.7s\n",
      "[CV 1/5] END criterion=gini, max_depth=2, max_features=sqrt, min_samples_leaf=1, min_samples_split=2, splitter=random;, score=0.754 total time=   0.2s\n",
      "[CV 2/5] END criterion=gini, max_depth=2, max_features=sqrt, min_samples_leaf=1, min_samples_split=2, splitter=random;, score=0.753 total time=   0.3s\n",
      "[CV 3/5] END criterion=gini, max_depth=2, max_features=sqrt, min_samples_leaf=1, min_samples_split=2, splitter=random;, score=0.785 total time=   0.3s\n",
      "[CV 4/5] END criterion=gini, max_depth=2, max_features=sqrt, min_samples_leaf=1, min_samples_split=2, splitter=random;, score=0.758 total time=   0.2s\n",
      "[CV 5/5] END criterion=gini, max_depth=2, max_features=sqrt, min_samples_leaf=1, min_samples_split=2, splitter=random;, score=0.758 total time=   0.2s\n",
      "[CV 1/5] END criterion=gini, max_depth=7, max_features=None, min_samples_leaf=3, min_samples_split=1, splitter=best;, score=nan total time=   0.2s\n",
      "[CV 2/5] END criterion=gini, max_depth=7, max_features=None, min_samples_leaf=3, min_samples_split=1, splitter=best;, score=nan total time=   0.2s\n",
      "[CV 3/5] END criterion=gini, max_depth=7, max_features=None, min_samples_leaf=3, min_samples_split=1, splitter=best;, score=nan total time=   0.2s\n",
      "[CV 4/5] END criterion=gini, max_depth=7, max_features=None, min_samples_leaf=3, min_samples_split=1, splitter=best;, score=nan total time=   0.2s\n",
      "[CV 5/5] END criterion=gini, max_depth=7, max_features=None, min_samples_leaf=3, min_samples_split=1, splitter=best;, score=nan total time=   0.2s\n",
      "[CV 1/5] END criterion=gini, max_depth=12, max_features=sqrt, min_samples_leaf=5, min_samples_split=1, splitter=random;, score=nan total time=   0.2s\n",
      "[CV 2/5] END criterion=gini, max_depth=12, max_features=sqrt, min_samples_leaf=5, min_samples_split=1, splitter=random;, score=nan total time=   0.2s\n",
      "[CV 3/5] END criterion=gini, max_depth=12, max_features=sqrt, min_samples_leaf=5, min_samples_split=1, splitter=random;, score=nan total time=   0.2s\n",
      "[CV 4/5] END criterion=gini, max_depth=12, max_features=sqrt, min_samples_leaf=5, min_samples_split=1, splitter=random;, score=nan total time=   0.2s\n",
      "[CV 5/5] END criterion=gini, max_depth=12, max_features=sqrt, min_samples_leaf=5, min_samples_split=1, splitter=random;, score=nan total time=   0.2s\n",
      "[CV 1/5] END criterion=gini, max_depth=6, max_features=None, min_samples_leaf=1, min_samples_split=4, splitter=best;, score=0.846 total time=   2.4s\n",
      "[CV 2/5] END criterion=gini, max_depth=6, max_features=None, min_samples_leaf=1, min_samples_split=4, splitter=best;, score=0.848 total time=   2.2s\n",
      "[CV 3/5] END criterion=gini, max_depth=6, max_features=None, min_samples_leaf=1, min_samples_split=4, splitter=best;, score=0.846 total time=   1.9s\n",
      "[CV 4/5] END criterion=gini, max_depth=6, max_features=None, min_samples_leaf=1, min_samples_split=4, splitter=best;, score=0.848 total time=   2.0s\n",
      "[CV 5/5] END criterion=gini, max_depth=6, max_features=None, min_samples_leaf=1, min_samples_split=4, splitter=best;, score=0.847 total time=   1.9s\n",
      "[CV 1/5] END criterion=gini, max_depth=12, max_features=None, min_samples_leaf=7, min_samples_split=8, splitter=random;, score=0.851 total time=   1.9s\n",
      "[CV 2/5] END criterion=gini, max_depth=12, max_features=None, min_samples_leaf=7, min_samples_split=8, splitter=random;, score=0.853 total time=   1.8s\n",
      "[CV 3/5] END criterion=gini, max_depth=12, max_features=None, min_samples_leaf=7, min_samples_split=8, splitter=random;, score=0.852 total time=   1.8s\n",
      "[CV 4/5] END criterion=gini, max_depth=12, max_features=None, min_samples_leaf=7, min_samples_split=8, splitter=random;, score=0.851 total time=   1.9s\n",
      "[CV 5/5] END criterion=gini, max_depth=12, max_features=None, min_samples_leaf=7, min_samples_split=8, splitter=random;, score=0.853 total time=   1.8s\n",
      "[CV 1/5] END criterion=gini, max_depth=12, max_features=log2, min_samples_leaf=7, min_samples_split=6, splitter=best;, score=0.840 total time=   1.0s\n",
      "[CV 2/5] END criterion=gini, max_depth=12, max_features=log2, min_samples_leaf=7, min_samples_split=6, splitter=best;, score=0.847 total time=   0.9s\n",
      "[CV 3/5] END criterion=gini, max_depth=12, max_features=log2, min_samples_leaf=7, min_samples_split=6, splitter=best;, score=0.845 total time=   0.9s\n",
      "[CV 4/5] END criterion=gini, max_depth=12, max_features=log2, min_samples_leaf=7, min_samples_split=6, splitter=best;, score=0.829 total time=   1.1s\n",
      "[CV 5/5] END criterion=gini, max_depth=12, max_features=log2, min_samples_leaf=7, min_samples_split=6, splitter=best;, score=0.849 total time=   1.0s\n",
      "[CV 1/5] END criterion=entropy, max_depth=4, max_features=log2, min_samples_leaf=3, min_samples_split=2, splitter=random;, score=0.763 total time=   0.3s\n",
      "[CV 2/5] END criterion=entropy, max_depth=4, max_features=log2, min_samples_leaf=3, min_samples_split=2, splitter=random;, score=0.810 total time=   0.3s\n",
      "[CV 3/5] END criterion=entropy, max_depth=4, max_features=log2, min_samples_leaf=3, min_samples_split=2, splitter=random;, score=0.767 total time=   0.3s\n",
      "[CV 4/5] END criterion=entropy, max_depth=4, max_features=log2, min_samples_leaf=3, min_samples_split=2, splitter=random;, score=0.753 total time=   0.3s\n",
      "[CV 5/5] END criterion=entropy, max_depth=4, max_features=log2, min_samples_leaf=3, min_samples_split=2, splitter=random;, score=0.762 total time=   0.3s\n",
      "[CV 1/5] END criterion=log_loss, max_depth=10, max_features=log2, min_samples_leaf=3, min_samples_split=6, splitter=random;, score=nan total time=   0.2s\n",
      "[CV 2/5] END criterion=log_loss, max_depth=10, max_features=log2, min_samples_leaf=3, min_samples_split=6, splitter=random;, score=nan total time=   0.2s\n",
      "[CV 3/5] END criterion=log_loss, max_depth=10, max_features=log2, min_samples_leaf=3, min_samples_split=6, splitter=random;, score=nan total time=   0.2s\n",
      "[CV 4/5] END criterion=log_loss, max_depth=10, max_features=log2, min_samples_leaf=3, min_samples_split=6, splitter=random;, score=nan total time=   0.2s\n",
      "[CV 5/5] END criterion=log_loss, max_depth=10, max_features=log2, min_samples_leaf=3, min_samples_split=6, splitter=random;, score=nan total time=   0.2s\n",
      "[CV 1/5] END criterion=gini, max_depth=8, max_features=log2, min_samples_leaf=5, min_samples_split=8, splitter=random;, score=0.787 total time=   0.5s\n",
      "[CV 2/5] END criterion=gini, max_depth=8, max_features=log2, min_samples_leaf=5, min_samples_split=8, splitter=random;, score=0.776 total time=   0.5s\n",
      "[CV 3/5] END criterion=gini, max_depth=8, max_features=log2, min_samples_leaf=5, min_samples_split=8, splitter=random;, score=0.771 total time=   0.5s\n",
      "[CV 4/5] END criterion=gini, max_depth=8, max_features=log2, min_samples_leaf=5, min_samples_split=8, splitter=random;, score=0.785 total time=   0.5s\n",
      "[CV 5/5] END criterion=gini, max_depth=8, max_features=log2, min_samples_leaf=5, min_samples_split=8, splitter=random;, score=0.795 total time=   0.5s\n",
      "[CV 1/5] END criterion=gini, max_depth=10, max_features=log2, min_samples_leaf=3, min_samples_split=1, splitter=best;, score=nan total time=   0.2s\n",
      "[CV 2/5] END criterion=gini, max_depth=10, max_features=log2, min_samples_leaf=3, min_samples_split=1, splitter=best;, score=nan total time=   0.2s\n",
      "[CV 3/5] END criterion=gini, max_depth=10, max_features=log2, min_samples_leaf=3, min_samples_split=1, splitter=best;, score=nan total time=   0.2s\n",
      "[CV 4/5] END criterion=gini, max_depth=10, max_features=log2, min_samples_leaf=3, min_samples_split=1, splitter=best;, score=nan total time=   0.2s\n",
      "[CV 5/5] END criterion=gini, max_depth=10, max_features=log2, min_samples_leaf=3, min_samples_split=1, splitter=best;, score=nan total time=   0.2s\n",
      "[CV 1/5] END criterion=gini, max_depth=10, max_features=log2, min_samples_leaf=5, min_samples_split=1, splitter=best;, score=nan total time=   0.2s\n",
      "[CV 2/5] END criterion=gini, max_depth=10, max_features=log2, min_samples_leaf=5, min_samples_split=1, splitter=best;, score=nan total time=   0.2s\n",
      "[CV 3/5] END criterion=gini, max_depth=10, max_features=log2, min_samples_leaf=5, min_samples_split=1, splitter=best;, score=nan total time=   0.2s\n",
      "[CV 4/5] END criterion=gini, max_depth=10, max_features=log2, min_samples_leaf=5, min_samples_split=1, splitter=best;, score=nan total time=   0.2s\n",
      "[CV 5/5] END criterion=gini, max_depth=10, max_features=log2, min_samples_leaf=5, min_samples_split=1, splitter=best;, score=nan total time=   0.2s\n",
      "[CV 1/5] END criterion=log_loss, max_depth=6, max_features=None, min_samples_leaf=5, min_samples_split=1, splitter=random;, score=nan total time=   0.2s\n",
      "[CV 2/5] END criterion=log_loss, max_depth=6, max_features=None, min_samples_leaf=5, min_samples_split=1, splitter=random;, score=nan total time=   0.2s\n",
      "[CV 3/5] END criterion=log_loss, max_depth=6, max_features=None, min_samples_leaf=5, min_samples_split=1, splitter=random;, score=nan total time=   0.2s\n",
      "[CV 4/5] END criterion=log_loss, max_depth=6, max_features=None, min_samples_leaf=5, min_samples_split=1, splitter=random;, score=nan total time=   0.2s\n",
      "[CV 5/5] END criterion=log_loss, max_depth=6, max_features=None, min_samples_leaf=5, min_samples_split=1, splitter=random;, score=nan total time=   0.2s\n",
      "[CV 1/5] END criterion=log_loss, max_depth=7, max_features=log2, min_samples_leaf=3, min_samples_split=8, splitter=best;, score=nan total time=   0.2s\n",
      "[CV 2/5] END criterion=log_loss, max_depth=7, max_features=log2, min_samples_leaf=3, min_samples_split=8, splitter=best;, score=nan total time=   0.2s\n",
      "[CV 3/5] END criterion=log_loss, max_depth=7, max_features=log2, min_samples_leaf=3, min_samples_split=8, splitter=best;, score=nan total time=   0.2s\n",
      "[CV 4/5] END criterion=log_loss, max_depth=7, max_features=log2, min_samples_leaf=3, min_samples_split=8, splitter=best;, score=nan total time=   0.2s\n",
      "[CV 5/5] END criterion=log_loss, max_depth=7, max_features=log2, min_samples_leaf=3, min_samples_split=8, splitter=best;, score=nan total time=   0.2s\n",
      "[CV 1/5] END criterion=entropy, max_depth=8, max_features=sqrt, min_samples_leaf=3, min_samples_split=6, splitter=best;, score=0.824 total time=   0.7s\n",
      "[CV 2/5] END criterion=entropy, max_depth=8, max_features=sqrt, min_samples_leaf=3, min_samples_split=6, splitter=best;, score=0.832 total time=   0.7s\n",
      "[CV 3/5] END criterion=entropy, max_depth=8, max_features=sqrt, min_samples_leaf=3, min_samples_split=6, splitter=best;, score=0.832 total time=   0.7s\n",
      "[CV 4/5] END criterion=entropy, max_depth=8, max_features=sqrt, min_samples_leaf=3, min_samples_split=6, splitter=best;, score=0.826 total time=   0.7s\n",
      "[CV 5/5] END criterion=entropy, max_depth=8, max_features=sqrt, min_samples_leaf=3, min_samples_split=6, splitter=best;, score=0.833 total time=   0.7s\n",
      "[CV 1/5] END criterion=gini, max_depth=10, max_features=sqrt, min_samples_leaf=7, min_samples_split=8, splitter=best;, score=0.847 total time=   0.9s\n",
      "[CV 2/5] END criterion=gini, max_depth=10, max_features=sqrt, min_samples_leaf=7, min_samples_split=8, splitter=best;, score=0.846 total time=   0.8s\n",
      "[CV 3/5] END criterion=gini, max_depth=10, max_features=sqrt, min_samples_leaf=7, min_samples_split=8, splitter=best;, score=0.841 total time=   0.9s\n",
      "[CV 4/5] END criterion=gini, max_depth=10, max_features=sqrt, min_samples_leaf=7, min_samples_split=8, splitter=best;, score=0.848 total time=   0.9s\n",
      "[CV 5/5] END criterion=gini, max_depth=10, max_features=sqrt, min_samples_leaf=7, min_samples_split=8, splitter=best;, score=0.817 total time=   0.9s\n",
      "[CV 1/5] END criterion=entropy, max_depth=8, max_features=log2, min_samples_leaf=7, min_samples_split=6, splitter=random;, score=0.825 total time=   0.5s\n",
      "[CV 2/5] END criterion=entropy, max_depth=8, max_features=log2, min_samples_leaf=7, min_samples_split=6, splitter=random;, score=0.771 total time=   0.5s\n",
      "[CV 3/5] END criterion=entropy, max_depth=8, max_features=log2, min_samples_leaf=7, min_samples_split=6, splitter=random;, score=0.799 total time=   0.5s\n",
      "[CV 4/5] END criterion=entropy, max_depth=8, max_features=log2, min_samples_leaf=7, min_samples_split=6, splitter=random;, score=0.786 total time=   0.5s\n",
      "[CV 5/5] END criterion=entropy, max_depth=8, max_features=log2, min_samples_leaf=7, min_samples_split=6, splitter=random;, score=0.815 total time=   0.5s\n",
      "[CV 1/5] END criterion=entropy, max_depth=7, max_features=log2, min_samples_leaf=7, min_samples_split=1, splitter=random;, score=nan total time=   0.2s\n",
      "[CV 2/5] END criterion=entropy, max_depth=7, max_features=log2, min_samples_leaf=7, min_samples_split=1, splitter=random;, score=nan total time=   0.2s\n",
      "[CV 3/5] END criterion=entropy, max_depth=7, max_features=log2, min_samples_leaf=7, min_samples_split=1, splitter=random;, score=nan total time=   0.2s\n",
      "[CV 4/5] END criterion=entropy, max_depth=7, max_features=log2, min_samples_leaf=7, min_samples_split=1, splitter=random;, score=nan total time=   0.2s\n",
      "[CV 5/5] END criterion=entropy, max_depth=7, max_features=log2, min_samples_leaf=7, min_samples_split=1, splitter=random;, score=nan total time=   0.2s\n",
      "[CV 1/5] END criterion=log_loss, max_depth=12, max_features=log2, min_samples_leaf=5, min_samples_split=8, splitter=best;, score=nan total time=   0.2s\n",
      "[CV 2/5] END criterion=log_loss, max_depth=12, max_features=log2, min_samples_leaf=5, min_samples_split=8, splitter=best;, score=nan total time=   0.2s\n",
      "[CV 3/5] END criterion=log_loss, max_depth=12, max_features=log2, min_samples_leaf=5, min_samples_split=8, splitter=best;, score=nan total time=   0.2s\n",
      "[CV 4/5] END criterion=log_loss, max_depth=12, max_features=log2, min_samples_leaf=5, min_samples_split=8, splitter=best;, score=nan total time=   0.2s\n",
      "[CV 5/5] END criterion=log_loss, max_depth=12, max_features=log2, min_samples_leaf=5, min_samples_split=8, splitter=best;, score=nan total time=   0.2s\n",
      "[CV 1/5] END criterion=log_loss, max_depth=7, max_features=sqrt, min_samples_leaf=3, min_samples_split=1, splitter=best;, score=nan total time=   0.2s\n",
      "[CV 2/5] END criterion=log_loss, max_depth=7, max_features=sqrt, min_samples_leaf=3, min_samples_split=1, splitter=best;, score=nan total time=   0.2s\n",
      "[CV 3/5] END criterion=log_loss, max_depth=7, max_features=sqrt, min_samples_leaf=3, min_samples_split=1, splitter=best;, score=nan total time=   0.2s\n",
      "[CV 4/5] END criterion=log_loss, max_depth=7, max_features=sqrt, min_samples_leaf=3, min_samples_split=1, splitter=best;, score=nan total time=   0.2s\n",
      "[CV 5/5] END criterion=log_loss, max_depth=7, max_features=sqrt, min_samples_leaf=3, min_samples_split=1, splitter=best;, score=nan total time=   0.2s\n",
      "[CV 1/5] END criterion=gini, max_depth=12, max_features=log2, min_samples_leaf=3, min_samples_split=6, splitter=best;, score=0.844 total time=   1.0s\n",
      "[CV 2/5] END criterion=gini, max_depth=12, max_features=log2, min_samples_leaf=3, min_samples_split=6, splitter=best;, score=0.847 total time=   1.0s\n",
      "[CV 3/5] END criterion=gini, max_depth=12, max_features=log2, min_samples_leaf=3, min_samples_split=6, splitter=best;, score=0.849 total time=   1.1s\n",
      "[CV 4/5] END criterion=gini, max_depth=12, max_features=log2, min_samples_leaf=3, min_samples_split=6, splitter=best;, score=0.852 total time=   0.9s\n",
      "[CV 5/5] END criterion=gini, max_depth=12, max_features=log2, min_samples_leaf=3, min_samples_split=6, splitter=best;, score=0.850 total time=   1.1s\n",
      "[CV 1/5] END criterion=gini, max_depth=8, max_features=sqrt, min_samples_leaf=3, min_samples_split=1, splitter=best;, score=nan total time=   0.2s\n",
      "[CV 2/5] END criterion=gini, max_depth=8, max_features=sqrt, min_samples_leaf=3, min_samples_split=1, splitter=best;, score=nan total time=   0.2s\n",
      "[CV 3/5] END criterion=gini, max_depth=8, max_features=sqrt, min_samples_leaf=3, min_samples_split=1, splitter=best;, score=nan total time=   0.2s\n",
      "[CV 4/5] END criterion=gini, max_depth=8, max_features=sqrt, min_samples_leaf=3, min_samples_split=1, splitter=best;, score=nan total time=   0.2s\n",
      "[CV 5/5] END criterion=gini, max_depth=8, max_features=sqrt, min_samples_leaf=3, min_samples_split=1, splitter=best;, score=nan total time=   0.2s\n",
      "[CV 1/5] END criterion=log_loss, max_depth=12, max_features=None, min_samples_leaf=1, min_samples_split=4, splitter=best;, score=nan total time=   0.2s\n",
      "[CV 2/5] END criterion=log_loss, max_depth=12, max_features=None, min_samples_leaf=1, min_samples_split=4, splitter=best;, score=nan total time=   0.2s\n",
      "[CV 3/5] END criterion=log_loss, max_depth=12, max_features=None, min_samples_leaf=1, min_samples_split=4, splitter=best;, score=nan total time=   0.2s\n",
      "[CV 4/5] END criterion=log_loss, max_depth=12, max_features=None, min_samples_leaf=1, min_samples_split=4, splitter=best;, score=nan total time=   0.2s\n",
      "[CV 5/5] END criterion=log_loss, max_depth=12, max_features=None, min_samples_leaf=1, min_samples_split=4, splitter=best;, score=nan total time=   0.2s\n",
      "[CV 1/5] END criterion=gini, max_depth=8, max_features=log2, min_samples_leaf=1, min_samples_split=1, splitter=best;, score=nan total time=   0.2s\n",
      "[CV 2/5] END criterion=gini, max_depth=8, max_features=log2, min_samples_leaf=1, min_samples_split=1, splitter=best;, score=nan total time=   0.2s\n",
      "[CV 3/5] END criterion=gini, max_depth=8, max_features=log2, min_samples_leaf=1, min_samples_split=1, splitter=best;, score=nan total time=   0.2s\n",
      "[CV 4/5] END criterion=gini, max_depth=8, max_features=log2, min_samples_leaf=1, min_samples_split=1, splitter=best;, score=nan total time=   0.2s\n",
      "[CV 5/5] END criterion=gini, max_depth=8, max_features=log2, min_samples_leaf=1, min_samples_split=1, splitter=best;, score=nan total time=   0.2s\n",
      "[CV 1/5] END criterion=entropy, max_depth=6, max_features=sqrt, min_samples_leaf=3, min_samples_split=1, splitter=random;, score=nan total time=   0.2s\n",
      "[CV 2/5] END criterion=entropy, max_depth=6, max_features=sqrt, min_samples_leaf=3, min_samples_split=1, splitter=random;, score=nan total time=   0.2s\n",
      "[CV 3/5] END criterion=entropy, max_depth=6, max_features=sqrt, min_samples_leaf=3, min_samples_split=1, splitter=random;, score=nan total time=   0.2s\n",
      "[CV 4/5] END criterion=entropy, max_depth=6, max_features=sqrt, min_samples_leaf=3, min_samples_split=1, splitter=random;, score=nan total time=   0.2s\n",
      "[CV 5/5] END criterion=entropy, max_depth=6, max_features=sqrt, min_samples_leaf=3, min_samples_split=1, splitter=random;, score=nan total time=   0.2s\n",
      "[CV 1/5] END criterion=log_loss, max_depth=10, max_features=None, min_samples_leaf=5, min_samples_split=1, splitter=best;, score=nan total time=   0.2s\n",
      "[CV 2/5] END criterion=log_loss, max_depth=10, max_features=None, min_samples_leaf=5, min_samples_split=1, splitter=best;, score=nan total time=   0.2s\n",
      "[CV 3/5] END criterion=log_loss, max_depth=10, max_features=None, min_samples_leaf=5, min_samples_split=1, splitter=best;, score=nan total time=   0.2s\n",
      "[CV 4/5] END criterion=log_loss, max_depth=10, max_features=None, min_samples_leaf=5, min_samples_split=1, splitter=best;, score=nan total time=   0.2s\n",
      "[CV 5/5] END criterion=log_loss, max_depth=10, max_features=None, min_samples_leaf=5, min_samples_split=1, splitter=best;, score=nan total time=   0.2s\n",
      "[CV 1/5] END criterion=entropy, max_depth=4, max_features=log2, min_samples_leaf=1, min_samples_split=8, splitter=random;, score=0.760 total time=   0.3s\n",
      "[CV 2/5] END criterion=entropy, max_depth=4, max_features=log2, min_samples_leaf=1, min_samples_split=8, splitter=random;, score=0.757 total time=   0.3s\n",
      "[CV 3/5] END criterion=entropy, max_depth=4, max_features=log2, min_samples_leaf=1, min_samples_split=8, splitter=random;, score=0.761 total time=   0.3s\n",
      "[CV 4/5] END criterion=entropy, max_depth=4, max_features=log2, min_samples_leaf=1, min_samples_split=8, splitter=random;, score=0.763 total time=   0.3s\n",
      "[CV 5/5] END criterion=entropy, max_depth=4, max_features=log2, min_samples_leaf=1, min_samples_split=8, splitter=random;, score=0.756 total time=   0.3s\n",
      "[CV 1/5] END criterion=log_loss, max_depth=6, max_features=None, min_samples_leaf=7, min_samples_split=2, splitter=best;, score=nan total time=   0.2s\n",
      "[CV 2/5] END criterion=log_loss, max_depth=6, max_features=None, min_samples_leaf=7, min_samples_split=2, splitter=best;, score=nan total time=   0.2s\n",
      "[CV 3/5] END criterion=log_loss, max_depth=6, max_features=None, min_samples_leaf=7, min_samples_split=2, splitter=best;, score=nan total time=   0.2s\n",
      "[CV 4/5] END criterion=log_loss, max_depth=6, max_features=None, min_samples_leaf=7, min_samples_split=2, splitter=best;, score=nan total time=   0.2s\n",
      "[CV 5/5] END criterion=log_loss, max_depth=6, max_features=None, min_samples_leaf=7, min_samples_split=2, splitter=best;, score=nan total time=   0.2s\n",
      "[CV 1/5] END criterion=entropy, max_depth=8, max_features=sqrt, min_samples_leaf=7, min_samples_split=8, splitter=random;, score=0.808 total time=   0.5s\n",
      "[CV 2/5] END criterion=entropy, max_depth=8, max_features=sqrt, min_samples_leaf=7, min_samples_split=8, splitter=random;, score=0.828 total time=   0.5s\n",
      "[CV 3/5] END criterion=entropy, max_depth=8, max_features=sqrt, min_samples_leaf=7, min_samples_split=8, splitter=random;, score=0.773 total time=   0.5s\n",
      "[CV 4/5] END criterion=entropy, max_depth=8, max_features=sqrt, min_samples_leaf=7, min_samples_split=8, splitter=random;, score=0.766 total time=   0.5s\n",
      "[CV 5/5] END criterion=entropy, max_depth=8, max_features=sqrt, min_samples_leaf=7, min_samples_split=8, splitter=random;, score=0.770 total time=   0.5s\n",
      "[CV 1/5] END criterion=gini, max_depth=12, max_features=None, min_samples_leaf=1, min_samples_split=1, splitter=random;, score=nan total time=   0.2s\n",
      "[CV 2/5] END criterion=gini, max_depth=12, max_features=None, min_samples_leaf=1, min_samples_split=1, splitter=random;, score=nan total time=   0.2s\n",
      "[CV 3/5] END criterion=gini, max_depth=12, max_features=None, min_samples_leaf=1, min_samples_split=1, splitter=random;, score=nan total time=   0.2s\n",
      "[CV 4/5] END criterion=gini, max_depth=12, max_features=None, min_samples_leaf=1, min_samples_split=1, splitter=random;, score=nan total time=   0.2s\n",
      "[CV 5/5] END criterion=gini, max_depth=12, max_features=None, min_samples_leaf=1, min_samples_split=1, splitter=random;, score=nan total time=   0.2s\n",
      "[CV 1/5] END criterion=gini, max_depth=4, max_features=sqrt, min_samples_leaf=5, min_samples_split=8, splitter=best;, score=0.836 total time=   0.5s\n",
      "[CV 2/5] END criterion=gini, max_depth=4, max_features=sqrt, min_samples_leaf=5, min_samples_split=8, splitter=best;, score=0.784 total time=   0.4s\n",
      "[CV 3/5] END criterion=gini, max_depth=4, max_features=sqrt, min_samples_leaf=5, min_samples_split=8, splitter=best;, score=0.803 total time=   0.5s\n",
      "[CV 4/5] END criterion=gini, max_depth=4, max_features=sqrt, min_samples_leaf=5, min_samples_split=8, splitter=best;, score=0.795 total time=   0.4s\n",
      "[CV 5/5] END criterion=gini, max_depth=4, max_features=sqrt, min_samples_leaf=5, min_samples_split=8, splitter=best;, score=0.827 total time=   0.5s\n",
      "[CV 1/5] END criterion=log_loss, max_depth=4, max_features=log2, min_samples_leaf=5, min_samples_split=1, splitter=best;, score=nan total time=   0.2s\n",
      "[CV 2/5] END criterion=log_loss, max_depth=4, max_features=log2, min_samples_leaf=5, min_samples_split=1, splitter=best;, score=nan total time=   0.2s\n",
      "[CV 3/5] END criterion=log_loss, max_depth=4, max_features=log2, min_samples_leaf=5, min_samples_split=1, splitter=best;, score=nan total time=   0.2s\n",
      "[CV 4/5] END criterion=log_loss, max_depth=4, max_features=log2, min_samples_leaf=5, min_samples_split=1, splitter=best;, score=nan total time=   0.2s\n",
      "[CV 5/5] END criterion=log_loss, max_depth=4, max_features=log2, min_samples_leaf=5, min_samples_split=1, splitter=best;, score=nan total time=   0.2s\n",
      "[CV 1/5] END criterion=log_loss, max_depth=7, max_features=None, min_samples_leaf=3, min_samples_split=1, splitter=best;, score=nan total time=   0.2s\n",
      "[CV 2/5] END criterion=log_loss, max_depth=7, max_features=None, min_samples_leaf=3, min_samples_split=1, splitter=best;, score=nan total time=   0.2s\n",
      "[CV 3/5] END criterion=log_loss, max_depth=7, max_features=None, min_samples_leaf=3, min_samples_split=1, splitter=best;, score=nan total time=   0.2s\n",
      "[CV 4/5] END criterion=log_loss, max_depth=7, max_features=None, min_samples_leaf=3, min_samples_split=1, splitter=best;, score=nan total time=   0.2s\n",
      "[CV 5/5] END criterion=log_loss, max_depth=7, max_features=None, min_samples_leaf=3, min_samples_split=1, splitter=best;, score=nan total time=   0.2s\n",
      "[CV 1/5] END criterion=log_loss, max_depth=10, max_features=sqrt, min_samples_leaf=1, min_samples_split=8, splitter=best;, score=nan total time=   0.2s\n",
      "[CV 2/5] END criterion=log_loss, max_depth=10, max_features=sqrt, min_samples_leaf=1, min_samples_split=8, splitter=best;, score=nan total time=   0.2s\n",
      "[CV 3/5] END criterion=log_loss, max_depth=10, max_features=sqrt, min_samples_leaf=1, min_samples_split=8, splitter=best;, score=nan total time=   0.2s\n",
      "[CV 4/5] END criterion=log_loss, max_depth=10, max_features=sqrt, min_samples_leaf=1, min_samples_split=8, splitter=best;, score=nan total time=   0.2s\n",
      "[CV 5/5] END criterion=log_loss, max_depth=10, max_features=sqrt, min_samples_leaf=1, min_samples_split=8, splitter=best;, score=nan total time=   0.2s\n",
      "[CV 1/5] END criterion=log_loss, max_depth=6, max_features=sqrt, min_samples_leaf=3, min_samples_split=1, splitter=random;, score=nan total time=   0.2s\n",
      "[CV 2/5] END criterion=log_loss, max_depth=6, max_features=sqrt, min_samples_leaf=3, min_samples_split=1, splitter=random;, score=nan total time=   0.2s\n",
      "[CV 3/5] END criterion=log_loss, max_depth=6, max_features=sqrt, min_samples_leaf=3, min_samples_split=1, splitter=random;, score=nan total time=   0.2s\n",
      "[CV 4/5] END criterion=log_loss, max_depth=6, max_features=sqrt, min_samples_leaf=3, min_samples_split=1, splitter=random;, score=nan total time=   0.2s\n",
      "[CV 5/5] END criterion=log_loss, max_depth=6, max_features=sqrt, min_samples_leaf=3, min_samples_split=1, splitter=random;, score=nan total time=   0.2s\n",
      "[CV 1/5] END criterion=gini, max_depth=6, max_features=log2, min_samples_leaf=3, min_samples_split=1, splitter=random;, score=nan total time=   0.2s\n",
      "[CV 2/5] END criterion=gini, max_depth=6, max_features=log2, min_samples_leaf=3, min_samples_split=1, splitter=random;, score=nan total time=   0.2s\n",
      "[CV 3/5] END criterion=gini, max_depth=6, max_features=log2, min_samples_leaf=3, min_samples_split=1, splitter=random;, score=nan total time=   0.2s\n",
      "[CV 4/5] END criterion=gini, max_depth=6, max_features=log2, min_samples_leaf=3, min_samples_split=1, splitter=random;, score=nan total time=   0.2s\n",
      "[CV 5/5] END criterion=gini, max_depth=6, max_features=log2, min_samples_leaf=3, min_samples_split=1, splitter=random;, score=nan total time=   0.2s\n",
      "[CV 1/5] END criterion=gini, max_depth=6, max_features=log2, min_samples_leaf=3, min_samples_split=8, splitter=random;, score=0.762 total time=   0.4s\n",
      "[CV 2/5] END criterion=gini, max_depth=6, max_features=log2, min_samples_leaf=3, min_samples_split=8, splitter=random;, score=0.761 total time=   0.4s\n",
      "[CV 3/5] END criterion=gini, max_depth=6, max_features=log2, min_samples_leaf=3, min_samples_split=8, splitter=random;, score=0.802 total time=   0.4s\n",
      "[CV 4/5] END criterion=gini, max_depth=6, max_features=log2, min_samples_leaf=3, min_samples_split=8, splitter=random;, score=0.766 total time=   0.4s\n",
      "[CV 5/5] END criterion=gini, max_depth=6, max_features=log2, min_samples_leaf=3, min_samples_split=8, splitter=random;, score=0.790 total time=   0.4s\n",
      "[CV 1/5] END criterion=entropy, max_depth=7, max_features=None, min_samples_leaf=5, min_samples_split=2, splitter=best;, score=0.846 total time=   2.2s\n",
      "[CV 2/5] END criterion=entropy, max_depth=7, max_features=None, min_samples_leaf=5, min_samples_split=2, splitter=best;, score=0.847 total time=   2.2s\n",
      "[CV 3/5] END criterion=entropy, max_depth=7, max_features=None, min_samples_leaf=5, min_samples_split=2, splitter=best;, score=0.846 total time=   2.2s\n",
      "[CV 4/5] END criterion=entropy, max_depth=7, max_features=None, min_samples_leaf=5, min_samples_split=2, splitter=best;, score=0.847 total time=   2.2s\n",
      "[CV 5/5] END criterion=entropy, max_depth=7, max_features=None, min_samples_leaf=5, min_samples_split=2, splitter=best;, score=0.847 total time=   2.2s\n",
      "[CV 1/5] END criterion=entropy, max_depth=12, max_features=None, min_samples_leaf=7, min_samples_split=6, splitter=random;, score=0.851 total time=   1.9s\n",
      "[CV 2/5] END criterion=entropy, max_depth=12, max_features=None, min_samples_leaf=7, min_samples_split=6, splitter=random;, score=0.851 total time=   1.9s\n",
      "[CV 3/5] END criterion=entropy, max_depth=12, max_features=None, min_samples_leaf=7, min_samples_split=6, splitter=random;, score=0.851 total time=   1.9s\n",
      "[CV 4/5] END criterion=entropy, max_depth=12, max_features=None, min_samples_leaf=7, min_samples_split=6, splitter=random;, score=0.852 total time=   1.8s\n",
      "[CV 5/5] END criterion=entropy, max_depth=12, max_features=None, min_samples_leaf=7, min_samples_split=6, splitter=random;, score=0.854 total time=   1.8s\n",
      "[CV 1/5] END criterion=log_loss, max_depth=2, max_features=None, min_samples_leaf=1, min_samples_split=1, splitter=random;, score=nan total time=   0.2s\n",
      "[CV 2/5] END criterion=log_loss, max_depth=2, max_features=None, min_samples_leaf=1, min_samples_split=1, splitter=random;, score=nan total time=   0.2s\n",
      "[CV 3/5] END criterion=log_loss, max_depth=2, max_features=None, min_samples_leaf=1, min_samples_split=1, splitter=random;, score=nan total time=   0.2s\n",
      "[CV 4/5] END criterion=log_loss, max_depth=2, max_features=None, min_samples_leaf=1, min_samples_split=1, splitter=random;, score=nan total time=   0.2s\n",
      "[CV 5/5] END criterion=log_loss, max_depth=2, max_features=None, min_samples_leaf=1, min_samples_split=1, splitter=random;, score=nan total time=   0.2s\n",
      "[CV 1/5] END criterion=log_loss, max_depth=7, max_features=sqrt, min_samples_leaf=7, min_samples_split=6, splitter=random;, score=nan total time=   0.2s\n",
      "[CV 2/5] END criterion=log_loss, max_depth=7, max_features=sqrt, min_samples_leaf=7, min_samples_split=6, splitter=random;, score=nan total time=   0.2s\n",
      "[CV 3/5] END criterion=log_loss, max_depth=7, max_features=sqrt, min_samples_leaf=7, min_samples_split=6, splitter=random;, score=nan total time=   0.2s\n",
      "[CV 4/5] END criterion=log_loss, max_depth=7, max_features=sqrt, min_samples_leaf=7, min_samples_split=6, splitter=random;, score=nan total time=   0.2s\n",
      "[CV 5/5] END criterion=log_loss, max_depth=7, max_features=sqrt, min_samples_leaf=7, min_samples_split=6, splitter=random;, score=nan total time=   0.2s\n",
      "[CV 1/5] END criterion=gini, max_depth=7, max_features=None, min_samples_leaf=1, min_samples_split=1, splitter=best;, score=nan total time=   0.2s\n",
      "[CV 2/5] END criterion=gini, max_depth=7, max_features=None, min_samples_leaf=1, min_samples_split=1, splitter=best;, score=nan total time=   0.2s\n",
      "[CV 3/5] END criterion=gini, max_depth=7, max_features=None, min_samples_leaf=1, min_samples_split=1, splitter=best;, score=nan total time=   0.2s\n",
      "[CV 4/5] END criterion=gini, max_depth=7, max_features=None, min_samples_leaf=1, min_samples_split=1, splitter=best;, score=nan total time=   0.2s\n",
      "[CV 5/5] END criterion=gini, max_depth=7, max_features=None, min_samples_leaf=1, min_samples_split=1, splitter=best;, score=nan total time=   0.2s\n",
      "[CV 1/5] END criterion=entropy, max_depth=10, max_features=None, min_samples_leaf=3, min_samples_split=2, splitter=best;, score=0.852 total time=   3.1s\n",
      "[CV 2/5] END criterion=entropy, max_depth=10, max_features=None, min_samples_leaf=3, min_samples_split=2, splitter=best;, score=0.851 total time=   3.1s\n",
      "[CV 3/5] END criterion=entropy, max_depth=10, max_features=None, min_samples_leaf=3, min_samples_split=2, splitter=best;, score=0.852 total time=   3.2s\n",
      "[CV 4/5] END criterion=entropy, max_depth=10, max_features=None, min_samples_leaf=3, min_samples_split=2, splitter=best;, score=0.853 total time=   3.2s\n",
      "[CV 5/5] END criterion=entropy, max_depth=10, max_features=None, min_samples_leaf=3, min_samples_split=2, splitter=best;, score=0.853 total time=   3.1s\n",
      "[CV 1/5] END criterion=gini, max_depth=4, max_features=None, min_samples_leaf=3, min_samples_split=8, splitter=best;, score=0.843 total time=   1.3s\n",
      "[CV 2/5] END criterion=gini, max_depth=4, max_features=None, min_samples_leaf=3, min_samples_split=8, splitter=best;, score=0.844 total time=   1.4s\n",
      "[CV 3/5] END criterion=gini, max_depth=4, max_features=None, min_samples_leaf=3, min_samples_split=8, splitter=best;, score=0.843 total time=   1.4s\n",
      "[CV 4/5] END criterion=gini, max_depth=4, max_features=None, min_samples_leaf=3, min_samples_split=8, splitter=best;, score=0.845 total time=   1.3s\n",
      "[CV 5/5] END criterion=gini, max_depth=4, max_features=None, min_samples_leaf=3, min_samples_split=8, splitter=best;, score=0.845 total time=   1.4s\n",
      "[CV 1/5] END criterion=entropy, max_depth=4, max_features=None, min_samples_leaf=7, min_samples_split=8, splitter=best;, score=0.840 total time=   1.3s\n",
      "[CV 2/5] END criterion=entropy, max_depth=4, max_features=None, min_samples_leaf=7, min_samples_split=8, splitter=best;, score=0.842 total time=   1.3s\n",
      "[CV 3/5] END criterion=entropy, max_depth=4, max_features=None, min_samples_leaf=7, min_samples_split=8, splitter=best;, score=0.841 total time=   1.3s\n",
      "[CV 4/5] END criterion=entropy, max_depth=4, max_features=None, min_samples_leaf=7, min_samples_split=8, splitter=best;, score=0.842 total time=   1.3s\n",
      "[CV 5/5] END criterion=entropy, max_depth=4, max_features=None, min_samples_leaf=7, min_samples_split=8, splitter=best;, score=0.843 total time=   1.3s\n",
      "[CV 1/5] END criterion=entropy, max_depth=6, max_features=log2, min_samples_leaf=7, min_samples_split=4, splitter=best;, score=0.807 total time=   0.6s\n",
      "[CV 2/5] END criterion=entropy, max_depth=6, max_features=log2, min_samples_leaf=7, min_samples_split=4, splitter=best;, score=0.822 total time=   0.6s\n",
      "[CV 3/5] END criterion=entropy, max_depth=6, max_features=log2, min_samples_leaf=7, min_samples_split=4, splitter=best;, score=0.768 total time=   0.7s\n",
      "[CV 4/5] END criterion=entropy, max_depth=6, max_features=log2, min_samples_leaf=7, min_samples_split=4, splitter=best;, score=0.820 total time=   0.6s\n",
      "[CV 5/5] END criterion=entropy, max_depth=6, max_features=log2, min_samples_leaf=7, min_samples_split=4, splitter=best;, score=0.834 total time=   0.7s\n",
      "[CV 1/5] END criterion=log_loss, max_depth=2, max_features=None, min_samples_leaf=7, min_samples_split=2, splitter=best;, score=nan total time=   0.2s\n",
      "[CV 2/5] END criterion=log_loss, max_depth=2, max_features=None, min_samples_leaf=7, min_samples_split=2, splitter=best;, score=nan total time=   0.2s\n",
      "[CV 3/5] END criterion=log_loss, max_depth=2, max_features=None, min_samples_leaf=7, min_samples_split=2, splitter=best;, score=nan total time=   0.2s\n",
      "[CV 4/5] END criterion=log_loss, max_depth=2, max_features=None, min_samples_leaf=7, min_samples_split=2, splitter=best;, score=nan total time=   0.2s\n",
      "[CV 5/5] END criterion=log_loss, max_depth=2, max_features=None, min_samples_leaf=7, min_samples_split=2, splitter=best;, score=nan total time=   0.2s\n",
      "[CV 1/5] END criterion=gini, max_depth=4, max_features=sqrt, min_samples_leaf=7, min_samples_split=4, splitter=best;, score=0.827 total time=   0.5s\n",
      "[CV 2/5] END criterion=gini, max_depth=4, max_features=sqrt, min_samples_leaf=7, min_samples_split=4, splitter=best;, score=0.819 total time=   0.5s\n",
      "[CV 3/5] END criterion=gini, max_depth=4, max_features=sqrt, min_samples_leaf=7, min_samples_split=4, splitter=best;, score=0.798 total time=   0.4s\n",
      "[CV 4/5] END criterion=gini, max_depth=4, max_features=sqrt, min_samples_leaf=7, min_samples_split=4, splitter=best;, score=0.827 total time=   0.4s\n",
      "[CV 5/5] END criterion=gini, max_depth=4, max_features=sqrt, min_samples_leaf=7, min_samples_split=4, splitter=best;, score=0.772 total time=   0.5s\n",
      "[CV 1/5] END criterion=log_loss, max_depth=12, max_features=sqrt, min_samples_leaf=7, min_samples_split=8, splitter=best;, score=nan total time=   0.2s\n",
      "[CV 2/5] END criterion=log_loss, max_depth=12, max_features=sqrt, min_samples_leaf=7, min_samples_split=8, splitter=best;, score=nan total time=   0.2s\n",
      "[CV 3/5] END criterion=log_loss, max_depth=12, max_features=sqrt, min_samples_leaf=7, min_samples_split=8, splitter=best;, score=nan total time=   0.2s\n",
      "[CV 4/5] END criterion=log_loss, max_depth=12, max_features=sqrt, min_samples_leaf=7, min_samples_split=8, splitter=best;, score=nan total time=   0.2s\n",
      "[CV 5/5] END criterion=log_loss, max_depth=12, max_features=sqrt, min_samples_leaf=7, min_samples_split=8, splitter=best;, score=nan total time=   0.2s\n",
      "[CV 1/5] END criterion=entropy, max_depth=8, max_features=None, min_samples_leaf=1, min_samples_split=6, splitter=best;, score=0.846 total time=   2.6s\n",
      "[CV 2/5] END criterion=entropy, max_depth=8, max_features=None, min_samples_leaf=1, min_samples_split=6, splitter=best;, score=0.847 total time=   2.5s\n",
      "[CV 3/5] END criterion=entropy, max_depth=8, max_features=None, min_samples_leaf=1, min_samples_split=6, splitter=best;, score=0.847 total time=   2.5s\n",
      "[CV 4/5] END criterion=entropy, max_depth=8, max_features=None, min_samples_leaf=1, min_samples_split=6, splitter=best;, score=0.848 total time=   2.5s\n",
      "[CV 5/5] END criterion=entropy, max_depth=8, max_features=None, min_samples_leaf=1, min_samples_split=6, splitter=best;, score=0.848 total time=   2.5s\n",
      "[CV 1/5] END criterion=entropy, max_depth=4, max_features=None, min_samples_leaf=5, min_samples_split=1, splitter=random;, score=nan total time=   0.2s\n",
      "[CV 2/5] END criterion=entropy, max_depth=4, max_features=None, min_samples_leaf=5, min_samples_split=1, splitter=random;, score=nan total time=   0.2s\n",
      "[CV 3/5] END criterion=entropy, max_depth=4, max_features=None, min_samples_leaf=5, min_samples_split=1, splitter=random;, score=nan total time=   0.2s\n",
      "[CV 4/5] END criterion=entropy, max_depth=4, max_features=None, min_samples_leaf=5, min_samples_split=1, splitter=random;, score=nan total time=   0.2s\n",
      "[CV 5/5] END criterion=entropy, max_depth=4, max_features=None, min_samples_leaf=5, min_samples_split=1, splitter=random;, score=nan total time=   0.2s\n",
      "[CV 1/5] END criterion=log_loss, max_depth=2, max_features=sqrt, min_samples_leaf=1, min_samples_split=4, splitter=best;, score=nan total time=   0.2s\n",
      "[CV 2/5] END criterion=log_loss, max_depth=2, max_features=sqrt, min_samples_leaf=1, min_samples_split=4, splitter=best;, score=nan total time=   0.2s\n",
      "[CV 3/5] END criterion=log_loss, max_depth=2, max_features=sqrt, min_samples_leaf=1, min_samples_split=4, splitter=best;, score=nan total time=   0.2s\n",
      "[CV 4/5] END criterion=log_loss, max_depth=2, max_features=sqrt, min_samples_leaf=1, min_samples_split=4, splitter=best;, score=nan total time=   0.2s\n",
      "[CV 5/5] END criterion=log_loss, max_depth=2, max_features=sqrt, min_samples_leaf=1, min_samples_split=4, splitter=best;, score=nan total time=   0.2s\n"
     ]
    },
    {
     "name": "stderr",
     "output_type": "stream",
     "text": [
      "/usr/local/lib/python3.7/dist-packages/sklearn/model_selection/_validation.py:372: FitFailedWarning: \n",
      "235 fits failed out of a total of 500.\n",
      "The score on these train-test partitions for these parameters will be set to nan.\n",
      "If these failures are not expected, you can try to debug them by setting error_score='raise'.\n",
      "\n",
      "Below are more details about the failures:\n",
      "--------------------------------------------------------------------------------\n",
      "135 fits failed with the following error:\n",
      "Traceback (most recent call last):\n",
      "  File \"/usr/local/lib/python3.7/dist-packages/sklearn/model_selection/_validation.py\", line 680, in _fit_and_score\n",
      "    estimator.fit(X_train, y_train, **fit_params)\n",
      "  File \"/usr/local/lib/python3.7/dist-packages/sklearn/tree/_classes.py\", line 942, in fit\n",
      "    X_idx_sorted=X_idx_sorted,\n",
      "  File \"/usr/local/lib/python3.7/dist-packages/sklearn/tree/_classes.py\", line 254, in fit\n",
      "    % self.min_samples_split\n",
      "ValueError: min_samples_split must be an integer greater than 1 or a float in (0.0, 1.0]; got the integer 1\n",
      "\n",
      "--------------------------------------------------------------------------------\n",
      "100 fits failed with the following error:\n",
      "Traceback (most recent call last):\n",
      "  File \"/usr/local/lib/python3.7/dist-packages/sklearn/model_selection/_validation.py\", line 680, in _fit_and_score\n",
      "    estimator.fit(X_train, y_train, **fit_params)\n",
      "  File \"/usr/local/lib/python3.7/dist-packages/sklearn/tree/_classes.py\", line 942, in fit\n",
      "    X_idx_sorted=X_idx_sorted,\n",
      "  File \"/usr/local/lib/python3.7/dist-packages/sklearn/tree/_classes.py\", line 352, in fit\n",
      "    criterion = CRITERIA_CLF[self.criterion](\n",
      "KeyError: 'log_loss'\n",
      "\n",
      "  warnings.warn(some_fits_failed_message, FitFailedWarning)\n",
      "/usr/local/lib/python3.7/dist-packages/sklearn/model_selection/_search.py:972: UserWarning: One or more of the test scores are non-finite: [0.79696822 0.80739684        nan 0.79174527        nan 0.8199202\n",
      " 0.83949738        nan 0.84921278        nan        nan        nan\n",
      "        nan        nan        nan 0.82047251        nan 0.8334104\n",
      " 0.79574767 0.8023435  0.80302043 0.7917308  0.83117217 0.79598981\n",
      "        nan 0.82631742 0.78214148 0.77108814        nan 0.76752054\n",
      " 0.79163224        nan 0.75924753 0.84142973        nan        nan\n",
      " 0.82983851        nan 0.83602698 0.76469235 0.81461601        nan\n",
      " 0.83964959 0.82355006 0.82988057 0.80946262        nan 0.85533166\n",
      " 0.81995062 0.7614553         nan        nan 0.84681075 0.85188154\n",
      " 0.84207046 0.77091118        nan 0.78276918        nan        nan\n",
      "        nan        nan 0.82942973 0.83976265 0.79944422        nan\n",
      "        nan        nan 0.84814876        nan        nan        nan\n",
      "        nan        nan 0.75951716        nan 0.78901844        nan\n",
      " 0.80905814        nan        nan        nan        nan        nan\n",
      " 0.77629224 0.84678611 0.85159307        nan        nan        nan\n",
      " 0.85212653 0.84400573 0.84160949 0.81041648        nan 0.80838693\n",
      "        nan 0.8470108         nan        nan]\n",
      "  category=UserWarning,\n"
     ]
    },
    {
     "data": {
      "text/plain": [
       "RandomizedSearchCV(cv=5, estimator=DecisionTreeClassifier(), n_iter=100,\n",
       "                   param_distributions={'criterion': ['gini', 'entropy',\n",
       "                                                      'log_loss'],\n",
       "                                        'max_depth': [2, 4, 6, 7, 8, 10, 12],\n",
       "                                        'max_features': ['log2', 'sqrt', None],\n",
       "                                        'min_samples_leaf': [1, 3, 5, 7],\n",
       "                                        'min_samples_split': [1, 2, 4, 6, 8],\n",
       "                                        'splitter': ['best', 'random']},\n",
       "                   random_state=42, verbose=3)"
      ]
     },
     "execution_count": 19,
     "metadata": {},
     "output_type": "execute_result"
    }
   ],
   "source": [
    "tree = DecisionTreeClassifier()\n",
    "parameters = {\n",
    "    'criterion'         : ['gini', 'entropy', 'log_loss'],\n",
    "    'splitter'          : ['best', 'random'],\n",
    "    'max_depth'         : [2, 4, 6, 7, 8, 10, 12],\n",
    "    'min_samples_leaf'  : [1, 3, 5, 7],\n",
    "    'min_samples_split' : [1, 2, 4, 6, 8],\n",
    "    'max_features'      : ['log2', 'sqrt', None]\n",
    "}\n",
    "\n",
    "tuning_model1 = RandomizedSearchCV(\n",
    "    tree, parameters, n_iter=100,\n",
    "    cv=5, verbose=3, random_state=42\n",
    ")\n",
    "\n",
    "tuning_model1.fit(x1_train, y1_train)"
   ]
  },
  {
   "cell_type": "code",
   "execution_count": null,
   "id": "5f7a20a7",
   "metadata": {
    "colab": {
     "base_uri": "https://localhost:8080/"
    },
    "id": "1I1mwzpCCbA-",
    "outputId": "6209120d-6589-4d03-e6ff-59c2ee4c2407"
   },
   "outputs": [
    {
     "data": {
      "text/plain": [
       "{'criterion': 'gini',\n",
       " 'max_depth': 12,\n",
       " 'max_features': None,\n",
       " 'min_samples_leaf': 1,\n",
       " 'min_samples_split': 8,\n",
       " 'splitter': 'best'}"
      ]
     },
     "execution_count": 20,
     "metadata": {},
     "output_type": "execute_result"
    }
   ],
   "source": [
    "tuning_model1.best_params_"
   ]
  },
  {
   "cell_type": "code",
   "execution_count": null,
   "id": "d557f8b7",
   "metadata": {
    "colab": {
     "base_uri": "https://localhost:8080/"
    },
    "id": "d3xTDJfPCbFD",
    "outputId": "7fe097a4-b2bf-4c03-df2d-afd719161989"
   },
   "outputs": [
    {
     "data": {
      "text/plain": [
       "0.8553316554612623"
      ]
     },
     "execution_count": 22,
     "metadata": {},
     "output_type": "execute_result"
    }
   ],
   "source": [
    "tuning_model1.best_score_"
   ]
  },
  {
   "cell_type": "code",
   "execution_count": null,
   "id": "056d6e1e",
   "metadata": {
    "id": "VhXdlCZkCbKh"
   },
   "outputs": [],
   "source": [
    "tree1 = DecisionTreeClassifier(\n",
    "    splitter = 'best',\n",
    "    min_samples_split = 8,\n",
    "    min_samples_leaf = 1,\n",
    "    max_features = None,\n",
    "    max_depth = 12,\n",
    "    criterion = 'gini'\n",
    ")\n",
    "tree1.fit(x1_train, y1_train)\n",
    "\n",
    "y1_train_pred = tree1.predict(x1_train)\n",
    "y1_test_pred = tree1.predict(x1_test)\n",
    "\n",
    "preds_test_tree1 = tree1.predict_proba(x1_test)[:, 1]\n",
    "preds_train_tree1 = tree1.predict_proba(x1_train)[:, 1]"
   ]
  },
  {
   "cell_type": "code",
   "execution_count": null,
   "id": "1ad39f30",
   "metadata": {
    "colab": {
     "base_uri": "https://localhost:8080/"
    },
    "id": "BIsAtt0NDOGM",
    "outputId": "4734be1a-c60d-458d-b001-eb8f3d21ebcb"
   },
   "outputs": [
    {
     "name": "stdout",
     "output_type": "stream",
     "text": [
      "f1_test: 0.6700345322624452\n",
      "f1_test: 0.6773644541697058\n",
      "roc_auc_test: 0.8965948834547562\n",
      "roc_auc_train: 0.9028339732357162\n"
     ]
    }
   ],
   "source": [
    "print('f1_test:', f1_score(y1_test, y1_test_pred))\n",
    "print('f1_test:', f1_score(y1_train, y1_train_pred))\n",
    "print('roc_auc_test:', roc_auc_score(y1_test, preds_test_tree1))\n",
    "print('roc_auc_train:', roc_auc_score(y1_train, preds_train_tree1))"
   ]
  },
  {
   "cell_type": "code",
   "execution_count": null,
   "id": "4ce56d55",
   "metadata": {
    "colab": {
     "base_uri": "https://localhost:8080/",
     "height": 350
    },
    "id": "aAs95izDDONW",
    "outputId": "b83f38cf-6e6e-45ad-b0aa-ac63834a0c63"
   },
   "outputs": [
    {
     "data": {
      "image/png": "[encoded data removed]",
      "text/plain": [
       "<Figure size 576x360 with 1 Axes>"
      ]
     },
     "metadata": {
      "needs_background": "light"
     },
     "output_type": "display_data"
    }
   ],
   "source": [
    "fpr1, tpr1, _ = roc_curve(y1_test, y1_test_pred, drop_intermediate=False)\n",
    "\n",
    "plt.figure(figsize=(8, 5))\n",
    "plt.clf()\n",
    "plt.plot(fpr1, tpr1)\n",
    "plt.plot(fpr1, fpr1)\n",
    "plt.xlabel('FPR')\n",
    "plt.ylabel('TPR')\n",
    "plt.title('ROC curve decision tree for Target1')\n",
    "plt.show()"
   ]
  },
  {
   "cell_type": "markdown",
   "id": "0192faec",
   "metadata": {
    "id": "p9ooFUClDlMg"
   },
   "source": [
    "#### Случайный лес"
   ]
  },
  {
   "cell_type": "code",
   "execution_count": null,
   "id": "18942e70",
   "metadata": {
    "id": "205be602"
   },
   "outputs": [],
   "source": [
    "from sklearn.ensemble import RandomForestClassifier\n",
    "from sklearn.model_selection import RandomizedSearchCV\n",
    "rf = RandomForestClassifier()"
   ]
  },
  {
   "cell_type": "code",
   "execution_count": null,
   "id": "a963d2f4",
   "metadata": {
    "colab": {
     "base_uri": "https://localhost:8080/"
    },
    "id": "f7af782a",
    "outputId": "c08e5a5e-faea-4d2d-c7ac-08e3d5486cc8"
   },
   "outputs": [
    {
     "name": "stdout",
     "output_type": "stream",
     "text": [
      "Fitting 5 folds for each of 10 candidates, totalling 50 fits\n"
     ]
    },
    {
     "name": "stderr",
     "output_type": "stream",
     "text": [
      "/usr/local/lib/python3.7/dist-packages/sklearn/model_selection/_validation.py:680: DataConversionWarning: A column-vector y was passed when a 1d array was expected. Please change the shape of y to (n_samples,), for example using ravel().\n",
      "  estimator.fit(X_train, y_train, **fit_params)\n"
     ]
    },
    {
     "name": "stdout",
     "output_type": "stream",
     "text": [
      "[CV 1/5] END ......max_depth=3, n_estimators=20;, score=0.818 total time=  10.7s\n"
     ]
    },
    {
     "name": "stderr",
     "output_type": "stream",
     "text": [
      "/usr/local/lib/python3.7/dist-packages/sklearn/model_selection/_validation.py:680: DataConversionWarning: A column-vector y was passed when a 1d array was expected. Please change the shape of y to (n_samples,), for example using ravel().\n",
      "  estimator.fit(X_train, y_train, **fit_params)\n"
     ]
    },
    {
     "name": "stdout",
     "output_type": "stream",
     "text": [
      "[CV 2/5] END ......max_depth=3, n_estimators=20;, score=0.821 total time=   7.5s\n"
     ]
    },
    {
     "name": "stderr",
     "output_type": "stream",
     "text": [
      "/usr/local/lib/python3.7/dist-packages/sklearn/model_selection/_validation.py:680: DataConversionWarning: A column-vector y was passed when a 1d array was expected. Please change the shape of y to (n_samples,), for example using ravel().\n",
      "  estimator.fit(X_train, y_train, **fit_params)\n"
     ]
    },
    {
     "name": "stdout",
     "output_type": "stream",
     "text": [
      "[CV 3/5] END ......max_depth=3, n_estimators=20;, score=0.821 total time=   8.6s\n"
     ]
    },
    {
     "name": "stderr",
     "output_type": "stream",
     "text": [
      "/usr/local/lib/python3.7/dist-packages/sklearn/model_selection/_validation.py:680: DataConversionWarning: A column-vector y was passed when a 1d array was expected. Please change the shape of y to (n_samples,), for example using ravel().\n",
      "  estimator.fit(X_train, y_train, **fit_params)\n"
     ]
    },
    {
     "name": "stdout",
     "output_type": "stream",
     "text": [
      "[CV 4/5] END ......max_depth=3, n_estimators=20;, score=0.773 total time=   6.8s\n"
     ]
    },
    {
     "name": "stderr",
     "output_type": "stream",
     "text": [
      "/usr/local/lib/python3.7/dist-packages/sklearn/model_selection/_validation.py:680: DataConversionWarning: A column-vector y was passed when a 1d array was expected. Please change the shape of y to (n_samples,), for example using ravel().\n",
      "  estimator.fit(X_train, y_train, **fit_params)\n"
     ]
    },
    {
     "name": "stdout",
     "output_type": "stream",
     "text": [
      "[CV 5/5] END ......max_depth=3, n_estimators=20;, score=0.823 total time=   4.6s\n"
     ]
    },
    {
     "name": "stderr",
     "output_type": "stream",
     "text": [
      "/usr/local/lib/python3.7/dist-packages/sklearn/model_selection/_validation.py:680: DataConversionWarning: A column-vector y was passed when a 1d array was expected. Please change the shape of y to (n_samples,), for example using ravel().\n",
      "  estimator.fit(X_train, y_train, **fit_params)\n"
     ]
    },
    {
     "name": "stdout",
     "output_type": "stream",
     "text": [
      "[CV 1/5] END .....max_depth=7, n_estimators=200;, score=0.844 total time= 1.4min\n"
     ]
    },
    {
     "name": "stderr",
     "output_type": "stream",
     "text": [
      "/usr/local/lib/python3.7/dist-packages/sklearn/model_selection/_validation.py:680: DataConversionWarning: A column-vector y was passed when a 1d array was expected. Please change the shape of y to (n_samples,), for example using ravel().\n",
      "  estimator.fit(X_train, y_train, **fit_params)\n"
     ]
    },
    {
     "name": "stdout",
     "output_type": "stream",
     "text": [
      "[CV 2/5] END .....max_depth=7, n_estimators=200;, score=0.843 total time= 1.5min\n"
     ]
    },
    {
     "name": "stderr",
     "output_type": "stream",
     "text": [
      "/usr/local/lib/python3.7/dist-packages/sklearn/model_selection/_validation.py:680: DataConversionWarning: A column-vector y was passed when a 1d array was expected. Please change the shape of y to (n_samples,), for example using ravel().\n",
      "  estimator.fit(X_train, y_train, **fit_params)\n"
     ]
    },
    {
     "name": "stdout",
     "output_type": "stream",
     "text": [
      "[CV 3/5] END .....max_depth=7, n_estimators=200;, score=0.844 total time= 1.5min\n"
     ]
    },
    {
     "name": "stderr",
     "output_type": "stream",
     "text": [
      "/usr/local/lib/python3.7/dist-packages/sklearn/model_selection/_validation.py:680: DataConversionWarning: A column-vector y was passed when a 1d array was expected. Please change the shape of y to (n_samples,), for example using ravel().\n",
      "  estimator.fit(X_train, y_train, **fit_params)\n"
     ]
    },
    {
     "name": "stdout",
     "output_type": "stream",
     "text": [
      "[CV 4/5] END .....max_depth=7, n_estimators=200;, score=0.843 total time= 1.4min\n"
     ]
    },
    {
     "name": "stderr",
     "output_type": "stream",
     "text": [
      "/usr/local/lib/python3.7/dist-packages/sklearn/model_selection/_validation.py:680: DataConversionWarning: A column-vector y was passed when a 1d array was expected. Please change the shape of y to (n_samples,), for example using ravel().\n",
      "  estimator.fit(X_train, y_train, **fit_params)\n"
     ]
    },
    {
     "name": "stdout",
     "output_type": "stream",
     "text": [
      "[CV 5/5] END .....max_depth=7, n_estimators=200;, score=0.848 total time= 1.4min\n"
     ]
    },
    {
     "name": "stderr",
     "output_type": "stream",
     "text": [
      "/usr/local/lib/python3.7/dist-packages/sklearn/model_selection/_validation.py:680: DataConversionWarning: A column-vector y was passed when a 1d array was expected. Please change the shape of y to (n_samples,), for example using ravel().\n",
      "  estimator.fit(X_train, y_train, **fit_params)\n"
     ]
    },
    {
     "name": "stdout",
     "output_type": "stream",
     "text": [
      "[CV 1/5] END ..max_depth=None, n_estimators=200;, score=0.890 total time= 3.5min\n"
     ]
    },
    {
     "name": "stderr",
     "output_type": "stream",
     "text": [
      "/usr/local/lib/python3.7/dist-packages/sklearn/model_selection/_validation.py:680: DataConversionWarning: A column-vector y was passed when a 1d array was expected. Please change the shape of y to (n_samples,), for example using ravel().\n",
      "  estimator.fit(X_train, y_train, **fit_params)\n"
     ]
    },
    {
     "name": "stdout",
     "output_type": "stream",
     "text": [
      "[CV 2/5] END ..max_depth=None, n_estimators=200;, score=0.893 total time= 3.4min\n"
     ]
    },
    {
     "name": "stderr",
     "output_type": "stream",
     "text": [
      "/usr/local/lib/python3.7/dist-packages/sklearn/model_selection/_validation.py:680: DataConversionWarning: A column-vector y was passed when a 1d array was expected. Please change the shape of y to (n_samples,), for example using ravel().\n",
      "  estimator.fit(X_train, y_train, **fit_params)\n"
     ]
    },
    {
     "name": "stdout",
     "output_type": "stream",
     "text": [
      "[CV 3/5] END ..max_depth=None, n_estimators=200;, score=0.891 total time= 3.6min\n"
     ]
    },
    {
     "name": "stderr",
     "output_type": "stream",
     "text": [
      "/usr/local/lib/python3.7/dist-packages/sklearn/model_selection/_validation.py:680: DataConversionWarning: A column-vector y was passed when a 1d array was expected. Please change the shape of y to (n_samples,), for example using ravel().\n",
      "  estimator.fit(X_train, y_train, **fit_params)\n"
     ]
    },
    {
     "name": "stdout",
     "output_type": "stream",
     "text": [
      "[CV 4/5] END ..max_depth=None, n_estimators=200;, score=0.892 total time= 3.6min\n"
     ]
    },
    {
     "name": "stderr",
     "output_type": "stream",
     "text": [
      "/usr/local/lib/python3.7/dist-packages/sklearn/model_selection/_validation.py:680: DataConversionWarning: A column-vector y was passed when a 1d array was expected. Please change the shape of y to (n_samples,), for example using ravel().\n",
      "  estimator.fit(X_train, y_train, **fit_params)\n"
     ]
    },
    {
     "name": "stdout",
     "output_type": "stream",
     "text": [
      "[CV 5/5] END ..max_depth=None, n_estimators=200;, score=0.892 total time= 3.6min\n"
     ]
    },
    {
     "name": "stderr",
     "output_type": "stream",
     "text": [
      "/usr/local/lib/python3.7/dist-packages/sklearn/model_selection/_validation.py:680: DataConversionWarning: A column-vector y was passed when a 1d array was expected. Please change the shape of y to (n_samples,), for example using ravel().\n",
      "  estimator.fit(X_train, y_train, **fit_params)\n"
     ]
    },
    {
     "name": "stdout",
     "output_type": "stream",
     "text": [
      "[CV 1/5] END .....max_depth=5, n_estimators=100;, score=0.833 total time=  34.9s\n"
     ]
    },
    {
     "name": "stderr",
     "output_type": "stream",
     "text": [
      "/usr/local/lib/python3.7/dist-packages/sklearn/model_selection/_validation.py:680: DataConversionWarning: A column-vector y was passed when a 1d array was expected. Please change the shape of y to (n_samples,), for example using ravel().\n",
      "  estimator.fit(X_train, y_train, **fit_params)\n"
     ]
    },
    {
     "name": "stdout",
     "output_type": "stream",
     "text": [
      "[CV 2/5] END .....max_depth=5, n_estimators=100;, score=0.833 total time=  36.0s\n"
     ]
    },
    {
     "name": "stderr",
     "output_type": "stream",
     "text": [
      "/usr/local/lib/python3.7/dist-packages/sklearn/model_selection/_validation.py:680: DataConversionWarning: A column-vector y was passed when a 1d array was expected. Please change the shape of y to (n_samples,), for example using ravel().\n",
      "  estimator.fit(X_train, y_train, **fit_params)\n"
     ]
    },
    {
     "name": "stdout",
     "output_type": "stream",
     "text": [
      "[CV 3/5] END .....max_depth=5, n_estimators=100;, score=0.835 total time=  36.5s\n"
     ]
    },
    {
     "name": "stderr",
     "output_type": "stream",
     "text": [
      "/usr/local/lib/python3.7/dist-packages/sklearn/model_selection/_validation.py:680: DataConversionWarning: A column-vector y was passed when a 1d array was expected. Please change the shape of y to (n_samples,), for example using ravel().\n",
      "  estimator.fit(X_train, y_train, **fit_params)\n"
     ]
    },
    {
     "name": "stdout",
     "output_type": "stream",
     "text": [
      "[CV 4/5] END .....max_depth=5, n_estimators=100;, score=0.834 total time=  35.5s\n"
     ]
    },
    {
     "name": "stderr",
     "output_type": "stream",
     "text": [
      "/usr/local/lib/python3.7/dist-packages/sklearn/model_selection/_validation.py:680: DataConversionWarning: A column-vector y was passed when a 1d array was expected. Please change the shape of y to (n_samples,), for example using ravel().\n",
      "  estimator.fit(X_train, y_train, **fit_params)\n"
     ]
    },
    {
     "name": "stdout",
     "output_type": "stream",
     "text": [
      "[CV 5/5] END .....max_depth=5, n_estimators=100;, score=0.834 total time=  35.5s\n"
     ]
    },
    {
     "name": "stderr",
     "output_type": "stream",
     "text": [
      "/usr/local/lib/python3.7/dist-packages/sklearn/model_selection/_validation.py:680: DataConversionWarning: A column-vector y was passed when a 1d array was expected. Please change the shape of y to (n_samples,), for example using ravel().\n",
      "  estimator.fit(X_train, y_train, **fit_params)\n"
     ]
    },
    {
     "name": "stdout",
     "output_type": "stream",
     "text": [
      "[CV 1/5] END .....max_depth=5, n_estimators=200;, score=0.832 total time= 1.2min\n"
     ]
    },
    {
     "name": "stderr",
     "output_type": "stream",
     "text": [
      "/usr/local/lib/python3.7/dist-packages/sklearn/model_selection/_validation.py:680: DataConversionWarning: A column-vector y was passed when a 1d array was expected. Please change the shape of y to (n_samples,), for example using ravel().\n",
      "  estimator.fit(X_train, y_train, **fit_params)\n"
     ]
    },
    {
     "name": "stdout",
     "output_type": "stream",
     "text": [
      "[CV 2/5] END .....max_depth=5, n_estimators=200;, score=0.834 total time= 1.2min\n"
     ]
    },
    {
     "name": "stderr",
     "output_type": "stream",
     "text": [
      "/usr/local/lib/python3.7/dist-packages/sklearn/model_selection/_validation.py:680: DataConversionWarning: A column-vector y was passed when a 1d array was expected. Please change the shape of y to (n_samples,), for example using ravel().\n",
      "  estimator.fit(X_train, y_train, **fit_params)\n"
     ]
    },
    {
     "name": "stdout",
     "output_type": "stream",
     "text": [
      "[CV 3/5] END .....max_depth=5, n_estimators=200;, score=0.835 total time= 1.2min\n"
     ]
    },
    {
     "name": "stderr",
     "output_type": "stream",
     "text": [
      "/usr/local/lib/python3.7/dist-packages/sklearn/model_selection/_validation.py:680: DataConversionWarning: A column-vector y was passed when a 1d array was expected. Please change the shape of y to (n_samples,), for example using ravel().\n",
      "  estimator.fit(X_train, y_train, **fit_params)\n"
     ]
    },
    {
     "name": "stdout",
     "output_type": "stream",
     "text": [
      "[CV 4/5] END .....max_depth=5, n_estimators=200;, score=0.833 total time= 1.2min\n"
     ]
    },
    {
     "name": "stderr",
     "output_type": "stream",
     "text": [
      "/usr/local/lib/python3.7/dist-packages/sklearn/model_selection/_validation.py:680: DataConversionWarning: A column-vector y was passed when a 1d array was expected. Please change the shape of y to (n_samples,), for example using ravel().\n",
      "  estimator.fit(X_train, y_train, **fit_params)\n"
     ]
    },
    {
     "name": "stdout",
     "output_type": "stream",
     "text": [
      "[CV 5/5] END .....max_depth=5, n_estimators=200;, score=0.835 total time= 1.2min\n"
     ]
    },
    {
     "name": "stderr",
     "output_type": "stream",
     "text": [
      "/usr/local/lib/python3.7/dist-packages/sklearn/model_selection/_validation.py:680: DataConversionWarning: A column-vector y was passed when a 1d array was expected. Please change the shape of y to (n_samples,), for example using ravel().\n",
      "  estimator.fit(X_train, y_train, **fit_params)\n"
     ]
    },
    {
     "name": "stdout",
     "output_type": "stream",
     "text": [
      "[CV 1/5] END .....max_depth=10, n_estimators=50;, score=0.853 total time=  30.8s\n"
     ]
    },
    {
     "name": "stderr",
     "output_type": "stream",
     "text": [
      "/usr/local/lib/python3.7/dist-packages/sklearn/model_selection/_validation.py:680: DataConversionWarning: A column-vector y was passed when a 1d array was expected. Please change the shape of y to (n_samples,), for example using ravel().\n",
      "  estimator.fit(X_train, y_train, **fit_params)\n"
     ]
    },
    {
     "name": "stdout",
     "output_type": "stream",
     "text": [
      "[CV 2/5] END .....max_depth=10, n_estimators=50;, score=0.853 total time=  30.5s\n"
     ]
    },
    {
     "name": "stderr",
     "output_type": "stream",
     "text": [
      "/usr/local/lib/python3.7/dist-packages/sklearn/model_selection/_validation.py:680: DataConversionWarning: A column-vector y was passed when a 1d array was expected. Please change the shape of y to (n_samples,), for example using ravel().\n",
      "  estimator.fit(X_train, y_train, **fit_params)\n"
     ]
    },
    {
     "name": "stdout",
     "output_type": "stream",
     "text": [
      "[CV 3/5] END .....max_depth=10, n_estimators=50;, score=0.854 total time=  31.1s\n"
     ]
    },
    {
     "name": "stderr",
     "output_type": "stream",
     "text": [
      "/usr/local/lib/python3.7/dist-packages/sklearn/model_selection/_validation.py:680: DataConversionWarning: A column-vector y was passed when a 1d array was expected. Please change the shape of y to (n_samples,), for example using ravel().\n",
      "  estimator.fit(X_train, y_train, **fit_params)\n"
     ]
    },
    {
     "name": "stdout",
     "output_type": "stream",
     "text": [
      "[CV 4/5] END .....max_depth=10, n_estimators=50;, score=0.854 total time=  31.0s\n"
     ]
    },
    {
     "name": "stderr",
     "output_type": "stream",
     "text": [
      "/usr/local/lib/python3.7/dist-packages/sklearn/model_selection/_validation.py:680: DataConversionWarning: A column-vector y was passed when a 1d array was expected. Please change the shape of y to (n_samples,), for example using ravel().\n",
      "  estimator.fit(X_train, y_train, **fit_params)\n"
     ]
    },
    {
     "name": "stdout",
     "output_type": "stream",
     "text": [
      "[CV 5/5] END .....max_depth=10, n_estimators=50;, score=0.855 total time=  29.7s\n"
     ]
    },
    {
     "name": "stderr",
     "output_type": "stream",
     "text": [
      "/usr/local/lib/python3.7/dist-packages/sklearn/model_selection/_validation.py:680: DataConversionWarning: A column-vector y was passed when a 1d array was expected. Please change the shape of y to (n_samples,), for example using ravel().\n",
      "  estimator.fit(X_train, y_train, **fit_params)\n"
     ]
    },
    {
     "name": "stdout",
     "output_type": "stream",
     "text": [
      "[CV 1/5] END .....max_depth=3, n_estimators=100;, score=0.823 total time=  24.6s\n"
     ]
    },
    {
     "name": "stderr",
     "output_type": "stream",
     "text": [
      "/usr/local/lib/python3.7/dist-packages/sklearn/model_selection/_validation.py:680: DataConversionWarning: A column-vector y was passed when a 1d array was expected. Please change the shape of y to (n_samples,), for example using ravel().\n",
      "  estimator.fit(X_train, y_train, **fit_params)\n"
     ]
    },
    {
     "name": "stdout",
     "output_type": "stream",
     "text": [
      "[CV 2/5] END .....max_depth=3, n_estimators=100;, score=0.823 total time=  24.1s\n"
     ]
    },
    {
     "name": "stderr",
     "output_type": "stream",
     "text": [
      "/usr/local/lib/python3.7/dist-packages/sklearn/model_selection/_validation.py:680: DataConversionWarning: A column-vector y was passed when a 1d array was expected. Please change the shape of y to (n_samples,), for example using ravel().\n",
      "  estimator.fit(X_train, y_train, **fit_params)\n"
     ]
    },
    {
     "name": "stdout",
     "output_type": "stream",
     "text": [
      "[CV 3/5] END .....max_depth=3, n_estimators=100;, score=0.824 total time=  24.0s\n"
     ]
    },
    {
     "name": "stderr",
     "output_type": "stream",
     "text": [
      "/usr/local/lib/python3.7/dist-packages/sklearn/model_selection/_validation.py:680: DataConversionWarning: A column-vector y was passed when a 1d array was expected. Please change the shape of y to (n_samples,), for example using ravel().\n",
      "  estimator.fit(X_train, y_train, **fit_params)\n"
     ]
    },
    {
     "name": "stdout",
     "output_type": "stream",
     "text": [
      "[CV 4/5] END .....max_depth=3, n_estimators=100;, score=0.824 total time=  25.3s\n"
     ]
    },
    {
     "name": "stderr",
     "output_type": "stream",
     "text": [
      "/usr/local/lib/python3.7/dist-packages/sklearn/model_selection/_validation.py:680: DataConversionWarning: A column-vector y was passed when a 1d array was expected. Please change the shape of y to (n_samples,), for example using ravel().\n",
      "  estimator.fit(X_train, y_train, **fit_params)\n"
     ]
    },
    {
     "name": "stdout",
     "output_type": "stream",
     "text": [
      "[CV 5/5] END .....max_depth=3, n_estimators=100;, score=0.824 total time=  24.4s\n"
     ]
    },
    {
     "name": "stderr",
     "output_type": "stream",
     "text": [
      "/usr/local/lib/python3.7/dist-packages/sklearn/model_selection/_validation.py:680: DataConversionWarning: A column-vector y was passed when a 1d array was expected. Please change the shape of y to (n_samples,), for example using ravel().\n",
      "  estimator.fit(X_train, y_train, **fit_params)\n"
     ]
    },
    {
     "name": "stdout",
     "output_type": "stream",
     "text": [
      "[CV 1/5] END ....max_depth=10, n_estimators=200;, score=0.853 total time= 2.0min\n"
     ]
    },
    {
     "name": "stderr",
     "output_type": "stream",
     "text": [
      "/usr/local/lib/python3.7/dist-packages/sklearn/model_selection/_validation.py:680: DataConversionWarning: A column-vector y was passed when a 1d array was expected. Please change the shape of y to (n_samples,), for example using ravel().\n",
      "  estimator.fit(X_train, y_train, **fit_params)\n"
     ]
    },
    {
     "name": "stdout",
     "output_type": "stream",
     "text": [
      "[CV 2/5] END ....max_depth=10, n_estimators=200;, score=0.854 total time= 2.0min\n"
     ]
    },
    {
     "name": "stderr",
     "output_type": "stream",
     "text": [
      "/usr/local/lib/python3.7/dist-packages/sklearn/model_selection/_validation.py:680: DataConversionWarning: A column-vector y was passed when a 1d array was expected. Please change the shape of y to (n_samples,), for example using ravel().\n",
      "  estimator.fit(X_train, y_train, **fit_params)\n"
     ]
    },
    {
     "name": "stdout",
     "output_type": "stream",
     "text": [
      "[CV 3/5] END ....max_depth=10, n_estimators=200;, score=0.853 total time= 2.0min\n"
     ]
    },
    {
     "name": "stderr",
     "output_type": "stream",
     "text": [
      "/usr/local/lib/python3.7/dist-packages/sklearn/model_selection/_validation.py:680: DataConversionWarning: A column-vector y was passed when a 1d array was expected. Please change the shape of y to (n_samples,), for example using ravel().\n",
      "  estimator.fit(X_train, y_train, **fit_params)\n"
     ]
    },
    {
     "name": "stdout",
     "output_type": "stream",
     "text": [
      "[CV 4/5] END ....max_depth=10, n_estimators=200;, score=0.854 total time= 2.0min\n"
     ]
    },
    {
     "name": "stderr",
     "output_type": "stream",
     "text": [
      "/usr/local/lib/python3.7/dist-packages/sklearn/model_selection/_validation.py:680: DataConversionWarning: A column-vector y was passed when a 1d array was expected. Please change the shape of y to (n_samples,), for example using ravel().\n",
      "  estimator.fit(X_train, y_train, **fit_params)\n"
     ]
    },
    {
     "name": "stdout",
     "output_type": "stream",
     "text": [
      "[CV 5/5] END ....max_depth=10, n_estimators=200;, score=0.855 total time= 1.9min\n"
     ]
    },
    {
     "name": "stderr",
     "output_type": "stream",
     "text": [
      "/usr/local/lib/python3.7/dist-packages/sklearn/model_selection/_validation.py:680: DataConversionWarning: A column-vector y was passed when a 1d array was expected. Please change the shape of y to (n_samples,), for example using ravel().\n",
      "  estimator.fit(X_train, y_train, **fit_params)\n"
     ]
    },
    {
     "name": "stdout",
     "output_type": "stream",
     "text": [
      "[CV 1/5] END ......max_depth=3, n_estimators=50;, score=0.820 total time=  11.5s\n"
     ]
    },
    {
     "name": "stderr",
     "output_type": "stream",
     "text": [
      "/usr/local/lib/python3.7/dist-packages/sklearn/model_selection/_validation.py:680: DataConversionWarning: A column-vector y was passed when a 1d array was expected. Please change the shape of y to (n_samples,), for example using ravel().\n",
      "  estimator.fit(X_train, y_train, **fit_params)\n"
     ]
    },
    {
     "name": "stdout",
     "output_type": "stream",
     "text": [
      "[CV 2/5] END ......max_depth=3, n_estimators=50;, score=0.823 total time=  11.6s\n"
     ]
    },
    {
     "name": "stderr",
     "output_type": "stream",
     "text": [
      "/usr/local/lib/python3.7/dist-packages/sklearn/model_selection/_validation.py:680: DataConversionWarning: A column-vector y was passed when a 1d array was expected. Please change the shape of y to (n_samples,), for example using ravel().\n",
      "  estimator.fit(X_train, y_train, **fit_params)\n"
     ]
    },
    {
     "name": "stdout",
     "output_type": "stream",
     "text": [
      "[CV 3/5] END ......max_depth=3, n_estimators=50;, score=0.824 total time=  11.6s\n"
     ]
    },
    {
     "name": "stderr",
     "output_type": "stream",
     "text": [
      "/usr/local/lib/python3.7/dist-packages/sklearn/model_selection/_validation.py:680: DataConversionWarning: A column-vector y was passed when a 1d array was expected. Please change the shape of y to (n_samples,), for example using ravel().\n",
      "  estimator.fit(X_train, y_train, **fit_params)\n"
     ]
    },
    {
     "name": "stdout",
     "output_type": "stream",
     "text": [
      "[CV 4/5] END ......max_depth=3, n_estimators=50;, score=0.822 total time=  11.6s\n"
     ]
    },
    {
     "name": "stderr",
     "output_type": "stream",
     "text": [
      "/usr/local/lib/python3.7/dist-packages/sklearn/model_selection/_validation.py:680: DataConversionWarning: A column-vector y was passed when a 1d array was expected. Please change the shape of y to (n_samples,), for example using ravel().\n",
      "  estimator.fit(X_train, y_train, **fit_params)\n"
     ]
    },
    {
     "name": "stdout",
     "output_type": "stream",
     "text": [
      "[CV 5/5] END ......max_depth=3, n_estimators=50;, score=0.823 total time=  11.7s\n"
     ]
    },
    {
     "name": "stderr",
     "output_type": "stream",
     "text": [
      "/usr/local/lib/python3.7/dist-packages/sklearn/model_selection/_validation.py:680: DataConversionWarning: A column-vector y was passed when a 1d array was expected. Please change the shape of y to (n_samples,), for example using ravel().\n",
      "  estimator.fit(X_train, y_train, **fit_params)\n"
     ]
    },
    {
     "name": "stdout",
     "output_type": "stream",
     "text": [
      "[CV 1/5] END .....max_depth=10, n_estimators=20;, score=0.853 total time=  11.2s\n"
     ]
    },
    {
     "name": "stderr",
     "output_type": "stream",
     "text": [
      "/usr/local/lib/python3.7/dist-packages/sklearn/model_selection/_validation.py:680: DataConversionWarning: A column-vector y was passed when a 1d array was expected. Please change the shape of y to (n_samples,), for example using ravel().\n",
      "  estimator.fit(X_train, y_train, **fit_params)\n"
     ]
    },
    {
     "name": "stdout",
     "output_type": "stream",
     "text": [
      "[CV 2/5] END .....max_depth=10, n_estimators=20;, score=0.852 total time=  11.2s\n"
     ]
    },
    {
     "name": "stderr",
     "output_type": "stream",
     "text": [
      "/usr/local/lib/python3.7/dist-packages/sklearn/model_selection/_validation.py:680: DataConversionWarning: A column-vector y was passed when a 1d array was expected. Please change the shape of y to (n_samples,), for example using ravel().\n",
      "  estimator.fit(X_train, y_train, **fit_params)\n"
     ]
    },
    {
     "name": "stdout",
     "output_type": "stream",
     "text": [
      "[CV 3/5] END .....max_depth=10, n_estimators=20;, score=0.852 total time=  11.3s\n"
     ]
    },
    {
     "name": "stderr",
     "output_type": "stream",
     "text": [
      "/usr/local/lib/python3.7/dist-packages/sklearn/model_selection/_validation.py:680: DataConversionWarning: A column-vector y was passed when a 1d array was expected. Please change the shape of y to (n_samples,), for example using ravel().\n",
      "  estimator.fit(X_train, y_train, **fit_params)\n"
     ]
    },
    {
     "name": "stdout",
     "output_type": "stream",
     "text": [
      "[CV 4/5] END .....max_depth=10, n_estimators=20;, score=0.853 total time=  11.3s\n"
     ]
    },
    {
     "name": "stderr",
     "output_type": "stream",
     "text": [
      "/usr/local/lib/python3.7/dist-packages/sklearn/model_selection/_validation.py:680: DataConversionWarning: A column-vector y was passed when a 1d array was expected. Please change the shape of y to (n_samples,), for example using ravel().\n",
      "  estimator.fit(X_train, y_train, **fit_params)\n"
     ]
    },
    {
     "name": "stdout",
     "output_type": "stream",
     "text": [
      "[CV 5/5] END .....max_depth=10, n_estimators=20;, score=0.856 total time=  11.2s\n"
     ]
    },
    {
     "name": "stderr",
     "output_type": "stream",
     "text": [
      "/usr/local/lib/python3.7/dist-packages/sklearn/model_selection/_search.py:926: DataConversionWarning: A column-vector y was passed when a 1d array was expected. Please change the shape of y to (n_samples,), for example using ravel().\n",
      "  self.best_estimator_.fit(X, y, **fit_params)\n"
     ]
    }
   ],
   "source": [
    "parametrs = dict(n_estimators = [20, 50, 100, 200],\n",
    "                   max_depth = [3, 5, 7, 10, None])\n",
    "\n",
    "clf_rf = RandomizedSearchCV(rf, parametrs, verbose=3, random_state=321)\n",
    "\n",
    "search_rf_model = clf_rf.fit(x1_train, y1_train)"
   ]
  },
  {
   "cell_type": "code",
   "execution_count": null,
   "id": "24e452c5",
   "metadata": {
    "colab": {
     "base_uri": "https://localhost:8080/"
    },
    "id": "24c81c47",
    "outputId": "f7ccf944-697c-40fb-aa30-601e1ad3bc69"
   },
   "outputs": [
    {
     "data": {
      "text/plain": [
       "{'mean_fit_time': array([  7.38956275,  84.44046125, 200.21221972,  34.58343425,\n",
       "         69.55637197,  29.75319533,  23.56049857, 114.96273608,\n",
       "         11.14586992,  10.87011108]),\n",
       " 'mean_score_time': array([ 0.2508039 ,  2.55351233, 12.81892633,  1.09189887,  2.17282853,\n",
       "         0.89038296,  0.89479203,  3.53754582,  0.45728569,  0.36845303]),\n",
       " 'mean_test_score': array([0.81118905, 0.84422752, 0.89157086, 0.83386124, 0.83369598,\n",
       "        0.8538168 , 0.82345147, 0.85388493, 0.82234831, 0.85323695]),\n",
       " 'param_max_depth': masked_array(data=[3, 7, None, 5, 5, 10, 3, 10, 3, 10],\n",
       "              mask=[False, False, False, False, False, False, False, False,\n",
       "                    False, False],\n",
       "        fill_value='?',\n",
       "             dtype=object),\n",
       " 'param_n_estimators': masked_array(data=[20, 200, 200, 100, 200, 50, 100, 200, 50, 20],\n",
       "              mask=[False, False, False, False, False, False, False, False,\n",
       "                    False, False],\n",
       "        fill_value='?',\n",
       "             dtype=object),\n",
       " 'params': [{'max_depth': 3, 'n_estimators': 20},\n",
       "  {'max_depth': 7, 'n_estimators': 200},\n",
       "  {'max_depth': None, 'n_estimators': 200},\n",
       "  {'max_depth': 5, 'n_estimators': 100},\n",
       "  {'max_depth': 5, 'n_estimators': 200},\n",
       "  {'max_depth': 10, 'n_estimators': 50},\n",
       "  {'max_depth': 3, 'n_estimators': 100},\n",
       "  {'max_depth': 10, 'n_estimators': 200},\n",
       "  {'max_depth': 3, 'n_estimators': 50},\n",
       "  {'max_depth': 10, 'n_estimators': 20}],\n",
       " 'rank_test_score': array([10,  5,  1,  6,  7,  3,  8,  2,  9,  4], dtype=int32),\n",
       " 'split0_test_score': array([0.81760131, 0.84365827, 0.89002443, 0.83331521, 0.83206129,\n",
       "        0.85316054, 0.82319685, 0.85310255, 0.81984098, 0.85303007]),\n",
       " 'split1_test_score': array([0.8208992 , 0.842774  , 0.89314111, 0.83306153, 0.83429371,\n",
       "        0.8529141 , 0.82281995, 0.85385636, 0.82297216, 0.85184863]),\n",
       " 'split2_test_score': array([0.82123986, 0.84444106, 0.89069125, 0.83497503, 0.83469235,\n",
       "        0.85412454, 0.82392166, 0.85308081, 0.82386368, 0.85226902]),\n",
       " 'split3_test_score': array([0.77321224, 0.8425844 , 0.89185741, 0.83437948, 0.83280663,\n",
       "        0.8536306 , 0.82361596, 0.85402201, 0.82207935, 0.85337692]),\n",
       " 'split4_test_score': array([0.82299262, 0.84767986, 0.89214009, 0.83357494, 0.83462592,\n",
       "        0.85525419, 0.82370294, 0.85536292, 0.82298537, 0.85566009]),\n",
       " 'std_fit_time': array([1.97384197, 0.75585052, 4.33204479, 0.53002475, 0.44786318,\n",
       "        0.49002856, 0.4763678 , 2.12230176, 0.0693544 , 0.03459311]),\n",
       " 'std_score_time': array([0.04264023, 0.00946827, 0.55465962, 0.00520944, 0.01961504,\n",
       "        0.00576635, 0.00771469, 0.11103569, 0.00540964, 0.00252787]),\n",
       " 'std_test_score': array([0.01906822, 0.00184937, 0.00109882, 0.00071116, 0.00106564,\n",
       "        0.00082958, 0.00039371, 0.0008322 , 0.0013748 , 0.00132652])}"
      ]
     },
     "execution_count": 40,
     "metadata": {},
     "output_type": "execute_result"
    }
   ],
   "source": [
    "search_rf_model.cv_results_"
   ]
  },
  {
   "cell_type": "code",
   "execution_count": null,
   "id": "0511e70c",
   "metadata": {
    "colab": {
     "base_uri": "https://localhost:8080/"
    },
    "id": "6da2f9ce",
    "outputId": "0a15d71b-3c62-42e0-f685-0773f5cdd7cb"
   },
   "outputs": [
    {
     "data": {
      "text/plain": [
       "{'max_depth': None, 'n_estimators': 200}"
      ]
     },
     "execution_count": 41,
     "metadata": {},
     "output_type": "execute_result"
    }
   ],
   "source": [
    "search_rf_model.best_params_"
   ]
  },
  {
   "cell_type": "code",
   "execution_count": null,
   "id": "bca1acab",
   "metadata": {
    "colab": {
     "base_uri": "https://localhost:8080/"
    },
    "id": "415d5407",
    "outputId": "2e226ed8-229f-4153-ea44-50f4e50cceec"
   },
   "outputs": [
    {
     "data": {
      "text/plain": [
       "0.8915708596947193"
      ]
     },
     "execution_count": 42,
     "metadata": {},
     "output_type": "execute_result"
    }
   ],
   "source": [
    "search_rf_model.best_score_"
   ]
  },
  {
   "cell_type": "code",
   "execution_count": null,
   "id": "b615e40f",
   "metadata": {
    "colab": {
     "base_uri": "https://localhost:8080/"
    },
    "id": "936356bb",
    "outputId": "fd6564ae-37fb-4c40-c8e5-6cf0e4389203"
   },
   "outputs": [
    {
     "name": "stderr",
     "output_type": "stream",
     "text": [
      "/usr/local/lib/python3.7/dist-packages/ipykernel_launcher.py:4: DataConversionWarning: A column-vector y was passed when a 1d array was expected. Please change the shape of y to (n_samples,), for example using ravel().\n",
      "  after removing the cwd from sys.path.\n"
     ]
    }
   ],
   "source": [
    "rf1 = RandomForestClassifier(n_estimators = 200, \n",
    "                                max_depth = None,\n",
    "                                random_state = 321)\n",
    "rf1 = rf1.fit(x1_train, y1_train)\n",
    "\n",
    "y1_train_pred_rf = rf1.predict(x1_train)\n",
    "y1_test_pred_rf = rf1.predict(x1_test)\n",
    "\n",
    "prob1_train_rf = rf1.predict_proba(x1_train)[:, 1]\n",
    "prob1_test_rf = rf1.predict_proba(x1_test)[:, 1]"
   ]
  },
  {
   "cell_type": "code",
   "execution_count": null,
   "id": "20ae1f46",
   "metadata": {
    "colab": {
     "base_uri": "https://localhost:8080/"
    },
    "id": "ad695796",
    "outputId": "5a5264d9-339f-4369-bc8a-4a5a62dba31a"
   },
   "outputs": [
    {
     "name": "stdout",
     "output_type": "stream",
     "text": [
      "f1 score for train:  0.9999853305754814\n",
      "f1 score for test:  0.7750787710987577\n",
      "roc_auc_score for train:  0.9999999991527282\n",
      "roc_auc_score for test:  0.9397811640275742\n"
     ]
    }
   ],
   "source": [
    "print(\"f1 score for train: \", f1_score(y1_train, y1_train_pred_rf))\n",
    "print(\"f1 score for test: \", f1_score(y1_test, y1_test_pred_rf))\n",
    "print(\"roc_auc_score for train: \", roc_auc_score(y1_train, prob1_train_rf))\n",
    "print(\"roc_auc_score for test: \", roc_auc_score(y1_test, prob1_test_rf))"
   ]
  },
  {
   "cell_type": "code",
   "execution_count": null,
   "id": "afef8690",
   "metadata": {
    "colab": {
     "base_uri": "https://localhost:8080/",
     "height": 350
    },
    "id": "42499c42",
    "outputId": "c8fff8f6-08e3-476b-864b-513f4410012f"
   },
   "outputs": [
    {
     "data": {
      "image/png": "[encoded data removed]",
      "text/plain": [
       "<Figure size 576x360 with 1 Axes>"
      ]
     },
     "metadata": {
      "needs_background": "light"
     },
     "output_type": "display_data"
    }
   ],
   "source": [
    "fpr1_rf, tpr1_rf, _ = roc_curve(y1_test, prob1_test_rf, drop_intermediate=False)\n",
    "\n",
    "plt.figure(figsize=(8, 5))\n",
    "plt.clf()\n",
    "plt.plot(fpr1_rf, tpr1_rf)\n",
    "plt.plot(fpr1_rf, fpr1_rf)\n",
    "plt.xlabel('FPR')\n",
    "plt.ylabel('TPR')\n",
    "plt.title('ROC curve random forest for Target1')\n",
    "plt.show()"
   ]
  },
  {
   "cell_type": "markdown",
   "id": "0ce26185",
   "metadata": {
    "id": "seMacTFAFx6F"
   },
   "source": [
    "#### XGboost"
   ]
  },
  {
   "cell_type": "code",
   "execution_count": 8,
   "id": "2c8315c2",
   "metadata": {},
   "outputs": [
    {
     "name": "stdout",
     "output_type": "stream",
     "text": [
      "Requirement already satisfied: xgboost in /opt/anaconda3/lib/python3.8/site-packages (1.4.2)\n",
      "Requirement already satisfied: numpy in /opt/anaconda3/lib/python3.8/site-packages (from xgboost) (1.18.5)\n",
      "Requirement already satisfied: scipy in /opt/anaconda3/lib/python3.8/site-packages (from xgboost) (1.5.0)\n",
      "\u001b[33mWARNING: You are using pip version 21.1.2; however, version 22.1.2 is available.\n",
      "You should consider upgrading via the '/opt/anaconda3/bin/python -m pip install --upgrade pip' command.\u001b[0m\n",
      "Note: you may need to restart the kernel to use updated packages.\n"
     ]
    }
   ],
   "source": [
    "pip install xgboost"
   ]
  },
  {
   "cell_type": "code",
   "execution_count": 38,
   "id": "6c80c82f",
   "metadata": {
    "id": "8QaD5AoFF3SE"
   },
   "outputs": [],
   "source": [
    "import xgboost as xgb\n",
    "from xgboost.sklearn import XGBClassifier"
   ]
  },
  {
   "cell_type": "markdown",
   "id": "37383ded",
   "metadata": {
    "id": "kL5gNaWYF_Nz"
   },
   "source": [
    "Алгоритм подбора гиперпараметров следующий:\n",
    "\n",
    "Выбираем относительно большой learning_rate (η ∈ [0.05, 0.3]), подбираем оптимальное число деревьев для выбранного η\n",
    "\n",
    "Настраиваем параметры деревьев, начиная с самых значимых (max_depth, min_child_weight, gamma, subsample, colsample_bytree)\n",
    "\n",
    "Настраиваем регуляризации ( λ , α )\n",
    "\n",
    "Уменьшаем learning_rate, пропорционально увеличиваем число деревьев"
   ]
  },
  {
   "cell_type": "code",
   "execution_count": 39,
   "id": "8bd818b6",
   "metadata": {
    "id": "rKxBoiPyF-UI"
   },
   "outputs": [],
   "source": [
    "xgb1 = XGBClassifier(\n",
    "        learning_rate=0.1,\n",
    "        n_estimators=150,\n",
    "        objective='binary:logistic',\n",
    "        nthread=4,\n",
    "        scale_pos_weight=1,\n",
    "        seed=27)"
   ]
  },
  {
   "cell_type": "markdown",
   "id": "76c51bde",
   "metadata": {
    "id": "SNlR6TTrGGor"
   },
   "source": [
    "Создадим функцию для моделирования и кросс-валидации\n",
    "\n",
    "Эта функция делает следующее:\n",
    "\n",
    "обучает модель\n",
    "\n",
    "вычисляет accuracy на тренировочной выборке\n",
    "\n",
    "вычисляет AUC на тренировочной выборке\n",
    "\n",
    "вычисляет AUC на тестовой выборке\n",
    "\n",
    "обновляет n_estimators с помощью встроенной в пакет xgboost функции cv\n",
    "\n",
    "строит диаграмму Feature Importance"
   ]
  },
  {
   "cell_type": "code",
   "execution_count": 40,
   "id": "a8b4047c",
   "metadata": {
    "id": "eaHBPp7OF3cz"
   },
   "outputs": [],
   "source": [
    "from sklearn import metrics\n",
    "\n",
    "def modelfit(alg, X_train, X_test, y_train, y_test, useTrainCV=True, cv_folds=5, early_stopping_rounds=50):\n",
    "    \n",
    "    if useTrainCV:\n",
    "        xgb_param = alg.get_xgb_params()\n",
    "        xgtrain = xgb.DMatrix(X_train.values, label=y_train.values)\n",
    "        xgtest = xgb.DMatrix(X_test.values)\n",
    "        cvresult = xgb.cv(xgb_param, xgtrain, num_boost_round=alg.get_params()['n_estimators'], nfold=cv_folds,\n",
    "            metrics='auc', early_stopping_rounds=early_stopping_rounds)\n",
    "        alg.set_params(n_estimators=cvresult.shape[0])\n",
    "    \n",
    "    #Fit the algorithm on the data\n",
    "    alg.fit(X_train, y_train, eval_metric='auc')\n",
    "        \n",
    "    #Predict training set:\n",
    "    dtrain_predictions = alg.predict(X_train)\n",
    "    dtrain_predprob = alg.predict_proba(X_train)[:,1]\n",
    "        \n",
    "    #Print model report:\n",
    "    print(\"F1-score : %.4g\" % f1_score(y_train.values, dtrain_predictions))\n",
    "    print(\"AUC Score (Train): %f\" % roc_auc_score(y_train, dtrain_predprob))\n",
    "    \n",
    "    #Predict on testing data:\n",
    "    dtest_predprob = alg.predict_proba(X_test)[:,1]\n",
    "    print('AUC Score (Test): %f' % roc_auc_score(y_test, dtest_predprob))\n",
    "                \n",
    "    feat_imp = pd.Series(alg.get_booster().get_fscore()).sort_values(ascending=False)\n",
    "    feat_imp.plot(kind='bar', title='Feature Importances')\n",
    "    plt.ylabel('Feature Importance Score')"
   ]
  },
  {
   "cell_type": "code",
   "execution_count": 41,
   "id": "58ed74f3",
   "metadata": {
    "colab": {
     "base_uri": "https://localhost:8080/",
     "height": 509
    },
    "id": "kklBQIlmF3qf",
    "outputId": "f0a32080-ece5-438a-d0fb-f70429a1a3bc"
   },
   "outputs": [
    {
     "name": "stderr",
     "output_type": "stream",
     "text": [
      "D:\\ANACONDA\\lib\\site-packages\\xgboost\\sklearn.py:793: UserWarning: `eval_metric` in `fit` method is deprecated for better compatibility with scikit-learn, use `eval_metric` in constructor or`set_params` instead.\n",
      "  warnings.warn(\n"
     ]
    },
    {
     "name": "stdout",
     "output_type": "stream",
     "text": [
      "F1-score : 0.7036\n",
      "AUC Score (Train): 0.910847\n",
      "AUC Score (Test): 0.909637\n"
     ]
    },
    {
     "data": {
      "image/png": "[encoded data removed]",
      "text/plain": [
       "<Figure size 432x288 with 1 Axes>"
      ]
     },
     "metadata": {
      "needs_background": "light"
     },
     "output_type": "display_data"
    }
   ],
   "source": [
    "modelfit(xgb1, x1_train, x1_test, y1_train, y1_test)"
   ]
  },
  {
   "cell_type": "markdown",
   "id": "798992cd",
   "metadata": {
    "id": "jT3K_otoGW2y"
   },
   "source": [
    "Перебираем max_depth и min_child_weight по сетке."
   ]
  },
  {
   "cell_type": "code",
   "execution_count": 42,
   "id": "58b09f0b",
   "metadata": {
    "colab": {
     "base_uri": "https://localhost:8080/"
    },
    "id": "oPGg4v2yGUgY",
    "outputId": "74c31bad-0bb0-49e1-db3f-7f7fb65a6dcf"
   },
   "outputs": [
    {
     "data": {
      "text/plain": [
       "GridSearchCV(cv=5,\n",
       "             estimator=XGBClassifier(base_score=None, booster=None,\n",
       "                                     callbacks=None, colsample_bylevel=None,\n",
       "                                     colsample_bynode=None,\n",
       "                                     colsample_bytree=None,\n",
       "                                     early_stopping_rounds=None,\n",
       "                                     enable_categorical=False, eval_metric=None,\n",
       "                                     gamma=None, gpu_id=None, grow_policy=None,\n",
       "                                     importance_type=None,\n",
       "                                     interaction_constraints=None,\n",
       "                                     learning_rate=0.1, max_bin=None,\n",
       "                                     max_cat_to_onehot=None,\n",
       "                                     max_delta_step=None, max_depth=None,\n",
       "                                     max_leaves=None, min_child_weight=None,\n",
       "                                     missing=nan, monotone_constraints=None,\n",
       "                                     n_estimators=150, n_jobs=None, nthread=4,\n",
       "                                     num_parallel_tree=None, predictor=None,\n",
       "                                     random_state=None, reg_alpha=None, ...),\n",
       "             n_jobs=4,\n",
       "             param_grid={'max_depth': range(3, 10, 2),\n",
       "                         'min_child_weight': range(1, 6, 2)},\n",
       "             scoring='roc_auc')"
      ]
     },
     "execution_count": 42,
     "metadata": {},
     "output_type": "execute_result"
    }
   ],
   "source": [
    "param_test1 = {\n",
    "    'max_depth':range(3,10,2),\n",
    "    'min_child_weight':range(1,6,2)\n",
    "}\n",
    "gsearch1 = GridSearchCV(estimator = XGBClassifier(learning_rate=0.1, n_estimators=150,\n",
    "                                        objective='binary:logistic', nthread=4, scale_pos_weight=1, seed=27), \n",
    "                       param_grid = param_test1, scoring='roc_auc',n_jobs=4, cv=5)\n",
    "gsearch1.fit(x1_train, y1_train)"
   ]
  },
  {
   "cell_type": "code",
   "execution_count": 43,
   "id": "71266606",
   "metadata": {
    "colab": {
     "base_uri": "https://localhost:8080/"
    },
    "id": "Y9Pai6JwGUs1",
    "outputId": "986377f0-f8b1-40f7-ae2a-d9cea6c2c7ac"
   },
   "outputs": [
    {
     "data": {
      "text/plain": [
       "({'max_depth': 9, 'min_child_weight': 5}, 0.9263144892536118)"
      ]
     },
     "execution_count": 43,
     "metadata": {},
     "output_type": "execute_result"
    }
   ],
   "source": [
    "gsearch1.best_params_, gsearch1.best_score_"
   ]
  },
  {
   "cell_type": "markdown",
   "id": "d9bcc2a5",
   "metadata": {
    "id": "hfbZxbOeGbyd"
   },
   "source": [
    "Уточняем предсказание"
   ]
  },
  {
   "cell_type": "code",
   "execution_count": 44,
   "id": "6a4fd918",
   "metadata": {
    "colab": {
     "base_uri": "https://localhost:8080/"
    },
    "id": "I-L6uRLjF31D",
    "outputId": "db9ccbe0-9b9b-47f3-f1ec-b3795f161e77"
   },
   "outputs": [
    {
     "data": {
      "text/plain": [
       "GridSearchCV(cv=5,\n",
       "             estimator=XGBClassifier(base_score=None, booster=None,\n",
       "                                     callbacks=None, colsample_bylevel=None,\n",
       "                                     colsample_bynode=None,\n",
       "                                     colsample_bytree=None,\n",
       "                                     early_stopping_rounds=None,\n",
       "                                     enable_categorical=False, eval_metric=None,\n",
       "                                     gamma=None, gpu_id=None, grow_policy=None,\n",
       "                                     importance_type=None,\n",
       "                                     interaction_constraints=None,\n",
       "                                     learning_rate=0.1, max_bin=None,\n",
       "                                     max_cat_to_onehot=None,\n",
       "                                     max_delta_step=None, max_depth=None,\n",
       "                                     max_leaves=None, min_child_weight=None,\n",
       "                                     missing=nan, monotone_constraints=None,\n",
       "                                     n_estimators=150, n_jobs=None, nthread=4,\n",
       "                                     num_parallel_tree=None, predictor=None,\n",
       "                                     random_state=None, reg_alpha=None, ...),\n",
       "             n_jobs=4,\n",
       "             param_grid={'max_depth': [8, 9, 10],\n",
       "                         'min_child_weight': [4, 5, 6]},\n",
       "             scoring='roc_auc')"
      ]
     },
     "execution_count": 44,
     "metadata": {},
     "output_type": "execute_result"
    }
   ],
   "source": [
    "param_test2 = {\n",
    "    'max_depth':[8, 9, 10],\n",
    "    'min_child_weight':[4, 5, 6]\n",
    "}\n",
    "gsearch2 = GridSearchCV(estimator = XGBClassifier(learning_rate=0.1, n_estimators=150, \n",
    "                                        objective= 'binary:logistic', nthread=4, scale_pos_weight=1,seed=27), \n",
    "                       param_grid = param_test2, scoring='roc_auc',n_jobs=4, cv=5)\n",
    "gsearch2.fit(x1_train, y1_train)"
   ]
  },
  {
   "cell_type": "code",
   "execution_count": 45,
   "id": "1402a5a7",
   "metadata": {
    "colab": {
     "base_uri": "https://localhost:8080/"
    },
    "id": "P2EJCxXlGeJ7",
    "outputId": "580b5759-2970-4a5e-fcd1-4b247fada94d"
   },
   "outputs": [
    {
     "data": {
      "text/plain": [
       "({'max_depth': 10, 'min_child_weight': 4}, 0.9306288178812782)"
      ]
     },
     "execution_count": 45,
     "metadata": {},
     "output_type": "execute_result"
    }
   ],
   "source": [
    "gsearch2.best_params_, gsearch2.best_score_"
   ]
  },
  {
   "cell_type": "markdown",
   "id": "7466d97c",
   "metadata": {
    "id": "yl-6PstdGq_o"
   },
   "source": [
    "Мы подобрали max_depth и min_child_weight - дальше будем использовать подобранные значения параметров. Подберем по сетке параметр gamma на отрезке от 0 до 1."
   ]
  },
  {
   "cell_type": "code",
   "execution_count": 46,
   "id": "aaff2aa8",
   "metadata": {
    "colab": {
     "base_uri": "https://localhost:8080/"
    },
    "id": "W8K8dLFyGo2J",
    "outputId": "5a14a71f-63bb-400b-e86e-45ec19196c51"
   },
   "outputs": [
    {
     "data": {
      "text/plain": [
       "GridSearchCV(cv=5,\n",
       "             estimator=XGBClassifier(base_score=None, booster=None,\n",
       "                                     callbacks=None, colsample_bylevel=None,\n",
       "                                     colsample_bynode=None,\n",
       "                                     colsample_bytree=None,\n",
       "                                     early_stopping_rounds=None,\n",
       "                                     enable_categorical=False, eval_metric=None,\n",
       "                                     gamma=None, gpu_id=None, grow_policy=None,\n",
       "                                     importance_type=None,\n",
       "                                     interaction_constraints=None,\n",
       "                                     learning_rate=0.1, max_bin=None,\n",
       "                                     max_cat_to_onehot=None,\n",
       "                                     max_delta_step=None, max_depth=10,\n",
       "                                     max_leaves=None, min_child_weight=4,\n",
       "                                     missing=nan, monotone_constraints=None,\n",
       "                                     n_estimators=150, n_jobs=None, nthread=4,\n",
       "                                     num_parallel_tree=None, predictor=None,\n",
       "                                     random_state=None, reg_alpha=None, ...),\n",
       "             n_jobs=4,\n",
       "             param_grid={'gamma': array([0. , 0.1, 0.2, 0.3, 0.4, 0.5, 0.6, 0.7, 0.8, 0.9, 1. ])},\n",
       "             scoring='roc_auc')"
      ]
     },
     "execution_count": 46,
     "metadata": {},
     "output_type": "execute_result"
    }
   ],
   "source": [
    "param_test3 = {\n",
    "    'gamma': np.arange(0.0, 1.1, 0.1)\n",
    "}\n",
    "gsearch3 = GridSearchCV(estimator = XGBClassifier(learning_rate=0.1, n_estimators=150, max_depth=gsearch2.best_params_['max_depth'],\n",
    "                         min_child_weight = gsearch2.best_params_['min_child_weight'], objective='binary:logistic', nthread=4, scale_pos_weight=1,seed=27), \n",
    "                         param_grid = param_test3, scoring='roc_auc',n_jobs=4, cv=5)\n",
    "gsearch3.fit(x1_train, y1_train)"
   ]
  },
  {
   "cell_type": "code",
   "execution_count": 47,
   "id": "f8563a19",
   "metadata": {
    "colab": {
     "base_uri": "https://localhost:8080/"
    },
    "id": "AymYgY7FGpBK",
    "outputId": "b1c62202-aa95-4b2e-98b1-955a3754d656"
   },
   "outputs": [
    {
     "data": {
      "text/plain": [
       "({'gamma': 0.4}, 0.9314098350752584)"
      ]
     },
     "execution_count": 47,
     "metadata": {},
     "output_type": "execute_result"
    }
   ],
   "source": [
    "gsearch3.best_params_, gsearch3.best_score_"
   ]
  },
  {
   "cell_type": "markdown",
   "id": "e5f5a6ea",
   "metadata": {
    "id": "R0Ce2HQwG36f"
   },
   "source": [
    "Подберем по сетке параметры subsample и colsample_bytree. Используем значения этих параметров: [0.6,0.7,0.8,0.9,1.]"
   ]
  },
  {
   "cell_type": "code",
   "execution_count": 48,
   "id": "fed59d6b",
   "metadata": {
    "colab": {
     "base_uri": "https://localhost:8080/"
    },
    "id": "WV-qDguWG0Ro",
    "outputId": "16a7efd8-fa3c-4675-eb87-1afa80eb23ed"
   },
   "outputs": [
    {
     "data": {
      "text/plain": [
       "GridSearchCV(cv=5,\n",
       "             estimator=XGBClassifier(base_score=None, booster=None,\n",
       "                                     callbacks=None, colsample_bylevel=None,\n",
       "                                     colsample_bynode=None,\n",
       "                                     colsample_bytree=None,\n",
       "                                     early_stopping_rounds=None,\n",
       "                                     enable_categorical=False, eval_metric=None,\n",
       "                                     gamma=0.4, gpu_id=None, grow_policy=None,\n",
       "                                     importance_type=None,\n",
       "                                     interaction_constraints=None,\n",
       "                                     learning_rate=0.1, max_bin=None,\n",
       "                                     max_cat_to_onehot=None,\n",
       "                                     max_delta_step=None, max_depth=10,\n",
       "                                     max_leaves=None, min_child_weight=4,\n",
       "                                     missing=nan, monotone_constraints=None,\n",
       "                                     n_estimators=150, n_jobs=None, nthread=4,\n",
       "                                     num_parallel_tree=None, predictor=None,\n",
       "                                     random_state=None, reg_alpha=None, ...),\n",
       "             n_jobs=4,\n",
       "             param_grid={'colsample_bytree': [0.6, 0.7, 0.8, 0.9],\n",
       "                         'subsample': [0.6, 0.7, 0.8, 0.9]},\n",
       "             scoring='roc_auc')"
      ]
     },
     "execution_count": 48,
     "metadata": {},
     "output_type": "execute_result"
    }
   ],
   "source": [
    "param_test4 = {\n",
    "    'subsample': [i / 10.0 for i in range(6, 10)],\n",
    "    'colsample_bytree': [i / 10.0 for i in range(6, 10)]\n",
    "} \n",
    "\n",
    "gsearch4 = GridSearchCV(estimator = XGBClassifier(learning_rate=0.1, n_estimators=150, max_depth=gsearch2.best_params_['max_depth'],\n",
    "                                                   min_child_weight = gsearch2.best_params_['min_child_weight'], gamma = gsearch3.best_params_['gamma'], objective= 'binary:logistic', nthread=4, scale_pos_weight=1,seed=27), \n",
    "                         param_grid = param_test4, scoring='roc_auc',n_jobs=4, cv=5)\n",
    "gsearch4.fit(x1_train, y1_train)"
   ]
  },
  {
   "cell_type": "code",
   "execution_count": 49,
   "id": "deb5a6c6",
   "metadata": {
    "colab": {
     "base_uri": "https://localhost:8080/"
    },
    "id": "3DYf8m4ZG0dN",
    "outputId": "d5c5cf6e-5ed1-480b-dd88-3b9fae612a4f"
   },
   "outputs": [
    {
     "data": {
      "text/plain": [
       "({'colsample_bytree': 0.9, 'subsample': 0.9}, 0.9306330262204068)"
      ]
     },
     "execution_count": 49,
     "metadata": {},
     "output_type": "execute_result"
    }
   ],
   "source": [
    "gsearch4.best_params_, gsearch4.best_score_"
   ]
  },
  {
   "cell_type": "markdown",
   "id": "22ac8610",
   "metadata": {
    "id": "PDaVS8OiG-a4"
   },
   "source": [
    "Подберем параметр регуляризации reg_alpha. Попробуем [1e-5, 1e-2, 0.1, 1, 100]"
   ]
  },
  {
   "cell_type": "code",
   "execution_count": 52,
   "id": "d4fcd3eb",
   "metadata": {
    "colab": {
     "base_uri": "https://localhost:8080/"
    },
    "id": "k3jdi3DoG81P",
    "outputId": "862a9560-6ae9-4765-d8e8-c0a288f40bd0"
   },
   "outputs": [
    {
     "data": {
      "text/plain": [
       "GridSearchCV(cv=5,\n",
       "             estimator=XGBClassifier(base_score=None, booster=None,\n",
       "                                     callbacks=None, colsample_bylevel=None,\n",
       "                                     colsample_bynode=None,\n",
       "                                     colsample_bytree=0.9,\n",
       "                                     early_stopping_rounds=None,\n",
       "                                     enable_categorical=False, eval_metric=None,\n",
       "                                     gamma=0.4, gpu_id=None, grow_policy=None,\n",
       "                                     importance_type=None,\n",
       "                                     interaction_constraints=None,\n",
       "                                     learning_rate=0.1, max_bin=None,\n",
       "                                     max_cat_to_onehot=None,\n",
       "                                     max_delta_step=None, max_depth=10,\n",
       "                                     max_leaves=None, min_child_weight=4,\n",
       "                                     missing=nan, monotone_constraints=None,\n",
       "                                     n_estimators=150, n_jobs=None, nthread=4,\n",
       "                                     num_parallel_tree=None, predictor=None,\n",
       "                                     random_state=None, reg_alpha=None, ...),\n",
       "             n_jobs=4, param_grid={'reg_alpha': [1e-05, 0.01, 0.1, 1, 100]},\n",
       "             scoring='roc_auc')"
      ]
     },
     "execution_count": 52,
     "metadata": {},
     "output_type": "execute_result"
    }
   ],
   "source": [
    "param_test5 = {\n",
    "    'reg_alpha': [1e-5, 1e-2, 0.1, 1, 100]\n",
    "} \n",
    " \n",
    "gsearch5 = GridSearchCV(estimator = XGBClassifier(learning_rate=0.1, n_estimators=150, max_depth=gsearch2.best_params_['max_depth'],\n",
    "                                                   min_child_weight = gsearch2.best_params_['min_child_weight'], gamma = gsearch3.best_params_['gamma'], objective='binary:logistic', nthread=4, scale_pos_weight=1,seed=27,\n",
    "                                                  subsample = gsearch4.best_params_['subsample'], colsample_bytree = gsearch4.best_params_['colsample_bytree']),\n",
    "                         param_grid = param_test5, scoring='roc_auc',n_jobs=4, cv=5)\n",
    "gsearch5.fit(x1_train, y1_train)"
   ]
  },
  {
   "cell_type": "code",
   "execution_count": 53,
   "id": "bfbcf890",
   "metadata": {
    "colab": {
     "base_uri": "https://localhost:8080/"
    },
    "id": "vWzGsQ7AG9AO",
    "outputId": "96faca67-5394-4582-ea38-024da51d506c"
   },
   "outputs": [
    {
     "data": {
      "text/plain": [
       "({'reg_alpha': 0.1}, 0.931499993527669)"
      ]
     },
     "execution_count": 53,
     "metadata": {},
     "output_type": "execute_result"
    }
   ],
   "source": [
    "gsearch5.best_params_, gsearch5.best_score_"
   ]
  },
  {
   "cell_type": "markdown",
   "id": "0b33a414",
   "metadata": {
    "id": "mu3eggE-HGCc"
   },
   "source": [
    "Запустим обучение и предсказание на найденных параметрах и посмотрим на качество."
   ]
  },
  {
   "cell_type": "code",
   "execution_count": 54,
   "id": "5bf1ee1e",
   "metadata": {
    "colab": {
     "base_uri": "https://localhost:8080/",
     "height": 509
    },
    "id": "-qYHUeg_G9VM",
    "outputId": "7f0179cc-3c2d-443f-ab03-1a8028d4b04b"
   },
   "outputs": [
    {
     "name": "stderr",
     "output_type": "stream",
     "text": [
      "D:\\ANACONDA\\lib\\site-packages\\xgboost\\sklearn.py:793: UserWarning: `eval_metric` in `fit` method is deprecated for better compatibility with scikit-learn, use `eval_metric` in constructor or`set_params` instead.\n",
      "  warnings.warn(\n"
     ]
    },
    {
     "name": "stdout",
     "output_type": "stream",
     "text": [
      "F1-score : 0.7642\n",
      "AUC Score (Train): 0.940750\n",
      "AUC Score (Test): 0.932679\n"
     ]
    },
    {
     "data": {
      "image/png": "[encoded data removed]",
      "text/plain": [
       "<Figure size 432x288 with 1 Axes>"
      ]
     },
     "metadata": {
      "needs_background": "light"
     },
     "output_type": "display_data"
    }
   ],
   "source": [
    "xgb3 = XGBClassifier(\n",
    "        learning_rate=0.1,     \n",
    "        n_estimators=150,   \n",
    "        max_depth=gsearch2.best_params_['max_depth'],\n",
    "        min_child_weight=gsearch2.best_params_['min_child_weight'],\n",
    "        gamma=gsearch3.best_params_['gamma'],\n",
    "        subsample=gsearch4.best_params_['subsample'],\n",
    "        colsample_bytree=gsearch4.best_params_['colsample_bytree'],\n",
    "        reg_alpha=gsearch5.best_params_['reg_alpha'],\n",
    "        objective='binary:logistic',\n",
    "        nthread=4,\n",
    "        scale_pos_weight=1,\n",
    "        seed=27)\n",
    "modelfit(xgb3, x1_train, x1_test, y1_train, y1_test)"
   ]
  },
  {
   "cell_type": "markdown",
   "id": "b45304f2",
   "metadata": {
    "id": "RD2YWVsIHKbP"
   },
   "source": [
    "Уменьшим learning_rate до 0.01 и пропорционально увеличим число деревьев. Все подобранные параметры остаются такими же."
   ]
  },
  {
   "cell_type": "code",
   "execution_count": 55,
   "id": "605945e4",
   "metadata": {},
   "outputs": [
    {
     "name": "stderr",
     "output_type": "stream",
     "text": [
      "D:\\ANACONDA\\lib\\site-packages\\xgboost\\sklearn.py:793: UserWarning: `eval_metric` in `fit` method is deprecated for better compatibility with scikit-learn, use `eval_metric` in constructor or`set_params` instead.\n",
      "  warnings.warn(\n"
     ]
    },
    {
     "name": "stdout",
     "output_type": "stream",
     "text": [
      "F1-score : 0.7611\n",
      "AUC Score (Train): 0.939089\n",
      "AUC Score (Test): 0.931239\n"
     ]
    },
    {
     "data": {
      "image/png": "[encoded data removed]",
      "text/plain": [
       "<Figure size 432x288 with 1 Axes>"
      ]
     },
     "metadata": {
      "needs_background": "light"
     },
     "output_type": "display_data"
    }
   ],
   "source": [
    "xgb3 = XGBClassifier(\n",
    "        learning_rate=0.01,     \n",
    "        n_estimators=1500,   \n",
    "        max_depth=gsearch2.best_params_['max_depth'],\n",
    "        min_child_weight=gsearch2.best_params_['min_child_weight'],\n",
    "        gamma=gsearch3.best_params_['gamma'],\n",
    "        subsample=gsearch4.best_params_['subsample'],\n",
    "        colsample_bytree=gsearch4.best_params_['colsample_bytree'],\n",
    "        reg_alpha=gsearch5.best_params_['reg_alpha'],\n",
    "        objective='binary:logistic',  \n",
    "        nthread=4,\n",
    "        scale_pos_weight=1,\n",
    "        seed=27)\n",
    "modelfit(xgb3, x1_train, x1_test, y1_train, y1_test)"
   ]
  },
  {
   "cell_type": "markdown",
   "id": "813987ff",
   "metadata": {
    "id": "Ya9oS4kfHZdb"
   },
   "source": [
    "### Модели для Таргета 2"
   ]
  },
  {
   "cell_type": "markdown",
   "id": "c62a10fe",
   "metadata": {
    "id": "2943c17d"
   },
   "source": [
    "#### Линейная классификация"
   ]
  },
  {
   "cell_type": "code",
   "execution_count": null,
   "id": "c9109e16",
   "metadata": {
    "id": "e14fb9ed"
   },
   "outputs": [],
   "source": [
    "#нормируем данные\n",
    "from sklearn.linear_model import LinearRegression\n",
    "from sklearn.preprocessing import StandardScaler\n",
    "\n",
    "scaler = StandardScaler()\n",
    "x2_train_1 = scaler.fit_transform(x2_train)\n",
    "x2_test_1 = scaler.transform(x2_test)\n",
    "\n",
    "clf_lr = LinearRegression()\n",
    "clf_lr.fit(x2_train_1, y2_train)\n",
    "\n",
    "y2_pred_test = clf_lr.predict(x2_test_1)\n",
    "y2_pred_train = clf_lr.predict(x2_train_1)"
   ]
  },
  {
   "cell_type": "code",
   "execution_count": null,
   "id": "90db55f4",
   "metadata": {
    "colab": {
     "base_uri": "https://localhost:8080/"
    },
    "id": "ef4a907c",
    "outputId": "8c69a265-58ac-4a44-b188-479a4a9ce8a3"
   },
   "outputs": [
    {
     "data": {
      "text/plain": [
       "0"
      ]
     },
     "execution_count": 11,
     "metadata": {},
     "output_type": "execute_result"
    }
   ],
   "source": [
    "(y2_pred_test > 0.5).sum()"
   ]
  },
  {
   "cell_type": "code",
   "execution_count": null,
   "id": "e3a06e24",
   "metadata": {
    "colab": {
     "base_uri": "https://localhost:8080/"
    },
    "id": "79ff297c",
    "outputId": "7d95dae1-7e6f-46d7-df52-563bca61d5b0"
   },
   "outputs": [
    {
     "data": {
      "text/plain": [
       "Target2    630494\n",
       "dtype: int64"
      ]
     },
     "execution_count": 12,
     "metadata": {},
     "output_type": "execute_result"
    }
   ],
   "source": [
    "(y2_train == 0).sum()"
   ]
  },
  {
   "cell_type": "code",
   "execution_count": null,
   "id": "b6bbc6a4",
   "metadata": {
    "colab": {
     "base_uri": "https://localhost:8080/"
    },
    "id": "62a87454",
    "outputId": "89fae533-5e00-4433-e7c6-bc571ebde7d0"
   },
   "outputs": [
    {
     "data": {
      "text/plain": [
       "Target2    59339\n",
       "dtype: int64"
      ]
     },
     "execution_count": 13,
     "metadata": {},
     "output_type": "execute_result"
    }
   ],
   "source": [
    "(y2_train == 1).sum()"
   ]
  },
  {
   "cell_type": "code",
   "execution_count": null,
   "id": "0cbd38a4",
   "metadata": {
    "colab": {
     "base_uri": "https://localhost:8080/"
    },
    "id": "e5210209",
    "outputId": "94ac416e-5565-4ea0-c6b7-4001758baca3",
    "scrolled": true
   },
   "outputs": [
    {
     "name": "stdout",
     "output_type": "stream",
     "text": [
      "accuracy for train:  0.9139806300945301\n",
      "accuracy for test:  0.9152866285126706\n"
     ]
    }
   ],
   "source": [
    "from sklearn.metrics import accuracy_score\n",
    "\n",
    "print(\"accuracy for train: \", accuracy_score(y2_train, y2_pred_train > 0.5))\n",
    "print(\"accuracy for test: \", accuracy_score(y2_test, y2_pred_test > 0.5))"
   ]
  },
  {
   "cell_type": "code",
   "execution_count": null,
   "id": "fc355da1",
   "metadata": {
    "colab": {
     "base_uri": "https://localhost:8080/"
    },
    "id": "a52f14ca",
    "outputId": "8426e044-1724-414a-a4d4-cc53679d6920",
    "scrolled": true
   },
   "outputs": [
    {
     "name": "stdout",
     "output_type": "stream",
     "text": [
      "f1 score for train:  0.0\n",
      "f1 score for train:  0.0\n",
      "roc_auc_score for train:  0.7463878210797943\n",
      "roc_auc_score for train:  0.7478783705389117\n"
     ]
    }
   ],
   "source": [
    "print(\"f1 score for train: \", f1_score(y2_train, y2_pred_train > 0.5))\n",
    "print(\"f1 score for train: \", f1_score(y2_test, y2_pred_test > 0.5))\n",
    "print(\"roc_auc_score for train: \", roc_auc_score(y2_train, y2_pred_train))\n",
    "print(\"roc_auc_score for train: \", roc_auc_score(y2_test, y2_pred_test))"
   ]
  },
  {
   "cell_type": "code",
   "execution_count": null,
   "id": "13b457ff",
   "metadata": {
    "colab": {
     "base_uri": "https://localhost:8080/",
     "height": 350
    },
    "id": "0e6fb692",
    "outputId": "a7a585cb-5a44-42ae-da57-e4ce3ab77114",
    "scrolled": true
   },
   "outputs": [
    {
     "data": {
      "image/png": "[encoded data removed]",
      "text/plain": [
       "<Figure size 576x360 with 1 Axes>"
      ]
     },
     "metadata": {
      "needs_background": "light"
     },
     "output_type": "display_data"
    }
   ],
   "source": [
    "fpr2, tpr2, _ = roc_curve(y2_test, y2_pred_test, drop_intermediate=False)\n",
    "\n",
    "plt.figure(figsize=(8, 5))\n",
    "plt.clf()\n",
    "plt.plot(fpr2, tpr2)\n",
    "plt.plot(fpr2, fpr2)\n",
    "plt.xlabel('FPR')\n",
    "plt.ylabel('TPR')\n",
    "plt.title('ROC curve linear regression for Target2')\n",
    "plt.show()"
   ]
  },
  {
   "cell_type": "markdown",
   "id": "24fe4c93",
   "metadata": {
    "id": "-FUKrqbUIRvU"
   },
   "source": [
    "#### Деревой решений"
   ]
  },
  {
   "cell_type": "code",
   "execution_count": null,
   "id": "a8931fde",
   "metadata": {
    "colab": {
     "base_uri": "https://localhost:8080/"
    },
    "id": "f2f2dgbpJiWM",
    "outputId": "e719566a-ac88-426c-dae9-0c6b6267a268"
   },
   "outputs": [
    {
     "name": "stdout",
     "output_type": "stream",
     "text": [
      "Fitting 5 folds for each of 100 candidates, totalling 500 fits\n",
      "[CV 1/5] END criterion=gini, max_depth=4, max_features=sqrt, min_samples_leaf=7, min_samples_split=6, splitter=best;, score=0.920 total time=   0.5s\n",
      "[CV 2/5] END criterion=gini, max_depth=4, max_features=sqrt, min_samples_leaf=7, min_samples_split=6, splitter=best;, score=0.914 total time=   0.5s\n",
      "[CV 3/5] END criterion=gini, max_depth=4, max_features=sqrt, min_samples_leaf=7, min_samples_split=6, splitter=best;, score=0.914 total time=   0.4s\n",
      "[CV 4/5] END criterion=gini, max_depth=4, max_features=sqrt, min_samples_leaf=7, min_samples_split=6, splitter=best;, score=0.914 total time=   0.4s\n",
      "[CV 5/5] END criterion=gini, max_depth=4, max_features=sqrt, min_samples_leaf=7, min_samples_split=6, splitter=best;, score=0.914 total time=   0.5s\n",
      "[CV 1/5] END criterion=entropy, max_depth=4, max_features=log2, min_samples_leaf=5, min_samples_split=6, splitter=best;, score=0.916 total time=   0.5s\n",
      "[CV 2/5] END criterion=entropy, max_depth=4, max_features=log2, min_samples_leaf=5, min_samples_split=6, splitter=best;, score=0.914 total time=   0.5s\n",
      "[CV 3/5] END criterion=entropy, max_depth=4, max_features=log2, min_samples_leaf=5, min_samples_split=6, splitter=best;, score=0.914 total time=   0.4s\n",
      "[CV 4/5] END criterion=entropy, max_depth=4, max_features=log2, min_samples_leaf=5, min_samples_split=6, splitter=best;, score=0.914 total time=   0.5s\n",
      "[CV 5/5] END criterion=entropy, max_depth=4, max_features=log2, min_samples_leaf=5, min_samples_split=6, splitter=best;, score=0.915 total time=   0.5s\n",
      "[CV 1/5] END criterion=entropy, max_depth=6, max_features=log2, min_samples_leaf=3, min_samples_split=1, splitter=best;, score=nan total time=   0.2s\n",
      "[CV 2/5] END criterion=entropy, max_depth=6, max_features=log2, min_samples_leaf=3, min_samples_split=1, splitter=best;, score=nan total time=   0.2s\n",
      "[CV 3/5] END criterion=entropy, max_depth=6, max_features=log2, min_samples_leaf=3, min_samples_split=1, splitter=best;, score=nan total time=   0.2s\n",
      "[CV 4/5] END criterion=entropy, max_depth=6, max_features=log2, min_samples_leaf=3, min_samples_split=1, splitter=best;, score=nan total time=   0.2s\n",
      "[CV 5/5] END criterion=entropy, max_depth=6, max_features=log2, min_samples_leaf=3, min_samples_split=1, splitter=best;, score=nan total time=   0.2s\n",
      "[CV 1/5] END criterion=gini, max_depth=7, max_features=log2, min_samples_leaf=5, min_samples_split=6, splitter=random;, score=0.914 total time=   0.5s\n",
      "[CV 2/5] END criterion=gini, max_depth=7, max_features=log2, min_samples_leaf=5, min_samples_split=6, splitter=random;, score=0.914 total time=   0.5s\n",
      "[CV 3/5] END criterion=gini, max_depth=7, max_features=log2, min_samples_leaf=5, min_samples_split=6, splitter=random;, score=0.914 total time=   0.4s\n",
      "[CV 4/5] END criterion=gini, max_depth=7, max_features=log2, min_samples_leaf=5, min_samples_split=6, splitter=random;, score=0.914 total time=   0.5s\n",
      "[CV 5/5] END criterion=gini, max_depth=7, max_features=log2, min_samples_leaf=5, min_samples_split=6, splitter=random;, score=0.914 total time=   0.5s\n",
      "[CV 1/5] END criterion=log_loss, max_depth=8, max_features=sqrt, min_samples_leaf=5, min_samples_split=1, splitter=random;, score=nan total time=   0.2s\n",
      "[CV 2/5] END criterion=log_loss, max_depth=8, max_features=sqrt, min_samples_leaf=5, min_samples_split=1, splitter=random;, score=nan total time=   0.2s\n",
      "[CV 3/5] END criterion=log_loss, max_depth=8, max_features=sqrt, min_samples_leaf=5, min_samples_split=1, splitter=random;, score=nan total time=   0.2s\n",
      "[CV 4/5] END criterion=log_loss, max_depth=8, max_features=sqrt, min_samples_leaf=5, min_samples_split=1, splitter=random;, score=nan total time=   0.2s\n",
      "[CV 5/5] END criterion=log_loss, max_depth=8, max_features=sqrt, min_samples_leaf=5, min_samples_split=1, splitter=random;, score=nan total time=   0.2s\n",
      "[CV 1/5] END criterion=gini, max_depth=4, max_features=sqrt, min_samples_leaf=1, min_samples_split=8, splitter=best;, score=0.914 total time=   0.5s\n",
      "[CV 2/5] END criterion=gini, max_depth=4, max_features=sqrt, min_samples_leaf=1, min_samples_split=8, splitter=best;, score=0.914 total time=   0.5s\n",
      "[CV 3/5] END criterion=gini, max_depth=4, max_features=sqrt, min_samples_leaf=1, min_samples_split=8, splitter=best;, score=0.921 total time=   0.5s\n",
      "[CV 4/5] END criterion=gini, max_depth=4, max_features=sqrt, min_samples_leaf=1, min_samples_split=8, splitter=best;, score=0.914 total time=   0.5s\n",
      "[CV 5/5] END criterion=gini, max_depth=4, max_features=sqrt, min_samples_leaf=1, min_samples_split=8, splitter=best;, score=0.914 total time=   0.6s\n",
      "[CV 1/5] END criterion=entropy, max_depth=8, max_features=sqrt, min_samples_leaf=3, min_samples_split=8, splitter=best;, score=0.915 total time=   0.7s\n",
      "[CV 2/5] END criterion=entropy, max_depth=8, max_features=sqrt, min_samples_leaf=3, min_samples_split=8, splitter=best;, score=0.915 total time=   0.7s\n",
      "[CV 3/5] END criterion=entropy, max_depth=8, max_features=sqrt, min_samples_leaf=3, min_samples_split=8, splitter=best;, score=0.921 total time=   0.8s\n",
      "[CV 4/5] END criterion=entropy, max_depth=8, max_features=sqrt, min_samples_leaf=3, min_samples_split=8, splitter=best;, score=0.916 total time=   0.8s\n",
      "[CV 5/5] END criterion=entropy, max_depth=8, max_features=sqrt, min_samples_leaf=3, min_samples_split=8, splitter=best;, score=0.924 total time=   0.7s\n",
      "[CV 1/5] END criterion=log_loss, max_depth=12, max_features=sqrt, min_samples_leaf=5, min_samples_split=2, splitter=best;, score=nan total time=   0.2s\n",
      "[CV 2/5] END criterion=log_loss, max_depth=12, max_features=sqrt, min_samples_leaf=5, min_samples_split=2, splitter=best;, score=nan total time=   0.2s\n",
      "[CV 3/5] END criterion=log_loss, max_depth=12, max_features=sqrt, min_samples_leaf=5, min_samples_split=2, splitter=best;, score=nan total time=   0.2s\n",
      "[CV 4/5] END criterion=log_loss, max_depth=12, max_features=sqrt, min_samples_leaf=5, min_samples_split=2, splitter=best;, score=nan total time=   0.2s\n",
      "[CV 5/5] END criterion=log_loss, max_depth=12, max_features=sqrt, min_samples_leaf=5, min_samples_split=2, splitter=best;, score=nan total time=   0.2s\n",
      "[CV 1/5] END criterion=gini, max_depth=10, max_features=None, min_samples_leaf=5, min_samples_split=4, splitter=random;, score=0.931 total time=   1.7s\n",
      "[CV 2/5] END criterion=gini, max_depth=10, max_features=None, min_samples_leaf=5, min_samples_split=4, splitter=random;, score=0.920 total time=   1.6s\n",
      "[CV 3/5] END criterion=gini, max_depth=10, max_features=None, min_samples_leaf=5, min_samples_split=4, splitter=random;, score=0.923 total time=   1.6s\n",
      "[CV 4/5] END criterion=gini, max_depth=10, max_features=None, min_samples_leaf=5, min_samples_split=4, splitter=random;, score=0.923 total time=   1.4s\n",
      "[CV 5/5] END criterion=gini, max_depth=10, max_features=None, min_samples_leaf=5, min_samples_split=4, splitter=random;, score=0.937 total time=   1.6s\n",
      "[CV 1/5] END criterion=log_loss, max_depth=7, max_features=log2, min_samples_leaf=7, min_samples_split=6, splitter=best;, score=nan total time=   0.2s\n",
      "[CV 2/5] END criterion=log_loss, max_depth=7, max_features=log2, min_samples_leaf=7, min_samples_split=6, splitter=best;, score=nan total time=   0.2s\n",
      "[CV 3/5] END criterion=log_loss, max_depth=7, max_features=log2, min_samples_leaf=7, min_samples_split=6, splitter=best;, score=nan total time=   0.2s\n",
      "[CV 4/5] END criterion=log_loss, max_depth=7, max_features=log2, min_samples_leaf=7, min_samples_split=6, splitter=best;, score=nan total time=   0.2s\n",
      "[CV 5/5] END criterion=log_loss, max_depth=7, max_features=log2, min_samples_leaf=7, min_samples_split=6, splitter=best;, score=nan total time=   0.2s\n",
      "[CV 1/5] END criterion=log_loss, max_depth=4, max_features=sqrt, min_samples_leaf=1, min_samples_split=8, splitter=best;, score=nan total time=   0.2s\n",
      "[CV 2/5] END criterion=log_loss, max_depth=4, max_features=sqrt, min_samples_leaf=1, min_samples_split=8, splitter=best;, score=nan total time=   0.2s\n",
      "[CV 3/5] END criterion=log_loss, max_depth=4, max_features=sqrt, min_samples_leaf=1, min_samples_split=8, splitter=best;, score=nan total time=   0.2s\n",
      "[CV 4/5] END criterion=log_loss, max_depth=4, max_features=sqrt, min_samples_leaf=1, min_samples_split=8, splitter=best;, score=nan total time=   0.2s\n",
      "[CV 5/5] END criterion=log_loss, max_depth=4, max_features=sqrt, min_samples_leaf=1, min_samples_split=8, splitter=best;, score=nan total time=   0.2s\n",
      "[CV 1/5] END criterion=entropy, max_depth=8, max_features=None, min_samples_leaf=3, min_samples_split=1, splitter=random;, score=nan total time=   0.2s\n",
      "[CV 2/5] END criterion=entropy, max_depth=8, max_features=None, min_samples_leaf=3, min_samples_split=1, splitter=random;, score=nan total time=   0.2s\n",
      "[CV 3/5] END criterion=entropy, max_depth=8, max_features=None, min_samples_leaf=3, min_samples_split=1, splitter=random;, score=nan total time=   0.2s\n",
      "[CV 4/5] END criterion=entropy, max_depth=8, max_features=None, min_samples_leaf=3, min_samples_split=1, splitter=random;, score=nan total time=   0.2s\n",
      "[CV 5/5] END criterion=entropy, max_depth=8, max_features=None, min_samples_leaf=3, min_samples_split=1, splitter=random;, score=nan total time=   0.2s\n",
      "[CV 1/5] END criterion=gini, max_depth=7, max_features=sqrt, min_samples_leaf=7, min_samples_split=1, splitter=best;, score=nan total time=   0.2s\n",
      "[CV 2/5] END criterion=gini, max_depth=7, max_features=sqrt, min_samples_leaf=7, min_samples_split=1, splitter=best;, score=nan total time=   0.2s\n",
      "[CV 3/5] END criterion=gini, max_depth=7, max_features=sqrt, min_samples_leaf=7, min_samples_split=1, splitter=best;, score=nan total time=   0.2s\n",
      "[CV 4/5] END criterion=gini, max_depth=7, max_features=sqrt, min_samples_leaf=7, min_samples_split=1, splitter=best;, score=nan total time=   0.2s\n",
      "[CV 5/5] END criterion=gini, max_depth=7, max_features=sqrt, min_samples_leaf=7, min_samples_split=1, splitter=best;, score=nan total time=   0.2s\n",
      "[CV 1/5] END criterion=log_loss, max_depth=7, max_features=None, min_samples_leaf=5, min_samples_split=6, splitter=random;, score=nan total time=   0.2s\n",
      "[CV 2/5] END criterion=log_loss, max_depth=7, max_features=None, min_samples_leaf=5, min_samples_split=6, splitter=random;, score=nan total time=   0.2s\n",
      "[CV 3/5] END criterion=log_loss, max_depth=7, max_features=None, min_samples_leaf=5, min_samples_split=6, splitter=random;, score=nan total time=   0.2s\n",
      "[CV 4/5] END criterion=log_loss, max_depth=7, max_features=None, min_samples_leaf=5, min_samples_split=6, splitter=random;, score=nan total time=   0.2s\n",
      "[CV 5/5] END criterion=log_loss, max_depth=7, max_features=None, min_samples_leaf=5, min_samples_split=6, splitter=random;, score=nan total time=   0.2s\n",
      "[CV 1/5] END criterion=log_loss, max_depth=12, max_features=None, min_samples_leaf=3, min_samples_split=2, splitter=best;, score=nan total time=   0.2s\n",
      "[CV 2/5] END criterion=log_loss, max_depth=12, max_features=None, min_samples_leaf=3, min_samples_split=2, splitter=best;, score=nan total time=   0.2s\n",
      "[CV 3/5] END criterion=log_loss, max_depth=12, max_features=None, min_samples_leaf=3, min_samples_split=2, splitter=best;, score=nan total time=   0.2s\n",
      "[CV 4/5] END criterion=log_loss, max_depth=12, max_features=None, min_samples_leaf=3, min_samples_split=2, splitter=best;, score=nan total time=   0.2s\n",
      "[CV 5/5] END criterion=log_loss, max_depth=12, max_features=None, min_samples_leaf=3, min_samples_split=2, splitter=best;, score=nan total time=   0.2s\n",
      "[CV 1/5] END criterion=entropy, max_depth=12, max_features=sqrt, min_samples_leaf=3, min_samples_split=8, splitter=random;, score=0.916 total time=   0.7s\n",
      "[CV 2/5] END criterion=entropy, max_depth=12, max_features=sqrt, min_samples_leaf=3, min_samples_split=8, splitter=random;, score=0.914 total time=   0.7s\n",
      "[CV 3/5] END criterion=entropy, max_depth=12, max_features=sqrt, min_samples_leaf=3, min_samples_split=8, splitter=random;, score=0.914 total time=   0.6s\n",
      "[CV 4/5] END criterion=entropy, max_depth=12, max_features=sqrt, min_samples_leaf=3, min_samples_split=8, splitter=random;, score=0.915 total time=   0.7s\n",
      "[CV 5/5] END criterion=entropy, max_depth=12, max_features=sqrt, min_samples_leaf=3, min_samples_split=8, splitter=random;, score=0.915 total time=   0.7s\n",
      "[CV 1/5] END criterion=entropy, max_depth=2, max_features=log2, min_samples_leaf=5, min_samples_split=1, splitter=random;, score=nan total time=   0.2s\n",
      "[CV 2/5] END criterion=entropy, max_depth=2, max_features=log2, min_samples_leaf=5, min_samples_split=1, splitter=random;, score=nan total time=   0.2s\n",
      "[CV 3/5] END criterion=entropy, max_depth=2, max_features=log2, min_samples_leaf=5, min_samples_split=1, splitter=random;, score=nan total time=   0.2s\n",
      "[CV 4/5] END criterion=entropy, max_depth=2, max_features=log2, min_samples_leaf=5, min_samples_split=1, splitter=random;, score=nan total time=   0.2s\n",
      "[CV 5/5] END criterion=entropy, max_depth=2, max_features=log2, min_samples_leaf=5, min_samples_split=1, splitter=random;, score=nan total time=   0.2s\n",
      "[CV 1/5] END criterion=gini, max_depth=6, max_features=sqrt, min_samples_leaf=1, min_samples_split=2, splitter=best;, score=0.922 total time=   0.6s\n",
      "[CV 2/5] END criterion=gini, max_depth=6, max_features=sqrt, min_samples_leaf=1, min_samples_split=2, splitter=best;, score=0.915 total time=   0.7s\n",
      "[CV 3/5] END criterion=gini, max_depth=6, max_features=sqrt, min_samples_leaf=1, min_samples_split=2, splitter=best;, score=0.915 total time=   0.7s\n",
      "[CV 4/5] END criterion=gini, max_depth=6, max_features=sqrt, min_samples_leaf=1, min_samples_split=2, splitter=best;, score=0.914 total time=   0.6s\n",
      "[CV 5/5] END criterion=gini, max_depth=6, max_features=sqrt, min_samples_leaf=1, min_samples_split=2, splitter=best;, score=0.914 total time=   0.8s\n",
      "[CV 1/5] END criterion=entropy, max_depth=10, max_features=sqrt, min_samples_leaf=7, min_samples_split=2, splitter=random;, score=0.914 total time=   0.6s\n",
      "[CV 2/5] END criterion=entropy, max_depth=10, max_features=sqrt, min_samples_leaf=7, min_samples_split=2, splitter=random;, score=0.914 total time=   0.6s\n",
      "[CV 3/5] END criterion=entropy, max_depth=10, max_features=sqrt, min_samples_leaf=7, min_samples_split=2, splitter=random;, score=0.916 total time=   0.6s\n",
      "[CV 4/5] END criterion=entropy, max_depth=10, max_features=sqrt, min_samples_leaf=7, min_samples_split=2, splitter=random;, score=0.919 total time=   0.6s\n",
      "[CV 5/5] END criterion=entropy, max_depth=10, max_features=sqrt, min_samples_leaf=7, min_samples_split=2, splitter=random;, score=0.914 total time=   0.5s\n",
      "[CV 1/5] END criterion=gini, max_depth=10, max_features=sqrt, min_samples_leaf=1, min_samples_split=8, splitter=random;, score=0.914 total time=   0.6s\n",
      "[CV 2/5] END criterion=gini, max_depth=10, max_features=sqrt, min_samples_leaf=1, min_samples_split=8, splitter=random;, score=0.914 total time=   0.6s\n",
      "[CV 3/5] END criterion=gini, max_depth=10, max_features=sqrt, min_samples_leaf=1, min_samples_split=8, splitter=random;, score=0.914 total time=   0.6s\n",
      "[CV 4/5] END criterion=gini, max_depth=10, max_features=sqrt, min_samples_leaf=1, min_samples_split=8, splitter=random;, score=0.914 total time=   0.6s\n",
      "[CV 5/5] END criterion=gini, max_depth=10, max_features=sqrt, min_samples_leaf=1, min_samples_split=8, splitter=random;, score=0.914 total time=   0.6s\n",
      "[CV 1/5] END criterion=entropy, max_depth=4, max_features=None, min_samples_leaf=7, min_samples_split=4, splitter=random;, score=0.914 total time=   0.8s\n",
      "[CV 2/5] END criterion=entropy, max_depth=4, max_features=None, min_samples_leaf=7, min_samples_split=4, splitter=random;, score=0.914 total time=   0.8s\n",
      "[CV 3/5] END criterion=entropy, max_depth=4, max_features=None, min_samples_leaf=7, min_samples_split=4, splitter=random;, score=0.914 total time=   0.9s\n",
      "[CV 4/5] END criterion=entropy, max_depth=4, max_features=None, min_samples_leaf=7, min_samples_split=4, splitter=random;, score=0.926 total time=   0.9s\n",
      "[CV 5/5] END criterion=entropy, max_depth=4, max_features=None, min_samples_leaf=7, min_samples_split=4, splitter=random;, score=0.914 total time=   0.9s\n",
      "[CV 1/5] END criterion=entropy, max_depth=8, max_features=log2, min_samples_leaf=7, min_samples_split=4, splitter=random;, score=0.914 total time=   0.5s\n",
      "[CV 2/5] END criterion=entropy, max_depth=8, max_features=log2, min_samples_leaf=7, min_samples_split=4, splitter=random;, score=0.914 total time=   0.5s\n",
      "[CV 3/5] END criterion=entropy, max_depth=8, max_features=log2, min_samples_leaf=7, min_samples_split=4, splitter=random;, score=0.916 total time=   0.5s\n",
      "[CV 4/5] END criterion=entropy, max_depth=8, max_features=log2, min_samples_leaf=7, min_samples_split=4, splitter=random;, score=0.914 total time=   0.5s\n",
      "[CV 5/5] END criterion=entropy, max_depth=8, max_features=log2, min_samples_leaf=7, min_samples_split=4, splitter=random;, score=0.914 total time=   0.5s\n",
      "[CV 1/5] END criterion=entropy, max_depth=8, max_features=sqrt, min_samples_leaf=5, min_samples_split=2, splitter=best;, score=0.914 total time=   0.8s\n",
      "[CV 2/5] END criterion=entropy, max_depth=8, max_features=sqrt, min_samples_leaf=5, min_samples_split=2, splitter=best;, score=0.922 total time=   0.7s\n",
      "[CV 3/5] END criterion=entropy, max_depth=8, max_features=sqrt, min_samples_leaf=5, min_samples_split=2, splitter=best;, score=0.920 total time=   0.8s\n",
      "[CV 4/5] END criterion=entropy, max_depth=8, max_features=sqrt, min_samples_leaf=5, min_samples_split=2, splitter=best;, score=0.919 total time=   0.8s\n",
      "[CV 5/5] END criterion=entropy, max_depth=8, max_features=sqrt, min_samples_leaf=5, min_samples_split=2, splitter=best;, score=0.917 total time=   0.8s\n",
      "[CV 1/5] END criterion=entropy, max_depth=6, max_features=log2, min_samples_leaf=1, min_samples_split=6, splitter=random;, score=0.920 total time=   0.4s\n",
      "[CV 2/5] END criterion=entropy, max_depth=6, max_features=log2, min_samples_leaf=1, min_samples_split=6, splitter=random;, score=0.914 total time=   0.4s\n",
      "[CV 3/5] END criterion=entropy, max_depth=6, max_features=log2, min_samples_leaf=1, min_samples_split=6, splitter=random;, score=0.915 total time=   0.4s\n",
      "[CV 4/5] END criterion=entropy, max_depth=6, max_features=log2, min_samples_leaf=1, min_samples_split=6, splitter=random;, score=0.914 total time=   0.4s\n",
      "[CV 5/5] END criterion=entropy, max_depth=6, max_features=log2, min_samples_leaf=1, min_samples_split=6, splitter=random;, score=0.914 total time=   0.4s\n",
      "[CV 1/5] END criterion=log_loss, max_depth=7, max_features=None, min_samples_leaf=5, min_samples_split=2, splitter=best;, score=nan total time=   0.2s\n",
      "[CV 2/5] END criterion=log_loss, max_depth=7, max_features=None, min_samples_leaf=5, min_samples_split=2, splitter=best;, score=nan total time=   0.2s\n",
      "[CV 3/5] END criterion=log_loss, max_depth=7, max_features=None, min_samples_leaf=5, min_samples_split=2, splitter=best;, score=nan total time=   0.2s\n",
      "[CV 4/5] END criterion=log_loss, max_depth=7, max_features=None, min_samples_leaf=5, min_samples_split=2, splitter=best;, score=nan total time=   0.2s\n",
      "[CV 5/5] END criterion=log_loss, max_depth=7, max_features=None, min_samples_leaf=5, min_samples_split=2, splitter=best;, score=nan total time=   0.2s\n",
      "[CV 1/5] END criterion=entropy, max_depth=7, max_features=log2, min_samples_leaf=3, min_samples_split=6, splitter=best;, score=0.920 total time=   0.7s\n",
      "[CV 2/5] END criterion=entropy, max_depth=7, max_features=log2, min_samples_leaf=3, min_samples_split=6, splitter=best;, score=0.915 total time=   0.7s\n",
      "[CV 3/5] END criterion=entropy, max_depth=7, max_features=log2, min_samples_leaf=3, min_samples_split=6, splitter=best;, score=0.914 total time=   0.7s\n",
      "[CV 4/5] END criterion=entropy, max_depth=7, max_features=log2, min_samples_leaf=3, min_samples_split=6, splitter=best;, score=0.915 total time=   0.7s\n",
      "[CV 5/5] END criterion=entropy, max_depth=7, max_features=log2, min_samples_leaf=3, min_samples_split=6, splitter=best;, score=0.917 total time=   0.6s\n",
      "[CV 1/5] END criterion=entropy, max_depth=2, max_features=None, min_samples_leaf=3, min_samples_split=6, splitter=random;, score=0.914 total time=   0.5s\n",
      "[CV 2/5] END criterion=entropy, max_depth=2, max_features=None, min_samples_leaf=3, min_samples_split=6, splitter=random;, score=0.914 total time=   0.5s\n",
      "[CV 3/5] END criterion=entropy, max_depth=2, max_features=None, min_samples_leaf=3, min_samples_split=6, splitter=random;, score=0.914 total time=   0.5s\n",
      "[CV 4/5] END criterion=entropy, max_depth=2, max_features=None, min_samples_leaf=3, min_samples_split=6, splitter=random;, score=0.914 total time=   0.5s\n",
      "[CV 5/5] END criterion=entropy, max_depth=2, max_features=None, min_samples_leaf=3, min_samples_split=6, splitter=random;, score=0.914 total time=   0.5s\n",
      "[CV 1/5] END criterion=gini, max_depth=2, max_features=sqrt, min_samples_leaf=3, min_samples_split=6, splitter=best;, score=0.914 total time=   0.3s\n",
      "[CV 2/5] END criterion=gini, max_depth=2, max_features=sqrt, min_samples_leaf=3, min_samples_split=6, splitter=best;, score=0.914 total time=   0.3s\n",
      "[CV 3/5] END criterion=gini, max_depth=2, max_features=sqrt, min_samples_leaf=3, min_samples_split=6, splitter=best;, score=0.914 total time=   0.3s\n",
      "[CV 4/5] END criterion=gini, max_depth=2, max_features=sqrt, min_samples_leaf=3, min_samples_split=6, splitter=best;, score=0.914 total time=   0.3s\n",
      "[CV 5/5] END criterion=gini, max_depth=2, max_features=sqrt, min_samples_leaf=3, min_samples_split=6, splitter=best;, score=0.914 total time=   0.3s\n",
      "[CV 1/5] END criterion=entropy, max_depth=2, max_features=None, min_samples_leaf=3, min_samples_split=1, splitter=random;, score=nan total time=   0.2s\n",
      "[CV 2/5] END criterion=entropy, max_depth=2, max_features=None, min_samples_leaf=3, min_samples_split=1, splitter=random;, score=nan total time=   0.2s\n",
      "[CV 3/5] END criterion=entropy, max_depth=2, max_features=None, min_samples_leaf=3, min_samples_split=1, splitter=random;, score=nan total time=   0.2s\n",
      "[CV 4/5] END criterion=entropy, max_depth=2, max_features=None, min_samples_leaf=3, min_samples_split=1, splitter=random;, score=nan total time=   0.2s\n",
      "[CV 5/5] END criterion=entropy, max_depth=2, max_features=None, min_samples_leaf=3, min_samples_split=1, splitter=random;, score=nan total time=   0.2s\n",
      "[CV 1/5] END criterion=entropy, max_depth=4, max_features=log2, min_samples_leaf=3, min_samples_split=8, splitter=random;, score=0.914 total time=   0.4s\n",
      "[CV 2/5] END criterion=entropy, max_depth=4, max_features=log2, min_samples_leaf=3, min_samples_split=8, splitter=random;, score=0.914 total time=   0.3s\n",
      "[CV 3/5] END criterion=entropy, max_depth=4, max_features=log2, min_samples_leaf=3, min_samples_split=8, splitter=random;, score=0.914 total time=   0.4s\n",
      "[CV 4/5] END criterion=entropy, max_depth=4, max_features=log2, min_samples_leaf=3, min_samples_split=8, splitter=random;, score=0.914 total time=   0.4s\n",
      "[CV 5/5] END criterion=entropy, max_depth=4, max_features=log2, min_samples_leaf=3, min_samples_split=8, splitter=random;, score=0.914 total time=   0.3s\n",
      "[CV 1/5] END criterion=gini, max_depth=10, max_features=sqrt, min_samples_leaf=1, min_samples_split=2, splitter=random;, score=0.915 total time=   0.6s\n",
      "[CV 2/5] END criterion=gini, max_depth=10, max_features=sqrt, min_samples_leaf=1, min_samples_split=2, splitter=random;, score=0.914 total time=   0.6s\n",
      "[CV 3/5] END criterion=gini, max_depth=10, max_features=sqrt, min_samples_leaf=1, min_samples_split=2, splitter=random;, score=0.914 total time=   0.6s\n",
      "[CV 4/5] END criterion=gini, max_depth=10, max_features=sqrt, min_samples_leaf=1, min_samples_split=2, splitter=random;, score=0.914 total time=   0.6s\n",
      "[CV 5/5] END criterion=gini, max_depth=10, max_features=sqrt, min_samples_leaf=1, min_samples_split=2, splitter=random;, score=0.914 total time=   0.6s\n",
      "[CV 1/5] END criterion=log_loss, max_depth=12, max_features=log2, min_samples_leaf=7, min_samples_split=6, splitter=best;, score=nan total time=   0.2s\n",
      "[CV 2/5] END criterion=log_loss, max_depth=12, max_features=log2, min_samples_leaf=7, min_samples_split=6, splitter=best;, score=nan total time=   0.2s\n",
      "[CV 3/5] END criterion=log_loss, max_depth=12, max_features=log2, min_samples_leaf=7, min_samples_split=6, splitter=best;, score=nan total time=   0.2s\n",
      "[CV 4/5] END criterion=log_loss, max_depth=12, max_features=log2, min_samples_leaf=7, min_samples_split=6, splitter=best;, score=nan total time=   0.2s\n",
      "[CV 5/5] END criterion=log_loss, max_depth=12, max_features=log2, min_samples_leaf=7, min_samples_split=6, splitter=best;, score=nan total time=   0.2s\n",
      "[CV 1/5] END criterion=gini, max_depth=2, max_features=sqrt, min_samples_leaf=1, min_samples_split=4, splitter=best;, score=0.914 total time=   0.3s\n",
      "[CV 2/5] END criterion=gini, max_depth=2, max_features=sqrt, min_samples_leaf=1, min_samples_split=4, splitter=best;, score=0.914 total time=   0.3s\n",
      "[CV 3/5] END criterion=gini, max_depth=2, max_features=sqrt, min_samples_leaf=1, min_samples_split=4, splitter=best;, score=0.914 total time=   0.3s\n",
      "[CV 4/5] END criterion=gini, max_depth=2, max_features=sqrt, min_samples_leaf=1, min_samples_split=4, splitter=best;, score=0.914 total time=   0.4s\n",
      "[CV 5/5] END criterion=gini, max_depth=2, max_features=sqrt, min_samples_leaf=1, min_samples_split=4, splitter=best;, score=0.914 total time=   0.3s\n",
      "[CV 1/5] END criterion=entropy, max_depth=10, max_features=log2, min_samples_leaf=5, min_samples_split=2, splitter=best;, score=0.915 total time=   0.9s\n",
      "[CV 2/5] END criterion=entropy, max_depth=10, max_features=log2, min_samples_leaf=5, min_samples_split=2, splitter=best;, score=0.916 total time=   0.8s\n",
      "[CV 3/5] END criterion=entropy, max_depth=10, max_features=log2, min_samples_leaf=5, min_samples_split=2, splitter=best;, score=0.918 total time=   0.8s\n",
      "[CV 4/5] END criterion=entropy, max_depth=10, max_features=log2, min_samples_leaf=5, min_samples_split=2, splitter=best;, score=0.916 total time=   0.8s\n",
      "[CV 5/5] END criterion=entropy, max_depth=10, max_features=log2, min_samples_leaf=5, min_samples_split=2, splitter=best;, score=0.921 total time=   0.8s\n",
      "[CV 1/5] END criterion=entropy, max_depth=7, max_features=log2, min_samples_leaf=1, min_samples_split=1, splitter=best;, score=nan total time=   0.2s\n",
      "[CV 2/5] END criterion=entropy, max_depth=7, max_features=log2, min_samples_leaf=1, min_samples_split=1, splitter=best;, score=nan total time=   0.2s\n",
      "[CV 3/5] END criterion=entropy, max_depth=7, max_features=log2, min_samples_leaf=1, min_samples_split=1, splitter=best;, score=nan total time=   0.2s\n",
      "[CV 4/5] END criterion=entropy, max_depth=7, max_features=log2, min_samples_leaf=1, min_samples_split=1, splitter=best;, score=nan total time=   0.2s\n",
      "[CV 5/5] END criterion=entropy, max_depth=7, max_features=log2, min_samples_leaf=1, min_samples_split=1, splitter=best;, score=nan total time=   0.2s\n",
      "[CV 1/5] END criterion=log_loss, max_depth=2, max_features=None, min_samples_leaf=3, min_samples_split=6, splitter=random;, score=nan total time=   0.2s\n",
      "[CV 2/5] END criterion=log_loss, max_depth=2, max_features=None, min_samples_leaf=3, min_samples_split=6, splitter=random;, score=nan total time=   0.2s\n",
      "[CV 3/5] END criterion=log_loss, max_depth=2, max_features=None, min_samples_leaf=3, min_samples_split=6, splitter=random;, score=nan total time=   0.2s\n",
      "[CV 4/5] END criterion=log_loss, max_depth=2, max_features=None, min_samples_leaf=3, min_samples_split=6, splitter=random;, score=nan total time=   0.2s\n",
      "[CV 5/5] END criterion=log_loss, max_depth=2, max_features=None, min_samples_leaf=3, min_samples_split=6, splitter=random;, score=nan total time=   0.2s\n",
      "[CV 1/5] END criterion=gini, max_depth=6, max_features=None, min_samples_leaf=7, min_samples_split=2, splitter=random;, score=0.914 total time=   1.1s\n",
      "[CV 2/5] END criterion=gini, max_depth=6, max_features=None, min_samples_leaf=7, min_samples_split=2, splitter=random;, score=0.918 total time=   1.2s\n",
      "[CV 3/5] END criterion=gini, max_depth=6, max_features=None, min_samples_leaf=7, min_samples_split=2, splitter=random;, score=0.914 total time=   1.3s\n",
      "[CV 4/5] END criterion=gini, max_depth=6, max_features=None, min_samples_leaf=7, min_samples_split=2, splitter=random;, score=0.926 total time=   1.4s\n",
      "[CV 5/5] END criterion=gini, max_depth=6, max_features=None, min_samples_leaf=7, min_samples_split=2, splitter=random;, score=0.915 total time=   1.2s\n",
      "[CV 1/5] END criterion=log_loss, max_depth=6, max_features=log2, min_samples_leaf=1, min_samples_split=6, splitter=best;, score=nan total time=   0.2s\n",
      "[CV 2/5] END criterion=log_loss, max_depth=6, max_features=log2, min_samples_leaf=1, min_samples_split=6, splitter=best;, score=nan total time=   0.2s\n",
      "[CV 3/5] END criterion=log_loss, max_depth=6, max_features=log2, min_samples_leaf=1, min_samples_split=6, splitter=best;, score=nan total time=   0.2s\n",
      "[CV 4/5] END criterion=log_loss, max_depth=6, max_features=log2, min_samples_leaf=1, min_samples_split=6, splitter=best;, score=nan total time=   0.2s\n",
      "[CV 5/5] END criterion=log_loss, max_depth=6, max_features=log2, min_samples_leaf=1, min_samples_split=6, splitter=best;, score=nan total time=   0.5s\n",
      "[CV 1/5] END criterion=gini, max_depth=7, max_features=None, min_samples_leaf=3, min_samples_split=6, splitter=random;, score=0.922 total time=   1.7s\n",
      "[CV 2/5] END criterion=gini, max_depth=7, max_features=None, min_samples_leaf=3, min_samples_split=6, splitter=random;, score=0.916 total time=   1.3s\n",
      "[CV 3/5] END criterion=gini, max_depth=7, max_features=None, min_samples_leaf=3, min_samples_split=6, splitter=random;, score=0.914 total time=   1.3s\n",
      "[CV 4/5] END criterion=gini, max_depth=7, max_features=None, min_samples_leaf=3, min_samples_split=6, splitter=random;, score=0.917 total time=   1.3s\n",
      "[CV 5/5] END criterion=gini, max_depth=7, max_features=None, min_samples_leaf=3, min_samples_split=6, splitter=random;, score=0.917 total time=   1.3s\n",
      "[CV 1/5] END criterion=gini, max_depth=4, max_features=sqrt, min_samples_leaf=3, min_samples_split=4, splitter=random;, score=0.914 total time=   0.4s\n",
      "[CV 2/5] END criterion=gini, max_depth=4, max_features=sqrt, min_samples_leaf=3, min_samples_split=4, splitter=random;, score=0.914 total time=   0.4s\n",
      "[CV 3/5] END criterion=gini, max_depth=4, max_features=sqrt, min_samples_leaf=3, min_samples_split=4, splitter=random;, score=0.914 total time=   0.4s\n",
      "[CV 4/5] END criterion=gini, max_depth=4, max_features=sqrt, min_samples_leaf=3, min_samples_split=4, splitter=random;, score=0.914 total time=   0.4s\n",
      "[CV 5/5] END criterion=gini, max_depth=4, max_features=sqrt, min_samples_leaf=3, min_samples_split=4, splitter=random;, score=0.914 total time=   0.4s\n",
      "[CV 1/5] END criterion=gini, max_depth=12, max_features=sqrt, min_samples_leaf=1, min_samples_split=4, splitter=random;, score=0.920 total time=   0.7s\n",
      "[CV 2/5] END criterion=gini, max_depth=12, max_features=sqrt, min_samples_leaf=1, min_samples_split=4, splitter=random;, score=0.915 total time=   0.7s\n",
      "[CV 3/5] END criterion=gini, max_depth=12, max_features=sqrt, min_samples_leaf=1, min_samples_split=4, splitter=random;, score=0.915 total time=   0.7s\n",
      "[CV 4/5] END criterion=gini, max_depth=12, max_features=sqrt, min_samples_leaf=1, min_samples_split=4, splitter=random;, score=0.914 total time=   0.7s\n",
      "[CV 5/5] END criterion=gini, max_depth=12, max_features=sqrt, min_samples_leaf=1, min_samples_split=4, splitter=random;, score=0.914 total time=   0.7s\n",
      "[CV 1/5] END criterion=log_loss, max_depth=7, max_features=None, min_samples_leaf=7, min_samples_split=1, splitter=best;, score=nan total time=   0.2s\n",
      "[CV 2/5] END criterion=log_loss, max_depth=7, max_features=None, min_samples_leaf=7, min_samples_split=1, splitter=best;, score=nan total time=   0.2s\n",
      "[CV 3/5] END criterion=log_loss, max_depth=7, max_features=None, min_samples_leaf=7, min_samples_split=1, splitter=best;, score=nan total time=   0.2s\n",
      "[CV 4/5] END criterion=log_loss, max_depth=7, max_features=None, min_samples_leaf=7, min_samples_split=1, splitter=best;, score=nan total time=   0.2s\n",
      "[CV 5/5] END criterion=log_loss, max_depth=7, max_features=None, min_samples_leaf=7, min_samples_split=1, splitter=best;, score=nan total time=   0.2s\n",
      "[CV 1/5] END criterion=gini, max_depth=7, max_features=None, min_samples_leaf=7, min_samples_split=8, splitter=random;, score=0.918 total time=   1.3s\n",
      "[CV 2/5] END criterion=gini, max_depth=7, max_features=None, min_samples_leaf=7, min_samples_split=8, splitter=random;, score=0.920 total time=   1.4s\n",
      "[CV 3/5] END criterion=gini, max_depth=7, max_features=None, min_samples_leaf=7, min_samples_split=8, splitter=random;, score=0.934 total time=   1.2s\n",
      "[CV 4/5] END criterion=gini, max_depth=7, max_features=None, min_samples_leaf=7, min_samples_split=8, splitter=random;, score=0.928 total time=   1.2s\n",
      "[CV 5/5] END criterion=gini, max_depth=7, max_features=None, min_samples_leaf=7, min_samples_split=8, splitter=random;, score=0.919 total time=   1.3s\n",
      "[CV 1/5] END criterion=entropy, max_depth=12, max_features=log2, min_samples_leaf=1, min_samples_split=6, splitter=random;, score=0.918 total time=   0.7s\n",
      "[CV 2/5] END criterion=entropy, max_depth=12, max_features=log2, min_samples_leaf=1, min_samples_split=6, splitter=random;, score=0.914 total time=   0.7s\n",
      "[CV 3/5] END criterion=entropy, max_depth=12, max_features=log2, min_samples_leaf=1, min_samples_split=6, splitter=random;, score=0.919 total time=   0.6s\n",
      "[CV 4/5] END criterion=entropy, max_depth=12, max_features=log2, min_samples_leaf=1, min_samples_split=6, splitter=random;, score=0.914 total time=   0.7s\n",
      "[CV 5/5] END criterion=entropy, max_depth=12, max_features=log2, min_samples_leaf=1, min_samples_split=6, splitter=random;, score=0.914 total time=   0.6s\n",
      "[CV 1/5] END criterion=entropy, max_depth=7, max_features=None, min_samples_leaf=7, min_samples_split=6, splitter=random;, score=0.927 total time=   1.2s\n",
      "[CV 2/5] END criterion=entropy, max_depth=7, max_features=None, min_samples_leaf=7, min_samples_split=6, splitter=random;, score=0.915 total time=   1.3s\n",
      "[CV 3/5] END criterion=entropy, max_depth=7, max_features=None, min_samples_leaf=7, min_samples_split=6, splitter=random;, score=0.916 total time=   1.3s\n",
      "[CV 4/5] END criterion=entropy, max_depth=7, max_features=None, min_samples_leaf=7, min_samples_split=6, splitter=random;, score=0.916 total time=   1.3s\n",
      "[CV 5/5] END criterion=entropy, max_depth=7, max_features=None, min_samples_leaf=7, min_samples_split=6, splitter=random;, score=0.921 total time=   1.3s\n",
      "[CV 1/5] END criterion=entropy, max_depth=12, max_features=sqrt, min_samples_leaf=7, min_samples_split=6, splitter=random;, score=0.917 total time=   0.7s\n",
      "[CV 2/5] END criterion=entropy, max_depth=12, max_features=sqrt, min_samples_leaf=7, min_samples_split=6, splitter=random;, score=0.914 total time=   0.6s\n",
      "[CV 3/5] END criterion=entropy, max_depth=12, max_features=sqrt, min_samples_leaf=7, min_samples_split=6, splitter=random;, score=0.915 total time=   0.7s\n",
      "[CV 4/5] END criterion=entropy, max_depth=12, max_features=sqrt, min_samples_leaf=7, min_samples_split=6, splitter=random;, score=0.915 total time=   0.6s\n",
      "[CV 5/5] END criterion=entropy, max_depth=12, max_features=sqrt, min_samples_leaf=7, min_samples_split=6, splitter=random;, score=0.914 total time=   0.6s\n",
      "[CV 1/5] END criterion=log_loss, max_depth=8, max_features=log2, min_samples_leaf=5, min_samples_split=4, splitter=best;, score=nan total time=   0.2s\n",
      "[CV 2/5] END criterion=log_loss, max_depth=8, max_features=log2, min_samples_leaf=5, min_samples_split=4, splitter=best;, score=nan total time=   0.2s\n",
      "[CV 3/5] END criterion=log_loss, max_depth=8, max_features=log2, min_samples_leaf=5, min_samples_split=4, splitter=best;, score=nan total time=   0.2s\n",
      "[CV 4/5] END criterion=log_loss, max_depth=8, max_features=log2, min_samples_leaf=5, min_samples_split=4, splitter=best;, score=nan total time=   0.2s\n",
      "[CV 5/5] END criterion=log_loss, max_depth=8, max_features=log2, min_samples_leaf=5, min_samples_split=4, splitter=best;, score=nan total time=   0.2s\n",
      "[CV 1/5] END criterion=gini, max_depth=12, max_features=None, min_samples_leaf=1, min_samples_split=8, splitter=best;, score=0.947 total time=   2.7s\n",
      "[CV 2/5] END criterion=gini, max_depth=12, max_features=None, min_samples_leaf=1, min_samples_split=8, splitter=best;, score=0.948 total time=   2.6s\n",
      "[CV 3/5] END criterion=gini, max_depth=12, max_features=None, min_samples_leaf=1, min_samples_split=8, splitter=best;, score=0.947 total time=   2.6s\n",
      "[CV 4/5] END criterion=gini, max_depth=12, max_features=None, min_samples_leaf=1, min_samples_split=8, splitter=best;, score=0.948 total time=   2.6s\n",
      "[CV 5/5] END criterion=gini, max_depth=12, max_features=None, min_samples_leaf=1, min_samples_split=8, splitter=best;, score=0.948 total time=   2.6s\n",
      "[CV 1/5] END criterion=entropy, max_depth=12, max_features=log2, min_samples_leaf=1, min_samples_split=4, splitter=random;, score=0.920 total time=   0.7s\n",
      "[CV 2/5] END criterion=entropy, max_depth=12, max_features=log2, min_samples_leaf=1, min_samples_split=4, splitter=random;, score=0.914 total time=   0.7s\n",
      "[CV 3/5] END criterion=entropy, max_depth=12, max_features=log2, min_samples_leaf=1, min_samples_split=4, splitter=random;, score=0.916 total time=   0.6s\n",
      "[CV 4/5] END criterion=entropy, max_depth=12, max_features=log2, min_samples_leaf=1, min_samples_split=4, splitter=random;, score=0.921 total time=   0.7s\n",
      "[CV 5/5] END criterion=entropy, max_depth=12, max_features=log2, min_samples_leaf=1, min_samples_split=4, splitter=random;, score=0.915 total time=   0.6s\n",
      "[CV 1/5] END criterion=gini, max_depth=2, max_features=sqrt, min_samples_leaf=1, min_samples_split=2, splitter=random;, score=0.914 total time=   0.3s\n",
      "[CV 2/5] END criterion=gini, max_depth=2, max_features=sqrt, min_samples_leaf=1, min_samples_split=2, splitter=random;, score=0.914 total time=   0.2s\n",
      "[CV 3/5] END criterion=gini, max_depth=2, max_features=sqrt, min_samples_leaf=1, min_samples_split=2, splitter=random;, score=0.914 total time=   0.3s\n",
      "[CV 4/5] END criterion=gini, max_depth=2, max_features=sqrt, min_samples_leaf=1, min_samples_split=2, splitter=random;, score=0.914 total time=   0.3s\n",
      "[CV 5/5] END criterion=gini, max_depth=2, max_features=sqrt, min_samples_leaf=1, min_samples_split=2, splitter=random;, score=0.914 total time=   0.2s\n",
      "[CV 1/5] END criterion=gini, max_depth=7, max_features=None, min_samples_leaf=3, min_samples_split=1, splitter=best;, score=nan total time=   0.2s\n",
      "[CV 2/5] END criterion=gini, max_depth=7, max_features=None, min_samples_leaf=3, min_samples_split=1, splitter=best;, score=nan total time=   0.2s\n",
      "[CV 3/5] END criterion=gini, max_depth=7, max_features=None, min_samples_leaf=3, min_samples_split=1, splitter=best;, score=nan total time=   0.2s\n",
      "[CV 4/5] END criterion=gini, max_depth=7, max_features=None, min_samples_leaf=3, min_samples_split=1, splitter=best;, score=nan total time=   0.2s\n",
      "[CV 5/5] END criterion=gini, max_depth=7, max_features=None, min_samples_leaf=3, min_samples_split=1, splitter=best;, score=nan total time=   0.2s\n",
      "[CV 1/5] END criterion=gini, max_depth=12, max_features=sqrt, min_samples_leaf=5, min_samples_split=1, splitter=random;, score=nan total time=   0.2s\n",
      "[CV 2/5] END criterion=gini, max_depth=12, max_features=sqrt, min_samples_leaf=5, min_samples_split=1, splitter=random;, score=nan total time=   0.2s\n",
      "[CV 3/5] END criterion=gini, max_depth=12, max_features=sqrt, min_samples_leaf=5, min_samples_split=1, splitter=random;, score=nan total time=   0.2s\n",
      "[CV 4/5] END criterion=gini, max_depth=12, max_features=sqrt, min_samples_leaf=5, min_samples_split=1, splitter=random;, score=nan total time=   0.2s\n",
      "[CV 5/5] END criterion=gini, max_depth=12, max_features=sqrt, min_samples_leaf=5, min_samples_split=1, splitter=random;, score=nan total time=   0.2s\n",
      "[CV 1/5] END criterion=gini, max_depth=6, max_features=None, min_samples_leaf=1, min_samples_split=4, splitter=best;, score=0.928 total time=   1.9s\n",
      "[CV 2/5] END criterion=gini, max_depth=6, max_features=None, min_samples_leaf=1, min_samples_split=4, splitter=best;, score=0.929 total time=   1.9s\n",
      "[CV 3/5] END criterion=gini, max_depth=6, max_features=None, min_samples_leaf=1, min_samples_split=4, splitter=best;, score=0.929 total time=   1.8s\n",
      "[CV 4/5] END criterion=gini, max_depth=6, max_features=None, min_samples_leaf=1, min_samples_split=4, splitter=best;, score=0.928 total time=   1.8s\n",
      "[CV 5/5] END criterion=gini, max_depth=6, max_features=None, min_samples_leaf=1, min_samples_split=4, splitter=best;, score=0.929 total time=   1.8s\n",
      "[CV 1/5] END criterion=gini, max_depth=12, max_features=None, min_samples_leaf=7, min_samples_split=8, splitter=random;, score=0.943 total time=   1.8s\n",
      "[CV 2/5] END criterion=gini, max_depth=12, max_features=None, min_samples_leaf=7, min_samples_split=8, splitter=random;, score=0.945 total time=   1.8s\n",
      "[CV 3/5] END criterion=gini, max_depth=12, max_features=None, min_samples_leaf=7, min_samples_split=8, splitter=random;, score=0.932 total time=   1.7s\n",
      "[CV 4/5] END criterion=gini, max_depth=12, max_features=None, min_samples_leaf=7, min_samples_split=8, splitter=random;, score=0.934 total time=   1.6s\n",
      "[CV 5/5] END criterion=gini, max_depth=12, max_features=None, min_samples_leaf=7, min_samples_split=8, splitter=random;, score=0.947 total time=   1.7s\n",
      "[CV 1/5] END criterion=gini, max_depth=12, max_features=log2, min_samples_leaf=7, min_samples_split=6, splitter=best;, score=0.917 total time=   1.0s\n",
      "[CV 2/5] END criterion=gini, max_depth=12, max_features=log2, min_samples_leaf=7, min_samples_split=6, splitter=best;, score=0.916 total time=   0.9s\n",
      "[CV 3/5] END criterion=gini, max_depth=12, max_features=log2, min_samples_leaf=7, min_samples_split=6, splitter=best;, score=0.918 total time=   1.0s\n",
      "[CV 4/5] END criterion=gini, max_depth=12, max_features=log2, min_samples_leaf=7, min_samples_split=6, splitter=best;, score=0.924 total time=   1.0s\n",
      "[CV 5/5] END criterion=gini, max_depth=12, max_features=log2, min_samples_leaf=7, min_samples_split=6, splitter=best;, score=0.920 total time=   1.0s\n",
      "[CV 1/5] END criterion=entropy, max_depth=4, max_features=log2, min_samples_leaf=3, min_samples_split=2, splitter=random;, score=0.914 total time=   0.3s\n",
      "[CV 2/5] END criterion=entropy, max_depth=4, max_features=log2, min_samples_leaf=3, min_samples_split=2, splitter=random;, score=0.914 total time=   0.3s\n",
      "[CV 3/5] END criterion=entropy, max_depth=4, max_features=log2, min_samples_leaf=3, min_samples_split=2, splitter=random;, score=0.914 total time=   0.3s\n",
      "[CV 4/5] END criterion=entropy, max_depth=4, max_features=log2, min_samples_leaf=3, min_samples_split=2, splitter=random;, score=0.914 total time=   0.3s\n",
      "[CV 5/5] END criterion=entropy, max_depth=4, max_features=log2, min_samples_leaf=3, min_samples_split=2, splitter=random;, score=0.914 total time=   0.3s\n",
      "[CV 1/5] END criterion=log_loss, max_depth=10, max_features=log2, min_samples_leaf=3, min_samples_split=6, splitter=random;, score=nan total time=   0.2s\n",
      "[CV 2/5] END criterion=log_loss, max_depth=10, max_features=log2, min_samples_leaf=3, min_samples_split=6, splitter=random;, score=nan total time=   0.2s\n",
      "[CV 3/5] END criterion=log_loss, max_depth=10, max_features=log2, min_samples_leaf=3, min_samples_split=6, splitter=random;, score=nan total time=   0.2s\n",
      "[CV 4/5] END criterion=log_loss, max_depth=10, max_features=log2, min_samples_leaf=3, min_samples_split=6, splitter=random;, score=nan total time=   0.2s\n",
      "[CV 5/5] END criterion=log_loss, max_depth=10, max_features=log2, min_samples_leaf=3, min_samples_split=6, splitter=random;, score=nan total time=   0.2s\n",
      "[CV 1/5] END criterion=gini, max_depth=8, max_features=log2, min_samples_leaf=5, min_samples_split=8, splitter=random;, score=0.914 total time=   0.5s\n",
      "[CV 2/5] END criterion=gini, max_depth=8, max_features=log2, min_samples_leaf=5, min_samples_split=8, splitter=random;, score=0.914 total time=   0.6s\n",
      "[CV 3/5] END criterion=gini, max_depth=8, max_features=log2, min_samples_leaf=5, min_samples_split=8, splitter=random;, score=0.914 total time=   0.5s\n",
      "[CV 4/5] END criterion=gini, max_depth=8, max_features=log2, min_samples_leaf=5, min_samples_split=8, splitter=random;, score=0.914 total time=   0.5s\n",
      "[CV 5/5] END criterion=gini, max_depth=8, max_features=log2, min_samples_leaf=5, min_samples_split=8, splitter=random;, score=0.914 total time=   0.5s\n",
      "[CV 1/5] END criterion=gini, max_depth=10, max_features=log2, min_samples_leaf=3, min_samples_split=1, splitter=best;, score=nan total time=   0.2s\n",
      "[CV 2/5] END criterion=gini, max_depth=10, max_features=log2, min_samples_leaf=3, min_samples_split=1, splitter=best;, score=nan total time=   0.2s\n",
      "[CV 3/5] END criterion=gini, max_depth=10, max_features=log2, min_samples_leaf=3, min_samples_split=1, splitter=best;, score=nan total time=   0.2s\n",
      "[CV 4/5] END criterion=gini, max_depth=10, max_features=log2, min_samples_leaf=3, min_samples_split=1, splitter=best;, score=nan total time=   0.2s\n",
      "[CV 5/5] END criterion=gini, max_depth=10, max_features=log2, min_samples_leaf=3, min_samples_split=1, splitter=best;, score=nan total time=   0.2s\n",
      "[CV 1/5] END criterion=gini, max_depth=10, max_features=log2, min_samples_leaf=5, min_samples_split=1, splitter=best;, score=nan total time=   0.2s\n",
      "[CV 2/5] END criterion=gini, max_depth=10, max_features=log2, min_samples_leaf=5, min_samples_split=1, splitter=best;, score=nan total time=   0.2s\n",
      "[CV 3/5] END criterion=gini, max_depth=10, max_features=log2, min_samples_leaf=5, min_samples_split=1, splitter=best;, score=nan total time=   0.2s\n",
      "[CV 4/5] END criterion=gini, max_depth=10, max_features=log2, min_samples_leaf=5, min_samples_split=1, splitter=best;, score=nan total time=   0.2s\n",
      "[CV 5/5] END criterion=gini, max_depth=10, max_features=log2, min_samples_leaf=5, min_samples_split=1, splitter=best;, score=nan total time=   0.2s\n",
      "[CV 1/5] END criterion=log_loss, max_depth=6, max_features=None, min_samples_leaf=5, min_samples_split=1, splitter=random;, score=nan total time=   0.2s\n",
      "[CV 2/5] END criterion=log_loss, max_depth=6, max_features=None, min_samples_leaf=5, min_samples_split=1, splitter=random;, score=nan total time=   0.2s\n",
      "[CV 3/5] END criterion=log_loss, max_depth=6, max_features=None, min_samples_leaf=5, min_samples_split=1, splitter=random;, score=nan total time=   0.2s\n",
      "[CV 4/5] END criterion=log_loss, max_depth=6, max_features=None, min_samples_leaf=5, min_samples_split=1, splitter=random;, score=nan total time=   0.2s\n",
      "[CV 5/5] END criterion=log_loss, max_depth=6, max_features=None, min_samples_leaf=5, min_samples_split=1, splitter=random;, score=nan total time=   0.2s\n",
      "[CV 1/5] END criterion=log_loss, max_depth=7, max_features=log2, min_samples_leaf=3, min_samples_split=8, splitter=best;, score=nan total time=   0.2s\n",
      "[CV 2/5] END criterion=log_loss, max_depth=7, max_features=log2, min_samples_leaf=3, min_samples_split=8, splitter=best;, score=nan total time=   0.2s\n",
      "[CV 3/5] END criterion=log_loss, max_depth=7, max_features=log2, min_samples_leaf=3, min_samples_split=8, splitter=best;, score=nan total time=   0.2s\n",
      "[CV 4/5] END criterion=log_loss, max_depth=7, max_features=log2, min_samples_leaf=3, min_samples_split=8, splitter=best;, score=nan total time=   0.2s\n",
      "[CV 5/5] END criterion=log_loss, max_depth=7, max_features=log2, min_samples_leaf=3, min_samples_split=8, splitter=best;, score=nan total time=   0.2s\n",
      "[CV 1/5] END criterion=entropy, max_depth=8, max_features=sqrt, min_samples_leaf=3, min_samples_split=6, splitter=best;, score=0.920 total time=   0.9s\n",
      "[CV 2/5] END criterion=entropy, max_depth=8, max_features=sqrt, min_samples_leaf=3, min_samples_split=6, splitter=best;, score=0.914 total time=   0.9s\n",
      "[CV 3/5] END criterion=entropy, max_depth=8, max_features=sqrt, min_samples_leaf=3, min_samples_split=6, splitter=best;, score=0.922 total time=   0.9s\n",
      "[CV 4/5] END criterion=entropy, max_depth=8, max_features=sqrt, min_samples_leaf=3, min_samples_split=6, splitter=best;, score=0.916 total time=   0.8s\n",
      "[CV 5/5] END criterion=entropy, max_depth=8, max_features=sqrt, min_samples_leaf=3, min_samples_split=6, splitter=best;, score=0.919 total time=   0.8s\n",
      "[CV 1/5] END criterion=gini, max_depth=10, max_features=sqrt, min_samples_leaf=7, min_samples_split=8, splitter=best;, score=0.915 total time=   0.9s\n",
      "[CV 2/5] END criterion=gini, max_depth=10, max_features=sqrt, min_samples_leaf=7, min_samples_split=8, splitter=best;, score=0.918 total time=   0.8s\n",
      "[CV 3/5] END criterion=gini, max_depth=10, max_features=sqrt, min_samples_leaf=7, min_samples_split=8, splitter=best;, score=0.918 total time=   0.9s\n",
      "[CV 4/5] END criterion=gini, max_depth=10, max_features=sqrt, min_samples_leaf=7, min_samples_split=8, splitter=best;, score=0.919 total time=   0.8s\n",
      "[CV 5/5] END criterion=gini, max_depth=10, max_features=sqrt, min_samples_leaf=7, min_samples_split=8, splitter=best;, score=0.923 total time=   1.1s\n",
      "[CV 1/5] END criterion=entropy, max_depth=8, max_features=log2, min_samples_leaf=7, min_samples_split=6, splitter=random;, score=0.914 total time=   0.6s\n",
      "[CV 2/5] END criterion=entropy, max_depth=8, max_features=log2, min_samples_leaf=7, min_samples_split=6, splitter=random;, score=0.916 total time=   0.5s\n",
      "[CV 3/5] END criterion=entropy, max_depth=8, max_features=log2, min_samples_leaf=7, min_samples_split=6, splitter=random;, score=0.914 total time=   0.6s\n",
      "[CV 4/5] END criterion=entropy, max_depth=8, max_features=log2, min_samples_leaf=7, min_samples_split=6, splitter=random;, score=0.914 total time=   0.5s\n",
      "[CV 5/5] END criterion=entropy, max_depth=8, max_features=log2, min_samples_leaf=7, min_samples_split=6, splitter=random;, score=0.914 total time=   0.5s\n",
      "[CV 1/5] END criterion=entropy, max_depth=7, max_features=log2, min_samples_leaf=7, min_samples_split=1, splitter=random;, score=nan total time=   0.2s\n",
      "[CV 2/5] END criterion=entropy, max_depth=7, max_features=log2, min_samples_leaf=7, min_samples_split=1, splitter=random;, score=nan total time=   0.2s\n",
      "[CV 3/5] END criterion=entropy, max_depth=7, max_features=log2, min_samples_leaf=7, min_samples_split=1, splitter=random;, score=nan total time=   0.2s\n",
      "[CV 4/5] END criterion=entropy, max_depth=7, max_features=log2, min_samples_leaf=7, min_samples_split=1, splitter=random;, score=nan total time=   0.2s\n",
      "[CV 5/5] END criterion=entropy, max_depth=7, max_features=log2, min_samples_leaf=7, min_samples_split=1, splitter=random;, score=nan total time=   0.2s\n",
      "[CV 1/5] END criterion=log_loss, max_depth=12, max_features=log2, min_samples_leaf=5, min_samples_split=8, splitter=best;, score=nan total time=   0.2s\n",
      "[CV 2/5] END criterion=log_loss, max_depth=12, max_features=log2, min_samples_leaf=5, min_samples_split=8, splitter=best;, score=nan total time=   0.2s\n",
      "[CV 3/5] END criterion=log_loss, max_depth=12, max_features=log2, min_samples_leaf=5, min_samples_split=8, splitter=best;, score=nan total time=   0.2s\n",
      "[CV 4/5] END criterion=log_loss, max_depth=12, max_features=log2, min_samples_leaf=5, min_samples_split=8, splitter=best;, score=nan total time=   0.2s\n",
      "[CV 5/5] END criterion=log_loss, max_depth=12, max_features=log2, min_samples_leaf=5, min_samples_split=8, splitter=best;, score=nan total time=   0.2s\n",
      "[CV 1/5] END criterion=log_loss, max_depth=7, max_features=sqrt, min_samples_leaf=3, min_samples_split=1, splitter=best;, score=nan total time=   0.2s\n",
      "[CV 2/5] END criterion=log_loss, max_depth=7, max_features=sqrt, min_samples_leaf=3, min_samples_split=1, splitter=best;, score=nan total time=   0.2s\n",
      "[CV 3/5] END criterion=log_loss, max_depth=7, max_features=sqrt, min_samples_leaf=3, min_samples_split=1, splitter=best;, score=nan total time=   0.2s\n",
      "[CV 4/5] END criterion=log_loss, max_depth=7, max_features=sqrt, min_samples_leaf=3, min_samples_split=1, splitter=best;, score=nan total time=   0.2s\n",
      "[CV 5/5] END criterion=log_loss, max_depth=7, max_features=sqrt, min_samples_leaf=3, min_samples_split=1, splitter=best;, score=nan total time=   0.2s\n",
      "[CV 1/5] END criterion=gini, max_depth=12, max_features=log2, min_samples_leaf=3, min_samples_split=6, splitter=best;, score=0.915 total time=   1.0s\n",
      "[CV 2/5] END criterion=gini, max_depth=12, max_features=log2, min_samples_leaf=3, min_samples_split=6, splitter=best;, score=0.918 total time=   1.0s\n",
      "[CV 3/5] END criterion=gini, max_depth=12, max_features=log2, min_samples_leaf=3, min_samples_split=6, splitter=best;, score=0.919 total time=   1.0s\n",
      "[CV 4/5] END criterion=gini, max_depth=12, max_features=log2, min_samples_leaf=3, min_samples_split=6, splitter=best;, score=0.922 total time=   1.0s\n",
      "[CV 5/5] END criterion=gini, max_depth=12, max_features=log2, min_samples_leaf=3, min_samples_split=6, splitter=best;, score=0.922 total time=   1.0s\n",
      "[CV 1/5] END criterion=gini, max_depth=8, max_features=sqrt, min_samples_leaf=3, min_samples_split=1, splitter=best;, score=nan total time=   0.2s\n",
      "[CV 2/5] END criterion=gini, max_depth=8, max_features=sqrt, min_samples_leaf=3, min_samples_split=1, splitter=best;, score=nan total time=   0.2s\n",
      "[CV 3/5] END criterion=gini, max_depth=8, max_features=sqrt, min_samples_leaf=3, min_samples_split=1, splitter=best;, score=nan total time=   0.2s\n",
      "[CV 4/5] END criterion=gini, max_depth=8, max_features=sqrt, min_samples_leaf=3, min_samples_split=1, splitter=best;, score=nan total time=   0.2s\n",
      "[CV 5/5] END criterion=gini, max_depth=8, max_features=sqrt, min_samples_leaf=3, min_samples_split=1, splitter=best;, score=nan total time=   0.2s\n",
      "[CV 1/5] END criterion=log_loss, max_depth=12, max_features=None, min_samples_leaf=1, min_samples_split=4, splitter=best;, score=nan total time=   0.2s\n",
      "[CV 2/5] END criterion=log_loss, max_depth=12, max_features=None, min_samples_leaf=1, min_samples_split=4, splitter=best;, score=nan total time=   0.2s\n",
      "[CV 3/5] END criterion=log_loss, max_depth=12, max_features=None, min_samples_leaf=1, min_samples_split=4, splitter=best;, score=nan total time=   0.2s\n",
      "[CV 4/5] END criterion=log_loss, max_depth=12, max_features=None, min_samples_leaf=1, min_samples_split=4, splitter=best;, score=nan total time=   0.2s\n",
      "[CV 5/5] END criterion=log_loss, max_depth=12, max_features=None, min_samples_leaf=1, min_samples_split=4, splitter=best;, score=nan total time=   0.2s\n",
      "[CV 1/5] END criterion=gini, max_depth=8, max_features=log2, min_samples_leaf=1, min_samples_split=1, splitter=best;, score=nan total time=   0.2s\n",
      "[CV 2/5] END criterion=gini, max_depth=8, max_features=log2, min_samples_leaf=1, min_samples_split=1, splitter=best;, score=nan total time=   0.2s\n",
      "[CV 3/5] END criterion=gini, max_depth=8, max_features=log2, min_samples_leaf=1, min_samples_split=1, splitter=best;, score=nan total time=   0.2s\n",
      "[CV 4/5] END criterion=gini, max_depth=8, max_features=log2, min_samples_leaf=1, min_samples_split=1, splitter=best;, score=nan total time=   0.2s\n",
      "[CV 5/5] END criterion=gini, max_depth=8, max_features=log2, min_samples_leaf=1, min_samples_split=1, splitter=best;, score=nan total time=   0.2s\n",
      "[CV 1/5] END criterion=entropy, max_depth=6, max_features=sqrt, min_samples_leaf=3, min_samples_split=1, splitter=random;, score=nan total time=   0.2s\n",
      "[CV 2/5] END criterion=entropy, max_depth=6, max_features=sqrt, min_samples_leaf=3, min_samples_split=1, splitter=random;, score=nan total time=   0.2s\n",
      "[CV 3/5] END criterion=entropy, max_depth=6, max_features=sqrt, min_samples_leaf=3, min_samples_split=1, splitter=random;, score=nan total time=   0.2s\n",
      "[CV 4/5] END criterion=entropy, max_depth=6, max_features=sqrt, min_samples_leaf=3, min_samples_split=1, splitter=random;, score=nan total time=   0.2s\n",
      "[CV 5/5] END criterion=entropy, max_depth=6, max_features=sqrt, min_samples_leaf=3, min_samples_split=1, splitter=random;, score=nan total time=   0.2s\n",
      "[CV 1/5] END criterion=log_loss, max_depth=10, max_features=None, min_samples_leaf=5, min_samples_split=1, splitter=best;, score=nan total time=   0.2s\n",
      "[CV 2/5] END criterion=log_loss, max_depth=10, max_features=None, min_samples_leaf=5, min_samples_split=1, splitter=best;, score=nan total time=   0.7s\n",
      "[CV 3/5] END criterion=log_loss, max_depth=10, max_features=None, min_samples_leaf=5, min_samples_split=1, splitter=best;, score=nan total time=   0.3s\n",
      "[CV 4/5] END criterion=log_loss, max_depth=10, max_features=None, min_samples_leaf=5, min_samples_split=1, splitter=best;, score=nan total time=   0.2s\n",
      "[CV 5/5] END criterion=log_loss, max_depth=10, max_features=None, min_samples_leaf=5, min_samples_split=1, splitter=best;, score=nan total time=   0.2s\n",
      "[CV 1/5] END criterion=entropy, max_depth=4, max_features=log2, min_samples_leaf=1, min_samples_split=8, splitter=random;, score=0.914 total time=   0.3s\n",
      "[CV 2/5] END criterion=entropy, max_depth=4, max_features=log2, min_samples_leaf=1, min_samples_split=8, splitter=random;, score=0.914 total time=   0.3s\n",
      "[CV 3/5] END criterion=entropy, max_depth=4, max_features=log2, min_samples_leaf=1, min_samples_split=8, splitter=random;, score=0.914 total time=   0.4s\n",
      "[CV 4/5] END criterion=entropy, max_depth=4, max_features=log2, min_samples_leaf=1, min_samples_split=8, splitter=random;, score=0.914 total time=   0.3s\n",
      "[CV 5/5] END criterion=entropy, max_depth=4, max_features=log2, min_samples_leaf=1, min_samples_split=8, splitter=random;, score=0.914 total time=   0.3s\n",
      "[CV 1/5] END criterion=log_loss, max_depth=6, max_features=None, min_samples_leaf=7, min_samples_split=2, splitter=best;, score=nan total time=   0.2s\n",
      "[CV 2/5] END criterion=log_loss, max_depth=6, max_features=None, min_samples_leaf=7, min_samples_split=2, splitter=best;, score=nan total time=   0.2s\n",
      "[CV 3/5] END criterion=log_loss, max_depth=6, max_features=None, min_samples_leaf=7, min_samples_split=2, splitter=best;, score=nan total time=   0.2s\n",
      "[CV 4/5] END criterion=log_loss, max_depth=6, max_features=None, min_samples_leaf=7, min_samples_split=2, splitter=best;, score=nan total time=   0.2s\n",
      "[CV 5/5] END criterion=log_loss, max_depth=6, max_features=None, min_samples_leaf=7, min_samples_split=2, splitter=best;, score=nan total time=   0.2s\n",
      "[CV 1/5] END criterion=entropy, max_depth=8, max_features=sqrt, min_samples_leaf=7, min_samples_split=8, splitter=random;, score=0.914 total time=   0.5s\n",
      "[CV 2/5] END criterion=entropy, max_depth=8, max_features=sqrt, min_samples_leaf=7, min_samples_split=8, splitter=random;, score=0.915 total time=   0.5s\n",
      "[CV 3/5] END criterion=entropy, max_depth=8, max_features=sqrt, min_samples_leaf=7, min_samples_split=8, splitter=random;, score=0.914 total time=   0.5s\n",
      "[CV 4/5] END criterion=entropy, max_depth=8, max_features=sqrt, min_samples_leaf=7, min_samples_split=8, splitter=random;, score=0.914 total time=   0.5s\n",
      "[CV 5/5] END criterion=entropy, max_depth=8, max_features=sqrt, min_samples_leaf=7, min_samples_split=8, splitter=random;, score=0.914 total time=   0.5s\n",
      "[CV 1/5] END criterion=gini, max_depth=12, max_features=None, min_samples_leaf=1, min_samples_split=1, splitter=random;, score=nan total time=   0.2s\n",
      "[CV 2/5] END criterion=gini, max_depth=12, max_features=None, min_samples_leaf=1, min_samples_split=1, splitter=random;, score=nan total time=   0.2s\n",
      "[CV 3/5] END criterion=gini, max_depth=12, max_features=None, min_samples_leaf=1, min_samples_split=1, splitter=random;, score=nan total time=   0.2s\n",
      "[CV 4/5] END criterion=gini, max_depth=12, max_features=None, min_samples_leaf=1, min_samples_split=1, splitter=random;, score=nan total time=   0.2s\n",
      "[CV 5/5] END criterion=gini, max_depth=12, max_features=None, min_samples_leaf=1, min_samples_split=1, splitter=random;, score=nan total time=   0.2s\n",
      "[CV 1/5] END criterion=gini, max_depth=4, max_features=sqrt, min_samples_leaf=5, min_samples_split=8, splitter=best;, score=0.914 total time=   0.4s\n",
      "[CV 2/5] END criterion=gini, max_depth=4, max_features=sqrt, min_samples_leaf=5, min_samples_split=8, splitter=best;, score=0.914 total time=   0.4s\n",
      "[CV 3/5] END criterion=gini, max_depth=4, max_features=sqrt, min_samples_leaf=5, min_samples_split=8, splitter=best;, score=0.921 total time=   0.5s\n",
      "[CV 4/5] END criterion=gini, max_depth=4, max_features=sqrt, min_samples_leaf=5, min_samples_split=8, splitter=best;, score=0.914 total time=   0.5s\n",
      "[CV 5/5] END criterion=gini, max_depth=4, max_features=sqrt, min_samples_leaf=5, min_samples_split=8, splitter=best;, score=0.915 total time=   0.5s\n",
      "[CV 1/5] END criterion=log_loss, max_depth=4, max_features=log2, min_samples_leaf=5, min_samples_split=1, splitter=best;, score=nan total time=   0.2s\n",
      "[CV 2/5] END criterion=log_loss, max_depth=4, max_features=log2, min_samples_leaf=5, min_samples_split=1, splitter=best;, score=nan total time=   0.2s\n",
      "[CV 3/5] END criterion=log_loss, max_depth=4, max_features=log2, min_samples_leaf=5, min_samples_split=1, splitter=best;, score=nan total time=   0.2s\n",
      "[CV 4/5] END criterion=log_loss, max_depth=4, max_features=log2, min_samples_leaf=5, min_samples_split=1, splitter=best;, score=nan total time=   0.2s\n",
      "[CV 5/5] END criterion=log_loss, max_depth=4, max_features=log2, min_samples_leaf=5, min_samples_split=1, splitter=best;, score=nan total time=   0.2s\n",
      "[CV 1/5] END criterion=log_loss, max_depth=7, max_features=None, min_samples_leaf=3, min_samples_split=1, splitter=best;, score=nan total time=   0.2s\n",
      "[CV 2/5] END criterion=log_loss, max_depth=7, max_features=None, min_samples_leaf=3, min_samples_split=1, splitter=best;, score=nan total time=   0.2s\n",
      "[CV 3/5] END criterion=log_loss, max_depth=7, max_features=None, min_samples_leaf=3, min_samples_split=1, splitter=best;, score=nan total time=   0.2s\n",
      "[CV 4/5] END criterion=log_loss, max_depth=7, max_features=None, min_samples_leaf=3, min_samples_split=1, splitter=best;, score=nan total time=   0.2s\n",
      "[CV 5/5] END criterion=log_loss, max_depth=7, max_features=None, min_samples_leaf=3, min_samples_split=1, splitter=best;, score=nan total time=   0.2s\n",
      "[CV 1/5] END criterion=log_loss, max_depth=10, max_features=sqrt, min_samples_leaf=1, min_samples_split=8, splitter=best;, score=nan total time=   0.2s\n",
      "[CV 2/5] END criterion=log_loss, max_depth=10, max_features=sqrt, min_samples_leaf=1, min_samples_split=8, splitter=best;, score=nan total time=   0.2s\n",
      "[CV 3/5] END criterion=log_loss, max_depth=10, max_features=sqrt, min_samples_leaf=1, min_samples_split=8, splitter=best;, score=nan total time=   0.2s\n",
      "[CV 4/5] END criterion=log_loss, max_depth=10, max_features=sqrt, min_samples_leaf=1, min_samples_split=8, splitter=best;, score=nan total time=   0.2s\n",
      "[CV 5/5] END criterion=log_loss, max_depth=10, max_features=sqrt, min_samples_leaf=1, min_samples_split=8, splitter=best;, score=nan total time=   0.2s\n",
      "[CV 1/5] END criterion=log_loss, max_depth=6, max_features=sqrt, min_samples_leaf=3, min_samples_split=1, splitter=random;, score=nan total time=   0.2s\n",
      "[CV 2/5] END criterion=log_loss, max_depth=6, max_features=sqrt, min_samples_leaf=3, min_samples_split=1, splitter=random;, score=nan total time=   0.2s\n",
      "[CV 3/5] END criterion=log_loss, max_depth=6, max_features=sqrt, min_samples_leaf=3, min_samples_split=1, splitter=random;, score=nan total time=   0.2s\n",
      "[CV 4/5] END criterion=log_loss, max_depth=6, max_features=sqrt, min_samples_leaf=3, min_samples_split=1, splitter=random;, score=nan total time=   0.2s\n",
      "[CV 5/5] END criterion=log_loss, max_depth=6, max_features=sqrt, min_samples_leaf=3, min_samples_split=1, splitter=random;, score=nan total time=   0.2s\n",
      "[CV 1/5] END criterion=gini, max_depth=6, max_features=log2, min_samples_leaf=3, min_samples_split=1, splitter=random;, score=nan total time=   0.2s\n",
      "[CV 2/5] END criterion=gini, max_depth=6, max_features=log2, min_samples_leaf=3, min_samples_split=1, splitter=random;, score=nan total time=   0.2s\n",
      "[CV 3/5] END criterion=gini, max_depth=6, max_features=log2, min_samples_leaf=3, min_samples_split=1, splitter=random;, score=nan total time=   0.2s\n",
      "[CV 4/5] END criterion=gini, max_depth=6, max_features=log2, min_samples_leaf=3, min_samples_split=1, splitter=random;, score=nan total time=   0.2s\n",
      "[CV 5/5] END criterion=gini, max_depth=6, max_features=log2, min_samples_leaf=3, min_samples_split=1, splitter=random;, score=nan total time=   0.2s\n",
      "[CV 1/5] END criterion=gini, max_depth=6, max_features=log2, min_samples_leaf=3, min_samples_split=8, splitter=random;, score=0.914 total time=   0.4s\n",
      "[CV 2/5] END criterion=gini, max_depth=6, max_features=log2, min_samples_leaf=3, min_samples_split=8, splitter=random;, score=0.914 total time=   0.4s\n",
      "[CV 3/5] END criterion=gini, max_depth=6, max_features=log2, min_samples_leaf=3, min_samples_split=8, splitter=random;, score=0.914 total time=   0.4s\n",
      "[CV 4/5] END criterion=gini, max_depth=6, max_features=log2, min_samples_leaf=3, min_samples_split=8, splitter=random;, score=0.914 total time=   0.4s\n",
      "[CV 5/5] END criterion=gini, max_depth=6, max_features=log2, min_samples_leaf=3, min_samples_split=8, splitter=random;, score=0.914 total time=   0.4s\n",
      "[CV 1/5] END criterion=entropy, max_depth=7, max_features=None, min_samples_leaf=5, min_samples_split=2, splitter=best;, score=0.932 total time=   1.8s\n",
      "[CV 2/5] END criterion=entropy, max_depth=7, max_features=None, min_samples_leaf=5, min_samples_split=2, splitter=best;, score=0.932 total time=   1.8s\n",
      "[CV 3/5] END criterion=entropy, max_depth=7, max_features=None, min_samples_leaf=5, min_samples_split=2, splitter=best;, score=0.933 total time=   1.9s\n",
      "[CV 4/5] END criterion=entropy, max_depth=7, max_features=None, min_samples_leaf=5, min_samples_split=2, splitter=best;, score=0.933 total time=   1.9s\n",
      "[CV 5/5] END criterion=entropy, max_depth=7, max_features=None, min_samples_leaf=5, min_samples_split=2, splitter=best;, score=0.933 total time=   1.8s\n",
      "[CV 1/5] END criterion=entropy, max_depth=12, max_features=None, min_samples_leaf=7, min_samples_split=6, splitter=random;, score=0.945 total time=   1.6s\n",
      "[CV 2/5] END criterion=entropy, max_depth=12, max_features=None, min_samples_leaf=7, min_samples_split=6, splitter=random;, score=0.929 total time=   1.6s\n",
      "[CV 3/5] END criterion=entropy, max_depth=12, max_features=None, min_samples_leaf=7, min_samples_split=6, splitter=random;, score=0.942 total time=   1.9s\n",
      "[CV 4/5] END criterion=entropy, max_depth=12, max_features=None, min_samples_leaf=7, min_samples_split=6, splitter=random;, score=0.947 total time=   1.7s\n",
      "[CV 5/5] END criterion=entropy, max_depth=12, max_features=None, min_samples_leaf=7, min_samples_split=6, splitter=random;, score=0.935 total time=   1.8s\n",
      "[CV 1/5] END criterion=log_loss, max_depth=2, max_features=None, min_samples_leaf=1, min_samples_split=1, splitter=random;, score=nan total time=   0.2s\n",
      "[CV 2/5] END criterion=log_loss, max_depth=2, max_features=None, min_samples_leaf=1, min_samples_split=1, splitter=random;, score=nan total time=   0.2s\n",
      "[CV 3/5] END criterion=log_loss, max_depth=2, max_features=None, min_samples_leaf=1, min_samples_split=1, splitter=random;, score=nan total time=   0.2s\n",
      "[CV 4/5] END criterion=log_loss, max_depth=2, max_features=None, min_samples_leaf=1, min_samples_split=1, splitter=random;, score=nan total time=   0.2s\n",
      "[CV 5/5] END criterion=log_loss, max_depth=2, max_features=None, min_samples_leaf=1, min_samples_split=1, splitter=random;, score=nan total time=   0.2s\n",
      "[CV 1/5] END criterion=log_loss, max_depth=7, max_features=sqrt, min_samples_leaf=7, min_samples_split=6, splitter=random;, score=nan total time=   0.2s\n",
      "[CV 2/5] END criterion=log_loss, max_depth=7, max_features=sqrt, min_samples_leaf=7, min_samples_split=6, splitter=random;, score=nan total time=   0.2s\n",
      "[CV 3/5] END criterion=log_loss, max_depth=7, max_features=sqrt, min_samples_leaf=7, min_samples_split=6, splitter=random;, score=nan total time=   0.2s\n",
      "[CV 4/5] END criterion=log_loss, max_depth=7, max_features=sqrt, min_samples_leaf=7, min_samples_split=6, splitter=random;, score=nan total time=   0.2s\n",
      "[CV 5/5] END criterion=log_loss, max_depth=7, max_features=sqrt, min_samples_leaf=7, min_samples_split=6, splitter=random;, score=nan total time=   0.2s\n",
      "[CV 1/5] END criterion=gini, max_depth=7, max_features=None, min_samples_leaf=1, min_samples_split=1, splitter=best;, score=nan total time=   0.2s\n",
      "[CV 2/5] END criterion=gini, max_depth=7, max_features=None, min_samples_leaf=1, min_samples_split=1, splitter=best;, score=nan total time=   0.2s\n",
      "[CV 3/5] END criterion=gini, max_depth=7, max_features=None, min_samples_leaf=1, min_samples_split=1, splitter=best;, score=nan total time=   0.2s\n",
      "[CV 4/5] END criterion=gini, max_depth=7, max_features=None, min_samples_leaf=1, min_samples_split=1, splitter=best;, score=nan total time=   0.2s\n",
      "[CV 5/5] END criterion=gini, max_depth=7, max_features=None, min_samples_leaf=1, min_samples_split=1, splitter=best;, score=nan total time=   0.2s\n",
      "[CV 1/5] END criterion=entropy, max_depth=10, max_features=None, min_samples_leaf=3, min_samples_split=2, splitter=best;, score=0.945 total time=   2.3s\n",
      "[CV 2/5] END criterion=entropy, max_depth=10, max_features=None, min_samples_leaf=3, min_samples_split=2, splitter=best;, score=0.947 total time=   2.3s\n",
      "[CV 3/5] END criterion=entropy, max_depth=10, max_features=None, min_samples_leaf=3, min_samples_split=2, splitter=best;, score=0.945 total time=   2.2s\n",
      "[CV 4/5] END criterion=entropy, max_depth=10, max_features=None, min_samples_leaf=3, min_samples_split=2, splitter=best;, score=0.947 total time=   2.2s\n",
      "[CV 5/5] END criterion=entropy, max_depth=10, max_features=None, min_samples_leaf=3, min_samples_split=2, splitter=best;, score=0.946 total time=   2.2s\n",
      "[CV 1/5] END criterion=gini, max_depth=4, max_features=None, min_samples_leaf=3, min_samples_split=8, splitter=best;, score=0.922 total time=   1.4s\n",
      "[CV 2/5] END criterion=gini, max_depth=4, max_features=None, min_samples_leaf=3, min_samples_split=8, splitter=best;, score=0.922 total time=   1.4s\n",
      "[CV 3/5] END criterion=gini, max_depth=4, max_features=None, min_samples_leaf=3, min_samples_split=8, splitter=best;, score=0.922 total time=   1.4s\n",
      "[CV 4/5] END criterion=gini, max_depth=4, max_features=None, min_samples_leaf=3, min_samples_split=8, splitter=best;, score=0.921 total time=   1.5s\n",
      "[CV 5/5] END criterion=gini, max_depth=4, max_features=None, min_samples_leaf=3, min_samples_split=8, splitter=best;, score=0.921 total time=   1.4s\n",
      "[CV 1/5] END criterion=entropy, max_depth=4, max_features=None, min_samples_leaf=7, min_samples_split=8, splitter=best;, score=0.922 total time=   1.3s\n",
      "[CV 2/5] END criterion=entropy, max_depth=4, max_features=None, min_samples_leaf=7, min_samples_split=8, splitter=best;, score=0.922 total time=   1.3s\n",
      "[CV 3/5] END criterion=entropy, max_depth=4, max_features=None, min_samples_leaf=7, min_samples_split=8, splitter=best;, score=0.922 total time=   1.3s\n",
      "[CV 4/5] END criterion=entropy, max_depth=4, max_features=None, min_samples_leaf=7, min_samples_split=8, splitter=best;, score=0.921 total time=   1.3s\n",
      "[CV 5/5] END criterion=entropy, max_depth=4, max_features=None, min_samples_leaf=7, min_samples_split=8, splitter=best;, score=0.921 total time=   1.3s\n",
      "[CV 1/5] END criterion=entropy, max_depth=6, max_features=log2, min_samples_leaf=7, min_samples_split=4, splitter=best;, score=0.921 total time=   0.6s\n",
      "[CV 2/5] END criterion=entropy, max_depth=6, max_features=log2, min_samples_leaf=7, min_samples_split=4, splitter=best;, score=0.921 total time=   0.6s\n",
      "[CV 3/5] END criterion=entropy, max_depth=6, max_features=log2, min_samples_leaf=7, min_samples_split=4, splitter=best;, score=0.915 total time=   0.6s\n",
      "[CV 4/5] END criterion=entropy, max_depth=6, max_features=log2, min_samples_leaf=7, min_samples_split=4, splitter=best;, score=0.918 total time=   0.6s\n",
      "[CV 5/5] END criterion=entropy, max_depth=6, max_features=log2, min_samples_leaf=7, min_samples_split=4, splitter=best;, score=0.921 total time=   0.6s\n",
      "[CV 1/5] END criterion=log_loss, max_depth=2, max_features=None, min_samples_leaf=7, min_samples_split=2, splitter=best;, score=nan total time=   0.2s\n",
      "[CV 2/5] END criterion=log_loss, max_depth=2, max_features=None, min_samples_leaf=7, min_samples_split=2, splitter=best;, score=nan total time=   0.2s\n",
      "[CV 3/5] END criterion=log_loss, max_depth=2, max_features=None, min_samples_leaf=7, min_samples_split=2, splitter=best;, score=nan total time=   0.2s\n",
      "[CV 4/5] END criterion=log_loss, max_depth=2, max_features=None, min_samples_leaf=7, min_samples_split=2, splitter=best;, score=nan total time=   0.2s\n",
      "[CV 5/5] END criterion=log_loss, max_depth=2, max_features=None, min_samples_leaf=7, min_samples_split=2, splitter=best;, score=nan total time=   0.2s\n",
      "[CV 1/5] END criterion=gini, max_depth=4, max_features=sqrt, min_samples_leaf=7, min_samples_split=4, splitter=best;, score=0.914 total time=   0.6s\n",
      "[CV 2/5] END criterion=gini, max_depth=4, max_features=sqrt, min_samples_leaf=7, min_samples_split=4, splitter=best;, score=0.915 total time=   0.5s\n",
      "[CV 3/5] END criterion=gini, max_depth=4, max_features=sqrt, min_samples_leaf=7, min_samples_split=4, splitter=best;, score=0.921 total time=   0.6s\n",
      "[CV 4/5] END criterion=gini, max_depth=4, max_features=sqrt, min_samples_leaf=7, min_samples_split=4, splitter=best;, score=0.914 total time=   0.5s\n",
      "[CV 5/5] END criterion=gini, max_depth=4, max_features=sqrt, min_samples_leaf=7, min_samples_split=4, splitter=best;, score=0.914 total time=   0.5s\n",
      "[CV 1/5] END criterion=log_loss, max_depth=12, max_features=sqrt, min_samples_leaf=7, min_samples_split=8, splitter=best;, score=nan total time=   0.2s\n",
      "[CV 2/5] END criterion=log_loss, max_depth=12, max_features=sqrt, min_samples_leaf=7, min_samples_split=8, splitter=best;, score=nan total time=   0.2s\n",
      "[CV 3/5] END criterion=log_loss, max_depth=12, max_features=sqrt, min_samples_leaf=7, min_samples_split=8, splitter=best;, score=nan total time=   0.2s\n",
      "[CV 4/5] END criterion=log_loss, max_depth=12, max_features=sqrt, min_samples_leaf=7, min_samples_split=8, splitter=best;, score=nan total time=   0.2s\n",
      "[CV 5/5] END criterion=log_loss, max_depth=12, max_features=sqrt, min_samples_leaf=7, min_samples_split=8, splitter=best;, score=nan total time=   0.2s\n",
      "[CV 1/5] END criterion=entropy, max_depth=8, max_features=None, min_samples_leaf=1, min_samples_split=6, splitter=best;, score=0.935 total time=   2.0s\n",
      "[CV 2/5] END criterion=entropy, max_depth=8, max_features=None, min_samples_leaf=1, min_samples_split=6, splitter=best;, score=0.936 total time=   2.0s\n",
      "[CV 3/5] END criterion=entropy, max_depth=8, max_features=None, min_samples_leaf=1, min_samples_split=6, splitter=best;, score=0.935 total time=   2.0s\n",
      "[CV 4/5] END criterion=entropy, max_depth=8, max_features=None, min_samples_leaf=1, min_samples_split=6, splitter=best;, score=0.936 total time=   1.9s\n",
      "[CV 5/5] END criterion=entropy, max_depth=8, max_features=None, min_samples_leaf=1, min_samples_split=6, splitter=best;, score=0.936 total time=   2.0s\n",
      "[CV 1/5] END criterion=entropy, max_depth=4, max_features=None, min_samples_leaf=5, min_samples_split=1, splitter=random;, score=nan total time=   0.2s\n",
      "[CV 2/5] END criterion=entropy, max_depth=4, max_features=None, min_samples_leaf=5, min_samples_split=1, splitter=random;, score=nan total time=   0.2s\n",
      "[CV 3/5] END criterion=entropy, max_depth=4, max_features=None, min_samples_leaf=5, min_samples_split=1, splitter=random;, score=nan total time=   0.2s\n",
      "[CV 4/5] END criterion=entropy, max_depth=4, max_features=None, min_samples_leaf=5, min_samples_split=1, splitter=random;, score=nan total time=   0.2s\n",
      "[CV 5/5] END criterion=entropy, max_depth=4, max_features=None, min_samples_leaf=5, min_samples_split=1, splitter=random;, score=nan total time=   0.2s\n",
      "[CV 1/5] END criterion=log_loss, max_depth=2, max_features=sqrt, min_samples_leaf=1, min_samples_split=4, splitter=best;, score=nan total time=   0.2s\n",
      "[CV 2/5] END criterion=log_loss, max_depth=2, max_features=sqrt, min_samples_leaf=1, min_samples_split=4, splitter=best;, score=nan total time=   0.2s\n",
      "[CV 3/5] END criterion=log_loss, max_depth=2, max_features=sqrt, min_samples_leaf=1, min_samples_split=4, splitter=best;, score=nan total time=   0.2s\n",
      "[CV 4/5] END criterion=log_loss, max_depth=2, max_features=sqrt, min_samples_leaf=1, min_samples_split=4, splitter=best;, score=nan total time=   0.2s\n",
      "[CV 5/5] END criterion=log_loss, max_depth=2, max_features=sqrt, min_samples_leaf=1, min_samples_split=4, splitter=best;, score=nan total time=   0.2s\n"
     ]
    },
    {
     "name": "stderr",
     "output_type": "stream",
     "text": [
      "/usr/local/lib/python3.7/dist-packages/sklearn/model_selection/_validation.py:372: FitFailedWarning: \n",
      "235 fits failed out of a total of 500.\n",
      "The score on these train-test partitions for these parameters will be set to nan.\n",
      "If these failures are not expected, you can try to debug them by setting error_score='raise'.\n",
      "\n",
      "Below are more details about the failures:\n",
      "--------------------------------------------------------------------------------\n",
      "135 fits failed with the following error:\n",
      "Traceback (most recent call last):\n",
      "  File \"/usr/local/lib/python3.7/dist-packages/sklearn/model_selection/_validation.py\", line 680, in _fit_and_score\n",
      "    estimator.fit(X_train, y_train, **fit_params)\n",
      "  File \"/usr/local/lib/python3.7/dist-packages/sklearn/tree/_classes.py\", line 942, in fit\n",
      "    X_idx_sorted=X_idx_sorted,\n",
      "  File \"/usr/local/lib/python3.7/dist-packages/sklearn/tree/_classes.py\", line 254, in fit\n",
      "    % self.min_samples_split\n",
      "ValueError: min_samples_split must be an integer greater than 1 or a float in (0.0, 1.0]; got the integer 1\n",
      "\n",
      "--------------------------------------------------------------------------------\n",
      "100 fits failed with the following error:\n",
      "Traceback (most recent call last):\n",
      "  File \"/usr/local/lib/python3.7/dist-packages/sklearn/model_selection/_validation.py\", line 680, in _fit_and_score\n",
      "    estimator.fit(X_train, y_train, **fit_params)\n",
      "  File \"/usr/local/lib/python3.7/dist-packages/sklearn/tree/_classes.py\", line 942, in fit\n",
      "    X_idx_sorted=X_idx_sorted,\n",
      "  File \"/usr/local/lib/python3.7/dist-packages/sklearn/tree/_classes.py\", line 352, in fit\n",
      "    criterion = CRITERIA_CLF[self.criterion](\n",
      "KeyError: 'log_loss'\n",
      "\n",
      "  warnings.warn(some_fits_failed_message, FitFailedWarning)\n",
      "/usr/local/lib/python3.7/dist-packages/sklearn/model_selection/_search.py:972: UserWarning: One or more of the test scores are non-finite: [0.91522586 0.91455758        nan 0.91399368        nan 0.91541141\n",
      " 0.91814396        nan 0.9269229         nan        nan        nan\n",
      "        nan        nan        nan 0.91474893        nan 0.91585934\n",
      " 0.91530994 0.91402847 0.91634788 0.9142691  0.91859914 0.91527804\n",
      "        nan 0.91633917 0.91398063 0.91398063        nan 0.91398063\n",
      " 0.91415458        nan 0.91398063 0.91723214        nan        nan\n",
      " 0.91725245        nan 0.91725678 0.91397773 0.91563175        nan\n",
      " 0.92403379 0.91586369 0.91910506 0.91500841        nan 0.94770619\n",
      " 0.91719155 0.91398063        nan        nan 0.92867114 0.94039572\n",
      " 0.91913406 0.91398063        nan 0.91401107        nan        nan\n",
      "        nan        nan 0.91844403 0.91876005 0.91445176        nan\n",
      "        nan        nan 0.91929932        nan        nan        nan\n",
      "        nan        nan 0.91398063        nan 0.91417488        nan\n",
      " 0.91558246        nan        nan        nan        nan        nan\n",
      " 0.91398498 0.93273589 0.93946506        nan        nan        nan\n",
      " 0.94602027 0.92157957 0.92157957 0.91924857        nan 0.91558826\n",
      "        nan 0.9356395         nan        nan]\n",
      "  category=UserWarning,\n"
     ]
    },
    {
     "data": {
      "text/plain": [
       "RandomizedSearchCV(cv=5, estimator=DecisionTreeClassifier(), n_iter=100,\n",
       "                   param_distributions={'criterion': ['gini', 'entropy',\n",
       "                                                      'log_loss'],\n",
       "                                        'max_depth': [2, 4, 6, 7, 8, 10, 12],\n",
       "                                        'max_features': ['log2', 'sqrt', None],\n",
       "                                        'min_samples_leaf': [1, 3, 5, 7],\n",
       "                                        'min_samples_split': [1, 2, 4, 6, 8],\n",
       "                                        'splitter': ['best', 'random']},\n",
       "                   random_state=42, verbose=3)"
      ]
     },
     "execution_count": 19,
     "metadata": {},
     "output_type": "execute_result"
    }
   ],
   "source": [
    "tree = DecisionTreeClassifier()\n",
    "parameters = {\n",
    "    'criterion'         : ['gini', 'entropy', 'log_loss'],\n",
    "    'splitter'          : ['best', 'random'],\n",
    "    'max_depth'         : [2, 4, 6, 7, 8, 10, 12],\n",
    "    'min_samples_leaf'  : [1, 3, 5, 7],\n",
    "    'min_samples_split' : [1, 2, 4, 6, 8],\n",
    "    'max_features'      : ['log2', 'sqrt', None]\n",
    "}\n",
    "\n",
    "tuning_model2 = RandomizedSearchCV(\n",
    "    tree, parameters, n_iter=100,\n",
    "    cv=5, verbose=3, random_state=42\n",
    ")\n",
    "\n",
    "tuning_model2.fit(x1_train, y2_train)"
   ]
  },
  {
   "cell_type": "code",
   "execution_count": null,
   "id": "9ad18ac3",
   "metadata": {
    "colab": {
     "base_uri": "https://localhost:8080/"
    },
    "id": "9_0okfbYJmzx",
    "outputId": "391baca3-ae20-42a8-e8c3-be62cb5b2be1"
   },
   "outputs": [
    {
     "data": {
      "text/plain": [
       "{'criterion': 'gini',\n",
       " 'max_depth': 12,\n",
       " 'max_features': None,\n",
       " 'min_samples_leaf': 1,\n",
       " 'min_samples_split': 8,\n",
       " 'splitter': 'best'}"
      ]
     },
     "execution_count": 20,
     "metadata": {},
     "output_type": "execute_result"
    }
   ],
   "source": [
    "tuning_model2.best_params_"
   ]
  },
  {
   "cell_type": "code",
   "execution_count": null,
   "id": "87b73ff7",
   "metadata": {
    "colab": {
     "base_uri": "https://localhost:8080/"
    },
    "id": "ePC3Afn6JnFu",
    "outputId": "ef294eb5-30f8-47a2-a3a1-89047000f618"
   },
   "outputs": [
    {
     "data": {
      "text/plain": [
       "0.9477061851639196"
      ]
     },
     "execution_count": 21,
     "metadata": {},
     "output_type": "execute_result"
    }
   ],
   "source": [
    "tuning_model2.best_score_"
   ]
  },
  {
   "cell_type": "code",
   "execution_count": null,
   "id": "1869f46a",
   "metadata": {
    "id": "c8_QG2UyJnRk"
   },
   "outputs": [],
   "source": [
    "tree2 = DecisionTreeClassifier(\n",
    "    splitter = 'best',\n",
    "    min_samples_split = 8,\n",
    "    min_samples_leaf = 1,\n",
    "    max_features = None,\n",
    "    max_depth = 12,\n",
    "    criterion = 'gini'\n",
    ")\n",
    "tree2.fit(x2_train, y2_train)\n",
    "\n",
    "y2_train_pred = tree2.predict(x2_train)\n",
    "y2_test_pred = tree2.predict(x2_test)\n",
    "\n",
    "preds_test_tree2 = tree2.predict_proba(x2_test)[:, 1]\n",
    "preds_train_tree2 = tree2.predict_proba(x2_train)[:, 1]"
   ]
  },
  {
   "cell_type": "code",
   "execution_count": null,
   "id": "e1ba65c9",
   "metadata": {
    "colab": {
     "base_uri": "https://localhost:8080/"
    },
    "id": "v_6ttNwAJnr5",
    "outputId": "c686e928-bb00-44ca-b06a-e68d8be2b301"
   },
   "outputs": [
    {
     "name": "stdout",
     "output_type": "stream",
     "text": [
      "f1_test: 0.6522383634746517\n",
      "f1_test: 0.6699830958705627\n",
      "roc_auc_test: 0.9638765599287792\n",
      "roc_auc_train: 0.9693522022021631\n"
     ]
    }
   ],
   "source": [
    "print('f1_test:', f1_score(y2_test, y2_test_pred))\n",
    "print('f1_test:', f1_score(y2_train, y2_train_pred))\n",
    "print('roc_auc_test:', roc_auc_score(y2_test, preds_test_tree2))\n",
    "print('roc_auc_train:', roc_auc_score(y2_train, preds_train_tree2))"
   ]
  },
  {
   "cell_type": "code",
   "execution_count": null,
   "id": "6c207715",
   "metadata": {
    "colab": {
     "base_uri": "https://localhost:8080/",
     "height": 350
    },
    "id": "tWWuNMyjJwQe",
    "outputId": "ea2f7976-4d41-4ce5-8817-49c443d43019"
   },
   "outputs": [
    {
     "data": {
      "image/png": "[encoded data removed]",
      "text/plain": [
       "<Figure size 576x360 with 1 Axes>"
      ]
     },
     "metadata": {
      "needs_background": "light"
     },
     "output_type": "display_data"
    }
   ],
   "source": [
    "fpr2, tpr2, _ = roc_curve(y2_test, y2_test_pred, drop_intermediate=False)\n",
    "\n",
    "plt.figure(figsize=(8, 5))\n",
    "plt.clf()\n",
    "plt.plot(fpr2, tpr2)\n",
    "plt.plot(fpr2, fpr2)\n",
    "plt.xlabel('FPR')\n",
    "plt.ylabel('TPR')\n",
    "plt.title('ROC curve decision tree for Target2')\n",
    "plt.show()"
   ]
  },
  {
   "cell_type": "markdown",
   "id": "d693a2b8",
   "metadata": {
    "id": "4c04cb04"
   },
   "source": [
    "#### Случайный лес"
   ]
  },
  {
   "cell_type": "code",
   "execution_count": null,
   "id": "2b2f7400",
   "metadata": {
    "colab": {
     "base_uri": "https://localhost:8080/"
    },
    "id": "bdd7c99c",
    "outputId": "77478bb2-7a35-4743-f392-b4a89f7b8580"
   },
   "outputs": [
    {
     "name": "stdout",
     "output_type": "stream",
     "text": [
      "Fitting 5 folds for each of 10 candidates, totalling 50 fits\n"
     ]
    },
    {
     "name": "stderr",
     "output_type": "stream",
     "text": [
      "/usr/local/lib/python3.7/dist-packages/sklearn/model_selection/_validation.py:680: DataConversionWarning: A column-vector y was passed when a 1d array was expected. Please change the shape of y to (n_samples,), for example using ravel().\n",
      "  estimator.fit(X_train, y_train, **fit_params)\n"
     ]
    },
    {
     "name": "stdout",
     "output_type": "stream",
     "text": [
      "[CV 1/5] END ......max_depth=3, n_estimators=20;, score=0.914 total time=   8.3s\n"
     ]
    },
    {
     "name": "stderr",
     "output_type": "stream",
     "text": [
      "/usr/local/lib/python3.7/dist-packages/sklearn/model_selection/_validation.py:680: DataConversionWarning: A column-vector y was passed when a 1d array was expected. Please change the shape of y to (n_samples,), for example using ravel().\n",
      "  estimator.fit(X_train, y_train, **fit_params)\n"
     ]
    },
    {
     "name": "stdout",
     "output_type": "stream",
     "text": [
      "[CV 2/5] END ......max_depth=3, n_estimators=20;, score=0.914 total time=   5.1s\n"
     ]
    },
    {
     "name": "stderr",
     "output_type": "stream",
     "text": [
      "/usr/local/lib/python3.7/dist-packages/sklearn/model_selection/_validation.py:680: DataConversionWarning: A column-vector y was passed when a 1d array was expected. Please change the shape of y to (n_samples,), for example using ravel().\n",
      "  estimator.fit(X_train, y_train, **fit_params)\n"
     ]
    },
    {
     "name": "stdout",
     "output_type": "stream",
     "text": [
      "[CV 3/5] END ......max_depth=3, n_estimators=20;, score=0.914 total time=   5.1s\n"
     ]
    },
    {
     "name": "stderr",
     "output_type": "stream",
     "text": [
      "/usr/local/lib/python3.7/dist-packages/sklearn/model_selection/_validation.py:680: DataConversionWarning: A column-vector y was passed when a 1d array was expected. Please change the shape of y to (n_samples,), for example using ravel().\n",
      "  estimator.fit(X_train, y_train, **fit_params)\n"
     ]
    },
    {
     "name": "stdout",
     "output_type": "stream",
     "text": [
      "[CV 4/5] END ......max_depth=3, n_estimators=20;, score=0.914 total time=   5.3s\n"
     ]
    },
    {
     "name": "stderr",
     "output_type": "stream",
     "text": [
      "/usr/local/lib/python3.7/dist-packages/sklearn/model_selection/_validation.py:680: DataConversionWarning: A column-vector y was passed when a 1d array was expected. Please change the shape of y to (n_samples,), for example using ravel().\n",
      "  estimator.fit(X_train, y_train, **fit_params)\n"
     ]
    },
    {
     "name": "stdout",
     "output_type": "stream",
     "text": [
      "[CV 5/5] END ......max_depth=3, n_estimators=20;, score=0.914 total time=   5.2s\n"
     ]
    },
    {
     "name": "stderr",
     "output_type": "stream",
     "text": [
      "/usr/local/lib/python3.7/dist-packages/sklearn/model_selection/_validation.py:680: DataConversionWarning: A column-vector y was passed when a 1d array was expected. Please change the shape of y to (n_samples,), for example using ravel().\n",
      "  estimator.fit(X_train, y_train, **fit_params)\n"
     ]
    },
    {
     "name": "stdout",
     "output_type": "stream",
     "text": [
      "[CV 1/5] END .....max_depth=7, n_estimators=200;, score=0.918 total time= 1.6min\n"
     ]
    },
    {
     "name": "stderr",
     "output_type": "stream",
     "text": [
      "/usr/local/lib/python3.7/dist-packages/sklearn/model_selection/_validation.py:680: DataConversionWarning: A column-vector y was passed when a 1d array was expected. Please change the shape of y to (n_samples,), for example using ravel().\n",
      "  estimator.fit(X_train, y_train, **fit_params)\n"
     ]
    },
    {
     "name": "stdout",
     "output_type": "stream",
     "text": [
      "[CV 2/5] END .....max_depth=7, n_estimators=200;, score=0.917 total time= 1.6min\n"
     ]
    },
    {
     "name": "stderr",
     "output_type": "stream",
     "text": [
      "/usr/local/lib/python3.7/dist-packages/sklearn/model_selection/_validation.py:680: DataConversionWarning: A column-vector y was passed when a 1d array was expected. Please change the shape of y to (n_samples,), for example using ravel().\n",
      "  estimator.fit(X_train, y_train, **fit_params)\n"
     ]
    },
    {
     "name": "stdout",
     "output_type": "stream",
     "text": [
      "[CV 3/5] END .....max_depth=7, n_estimators=200;, score=0.919 total time= 1.6min\n"
     ]
    },
    {
     "name": "stderr",
     "output_type": "stream",
     "text": [
      "/usr/local/lib/python3.7/dist-packages/sklearn/model_selection/_validation.py:680: DataConversionWarning: A column-vector y was passed when a 1d array was expected. Please change the shape of y to (n_samples,), for example using ravel().\n",
      "  estimator.fit(X_train, y_train, **fit_params)\n"
     ]
    },
    {
     "name": "stdout",
     "output_type": "stream",
     "text": [
      "[CV 4/5] END .....max_depth=7, n_estimators=200;, score=0.918 total time= 1.6min\n"
     ]
    },
    {
     "name": "stderr",
     "output_type": "stream",
     "text": [
      "/usr/local/lib/python3.7/dist-packages/sklearn/model_selection/_validation.py:680: DataConversionWarning: A column-vector y was passed when a 1d array was expected. Please change the shape of y to (n_samples,), for example using ravel().\n",
      "  estimator.fit(X_train, y_train, **fit_params)\n"
     ]
    },
    {
     "name": "stdout",
     "output_type": "stream",
     "text": [
      "[CV 5/5] END .....max_depth=7, n_estimators=200;, score=0.918 total time= 1.6min\n"
     ]
    },
    {
     "name": "stderr",
     "output_type": "stream",
     "text": [
      "/usr/local/lib/python3.7/dist-packages/sklearn/model_selection/_validation.py:680: DataConversionWarning: A column-vector y was passed when a 1d array was expected. Please change the shape of y to (n_samples,), for example using ravel().\n",
      "  estimator.fit(X_train, y_train, **fit_params)\n"
     ]
    },
    {
     "name": "stdout",
     "output_type": "stream",
     "text": [
      "[CV 1/5] END ..max_depth=None, n_estimators=200;, score=0.940 total time= 3.2min\n"
     ]
    },
    {
     "name": "stderr",
     "output_type": "stream",
     "text": [
      "/usr/local/lib/python3.7/dist-packages/sklearn/model_selection/_validation.py:680: DataConversionWarning: A column-vector y was passed when a 1d array was expected. Please change the shape of y to (n_samples,), for example using ravel().\n",
      "  estimator.fit(X_train, y_train, **fit_params)\n"
     ]
    },
    {
     "name": "stdout",
     "output_type": "stream",
     "text": [
      "[CV 2/5] END ..max_depth=None, n_estimators=200;, score=0.941 total time= 3.3min\n"
     ]
    },
    {
     "name": "stderr",
     "output_type": "stream",
     "text": [
      "/usr/local/lib/python3.7/dist-packages/sklearn/model_selection/_validation.py:680: DataConversionWarning: A column-vector y was passed when a 1d array was expected. Please change the shape of y to (n_samples,), for example using ravel().\n",
      "  estimator.fit(X_train, y_train, **fit_params)\n"
     ]
    },
    {
     "name": "stdout",
     "output_type": "stream",
     "text": [
      "[CV 3/5] END ..max_depth=None, n_estimators=200;, score=0.941 total time= 3.3min\n"
     ]
    },
    {
     "name": "stderr",
     "output_type": "stream",
     "text": [
      "/usr/local/lib/python3.7/dist-packages/sklearn/model_selection/_validation.py:680: DataConversionWarning: A column-vector y was passed when a 1d array was expected. Please change the shape of y to (n_samples,), for example using ravel().\n",
      "  estimator.fit(X_train, y_train, **fit_params)\n"
     ]
    },
    {
     "name": "stdout",
     "output_type": "stream",
     "text": [
      "[CV 4/5] END ..max_depth=None, n_estimators=200;, score=0.941 total time= 3.3min\n"
     ]
    },
    {
     "name": "stderr",
     "output_type": "stream",
     "text": [
      "/usr/local/lib/python3.7/dist-packages/sklearn/model_selection/_validation.py:680: DataConversionWarning: A column-vector y was passed when a 1d array was expected. Please change the shape of y to (n_samples,), for example using ravel().\n",
      "  estimator.fit(X_train, y_train, **fit_params)\n"
     ]
    },
    {
     "name": "stdout",
     "output_type": "stream",
     "text": [
      "[CV 5/5] END ..max_depth=None, n_estimators=200;, score=0.940 total time= 3.4min\n"
     ]
    },
    {
     "name": "stderr",
     "output_type": "stream",
     "text": [
      "/usr/local/lib/python3.7/dist-packages/sklearn/model_selection/_validation.py:680: DataConversionWarning: A column-vector y was passed when a 1d array was expected. Please change the shape of y to (n_samples,), for example using ravel().\n",
      "  estimator.fit(X_train, y_train, **fit_params)\n"
     ]
    },
    {
     "name": "stdout",
     "output_type": "stream",
     "text": [
      "[CV 1/5] END .....max_depth=5, n_estimators=100;, score=0.914 total time=  36.3s\n"
     ]
    },
    {
     "name": "stderr",
     "output_type": "stream",
     "text": [
      "/usr/local/lib/python3.7/dist-packages/sklearn/model_selection/_validation.py:680: DataConversionWarning: A column-vector y was passed when a 1d array was expected. Please change the shape of y to (n_samples,), for example using ravel().\n",
      "  estimator.fit(X_train, y_train, **fit_params)\n"
     ]
    },
    {
     "name": "stdout",
     "output_type": "stream",
     "text": [
      "[CV 2/5] END .....max_depth=5, n_estimators=100;, score=0.914 total time=  37.5s\n"
     ]
    },
    {
     "name": "stderr",
     "output_type": "stream",
     "text": [
      "/usr/local/lib/python3.7/dist-packages/sklearn/model_selection/_validation.py:680: DataConversionWarning: A column-vector y was passed when a 1d array was expected. Please change the shape of y to (n_samples,), for example using ravel().\n",
      "  estimator.fit(X_train, y_train, **fit_params)\n"
     ]
    },
    {
     "name": "stdout",
     "output_type": "stream",
     "text": [
      "[CV 3/5] END .....max_depth=5, n_estimators=100;, score=0.914 total time=  37.3s\n"
     ]
    },
    {
     "name": "stderr",
     "output_type": "stream",
     "text": [
      "/usr/local/lib/python3.7/dist-packages/sklearn/model_selection/_validation.py:680: DataConversionWarning: A column-vector y was passed when a 1d array was expected. Please change the shape of y to (n_samples,), for example using ravel().\n",
      "  estimator.fit(X_train, y_train, **fit_params)\n"
     ]
    },
    {
     "name": "stdout",
     "output_type": "stream",
     "text": [
      "[CV 4/5] END .....max_depth=5, n_estimators=100;, score=0.914 total time=  37.3s\n"
     ]
    },
    {
     "name": "stderr",
     "output_type": "stream",
     "text": [
      "/usr/local/lib/python3.7/dist-packages/sklearn/model_selection/_validation.py:680: DataConversionWarning: A column-vector y was passed when a 1d array was expected. Please change the shape of y to (n_samples,), for example using ravel().\n",
      "  estimator.fit(X_train, y_train, **fit_params)\n"
     ]
    },
    {
     "name": "stdout",
     "output_type": "stream",
     "text": [
      "[CV 5/5] END .....max_depth=5, n_estimators=100;, score=0.914 total time=  37.1s\n"
     ]
    },
    {
     "name": "stderr",
     "output_type": "stream",
     "text": [
      "/usr/local/lib/python3.7/dist-packages/sklearn/model_selection/_validation.py:680: DataConversionWarning: A column-vector y was passed when a 1d array was expected. Please change the shape of y to (n_samples,), for example using ravel().\n",
      "  estimator.fit(X_train, y_train, **fit_params)\n"
     ]
    },
    {
     "name": "stdout",
     "output_type": "stream",
     "text": [
      "[CV 1/5] END .....max_depth=5, n_estimators=200;, score=0.914 total time= 1.2min\n"
     ]
    },
    {
     "name": "stderr",
     "output_type": "stream",
     "text": [
      "/usr/local/lib/python3.7/dist-packages/sklearn/model_selection/_validation.py:680: DataConversionWarning: A column-vector y was passed when a 1d array was expected. Please change the shape of y to (n_samples,), for example using ravel().\n",
      "  estimator.fit(X_train, y_train, **fit_params)\n"
     ]
    },
    {
     "name": "stdout",
     "output_type": "stream",
     "text": [
      "[CV 2/5] END .....max_depth=5, n_estimators=200;, score=0.914 total time= 1.2min\n"
     ]
    },
    {
     "name": "stderr",
     "output_type": "stream",
     "text": [
      "/usr/local/lib/python3.7/dist-packages/sklearn/model_selection/_validation.py:680: DataConversionWarning: A column-vector y was passed when a 1d array was expected. Please change the shape of y to (n_samples,), for example using ravel().\n",
      "  estimator.fit(X_train, y_train, **fit_params)\n"
     ]
    },
    {
     "name": "stdout",
     "output_type": "stream",
     "text": [
      "[CV 3/5] END .....max_depth=5, n_estimators=200;, score=0.914 total time= 1.2min\n"
     ]
    },
    {
     "name": "stderr",
     "output_type": "stream",
     "text": [
      "/usr/local/lib/python3.7/dist-packages/sklearn/model_selection/_validation.py:680: DataConversionWarning: A column-vector y was passed when a 1d array was expected. Please change the shape of y to (n_samples,), for example using ravel().\n",
      "  estimator.fit(X_train, y_train, **fit_params)\n"
     ]
    },
    {
     "name": "stdout",
     "output_type": "stream",
     "text": [
      "[CV 4/5] END .....max_depth=5, n_estimators=200;, score=0.914 total time= 1.2min\n"
     ]
    },
    {
     "name": "stderr",
     "output_type": "stream",
     "text": [
      "/usr/local/lib/python3.7/dist-packages/sklearn/model_selection/_validation.py:680: DataConversionWarning: A column-vector y was passed when a 1d array was expected. Please change the shape of y to (n_samples,), for example using ravel().\n",
      "  estimator.fit(X_train, y_train, **fit_params)\n"
     ]
    },
    {
     "name": "stdout",
     "output_type": "stream",
     "text": [
      "[CV 5/5] END .....max_depth=5, n_estimators=200;, score=0.914 total time= 1.2min\n"
     ]
    },
    {
     "name": "stderr",
     "output_type": "stream",
     "text": [
      "/usr/local/lib/python3.7/dist-packages/sklearn/model_selection/_validation.py:680: DataConversionWarning: A column-vector y was passed when a 1d array was expected. Please change the shape of y to (n_samples,), for example using ravel().\n",
      "  estimator.fit(X_train, y_train, **fit_params)\n"
     ]
    },
    {
     "name": "stdout",
     "output_type": "stream",
     "text": [
      "[CV 1/5] END .....max_depth=10, n_estimators=50;, score=0.921 total time=  31.2s\n"
     ]
    },
    {
     "name": "stderr",
     "output_type": "stream",
     "text": [
      "/usr/local/lib/python3.7/dist-packages/sklearn/model_selection/_validation.py:680: DataConversionWarning: A column-vector y was passed when a 1d array was expected. Please change the shape of y to (n_samples,), for example using ravel().\n",
      "  estimator.fit(X_train, y_train, **fit_params)\n"
     ]
    },
    {
     "name": "stdout",
     "output_type": "stream",
     "text": [
      "[CV 2/5] END .....max_depth=10, n_estimators=50;, score=0.920 total time=  30.8s\n"
     ]
    },
    {
     "name": "stderr",
     "output_type": "stream",
     "text": [
      "/usr/local/lib/python3.7/dist-packages/sklearn/model_selection/_validation.py:680: DataConversionWarning: A column-vector y was passed when a 1d array was expected. Please change the shape of y to (n_samples,), for example using ravel().\n",
      "  estimator.fit(X_train, y_train, **fit_params)\n"
     ]
    },
    {
     "name": "stdout",
     "output_type": "stream",
     "text": [
      "[CV 3/5] END .....max_depth=10, n_estimators=50;, score=0.921 total time=  30.8s\n"
     ]
    },
    {
     "name": "stderr",
     "output_type": "stream",
     "text": [
      "/usr/local/lib/python3.7/dist-packages/sklearn/model_selection/_validation.py:680: DataConversionWarning: A column-vector y was passed when a 1d array was expected. Please change the shape of y to (n_samples,), for example using ravel().\n",
      "  estimator.fit(X_train, y_train, **fit_params)\n"
     ]
    },
    {
     "name": "stdout",
     "output_type": "stream",
     "text": [
      "[CV 4/5] END .....max_depth=10, n_estimators=50;, score=0.922 total time=  31.4s\n"
     ]
    },
    {
     "name": "stderr",
     "output_type": "stream",
     "text": [
      "/usr/local/lib/python3.7/dist-packages/sklearn/model_selection/_validation.py:680: DataConversionWarning: A column-vector y was passed when a 1d array was expected. Please change the shape of y to (n_samples,), for example using ravel().\n",
      "  estimator.fit(X_train, y_train, **fit_params)\n"
     ]
    },
    {
     "name": "stdout",
     "output_type": "stream",
     "text": [
      "[CV 5/5] END .....max_depth=10, n_estimators=50;, score=0.921 total time=  30.3s\n"
     ]
    },
    {
     "name": "stderr",
     "output_type": "stream",
     "text": [
      "/usr/local/lib/python3.7/dist-packages/sklearn/model_selection/_validation.py:680: DataConversionWarning: A column-vector y was passed when a 1d array was expected. Please change the shape of y to (n_samples,), for example using ravel().\n",
      "  estimator.fit(X_train, y_train, **fit_params)\n"
     ]
    },
    {
     "name": "stdout",
     "output_type": "stream",
     "text": [
      "[CV 1/5] END .....max_depth=3, n_estimators=100;, score=0.914 total time=  25.1s\n"
     ]
    },
    {
     "name": "stderr",
     "output_type": "stream",
     "text": [
      "/usr/local/lib/python3.7/dist-packages/sklearn/model_selection/_validation.py:680: DataConversionWarning: A column-vector y was passed when a 1d array was expected. Please change the shape of y to (n_samples,), for example using ravel().\n",
      "  estimator.fit(X_train, y_train, **fit_params)\n"
     ]
    },
    {
     "name": "stdout",
     "output_type": "stream",
     "text": [
      "[CV 2/5] END .....max_depth=3, n_estimators=100;, score=0.914 total time=  26.0s\n"
     ]
    },
    {
     "name": "stderr",
     "output_type": "stream",
     "text": [
      "/usr/local/lib/python3.7/dist-packages/sklearn/model_selection/_validation.py:680: DataConversionWarning: A column-vector y was passed when a 1d array was expected. Please change the shape of y to (n_samples,), for example using ravel().\n",
      "  estimator.fit(X_train, y_train, **fit_params)\n"
     ]
    },
    {
     "name": "stdout",
     "output_type": "stream",
     "text": [
      "[CV 3/5] END .....max_depth=3, n_estimators=100;, score=0.914 total time=  25.1s\n"
     ]
    },
    {
     "name": "stderr",
     "output_type": "stream",
     "text": [
      "/usr/local/lib/python3.7/dist-packages/sklearn/model_selection/_validation.py:680: DataConversionWarning: A column-vector y was passed when a 1d array was expected. Please change the shape of y to (n_samples,), for example using ravel().\n",
      "  estimator.fit(X_train, y_train, **fit_params)\n"
     ]
    },
    {
     "name": "stdout",
     "output_type": "stream",
     "text": [
      "[CV 4/5] END .....max_depth=3, n_estimators=100;, score=0.914 total time=  25.8s\n"
     ]
    },
    {
     "name": "stderr",
     "output_type": "stream",
     "text": [
      "/usr/local/lib/python3.7/dist-packages/sklearn/model_selection/_validation.py:680: DataConversionWarning: A column-vector y was passed when a 1d array was expected. Please change the shape of y to (n_samples,), for example using ravel().\n",
      "  estimator.fit(X_train, y_train, **fit_params)\n"
     ]
    },
    {
     "name": "stdout",
     "output_type": "stream",
     "text": [
      "[CV 5/5] END .....max_depth=3, n_estimators=100;, score=0.914 total time=  26.2s\n"
     ]
    },
    {
     "name": "stderr",
     "output_type": "stream",
     "text": [
      "/usr/local/lib/python3.7/dist-packages/sklearn/model_selection/_validation.py:680: DataConversionWarning: A column-vector y was passed when a 1d array was expected. Please change the shape of y to (n_samples,), for example using ravel().\n",
      "  estimator.fit(X_train, y_train, **fit_params)\n"
     ]
    },
    {
     "name": "stdout",
     "output_type": "stream",
     "text": [
      "[CV 1/5] END ....max_depth=10, n_estimators=200;, score=0.921 total time= 2.0min\n"
     ]
    },
    {
     "name": "stderr",
     "output_type": "stream",
     "text": [
      "/usr/local/lib/python3.7/dist-packages/sklearn/model_selection/_validation.py:680: DataConversionWarning: A column-vector y was passed when a 1d array was expected. Please change the shape of y to (n_samples,), for example using ravel().\n",
      "  estimator.fit(X_train, y_train, **fit_params)\n"
     ]
    },
    {
     "name": "stdout",
     "output_type": "stream",
     "text": [
      "[CV 2/5] END ....max_depth=10, n_estimators=200;, score=0.921 total time= 2.6min\n"
     ]
    },
    {
     "name": "stderr",
     "output_type": "stream",
     "text": [
      "/usr/local/lib/python3.7/dist-packages/sklearn/model_selection/_validation.py:680: DataConversionWarning: A column-vector y was passed when a 1d array was expected. Please change the shape of y to (n_samples,), for example using ravel().\n",
      "  estimator.fit(X_train, y_train, **fit_params)\n"
     ]
    },
    {
     "name": "stdout",
     "output_type": "stream",
     "text": [
      "[CV 3/5] END ....max_depth=10, n_estimators=200;, score=0.922 total time= 2.6min\n"
     ]
    },
    {
     "name": "stderr",
     "output_type": "stream",
     "text": [
      "/usr/local/lib/python3.7/dist-packages/sklearn/model_selection/_validation.py:680: DataConversionWarning: A column-vector y was passed when a 1d array was expected. Please change the shape of y to (n_samples,), for example using ravel().\n",
      "  estimator.fit(X_train, y_train, **fit_params)\n"
     ]
    },
    {
     "name": "stdout",
     "output_type": "stream",
     "text": [
      "[CV 4/5] END ....max_depth=10, n_estimators=200;, score=0.920 total time= 2.2min\n"
     ]
    },
    {
     "name": "stderr",
     "output_type": "stream",
     "text": [
      "/usr/local/lib/python3.7/dist-packages/sklearn/model_selection/_validation.py:680: DataConversionWarning: A column-vector y was passed when a 1d array was expected. Please change the shape of y to (n_samples,), for example using ravel().\n",
      "  estimator.fit(X_train, y_train, **fit_params)\n"
     ]
    },
    {
     "name": "stdout",
     "output_type": "stream",
     "text": [
      "[CV 5/5] END ....max_depth=10, n_estimators=200;, score=0.921 total time= 2.7min\n"
     ]
    },
    {
     "name": "stderr",
     "output_type": "stream",
     "text": [
      "/usr/local/lib/python3.7/dist-packages/sklearn/model_selection/_validation.py:680: DataConversionWarning: A column-vector y was passed when a 1d array was expected. Please change the shape of y to (n_samples,), for example using ravel().\n",
      "  estimator.fit(X_train, y_train, **fit_params)\n"
     ]
    },
    {
     "name": "stdout",
     "output_type": "stream",
     "text": [
      "[CV 1/5] END ......max_depth=3, n_estimators=50;, score=0.914 total time=  14.0s\n"
     ]
    },
    {
     "name": "stderr",
     "output_type": "stream",
     "text": [
      "/usr/local/lib/python3.7/dist-packages/sklearn/model_selection/_validation.py:680: DataConversionWarning: A column-vector y was passed when a 1d array was expected. Please change the shape of y to (n_samples,), for example using ravel().\n",
      "  estimator.fit(X_train, y_train, **fit_params)\n"
     ]
    },
    {
     "name": "stdout",
     "output_type": "stream",
     "text": [
      "[CV 2/5] END ......max_depth=3, n_estimators=50;, score=0.914 total time=  14.2s\n"
     ]
    },
    {
     "name": "stderr",
     "output_type": "stream",
     "text": [
      "/usr/local/lib/python3.7/dist-packages/sklearn/model_selection/_validation.py:680: DataConversionWarning: A column-vector y was passed when a 1d array was expected. Please change the shape of y to (n_samples,), for example using ravel().\n",
      "  estimator.fit(X_train, y_train, **fit_params)\n"
     ]
    },
    {
     "name": "stdout",
     "output_type": "stream",
     "text": [
      "[CV 3/5] END ......max_depth=3, n_estimators=50;, score=0.914 total time=  14.3s\n"
     ]
    },
    {
     "name": "stderr",
     "output_type": "stream",
     "text": [
      "/usr/local/lib/python3.7/dist-packages/sklearn/model_selection/_validation.py:680: DataConversionWarning: A column-vector y was passed when a 1d array was expected. Please change the shape of y to (n_samples,), for example using ravel().\n",
      "  estimator.fit(X_train, y_train, **fit_params)\n"
     ]
    },
    {
     "name": "stdout",
     "output_type": "stream",
     "text": [
      "[CV 4/5] END ......max_depth=3, n_estimators=50;, score=0.914 total time=  14.0s\n"
     ]
    },
    {
     "name": "stderr",
     "output_type": "stream",
     "text": [
      "/usr/local/lib/python3.7/dist-packages/sklearn/model_selection/_validation.py:680: DataConversionWarning: A column-vector y was passed when a 1d array was expected. Please change the shape of y to (n_samples,), for example using ravel().\n",
      "  estimator.fit(X_train, y_train, **fit_params)\n"
     ]
    },
    {
     "name": "stdout",
     "output_type": "stream",
     "text": [
      "[CV 5/5] END ......max_depth=3, n_estimators=50;, score=0.914 total time=  14.0s\n"
     ]
    },
    {
     "name": "stderr",
     "output_type": "stream",
     "text": [
      "/usr/local/lib/python3.7/dist-packages/sklearn/model_selection/_validation.py:680: DataConversionWarning: A column-vector y was passed when a 1d array was expected. Please change the shape of y to (n_samples,), for example using ravel().\n",
      "  estimator.fit(X_train, y_train, **fit_params)\n"
     ]
    },
    {
     "name": "stdout",
     "output_type": "stream",
     "text": [
      "[CV 1/5] END .....max_depth=10, n_estimators=20;, score=0.921 total time=  13.8s\n"
     ]
    },
    {
     "name": "stderr",
     "output_type": "stream",
     "text": [
      "/usr/local/lib/python3.7/dist-packages/sklearn/model_selection/_validation.py:680: DataConversionWarning: A column-vector y was passed when a 1d array was expected. Please change the shape of y to (n_samples,), for example using ravel().\n",
      "  estimator.fit(X_train, y_train, **fit_params)\n"
     ]
    },
    {
     "name": "stdout",
     "output_type": "stream",
     "text": [
      "[CV 2/5] END .....max_depth=10, n_estimators=20;, score=0.919 total time=  13.7s\n"
     ]
    },
    {
     "name": "stderr",
     "output_type": "stream",
     "text": [
      "/usr/local/lib/python3.7/dist-packages/sklearn/model_selection/_validation.py:680: DataConversionWarning: A column-vector y was passed when a 1d array was expected. Please change the shape of y to (n_samples,), for example using ravel().\n",
      "  estimator.fit(X_train, y_train, **fit_params)\n"
     ]
    },
    {
     "name": "stdout",
     "output_type": "stream",
     "text": [
      "[CV 3/5] END .....max_depth=10, n_estimators=20;, score=0.921 total time=  13.3s\n"
     ]
    },
    {
     "name": "stderr",
     "output_type": "stream",
     "text": [
      "/usr/local/lib/python3.7/dist-packages/sklearn/model_selection/_validation.py:680: DataConversionWarning: A column-vector y was passed when a 1d array was expected. Please change the shape of y to (n_samples,), for example using ravel().\n",
      "  estimator.fit(X_train, y_train, **fit_params)\n"
     ]
    },
    {
     "name": "stdout",
     "output_type": "stream",
     "text": [
      "[CV 4/5] END .....max_depth=10, n_estimators=20;, score=0.920 total time=  13.3s\n"
     ]
    },
    {
     "name": "stderr",
     "output_type": "stream",
     "text": [
      "/usr/local/lib/python3.7/dist-packages/sklearn/model_selection/_validation.py:680: DataConversionWarning: A column-vector y was passed when a 1d array was expected. Please change the shape of y to (n_samples,), for example using ravel().\n",
      "  estimator.fit(X_train, y_train, **fit_params)\n"
     ]
    },
    {
     "name": "stdout",
     "output_type": "stream",
     "text": [
      "[CV 5/5] END .....max_depth=10, n_estimators=20;, score=0.920 total time=  13.7s\n"
     ]
    },
    {
     "name": "stderr",
     "output_type": "stream",
     "text": [
      "/usr/local/lib/python3.7/dist-packages/sklearn/model_selection/_search.py:926: DataConversionWarning: A column-vector y was passed when a 1d array was expected. Please change the shape of y to (n_samples,), for example using ravel().\n",
      "  self.best_estimator_.fit(X, y, **fit_params)\n"
     ]
    }
   ],
   "source": [
    "parametrs = dict(n_estimators = [20, 50, 100, 200],\n",
    "                   max_depth = [3, 5, 7, 10, None])\n",
    "\n",
    "clf_rf = RandomizedSearchCV(rf, parametrs, verbose=3, random_state=321)\n",
    "\n",
    "search1_rf_model = clf_rf.fit(x2_train, y2_train)"
   ]
  },
  {
   "cell_type": "code",
   "execution_count": null,
   "id": "834046c3",
   "metadata": {
    "colab": {
     "base_uri": "https://localhost:8080/"
    },
    "id": "c13091bb",
    "outputId": "2975de39-d964-482a-99bc-3d920f2d0b10"
   },
   "outputs": [
    {
     "data": {
      "text/plain": [
       "{'mean_fit_time': array([  5.57378287,  92.21145549, 188.90065203,  35.951687  ,\n",
       "         71.47251048,  30.02938147,  24.70511618, 143.44125652,\n",
       "         13.64005513,  13.18771911]),\n",
       " 'mean_score_time': array([0.21725454, 2.63173757, 9.74782214, 1.12672553, 2.2223825 ,\n",
       "        0.88065681, 0.92519617, 3.45430241, 0.48655095, 0.36861324]),\n",
       " 'mean_test_score': array([0.91398063, 0.91779025, 0.94071464, 0.91399803, 0.91398063,\n",
       "        0.92105046, 0.91398063, 0.9208765 , 0.91398063, 0.91998208]),\n",
       " 'param_max_depth': masked_array(data=[3, 7, None, 5, 5, 10, 3, 10, 3, 10],\n",
       "              mask=[False, False, False, False, False, False, False, False,\n",
       "                    False, False],\n",
       "        fill_value='?',\n",
       "             dtype=object),\n",
       " 'param_n_estimators': masked_array(data=[20, 200, 200, 100, 200, 50, 100, 200, 50, 20],\n",
       "              mask=[False, False, False, False, False, False, False, False,\n",
       "                    False, False],\n",
       "        fill_value='?',\n",
       "             dtype=object),\n",
       " 'params': [{'max_depth': 3, 'n_estimators': 20},\n",
       "  {'max_depth': 7, 'n_estimators': 200},\n",
       "  {'max_depth': None, 'n_estimators': 200},\n",
       "  {'max_depth': 5, 'n_estimators': 100},\n",
       "  {'max_depth': 5, 'n_estimators': 200},\n",
       "  {'max_depth': 10, 'n_estimators': 50},\n",
       "  {'max_depth': 3, 'n_estimators': 100},\n",
       "  {'max_depth': 10, 'n_estimators': 200},\n",
       "  {'max_depth': 3, 'n_estimators': 50},\n",
       "  {'max_depth': 10, 'n_estimators': 20}],\n",
       " 'rank_test_score': array([7, 5, 1, 6, 7, 2, 7, 3, 7, 4], dtype=int32),\n",
       " 'split0_test_score': array([0.91397943, 0.91787166, 0.94047852, 0.91402292, 0.91397943,\n",
       "        0.92095211, 0.91397943, 0.92082889, 0.91397943, 0.92053172]),\n",
       " 'split1_test_score': array([0.91397943, 0.91687143, 0.94084093, 0.91402292, 0.91397943,\n",
       "        0.92049548, 0.91397943, 0.92078541, 0.91397943, 0.91859648]),\n",
       " 'split2_test_score': array([0.91397943, 0.91858923, 0.94083368, 0.91397943, 0.91397943,\n",
       "        0.92127828, 0.91397943, 0.92153196, 0.91397943, 0.92064044]),\n",
       " 'split3_test_score': array([0.91398605, 0.91767537, 0.94119566, 0.91398605, 0.91398605,\n",
       "        0.92158213, 0.91398605, 0.92042242, 0.91398605, 0.91966861]),\n",
       " 'split4_test_score': array([0.91397881, 0.91794355, 0.9402244 , 0.91397881, 0.91397881,\n",
       "        0.92094429, 0.91397881, 0.92081382, 0.91397881, 0.92047316]),\n",
       " 'std_fit_time': array([ 1.21640486,  0.94977523,  3.92635032,  0.42401913,  0.54719376,\n",
       "         0.38558704,  0.47507654, 16.62145245,  0.12559386,  0.20303151]),\n",
       " 'std_score_time': array([0.02580419, 0.04665918, 0.09072449, 0.01725004, 0.01947205,\n",
       "        0.01371204, 0.00879136, 0.05866988, 0.00683392, 0.00515383]),\n",
       " 'std_test_score': array([2.72294622e-06, 5.52436573e-04, 3.33940130e-04, 2.04831728e-05,\n",
       "        2.72294622e-06, 3.64285196e-04, 2.72294622e-06, 3.60640387e-04,\n",
       "        2.72294622e-06, 7.73933659e-04])}"
      ]
     },
     "execution_count": 31,
     "metadata": {},
     "output_type": "execute_result"
    }
   ],
   "source": [
    "search1_rf_model.cv_results_"
   ]
  },
  {
   "cell_type": "code",
   "execution_count": null,
   "id": "17c7ed83",
   "metadata": {
    "colab": {
     "base_uri": "https://localhost:8080/"
    },
    "id": "f861e9cd",
    "outputId": "d4840378-1141-44b0-c593-dc082b807aa6"
   },
   "outputs": [
    {
     "data": {
      "text/plain": [
       "{'max_depth': None, 'n_estimators': 200}"
      ]
     },
     "execution_count": 32,
     "metadata": {},
     "output_type": "execute_result"
    }
   ],
   "source": [
    "search1_rf_model.best_params_"
   ]
  },
  {
   "cell_type": "code",
   "execution_count": null,
   "id": "050e276b",
   "metadata": {
    "id": "df3e300a"
   },
   "outputs": [],
   "source": [
    "search1_rf_model.best_score_"
   ]
  },
  {
   "cell_type": "code",
   "execution_count": null,
   "id": "967c229f",
   "metadata": {
    "colab": {
     "base_uri": "https://localhost:8080/"
    },
    "id": "7bbc572f",
    "outputId": "7c76b974-97e0-4db3-f693-1224a414ba2e"
   },
   "outputs": [
    {
     "name": "stderr",
     "output_type": "stream",
     "text": [
      "/usr/local/lib/python3.7/dist-packages/ipykernel_launcher.py:5: DataConversionWarning: A column-vector y was passed when a 1d array was expected. Please change the shape of y to (n_samples,), for example using ravel().\n",
      "  \"\"\"\n"
     ]
    }
   ],
   "source": [
    "rf2 = RandomForestClassifier(n_estimators = 200, \n",
    "                                max_depth = None,\n",
    "                                max_features = 'auto',\n",
    "                                random_state = 321)\n",
    "rf2 = rf2.fit(x1_train, y2_train)\n",
    "\n",
    "y2_train_pred_rf = rf2.predict(x1_train)\n",
    "y2_test_pred_rf = rf2.predict(x1_test)\n",
    "\n",
    "prob2_train_rf = rf2.predict_proba(x1_train)[:, 1]\n",
    "prob2_test_rf = rf2.predict_proba(x1_test)[:, 1]"
   ]
  },
  {
   "cell_type": "code",
   "execution_count": null,
   "id": "78d8b9ee",
   "metadata": {
    "colab": {
     "base_uri": "https://localhost:8080/"
    },
    "id": "42418745",
    "outputId": "2c6bee81-8d4b-48e8-a663-85fac46b4a3b"
   },
   "outputs": [
    {
     "name": "stdout",
     "output_type": "stream",
     "text": [
      "f1 score for train:  0.9999831476769072\n",
      "f1 score for test:  0.5590650663297536\n",
      "roc_auc_score for train:  0.9999999999198137\n",
      "roc_auc_score for test:  0.9490348921208451\n"
     ]
    }
   ],
   "source": [
    "print(\"f1 score for train: \", f1_score(y2_train, y2_train_pred_rf))\n",
    "print(\"f1 score for test: \", f1_score(y2_test, y2_test_pred_rf))\n",
    "print(\"roc_auc_score for train: \", roc_auc_score(y2_train, prob2_train_rf))\n",
    "print(\"roc_auc_score for test: \", roc_auc_score(y2_test, prob2_test_rf))"
   ]
  },
  {
   "cell_type": "code",
   "execution_count": null,
   "id": "59199cd6",
   "metadata": {
    "colab": {
     "base_uri": "https://localhost:8080/",
     "height": 350
    },
    "id": "7a783a2c",
    "outputId": "49402dce-ef24-49a0-e216-f7403873ce10"
   },
   "outputs": [
    {
     "data": {
      "image/png": "[encoded data removed]",
      "text/plain": [
       "<Figure size 576x360 with 1 Axes>"
      ]
     },
     "metadata": {
      "needs_background": "light"
     },
     "output_type": "display_data"
    }
   ],
   "source": [
    "fpr2_rf, tpr2_rf, _ = roc_curve(y2_test, prob2_test_rf, drop_intermediate=False)\n",
    "\n",
    "plt.figure(figsize=(8, 5))\n",
    "plt.clf()\n",
    "plt.plot(fpr2_rf, tpr2_rf)\n",
    "plt.plot(fpr2_rf, fpr2_rf)\n",
    "plt.xlabel('FPR')\n",
    "plt.ylabel('TPR')\n",
    "plt.title('ROC curve random forest for Target2')\n",
    "plt.show()"
   ]
  },
  {
   "cell_type": "markdown",
   "id": "b24902a8",
   "metadata": {
    "id": "HSDGvzopJaJ3"
   },
   "source": [
    "#### XGboost"
   ]
  },
  {
   "cell_type": "markdown",
   "id": "b6a6350c",
   "metadata": {
    "id": "cs_J5r00sTGQ"
   },
   "source": [
    "Алгоритм подбора гиперпараметров следующий:\n",
    "\n",
    "Выбираем относительно большой learning_rate (η ∈ [0.05, 0.3]), подбираем оптимальное число деревьев для выбранного η\n",
    "\n",
    "Настраиваем параметры деревьев, начиная с самых значимых (max_depth, min_child_weight, gamma, subsample, colsample_bytree)\n",
    "\n",
    "Настраиваем регуляризации ( λ , α )\n",
    "\n",
    "Уменьшаем learning_rate, пропорционально увеличиваем число деревьев"
   ]
  },
  {
   "cell_type": "code",
   "execution_count": 14,
   "id": "d5928cdc",
   "metadata": {
    "id": "QLZhKTlYJdyh"
   },
   "outputs": [],
   "source": [
    "xgb1 = XGBClassifier(\n",
    "        learning_rate=0.1,\n",
    "        n_estimators=150,\n",
    "        objective='binary:logistic',\n",
    "        nthread=4,\n",
    "        scale_pos_weight=1,\n",
    "        seed=27)"
   ]
  },
  {
   "cell_type": "code",
   "execution_count": 15,
   "id": "48fca6d1",
   "metadata": {
    "colab": {
     "base_uri": "https://localhost:8080/",
     "height": 504
    },
    "id": "FkBDFVE5sfVA",
    "outputId": "ff6ad59a-f791-4f93-ed8f-000d1f2a7025"
   },
   "outputs": [
    {
     "name": "stderr",
     "output_type": "stream",
     "text": [
      "D:\\ANACONDA\\lib\\site-packages\\xgboost\\sklearn.py:793: UserWarning: `eval_metric` in `fit` method is deprecated for better compatibility with scikit-learn, use `eval_metric` in constructor or`set_params` instead.\n",
      "  warnings.warn(\n"
     ]
    },
    {
     "name": "stdout",
     "output_type": "stream",
     "text": [
      "F1-score : 0.6916\n",
      "AUC Score (Train): 0.971709\n",
      "AUC Score (Test): 0.970687\n"
     ]
    },
    {
     "data": {
      "image/png": "[encoded data removed]",
      "text/plain": [
       "<Figure size 432x288 with 1 Axes>"
      ]
     },
     "metadata": {
      "needs_background": "light"
     },
     "output_type": "display_data"
    }
   ],
   "source": [
    "modelfit(xgb1, x2_train, x2_test, y2_train, y2_test)"
   ]
  },
  {
   "cell_type": "markdown",
   "id": "cb099e4d",
   "metadata": {
    "id": "94CxjXA8s4te"
   },
   "source": [
    "Перебираем max_depth и min_child_weight по сетке."
   ]
  },
  {
   "cell_type": "code",
   "execution_count": 16,
   "id": "ae3cbca2",
   "metadata": {
    "colab": {
     "base_uri": "https://localhost:8080/"
    },
    "id": "QImSlsTfs5PX",
    "outputId": "1807a1f8-aced-43b9-d684-35e0818c155c"
   },
   "outputs": [
    {
     "data": {
      "text/plain": [
       "GridSearchCV(cv=5,\n",
       "             estimator=XGBClassifier(base_score=None, booster=None,\n",
       "                                     callbacks=None, colsample_bylevel=None,\n",
       "                                     colsample_bynode=None,\n",
       "                                     colsample_bytree=None,\n",
       "                                     early_stopping_rounds=None,\n",
       "                                     enable_categorical=False, eval_metric=None,\n",
       "                                     gamma=None, gpu_id=None, grow_policy=None,\n",
       "                                     importance_type=None,\n",
       "                                     interaction_constraints=None,\n",
       "                                     learning_rate=0.1, max_bin=None,\n",
       "                                     max_cat_to_onehot=None,\n",
       "                                     max_delta_step=None, max_depth=None,\n",
       "                                     max_leaves=None, min_child_weight=None,\n",
       "                                     missing=nan, monotone_constraints=None,\n",
       "                                     n_estimators=150, n_jobs=None, nthread=4,\n",
       "                                     num_parallel_tree=None, predictor=None,\n",
       "                                     random_state=None, reg_alpha=None, ...),\n",
       "             n_jobs=4,\n",
       "             param_grid={'max_depth': range(3, 10, 2),\n",
       "                         'min_child_weight': range(1, 6, 2)},\n",
       "             scoring='roc_auc')"
      ]
     },
     "execution_count": 16,
     "metadata": {},
     "output_type": "execute_result"
    }
   ],
   "source": [
    "param_test1 = {\n",
    "    'max_depth':range(3,10,2),\n",
    "    'min_child_weight':range(1,6,2)\n",
    "}\n",
    "gsearch1 = GridSearchCV(estimator = XGBClassifier(learning_rate=0.1, n_estimators=150,\n",
    "                                        objective='binary:logistic', nthread=4, scale_pos_weight=1, seed=27), \n",
    "                       param_grid = param_test1, scoring='roc_auc',n_jobs=4, cv=5)\n",
    "gsearch1.fit(x2_train, y2_train)"
   ]
  },
  {
   "cell_type": "code",
   "execution_count": 17,
   "id": "ae382d0c",
   "metadata": {
    "colab": {
     "base_uri": "https://localhost:8080/"
    },
    "id": "KfTUbnuBtXjj",
    "outputId": "ab6babcb-ea50-421e-f162-db80f6603f4c"
   },
   "outputs": [
    {
     "data": {
      "text/plain": [
       "({'max_depth': 9, 'min_child_weight': 1}, 0.9740647511710894)"
      ]
     },
     "execution_count": 17,
     "metadata": {},
     "output_type": "execute_result"
    }
   ],
   "source": [
    "gsearch1.best_params_, gsearch1.best_score_"
   ]
  },
  {
   "cell_type": "markdown",
   "id": "f31d528a",
   "metadata": {
    "id": "EJ_fCQJbtYsg"
   },
   "source": [
    "Уточняем предсказание"
   ]
  },
  {
   "cell_type": "code",
   "execution_count": 18,
   "id": "962d690f",
   "metadata": {
    "colab": {
     "base_uri": "https://localhost:8080/",
     "height": 341
    },
    "id": "Gxcyi6GEtfh-",
    "outputId": "9e0dff8d-a3ba-4a3d-832f-39f9da3eb4b4"
   },
   "outputs": [
    {
     "data": {
      "text/plain": [
       "GridSearchCV(cv=5,\n",
       "             estimator=XGBClassifier(base_score=None, booster=None,\n",
       "                                     callbacks=None, colsample_bylevel=None,\n",
       "                                     colsample_bynode=None,\n",
       "                                     colsample_bytree=None,\n",
       "                                     early_stopping_rounds=None,\n",
       "                                     enable_categorical=False, eval_metric=None,\n",
       "                                     gamma=None, gpu_id=None, grow_policy=None,\n",
       "                                     importance_type=None,\n",
       "                                     interaction_constraints=None,\n",
       "                                     learning_rate=0.1, max_bin=None,\n",
       "                                     max_cat_to_onehot=None,\n",
       "                                     max_delta_step=None, max_depth=None,\n",
       "                                     max_leaves=None, min_child_weight=None,\n",
       "                                     missing=nan, monotone_constraints=None,\n",
       "                                     n_estimators=150, n_jobs=None, nthread=4,\n",
       "                                     num_parallel_tree=None, predictor=None,\n",
       "                                     random_state=None, reg_alpha=None, ...),\n",
       "             n_jobs=4,\n",
       "             param_grid={'max_depth': [8, 9, 10],\n",
       "                         'min_child_weight': [2, 3, 1]},\n",
       "             scoring='roc_auc')"
      ]
     },
     "execution_count": 18,
     "metadata": {},
     "output_type": "execute_result"
    }
   ],
   "source": [
    "param_test2 = {\n",
    "    'max_depth':[8, 9, 10],\n",
    "    'min_child_weight':[2, 3, 1]\n",
    "}\n",
    "gsearch2 = GridSearchCV(estimator = XGBClassifier(learning_rate=0.1, n_estimators=150, \n",
    "                                        objective= 'binary:logistic', nthread=4, scale_pos_weight=1,seed=27), \n",
    "                       param_grid = param_test2, scoring='roc_auc',n_jobs=4, cv=5)\n",
    "gsearch2.fit(x2_train, y2_train)"
   ]
  },
  {
   "cell_type": "code",
   "execution_count": 19,
   "id": "1b7d0320",
   "metadata": {
    "id": "Zx-dFX_H93E0"
   },
   "outputs": [
    {
     "data": {
      "text/plain": [
       "({'max_depth': 10, 'min_child_weight': 1}, 0.9748854629021082)"
      ]
     },
     "execution_count": 19,
     "metadata": {},
     "output_type": "execute_result"
    }
   ],
   "source": [
    "gsearch2.best_params_, gsearch2.best_score_"
   ]
  },
  {
   "cell_type": "markdown",
   "id": "136ddafb",
   "metadata": {},
   "source": [
    "Мы видим, что гридсёрч выдаёт максимальное значение max_depth, которое мы ему даём. Попробуем поставить больше."
   ]
  },
  {
   "cell_type": "code",
   "execution_count": 20,
   "id": "02cc82b3",
   "metadata": {},
   "outputs": [
    {
     "data": {
      "text/plain": [
       "GridSearchCV(cv=5,\n",
       "             estimator=XGBClassifier(base_score=None, booster=None,\n",
       "                                     callbacks=None, colsample_bylevel=None,\n",
       "                                     colsample_bynode=None,\n",
       "                                     colsample_bytree=None,\n",
       "                                     early_stopping_rounds=None,\n",
       "                                     enable_categorical=False, eval_metric=None,\n",
       "                                     gamma=None, gpu_id=None, grow_policy=None,\n",
       "                                     importance_type=None,\n",
       "                                     interaction_constraints=None,\n",
       "                                     learning_rate=0.1, max_bin=None,\n",
       "                                     max_cat_to_onehot=None,\n",
       "                                     max_delta_step=None, max_depth=None,\n",
       "                                     max_leaves=None, min_child_weight=None,\n",
       "                                     missing=nan, monotone_constraints=None,\n",
       "                                     n_estimators=150, n_jobs=None, nthread=4,\n",
       "                                     num_parallel_tree=None, predictor=None,\n",
       "                                     random_state=None, reg_alpha=None, ...),\n",
       "             n_jobs=4,\n",
       "             param_grid={'max_depth': [10, 12, 15], 'min_child_weight': [1]},\n",
       "             scoring='roc_auc')"
      ]
     },
     "execution_count": 20,
     "metadata": {},
     "output_type": "execute_result"
    }
   ],
   "source": [
    "param_test2 = {\n",
    "    'max_depth':[10, 12, 15],\n",
    "    'min_child_weight':[1]\n",
    "}\n",
    "gsearch2 = GridSearchCV(estimator = XGBClassifier(learning_rate=0.1, n_estimators=150, \n",
    "                                        objective= 'binary:logistic', nthread=4, scale_pos_weight=1,seed=27), \n",
    "                       param_grid = param_test2, scoring='roc_auc',n_jobs=4, cv=5)\n",
    "gsearch2.fit(x2_train, y2_train)"
   ]
  },
  {
   "cell_type": "code",
   "execution_count": 21,
   "id": "4bf554e0",
   "metadata": {},
   "outputs": [
    {
     "data": {
      "text/plain": [
       "({'max_depth': 15, 'min_child_weight': 1}, 0.9784037622991898)"
      ]
     },
     "execution_count": 21,
     "metadata": {},
     "output_type": "execute_result"
    }
   ],
   "source": [
    "gsearch2.best_params_, gsearch2.best_score_"
   ]
  },
  {
   "cell_type": "markdown",
   "id": "11a62117",
   "metadata": {
    "id": "X4h9w8vH-YN4"
   },
   "source": [
    "Мы подобрали max_depth и min_child_weight - дальше будем использовать подобранные значения параметров. Подберем по сетке параметр gamma на отрезке от 0 до 1."
   ]
  },
  {
   "cell_type": "code",
   "execution_count": 22,
   "id": "17a93240",
   "metadata": {
    "id": "IU16Szch-Xrr"
   },
   "outputs": [
    {
     "data": {
      "text/plain": [
       "GridSearchCV(cv=5,\n",
       "             estimator=XGBClassifier(base_score=None, booster=None,\n",
       "                                     callbacks=None, colsample_bylevel=None,\n",
       "                                     colsample_bynode=None,\n",
       "                                     colsample_bytree=None,\n",
       "                                     early_stopping_rounds=None,\n",
       "                                     enable_categorical=False, eval_metric=None,\n",
       "                                     gamma=None, gpu_id=None, grow_policy=None,\n",
       "                                     importance_type=None,\n",
       "                                     interaction_constraints=None,\n",
       "                                     learning_rate=0.1, max_bin=None,\n",
       "                                     max_cat_to_onehot=None,\n",
       "                                     max_delta_step=None, max_depth=15,\n",
       "                                     max_leaves=None, min_child_weight=1,\n",
       "                                     missing=nan, monotone_constraints=None,\n",
       "                                     n_estimators=150, n_jobs=None, nthread=4,\n",
       "                                     num_parallel_tree=None, predictor=None,\n",
       "                                     random_state=None, reg_alpha=None, ...),\n",
       "             n_jobs=4,\n",
       "             param_grid={'gamma': array([0. , 0.1, 0.2, 0.3, 0.4, 0.5, 0.6, 0.7, 0.8, 0.9, 1. ])},\n",
       "             scoring='roc_auc')"
      ]
     },
     "execution_count": 22,
     "metadata": {},
     "output_type": "execute_result"
    }
   ],
   "source": [
    "param_test3 = {\n",
    "    'gamma': np.arange(0.0, 1.1, 0.1)\n",
    "}\n",
    "gsearch3 = GridSearchCV(estimator = XGBClassifier(learning_rate=0.1, n_estimators=150, max_depth=15,\n",
    "                         min_child_weight = 1, objective='binary:logistic', nthread=4, scale_pos_weight=1,seed=27), \n",
    "                         param_grid = param_test3, scoring='roc_auc',n_jobs=4, cv=5)\n",
    "gsearch3.fit(x2_train, y2_train)"
   ]
  },
  {
   "cell_type": "code",
   "execution_count": 23,
   "id": "3127b2bc",
   "metadata": {
    "id": "XZLAdOnQ-n9G"
   },
   "outputs": [
    {
     "data": {
      "text/plain": [
       "({'gamma': 1.0}, 0.9786193082293225)"
      ]
     },
     "execution_count": 23,
     "metadata": {},
     "output_type": "execute_result"
    }
   ],
   "source": [
    "gsearch3.best_params_, gsearch3.best_score_"
   ]
  },
  {
   "cell_type": "markdown",
   "id": "46cd70c9",
   "metadata": {
    "id": "1ktBYaUr_xLp"
   },
   "source": [
    "Подберем по сетке параметры subsample и colsample_bytree. Используем значения этих параметров: [0.6,0.7,0.8,0.9,1.]"
   ]
  },
  {
   "cell_type": "code",
   "execution_count": 24,
   "id": "648f7e69",
   "metadata": {
    "id": "UERDzGf3_yC-"
   },
   "outputs": [
    {
     "data": {
      "text/plain": [
       "GridSearchCV(cv=5,\n",
       "             estimator=XGBClassifier(base_score=None, booster=None,\n",
       "                                     callbacks=None, colsample_bylevel=None,\n",
       "                                     colsample_bynode=None,\n",
       "                                     colsample_bytree=None,\n",
       "                                     early_stopping_rounds=None,\n",
       "                                     enable_categorical=False, eval_metric=None,\n",
       "                                     gamma=1, gpu_id=None, grow_policy=None,\n",
       "                                     importance_type=None,\n",
       "                                     interaction_constraints=None,\n",
       "                                     learning_rate=0.1, max_bin=None,\n",
       "                                     max_cat_to_onehot=None,\n",
       "                                     max_delta_step=None, max_depth=15,\n",
       "                                     max_leaves=None, min_child_weight=1,\n",
       "                                     missing=nan, monotone_constraints=None,\n",
       "                                     n_estimators=150, n_jobs=None, nthread=4,\n",
       "                                     num_parallel_tree=None, predictor=None,\n",
       "                                     random_state=None, reg_alpha=None, ...),\n",
       "             n_jobs=4,\n",
       "             param_grid={'colsample_bytree': [0.6, 0.7, 0.8, 0.9],\n",
       "                         'subsample': [0.6, 0.7, 0.8, 0.9]},\n",
       "             scoring='roc_auc')"
      ]
     },
     "execution_count": 24,
     "metadata": {},
     "output_type": "execute_result"
    }
   ],
   "source": [
    "param_test4 = {\n",
    "    'subsample': [i / 10.0 for i in range(6, 10)],\n",
    "    'colsample_bytree': [i / 10.0 for i in range(6, 10)]\n",
    "} \n",
    "\n",
    "gsearch4 = GridSearchCV(estimator = XGBClassifier(learning_rate=0.1, n_estimators=150, max_depth=15,\n",
    "                                                   min_child_weight = 1, objective= 'binary:logistic', gamma=1, nthread=4, scale_pos_weight=1,seed=27), \n",
    "                         param_grid = param_test4, scoring='roc_auc',n_jobs=4, cv=5)\n",
    "gsearch4.fit(x2_train, y2_train)"
   ]
  },
  {
   "cell_type": "code",
   "execution_count": 25,
   "id": "7c390ab1",
   "metadata": {
    "id": "D87RPN3T_6UI"
   },
   "outputs": [
    {
     "data": {
      "text/plain": [
       "({'colsample_bytree': 0.6, 'subsample': 0.9}, 0.9810272405765254)"
      ]
     },
     "execution_count": 25,
     "metadata": {},
     "output_type": "execute_result"
    }
   ],
   "source": [
    "gsearch4.best_params_, gsearch4.best_score_"
   ]
  },
  {
   "cell_type": "markdown",
   "id": "3b2ec22f",
   "metadata": {
    "id": "B4fMNx00_6Lx"
   },
   "source": [
    "Подберем параметр регуляризации reg_alpha. Попробуем [1e-5, 1e-2, 0.1, 1, 100]"
   ]
  },
  {
   "cell_type": "code",
   "execution_count": 28,
   "id": "a40cf670",
   "metadata": {
    "id": "KoQFaYoJAbAA"
   },
   "outputs": [
    {
     "data": {
      "text/plain": [
       "GridSearchCV(cv=5,\n",
       "             estimator=XGBClassifier(base_score=None, booster=None,\n",
       "                                     callbacks=None, colsample_bylevel=None,\n",
       "                                     colsample_bynode=None,\n",
       "                                     colsample_bytree=0.6,\n",
       "                                     early_stopping_rounds=None,\n",
       "                                     enable_categorical=False, eval_metric=None,\n",
       "                                     gamma=1, gpu_id=None, grow_policy=None,\n",
       "                                     importance_type=None,\n",
       "                                     interaction_constraints=None,\n",
       "                                     learning_rate=0.1, max_bin=None,\n",
       "                                     max_cat_to_onehot=None,\n",
       "                                     max_delta_step=None, max_depth=15,\n",
       "                                     max_leaves=None, min_child_weight=1,\n",
       "                                     missing=nan, monotone_constraints=None,\n",
       "                                     n_estimators=150, n_jobs=None, nthread=4,\n",
       "                                     num_parallel_tree=None, predictor=None,\n",
       "                                     random_state=None, reg_alpha=None, ...),\n",
       "             n_jobs=4, param_grid={'reg_alpha': [1e-05, 0.01, 0.1, 1, 100]},\n",
       "             scoring='roc_auc')"
      ]
     },
     "execution_count": 28,
     "metadata": {},
     "output_type": "execute_result"
    }
   ],
   "source": [
    "param_test5 = {\n",
    "    'reg_alpha': [1e-5, 1e-2, 0.1, 1, 100]\n",
    "} \n",
    "\n",
    "gsearch5 = GridSearchCV(estimator = XGBClassifier(learning_rate=0.1, n_estimators=150, max_depth=15,\n",
    "                                                   min_child_weight = 1, objective='binary:logistic', nthread=4, gamma=1, scale_pos_weight=1,seed=27,\n",
    "                                                  subsample = 0.9, colsample_bytree = 0.6),\n",
    "                         param_grid = param_test5, scoring='roc_auc',n_jobs=4, cv=5)\n",
    "gsearch5.fit(x2_train, y2_train)"
   ]
  },
  {
   "cell_type": "code",
   "execution_count": 29,
   "id": "598d55fd",
   "metadata": {
    "id": "0CgEjKGjAdzv"
   },
   "outputs": [
    {
     "data": {
      "text/plain": [
       "({'reg_alpha': 0.01}, 0.9810238750865835)"
      ]
     },
     "execution_count": 29,
     "metadata": {},
     "output_type": "execute_result"
    }
   ],
   "source": [
    "gsearch5.best_params_, gsearch5.best_score_"
   ]
  },
  {
   "cell_type": "markdown",
   "id": "3936509d",
   "metadata": {
    "id": "TeeKgUH6Afjs"
   },
   "source": [
    "Запустим обучение и предсказание на найденных параметрах и посмотрим на качество."
   ]
  },
  {
   "cell_type": "code",
   "execution_count": 30,
   "id": "827e73b7",
   "metadata": {
    "id": "G-Lu0kcdAhBo"
   },
   "outputs": [
    {
     "name": "stderr",
     "output_type": "stream",
     "text": [
      "D:\\ANACONDA\\lib\\site-packages\\xgboost\\sklearn.py:793: UserWarning: `eval_metric` in `fit` method is deprecated for better compatibility with scikit-learn, use `eval_metric` in constructor or`set_params` instead.\n",
      "  warnings.warn(\n"
     ]
    },
    {
     "name": "stdout",
     "output_type": "stream",
     "text": [
      "F1-score : 0.8586\n",
      "AUC Score (Train): 0.992898\n",
      "AUC Score (Test): 0.981279\n"
     ]
    },
    {
     "data": {
      "image/png": "[encoded data removed]",
      "text/plain": [
       "<Figure size 432x288 with 1 Axes>"
      ]
     },
     "metadata": {
      "needs_background": "light"
     },
     "output_type": "display_data"
    }
   ],
   "source": [
    "xgb3 = XGBClassifier(\n",
    "        learning_rate=0.1,     \n",
    "        n_estimators=150,   \n",
    "        max_depth=15,\n",
    "        min_child_weight=1,\n",
    "        gamma=0.9,\n",
    "        subsample=0.9,\n",
    "        colsample_bytree=0.6,\n",
    "        reg_alpha=0.01,\n",
    "        objective='binary:logistic',\n",
    "        nthread=4,\n",
    "        scale_pos_weight=1,\n",
    "        seed=27)\n",
    "modelfit(xgb3, x2_train, x2_test, y2_train, y2_test)"
   ]
  },
  {
   "cell_type": "code",
   "execution_count": null,
   "id": "b6b0f4f5",
   "metadata": {},
   "outputs": [],
   "source": []
  }
 ],
 "metadata": {
  "colab": {
   "collapsed_sections": [],
   "name": "Models.ipynb",
   "provenance": []
  },
  "kernelspec": {
   "display_name": "Python 3 (ipykernel)",
   "language": "python",
   "name": "python3"
  },
  "language_info": {
   "codemirror_mode": {
    "name": "ipython",
    "version": 3
   },
   "file_extension": ".py",
   "mimetype": "text/x-python",
   "name": "python",
   "nbconvert_exporter": "python",
   "pygments_lexer": "ipython3",
   "version": "3.9.12"
  }
 },
 "nbformat": 4,
 "nbformat_minor": 5
}

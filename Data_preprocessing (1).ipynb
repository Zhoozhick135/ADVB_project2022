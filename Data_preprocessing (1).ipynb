{
  "cells": [
    {
      "cell_type": "markdown",
      "metadata": {
        "id": "EEijxt81_-Fd"
      },
      "source": [
        "# Командный проект\n",
        "\n",
        "## Оптимизация списков клиентов на коммуникацию на основе транзакционной истории\n",
        "\n",
        "### Участники: Баранова Валерия, Жужгова Юлия, Ильясова Сабина"
      ]
    },
    {
      "cell_type": "markdown",
      "metadata": {
        "id": "vzLqax1LBVs9"
      },
      "source": [
        "#### Часть 1: Обработка и исследование исходных данных"
      ]
    },
    {
      "cell_type": "markdown",
      "metadata": {
        "id": "iJuFSfinY8NE"
      },
      "source": [
        "привет!\n",
        "안녕하세요!\n",
        "Исәнмесез!\n",
        "hello!"
      ]
    },
    {
      "cell_type": "markdown",
      "metadata": {
        "id": "xIxbWOvsB1vx"
      },
      "source": [
        "Для начала импортируем необходимые для работы библиотеки и загрузим исходный датасет."
      ]
    },
    {
      "cell_type": "code",
      "execution_count": null,
      "metadata": {
        "id": "Xh9w-DEEBSZu"
      },
      "outputs": [],
      "source": [
        "import pandas as pd\n",
        "import numpy as np\n",
        "import matplotlib.pyplot as plt\n",
        "import seaborn as sns\n",
        "import os\n",
        "pd.options.display.max_rows = 85\n",
        "\n",
        "cwd = os.getcwd()"
      ]
    },
    {
      "cell_type": "markdown",
      "metadata": {
        "id": "KX9hLqEoDRSV"
      },
      "source": [
        "Выведем первые пять строк наших данных, чтобы получить первичное представление об их структуре. Например, теперь мы знаем, что датесет train содержит 22 столбца, каждый из которых представляет собой переменные, по строкам размещены наблюдения - данные по клиенту, имеющему индивидуальный ID. В том числе в датасет train входят две целевые переменные - Target1 и Target2."
      ]
    },
    {
      "cell_type": "code",
      "execution_count": null,
      "metadata": {
        "colab": {
          "base_uri": "https://localhost:8080/",
          "height": 314
        },
        "id": "BBu28wXmDl-h",
        "outputId": "0dba01ae-d9b4-4921-863f-3e0dd376b434"
      },
      "outputs": [
        {
          "data": {
            "text/html": [
              "<div>\n",
              "<style scoped>\n",
              "    .dataframe tbody tr th:only-of-type {\n",
              "        vertical-align: middle;\n",
              "    }\n",
              "\n",
              "    .dataframe tbody tr th {\n",
              "        vertical-align: top;\n",
              "    }\n",
              "\n",
              "    .dataframe thead th {\n",
              "        text-align: right;\n",
              "    }\n",
              "</style>\n",
              "<table border=\"1\" class=\"dataframe\">\n",
              "  <thead>\n",
              "    <tr style=\"text-align: right;\">\n",
              "      <th></th>\n",
              "      <th>ID</th>\n",
              "      <th>Age</th>\n",
              "      <th>Ind_Household</th>\n",
              "      <th>Age_group</th>\n",
              "      <th>District</th>\n",
              "      <th>Region</th>\n",
              "      <th>Lifetime</th>\n",
              "      <th>Income</th>\n",
              "      <th>Segment</th>\n",
              "      <th>Ind_deposit</th>\n",
              "      <th>...</th>\n",
              "      <th>Ind_salary</th>\n",
              "      <th>trans_6_month</th>\n",
              "      <th>trans_9_month</th>\n",
              "      <th>trans_12_month</th>\n",
              "      <th>amont_trans</th>\n",
              "      <th>amont_day_from</th>\n",
              "      <th>trans_3_month</th>\n",
              "      <th>Gender</th>\n",
              "      <th>Target1</th>\n",
              "      <th>Target2</th>\n",
              "    </tr>\n",
              "  </thead>\n",
              "  <tbody>\n",
              "    <tr>\n",
              "      <th>0</th>\n",
              "      <td>1200000001</td>\n",
              "      <td>51.0</td>\n",
              "      <td>No</td>\n",
              "      <td>middle</td>\n",
              "      <td>02</td>\n",
              "      <td>Midlands</td>\n",
              "      <td>3.0</td>\n",
              "      <td>53</td>\n",
              "      <td>Platinum</td>\n",
              "      <td>No</td>\n",
              "      <td>...</td>\n",
              "      <td>No</td>\n",
              "      <td>2026.27</td>\n",
              "      <td>2964.23</td>\n",
              "      <td>4140.91</td>\n",
              "      <td>3</td>\n",
              "      <td>21</td>\n",
              "      <td>910.02</td>\n",
              "      <td>F</td>\n",
              "      <td>No</td>\n",
              "      <td>No</td>\n",
              "    </tr>\n",
              "    <tr>\n",
              "      <th>1</th>\n",
              "      <td>1200000002</td>\n",
              "      <td>47.0</td>\n",
              "      <td>No</td>\n",
              "      <td>middle</td>\n",
              "      <td>34</td>\n",
              "      <td>Midlands</td>\n",
              "      <td>2.0</td>\n",
              "      <td>51</td>\n",
              "      <td>Gold</td>\n",
              "      <td>No</td>\n",
              "      <td>...</td>\n",
              "      <td>No</td>\n",
              "      <td>2033.14</td>\n",
              "      <td>2969.30</td>\n",
              "      <td>4202.63</td>\n",
              "      <td>5</td>\n",
              "      <td>14</td>\n",
              "      <td>977.80</td>\n",
              "      <td>U</td>\n",
              "      <td>No</td>\n",
              "      <td>No</td>\n",
              "    </tr>\n",
              "    <tr>\n",
              "      <th>2</th>\n",
              "      <td>1200000003</td>\n",
              "      <td>45.0</td>\n",
              "      <td>No</td>\n",
              "      <td>middle</td>\n",
              "      <td>17</td>\n",
              "      <td>North</td>\n",
              "      <td>6.0</td>\n",
              "      <td>50</td>\n",
              "      <td>Silver</td>\n",
              "      <td>No</td>\n",
              "      <td>...</td>\n",
              "      <td>No</td>\n",
              "      <td>2085.68</td>\n",
              "      <td>3080.13</td>\n",
              "      <td>4277.45</td>\n",
              "      <td>11</td>\n",
              "      <td>16</td>\n",
              "      <td>1001.54</td>\n",
              "      <td>M</td>\n",
              "      <td>No</td>\n",
              "      <td>No</td>\n",
              "    </tr>\n",
              "    <tr>\n",
              "      <th>3</th>\n",
              "      <td>1200000004</td>\n",
              "      <td>78.0</td>\n",
              "      <td>No</td>\n",
              "      <td>senior</td>\n",
              "      <td>49</td>\n",
              "      <td>Midlands</td>\n",
              "      <td>12.0</td>\n",
              "      <td>52</td>\n",
              "      <td>Platinum</td>\n",
              "      <td>Yes</td>\n",
              "      <td>...</td>\n",
              "      <td>No</td>\n",
              "      <td>2026.58</td>\n",
              "      <td>3001.34</td>\n",
              "      <td>4105.54</td>\n",
              "      <td>3</td>\n",
              "      <td>15</td>\n",
              "      <td>980.78</td>\n",
              "      <td>F</td>\n",
              "      <td>No</td>\n",
              "      <td>No</td>\n",
              "    </tr>\n",
              "    <tr>\n",
              "      <th>4</th>\n",
              "      <td>1200000005</td>\n",
              "      <td>57.0</td>\n",
              "      <td>No</td>\n",
              "      <td>middle</td>\n",
              "      <td>19</td>\n",
              "      <td>South East</td>\n",
              "      <td>8.0</td>\n",
              "      <td>52</td>\n",
              "      <td>Silver</td>\n",
              "      <td>Yes</td>\n",
              "      <td>...</td>\n",
              "      <td>No</td>\n",
              "      <td>2142.23</td>\n",
              "      <td>3188.19</td>\n",
              "      <td>4401.98</td>\n",
              "      <td>2</td>\n",
              "      <td>26</td>\n",
              "      <td>1003.68</td>\n",
              "      <td>F</td>\n",
              "      <td>Yes</td>\n",
              "      <td>No</td>\n",
              "    </tr>\n",
              "  </tbody>\n",
              "</table>\n",
              "<p>5 rows × 22 columns</p>\n",
              "</div>"
            ],
            "text/plain": [
              "           ID   Age Ind_Household Age_group District      Region  Lifetime  \\\n",
              "0  1200000001  51.0            No    middle       02    Midlands       3.0   \n",
              "1  1200000002  47.0            No    middle       34    Midlands       2.0   \n",
              "2  1200000003  45.0            No    middle       17       North       6.0   \n",
              "3  1200000004  78.0            No    senior       49    Midlands      12.0   \n",
              "4  1200000005  57.0            No    middle       19  South East       8.0   \n",
              "\n",
              "   Income   Segment Ind_deposit  ... Ind_salary trans_6_month trans_9_month  \\\n",
              "0      53  Platinum          No  ...         No       2026.27       2964.23   \n",
              "1      51      Gold          No  ...         No       2033.14       2969.30   \n",
              "2      50    Silver          No  ...         No       2085.68       3080.13   \n",
              "3      52  Platinum         Yes  ...         No       2026.58       3001.34   \n",
              "4      52    Silver         Yes  ...         No       2142.23       3188.19   \n",
              "\n",
              "   trans_12_month  amont_trans  amont_day_from  trans_3_month  Gender  \\\n",
              "0         4140.91            3              21         910.02       F   \n",
              "1         4202.63            5              14         977.80       U   \n",
              "2         4277.45           11              16        1001.54       M   \n",
              "3         4105.54            3              15         980.78       F   \n",
              "4         4401.98            2              26        1003.68       F   \n",
              "\n",
              "   Target1 Target2  \n",
              "0       No      No  \n",
              "1       No      No  \n",
              "2       No      No  \n",
              "3       No      No  \n",
              "4      Yes      No  \n",
              "\n",
              "[5 rows x 22 columns]"
            ]
          },
          "execution_count": 2,
          "metadata": {},
          "output_type": "execute_result"
        }
      ],
      "source": [
        "df_train = pd.read_csv('WORK_bank_data_train.csv', sep=';')\n",
        "df_train.head()"
      ]
    },
    {
      "cell_type": "code",
      "execution_count": null,
      "metadata": {
        "colab": {
          "base_uri": "https://localhost:8080/",
          "height": 319
        },
        "id": "5W0R1hdeDmLl",
        "outputId": "5515c1e1-35cf-4d99-840d-804c28a06bd2"
      },
      "outputs": [
        {
          "data": {
            "text/html": [
              "<div>\n",
              "<style scoped>\n",
              "    .dataframe tbody tr th:only-of-type {\n",
              "        vertical-align: middle;\n",
              "    }\n",
              "\n",
              "    .dataframe tbody tr th {\n",
              "        vertical-align: top;\n",
              "    }\n",
              "\n",
              "    .dataframe thead th {\n",
              "        text-align: right;\n",
              "    }\n",
              "</style>\n",
              "<table border=\"1\" class=\"dataframe\">\n",
              "  <thead>\n",
              "    <tr style=\"text-align: right;\">\n",
              "      <th></th>\n",
              "      <th>ID</th>\n",
              "      <th>Age</th>\n",
              "      <th>Ind_House_hold</th>\n",
              "      <th>Age_group</th>\n",
              "      <th>District</th>\n",
              "      <th>Region</th>\n",
              "      <th>Lifetime</th>\n",
              "      <th>Income</th>\n",
              "      <th>Segment</th>\n",
              "      <th>Ind_deposit</th>\n",
              "      <th>Ind_salary</th>\n",
              "      <th>trans_6_month</th>\n",
              "      <th>trans_9_month</th>\n",
              "      <th>trans_12_month</th>\n",
              "      <th>amont_trans</th>\n",
              "      <th>amont_day_from</th>\n",
              "      <th>trans_3_month</th>\n",
              "      <th>Gender</th>\n",
              "    </tr>\n",
              "  </thead>\n",
              "  <tbody>\n",
              "    <tr>\n",
              "      <th>0</th>\n",
              "      <td>1200000027</td>\n",
              "      <td>50.0</td>\n",
              "      <td>No</td>\n",
              "      <td>middle</td>\n",
              "      <td>22</td>\n",
              "      <td>South East</td>\n",
              "      <td>5.0</td>\n",
              "      <td>47</td>\n",
              "      <td>Tin</td>\n",
              "      <td>Yes</td>\n",
              "      <td>No</td>\n",
              "      <td>2062.32</td>\n",
              "      <td>2978.92</td>\n",
              "      <td>4054.13</td>\n",
              "      <td>7</td>\n",
              "      <td>17</td>\n",
              "      <td>950.45</td>\n",
              "      <td>M</td>\n",
              "    </tr>\n",
              "    <tr>\n",
              "      <th>1</th>\n",
              "      <td>1200000040</td>\n",
              "      <td>34.0</td>\n",
              "      <td>No</td>\n",
              "      <td>middle</td>\n",
              "      <td>47</td>\n",
              "      <td>South East</td>\n",
              "      <td>5.0</td>\n",
              "      <td>54</td>\n",
              "      <td>Tin</td>\n",
              "      <td>No</td>\n",
              "      <td>No</td>\n",
              "      <td>2000.73</td>\n",
              "      <td>3111.23</td>\n",
              "      <td>4265.02</td>\n",
              "      <td>5</td>\n",
              "      <td>17</td>\n",
              "      <td>982.29</td>\n",
              "      <td>F</td>\n",
              "    </tr>\n",
              "    <tr>\n",
              "      <th>2</th>\n",
              "      <td>1200000041</td>\n",
              "      <td>NaN</td>\n",
              "      <td>Yes</td>\n",
              "      <td>unknown</td>\n",
              "      <td>14</td>\n",
              "      <td>South East</td>\n",
              "      <td>28.0</td>\n",
              "      <td>52</td>\n",
              "      <td>Gold</td>\n",
              "      <td>Yes</td>\n",
              "      <td>No</td>\n",
              "      <td>1991.05</td>\n",
              "      <td>2990.26</td>\n",
              "      <td>4193.14</td>\n",
              "      <td>9</td>\n",
              "      <td>33</td>\n",
              "      <td>909.27</td>\n",
              "      <td>F</td>\n",
              "    </tr>\n",
              "    <tr>\n",
              "      <th>3</th>\n",
              "      <td>1200000071</td>\n",
              "      <td>61.0</td>\n",
              "      <td>No</td>\n",
              "      <td>senior</td>\n",
              "      <td>23</td>\n",
              "      <td>Midlands</td>\n",
              "      <td>3.0</td>\n",
              "      <td>54</td>\n",
              "      <td>Silver</td>\n",
              "      <td>Yes</td>\n",
              "      <td>No</td>\n",
              "      <td>2094.12</td>\n",
              "      <td>3089.97</td>\n",
              "      <td>4167.11</td>\n",
              "      <td>5</td>\n",
              "      <td>17</td>\n",
              "      <td>933.91</td>\n",
              "      <td>F</td>\n",
              "    </tr>\n",
              "    <tr>\n",
              "      <th>4</th>\n",
              "      <td>1200000080</td>\n",
              "      <td>44.0</td>\n",
              "      <td>No</td>\n",
              "      <td>middle</td>\n",
              "      <td>51</td>\n",
              "      <td>North</td>\n",
              "      <td>8.0</td>\n",
              "      <td>43</td>\n",
              "      <td>Silver</td>\n",
              "      <td>Yes</td>\n",
              "      <td>No</td>\n",
              "      <td>2034.41</td>\n",
              "      <td>2972.27</td>\n",
              "      <td>4165.87</td>\n",
              "      <td>5</td>\n",
              "      <td>17</td>\n",
              "      <td>917.13</td>\n",
              "      <td>F</td>\n",
              "    </tr>\n",
              "  </tbody>\n",
              "</table>\n",
              "</div>"
            ],
            "text/plain": [
              "           ID   Age Ind_House_hold Age_group District      Region  Lifetime  \\\n",
              "0  1200000027  50.0             No    middle       22  South East       5.0   \n",
              "1  1200000040  34.0             No    middle       47  South East       5.0   \n",
              "2  1200000041   NaN            Yes   unknown       14  South East      28.0   \n",
              "3  1200000071  61.0             No    senior       23    Midlands       3.0   \n",
              "4  1200000080  44.0             No    middle       51       North       8.0   \n",
              "\n",
              "   Income Segment Ind_deposit Ind_salary  trans_6_month  trans_9_month  \\\n",
              "0      47     Tin         Yes         No        2062.32        2978.92   \n",
              "1      54     Tin          No         No        2000.73        3111.23   \n",
              "2      52    Gold         Yes         No        1991.05        2990.26   \n",
              "3      54  Silver         Yes         No        2094.12        3089.97   \n",
              "4      43  Silver         Yes         No        2034.41        2972.27   \n",
              "\n",
              "   trans_12_month  amont_trans  amont_day_from  trans_3_month Gender  \n",
              "0         4054.13            7              17         950.45      M  \n",
              "1         4265.02            5              17         982.29      F  \n",
              "2         4193.14            9              33         909.27      F  \n",
              "3         4167.11            5              17         933.91      F  \n",
              "4         4165.87            5              17         917.13      F  "
            ]
          },
          "execution_count": 3,
          "metadata": {},
          "output_type": "execute_result"
        }
      ],
      "source": [
        "df_test = pd.read_csv('WORK_WORK_BANK_DATA_test_sample.csv', sep=';')\n",
        "df_test.head()"
      ]
    },
    {
      "cell_type": "code",
      "execution_count": null,
      "metadata": {
        "colab": {
          "base_uri": "https://localhost:8080/"
        },
        "id": "qFgSVvQNHo6A",
        "outputId": "aec39cd7-c36c-4091-83fe-9be09d75b786"
      },
      "outputs": [
        {
          "name": "stdout",
          "output_type": "stream",
          "text": [
            "Ind_Household\n",
            "Ind_email\n",
            "Ind_phone\n",
            "Target1\n",
            "Target2\n"
          ]
        }
      ],
      "source": [
        "for column_train in df_train.columns:\n",
        "    was = False\n",
        "    for column_test in df_test.columns:\n",
        "        if column_train == column_test:\n",
        "            was = True\n",
        "    if not was:\n",
        "        print(column_train)"
      ]
    },
    {
      "cell_type": "markdown",
      "metadata": {
        "id": "k2JMXf8gIohm"
      },
      "source": [
        "В двух датасетах есть одна и та же переменная, но с разными названиями, исправим это."
      ]
    },
    {
      "cell_type": "code",
      "execution_count": null,
      "metadata": {
        "id": "qTaZEzH5Hx7m"
      },
      "outputs": [],
      "source": [
        "df_test.rename(columns = {'Ind_House_hold' : 'Ind_Household'}, inplace = True)"
      ]
    },
    {
      "cell_type": "code",
      "execution_count": null,
      "metadata": {
        "colab": {
          "base_uri": "https://localhost:8080/"
        },
        "id": "n1qA1r1bIlOp",
        "outputId": "79621155-dc66-40d4-9488-69e139547fa3"
      },
      "outputs": [
        {
          "name": "stdout",
          "output_type": "stream",
          "text": [
            "Ind_email\n",
            "Ind_phone\n",
            "Target1\n",
            "Target2\n"
          ]
        }
      ],
      "source": [
        "for column_train in df_train.columns:\n",
        "    was = False\n",
        "    for column_test in df_test.columns:\n",
        "        if column_train == column_test:\n",
        "            was = True\n",
        "    if not was:\n",
        "        print(column_train)"
      ]
    },
    {
      "cell_type": "markdown",
      "metadata": {
        "id": "5Z9iyyHGE1nK"
      },
      "source": [
        "Датасет test содержит в себе 18 переменных, а не 22 как df_train, так как в нем отсутствуют две зависимые переменные и две переменные - Индикатор наличия e-mail и телефона Ind_email и Ind_phone. Удалим эти две переменные, так как их использование для построения моделей будет невозможно."
      ]
    },
    {
      "cell_type": "code",
      "execution_count": null,
      "metadata": {
        "id": "qBK_V5M-rM5f"
      },
      "outputs": [],
      "source": [
        "df_train.drop(columns = ['Ind_email', 'Ind_phone'], inplace = True)"
      ]
    },
    {
      "cell_type": "markdown",
      "metadata": {
        "id": "hCeKiZ3TFXed"
      },
      "source": [
        "Далее пока что будем работать только с датасетом train, так как именно он будет необходим для построения моделей, датасет test преобразуем позже."
      ]
    },
    {
      "cell_type": "code",
      "execution_count": null,
      "metadata": {
        "colab": {
          "base_uri": "https://localhost:8080/"
        },
        "id": "sh4GIVkrFpnR",
        "outputId": "4b11ecda-7444-4c12-e55d-92bea26eb3a6",
        "scrolled": true
      },
      "outputs": [
        {
          "name": "stdout",
          "output_type": "stream",
          "text": [
            "<class 'pandas.core.frame.DataFrame'>\n",
            "RangeIndex: 985477 entries, 0 to 985476\n",
            "Data columns (total 20 columns):\n",
            " #   Column          Non-Null Count   Dtype  \n",
            "---  ------          --------------   -----  \n",
            " 0   ID              985477 non-null  int64  \n",
            " 1   Age             918519 non-null  float64\n",
            " 2   Ind_Household   985477 non-null  object \n",
            " 3   Age_group       985477 non-null  object \n",
            " 4   District        985477 non-null  object \n",
            " 5   Region          985477 non-null  object \n",
            " 6   Lifetime        972869 non-null  float64\n",
            " 7   Income          985477 non-null  int64  \n",
            " 8   Segment         985477 non-null  object \n",
            " 9   Ind_deposit     985477 non-null  object \n",
            " 10  Ind_salary      985477 non-null  object \n",
            " 11  trans_6_month   985477 non-null  float64\n",
            " 12  trans_9_month   985477 non-null  float64\n",
            " 13  trans_12_month  985477 non-null  float64\n",
            " 14  amont_trans     985477 non-null  int64  \n",
            " 15  amont_day_from  985477 non-null  int64  \n",
            " 16  trans_3_month   985477 non-null  float64\n",
            " 17  Gender          985477 non-null  object \n",
            " 18  Target1         985477 non-null  object \n",
            " 19  Target2         985477 non-null  object \n",
            "dtypes: float64(6), int64(4), object(10)\n",
            "memory usage: 150.4+ MB\n"
          ]
        }
      ],
      "source": [
        "df_train.info()"
      ]
    },
    {
      "cell_type": "markdown",
      "metadata": {
        "id": "DVKxs0PtF4xw"
      },
      "source": [
        "Команда info() позволяет узнать количество всех наблюдений, ненулевых значений по каждой переменной и ее тип. По результатам видно, что всего наблюдений в датасете 985477, однако в данных по переменным Age и Lifetime много пропущенных значений. Типы данных по нашей таблице: числовые (int, float) и категориальные (object). При этом категориальных переменных больше, чем числовых показателей.\n",
        "Типы всех переменных установлены верно, дополнительных корректировок не требуется."
      ]
    },
    {
      "cell_type": "markdown",
      "metadata": {
        "id": "N3kBY9lMT034"
      },
      "source": [
        "Далее составим таблицу, содержащую статистические характеристики переменных, а именно: количество ненулевых значений, среднее, ско, минимум и максимум, медиану (50% квантиль), квантили 25% и 75%. Также нам необходимо ислледовать данные на количество уникальных значений, пустых значений и долю от общего количесвта в процентах. Добавим к описательной таблице соответствующие столбцы."
      ]
    },
    {
      "cell_type": "code",
      "execution_count": null,
      "metadata": {
        "colab": {
          "base_uri": "https://localhost:8080/",
          "height": 423
        },
        "id": "noeWBuJGUFRe",
        "outputId": "2a9da928-ed1f-4a0d-eecc-3e9c46b40294"
      },
      "outputs": [
        {
          "data": {
            "text/html": [
              "<div>\n",
              "<style scoped>\n",
              "    .dataframe tbody tr th:only-of-type {\n",
              "        vertical-align: middle;\n",
              "    }\n",
              "\n",
              "    .dataframe tbody tr th {\n",
              "        vertical-align: top;\n",
              "    }\n",
              "\n",
              "    .dataframe thead th {\n",
              "        text-align: right;\n",
              "    }\n",
              "</style>\n",
              "<table border=\"1\" class=\"dataframe\">\n",
              "  <thead>\n",
              "    <tr style=\"text-align: right;\">\n",
              "      <th></th>\n",
              "      <th>count</th>\n",
              "      <th>mean</th>\n",
              "      <th>std</th>\n",
              "      <th>min</th>\n",
              "      <th>25%</th>\n",
              "      <th>50%</th>\n",
              "      <th>75%</th>\n",
              "      <th>max</th>\n",
              "      <th>unique</th>\n",
              "      <th>percentage_unique</th>\n",
              "      <th>null</th>\n",
              "      <th>percentage_null</th>\n",
              "    </tr>\n",
              "  </thead>\n",
              "  <tbody>\n",
              "    <tr>\n",
              "      <th>ID</th>\n",
              "      <td>985477.0</td>\n",
              "      <td>1.200524e+09</td>\n",
              "      <td>302714.432408</td>\n",
              "      <td>1.200000e+09</td>\n",
              "      <td>1.200262e+09</td>\n",
              "      <td>1.200524e+09</td>\n",
              "      <td>1.200786e+09</td>\n",
              "      <td>1.201049e+09</td>\n",
              "      <td>985477</td>\n",
              "      <td>100.000000</td>\n",
              "      <td>0.0</td>\n",
              "      <td>0.000000</td>\n",
              "    </tr>\n",
              "    <tr>\n",
              "      <th>Age</th>\n",
              "      <td>918519.0</td>\n",
              "      <td>5.379211e+01</td>\n",
              "      <td>13.196993</td>\n",
              "      <td>1.800000e+01</td>\n",
              "      <td>4.400000e+01</td>\n",
              "      <td>5.400000e+01</td>\n",
              "      <td>6.400000e+01</td>\n",
              "      <td>7.900000e+01</td>\n",
              "      <td>62</td>\n",
              "      <td>0.006750</td>\n",
              "      <td>66958.0</td>\n",
              "      <td>6.794476</td>\n",
              "    </tr>\n",
              "    <tr>\n",
              "      <th>Lifetime</th>\n",
              "      <td>972869.0</td>\n",
              "      <td>6.562314e+00</td>\n",
              "      <td>4.655215</td>\n",
              "      <td>0.000000e+00</td>\n",
              "      <td>4.000000e+00</td>\n",
              "      <td>5.000000e+00</td>\n",
              "      <td>8.000000e+00</td>\n",
              "      <td>3.900000e+01</td>\n",
              "      <td>39</td>\n",
              "      <td>0.004009</td>\n",
              "      <td>12608.0</td>\n",
              "      <td>1.279380</td>\n",
              "    </tr>\n",
              "    <tr>\n",
              "      <th>Income</th>\n",
              "      <td>985477.0</td>\n",
              "      <td>5.035613e+01</td>\n",
              "      <td>5.440736</td>\n",
              "      <td>2.500000e+01</td>\n",
              "      <td>4.700000e+01</td>\n",
              "      <td>5.000000e+01</td>\n",
              "      <td>5.400000e+01</td>\n",
              "      <td>7.500000e+01</td>\n",
              "      <td>51</td>\n",
              "      <td>0.005175</td>\n",
              "      <td>0.0</td>\n",
              "      <td>0.000000</td>\n",
              "    </tr>\n",
              "    <tr>\n",
              "      <th>trans_6_month</th>\n",
              "      <td>985477.0</td>\n",
              "      <td>2.049943e+03</td>\n",
              "      <td>70.712709</td>\n",
              "      <td>1.668770e+03</td>\n",
              "      <td>2.002260e+03</td>\n",
              "      <td>2.050020e+03</td>\n",
              "      <td>2.097610e+03</td>\n",
              "      <td>2.370870e+03</td>\n",
              "      <td>42505</td>\n",
              "      <td>4.313140</td>\n",
              "      <td>0.0</td>\n",
              "      <td>0.000000</td>\n",
              "    </tr>\n",
              "    <tr>\n",
              "      <th>trans_9_month</th>\n",
              "      <td>985477.0</td>\n",
              "      <td>3.069965e+03</td>\n",
              "      <td>86.610431</td>\n",
              "      <td>2.624090e+03</td>\n",
              "      <td>3.011540e+03</td>\n",
              "      <td>3.069910e+03</td>\n",
              "      <td>3.128470e+03</td>\n",
              "      <td>3.468300e+03</td>\n",
              "      <td>50868</td>\n",
              "      <td>5.161764</td>\n",
              "      <td>0.0</td>\n",
              "      <td>0.000000</td>\n",
              "    </tr>\n",
              "    <tr>\n",
              "      <th>trans_12_month</th>\n",
              "      <td>985477.0</td>\n",
              "      <td>4.189979e+03</td>\n",
              "      <td>100.020678</td>\n",
              "      <td>3.698920e+03</td>\n",
              "      <td>4.122480e+03</td>\n",
              "      <td>4.190000e+03</td>\n",
              "      <td>4.257490e+03</td>\n",
              "      <td>4.684880e+03</td>\n",
              "      <td>57702</td>\n",
              "      <td>5.855236</td>\n",
              "      <td>0.0</td>\n",
              "      <td>0.000000</td>\n",
              "    </tr>\n",
              "    <tr>\n",
              "      <th>amont_trans</th>\n",
              "      <td>985477.0</td>\n",
              "      <td>7.240207e+00</td>\n",
              "      <td>3.034947</td>\n",
              "      <td>1.000000e+00</td>\n",
              "      <td>5.000000e+00</td>\n",
              "      <td>7.000000e+00</td>\n",
              "      <td>9.000000e+00</td>\n",
              "      <td>4.900000e+01</td>\n",
              "      <td>44</td>\n",
              "      <td>0.004465</td>\n",
              "      <td>0.0</td>\n",
              "      <td>0.000000</td>\n",
              "    </tr>\n",
              "    <tr>\n",
              "      <th>amont_day_from</th>\n",
              "      <td>985477.0</td>\n",
              "      <td>1.974189e+01</td>\n",
              "      <td>7.014321</td>\n",
              "      <td>1.000000e+01</td>\n",
              "      <td>1.500000e+01</td>\n",
              "      <td>1.600000e+01</td>\n",
              "      <td>2.500000e+01</td>\n",
              "      <td>4.200000e+01</td>\n",
              "      <td>31</td>\n",
              "      <td>0.003146</td>\n",
              "      <td>0.0</td>\n",
              "      <td>0.000000</td>\n",
              "    </tr>\n",
              "    <tr>\n",
              "      <th>trans_3_month</th>\n",
              "      <td>985477.0</td>\n",
              "      <td>9.525142e+02</td>\n",
              "      <td>48.247139</td>\n",
              "      <td>7.164900e+02</td>\n",
              "      <td>9.205200e+02</td>\n",
              "      <td>9.520200e+02</td>\n",
              "      <td>9.845300e+02</td>\n",
              "      <td>1.174030e+03</td>\n",
              "      <td>65926</td>\n",
              "      <td>6.689755</td>\n",
              "      <td>0.0</td>\n",
              "      <td>0.000000</td>\n",
              "    </tr>\n",
              "  </tbody>\n",
              "</table>\n",
              "</div>"
            ],
            "text/plain": [
              "                   count          mean            std           min  \\\n",
              "ID              985477.0  1.200524e+09  302714.432408  1.200000e+09   \n",
              "Age             918519.0  5.379211e+01      13.196993  1.800000e+01   \n",
              "Lifetime        972869.0  6.562314e+00       4.655215  0.000000e+00   \n",
              "Income          985477.0  5.035613e+01       5.440736  2.500000e+01   \n",
              "trans_6_month   985477.0  2.049943e+03      70.712709  1.668770e+03   \n",
              "trans_9_month   985477.0  3.069965e+03      86.610431  2.624090e+03   \n",
              "trans_12_month  985477.0  4.189979e+03     100.020678  3.698920e+03   \n",
              "amont_trans     985477.0  7.240207e+00       3.034947  1.000000e+00   \n",
              "amont_day_from  985477.0  1.974189e+01       7.014321  1.000000e+01   \n",
              "trans_3_month   985477.0  9.525142e+02      48.247139  7.164900e+02   \n",
              "\n",
              "                         25%           50%           75%           max  \\\n",
              "ID              1.200262e+09  1.200524e+09  1.200786e+09  1.201049e+09   \n",
              "Age             4.400000e+01  5.400000e+01  6.400000e+01  7.900000e+01   \n",
              "Lifetime        4.000000e+00  5.000000e+00  8.000000e+00  3.900000e+01   \n",
              "Income          4.700000e+01  5.000000e+01  5.400000e+01  7.500000e+01   \n",
              "trans_6_month   2.002260e+03  2.050020e+03  2.097610e+03  2.370870e+03   \n",
              "trans_9_month   3.011540e+03  3.069910e+03  3.128470e+03  3.468300e+03   \n",
              "trans_12_month  4.122480e+03  4.190000e+03  4.257490e+03  4.684880e+03   \n",
              "amont_trans     5.000000e+00  7.000000e+00  9.000000e+00  4.900000e+01   \n",
              "amont_day_from  1.500000e+01  1.600000e+01  2.500000e+01  4.200000e+01   \n",
              "trans_3_month   9.205200e+02  9.520200e+02  9.845300e+02  1.174030e+03   \n",
              "\n",
              "                unique  percentage_unique     null  percentage_null  \n",
              "ID              985477         100.000000      0.0         0.000000  \n",
              "Age                 62           0.006750  66958.0         6.794476  \n",
              "Lifetime            39           0.004009  12608.0         1.279380  \n",
              "Income              51           0.005175      0.0         0.000000  \n",
              "trans_6_month    42505           4.313140      0.0         0.000000  \n",
              "trans_9_month    50868           5.161764      0.0         0.000000  \n",
              "trans_12_month   57702           5.855236      0.0         0.000000  \n",
              "amont_trans         44           0.004465      0.0         0.000000  \n",
              "amont_day_from      31           0.003146      0.0         0.000000  \n",
              "trans_3_month    65926           6.689755      0.0         0.000000  "
            ]
          },
          "execution_count": 9,
          "metadata": {},
          "output_type": "execute_result"
        }
      ],
      "source": [
        "profile_num = pd.DataFrame(df_train.describe().transpose())\n",
        "unique = []\n",
        "for i in df_train.columns:\n",
        "    if df_train[i].dtypes != 'object':\n",
        "        unique.append(df_train[i].nunique())\n",
        "profile_num['unique'] = unique\n",
        "all = [df_train.shape[0]] * profile_num.shape[0]\n",
        "profile_num['percentage_unique'] = profile_num['unique'] / profile_num['count'] *100\n",
        "profile_num['null'] = all - profile_num['count']\n",
        "profile_num['percentage_null'] = profile_num['null'] / df_train.shape[0] *100\n",
        "profile_num"
      ]
    },
    {
      "cell_type": "markdown",
      "metadata": {
        "id": "JaJyDWI7Vn8k"
      },
      "source": [
        "Теперь составим аналогичную таблицу для категориальных переменных, добавим столбцы с расчетом пустых значений, а также долей уникальных и пустых наблюдений."
      ]
    },
    {
      "cell_type": "code",
      "execution_count": null,
      "metadata": {
        "colab": {
          "base_uri": "https://localhost:8080/",
          "height": 421
        },
        "id": "WT0KQRW1Vojj",
        "outputId": "a719ca0f-f3b4-4c9e-ed1f-f04443f75198"
      },
      "outputs": [
        {
          "data": {
            "text/html": [
              "<div>\n",
              "<style scoped>\n",
              "    .dataframe tbody tr th:only-of-type {\n",
              "        vertical-align: middle;\n",
              "    }\n",
              "\n",
              "    .dataframe tbody tr th {\n",
              "        vertical-align: top;\n",
              "    }\n",
              "\n",
              "    .dataframe thead th {\n",
              "        text-align: right;\n",
              "    }\n",
              "</style>\n",
              "<table border=\"1\" class=\"dataframe\">\n",
              "  <thead>\n",
              "    <tr style=\"text-align: right;\">\n",
              "      <th></th>\n",
              "      <th>count</th>\n",
              "      <th>unique</th>\n",
              "      <th>top</th>\n",
              "      <th>freq</th>\n",
              "      <th>percentage_unique</th>\n",
              "      <th>null</th>\n",
              "      <th>percentage_null</th>\n",
              "    </tr>\n",
              "  </thead>\n",
              "  <tbody>\n",
              "    <tr>\n",
              "      <th>Ind_Household</th>\n",
              "      <td>985477</td>\n",
              "      <td>2</td>\n",
              "      <td>No</td>\n",
              "      <td>640250</td>\n",
              "      <td>0.000203</td>\n",
              "      <td>0</td>\n",
              "      <td>0.0</td>\n",
              "    </tr>\n",
              "    <tr>\n",
              "      <th>Age_group</th>\n",
              "      <td>985477</td>\n",
              "      <td>4</td>\n",
              "      <td>middle</td>\n",
              "      <td>578936</td>\n",
              "      <td>0.000406</td>\n",
              "      <td>0</td>\n",
              "      <td>0.0</td>\n",
              "    </tr>\n",
              "    <tr>\n",
              "      <th>District</th>\n",
              "      <td>985477</td>\n",
              "      <td>56</td>\n",
              "      <td>52</td>\n",
              "      <td>53206</td>\n",
              "      <td>0.005683</td>\n",
              "      <td>0</td>\n",
              "      <td>0.0</td>\n",
              "    </tr>\n",
              "    <tr>\n",
              "      <th>Region</th>\n",
              "      <td>985477</td>\n",
              "      <td>6</td>\n",
              "      <td>South East</td>\n",
              "      <td>382905</td>\n",
              "      <td>0.000609</td>\n",
              "      <td>0</td>\n",
              "      <td>0.0</td>\n",
              "    </tr>\n",
              "    <tr>\n",
              "      <th>Segment</th>\n",
              "      <td>985477</td>\n",
              "      <td>4</td>\n",
              "      <td>Silver</td>\n",
              "      <td>379739</td>\n",
              "      <td>0.000406</td>\n",
              "      <td>0</td>\n",
              "      <td>0.0</td>\n",
              "    </tr>\n",
              "    <tr>\n",
              "      <th>Ind_deposit</th>\n",
              "      <td>985477</td>\n",
              "      <td>2</td>\n",
              "      <td>Yes</td>\n",
              "      <td>797999</td>\n",
              "      <td>0.000203</td>\n",
              "      <td>0</td>\n",
              "      <td>0.0</td>\n",
              "    </tr>\n",
              "    <tr>\n",
              "      <th>Ind_salary</th>\n",
              "      <td>985477</td>\n",
              "      <td>2</td>\n",
              "      <td>No</td>\n",
              "      <td>916207</td>\n",
              "      <td>0.000203</td>\n",
              "      <td>0</td>\n",
              "      <td>0.0</td>\n",
              "    </tr>\n",
              "    <tr>\n",
              "      <th>Gender</th>\n",
              "      <td>985477</td>\n",
              "      <td>3</td>\n",
              "      <td>F</td>\n",
              "      <td>538741</td>\n",
              "      <td>0.000304</td>\n",
              "      <td>0</td>\n",
              "      <td>0.0</td>\n",
              "    </tr>\n",
              "    <tr>\n",
              "      <th>Target1</th>\n",
              "      <td>985477</td>\n",
              "      <td>2</td>\n",
              "      <td>No</td>\n",
              "      <td>741971</td>\n",
              "      <td>0.000203</td>\n",
              "      <td>0</td>\n",
              "      <td>0.0</td>\n",
              "    </tr>\n",
              "    <tr>\n",
              "      <th>Target2</th>\n",
              "      <td>985477</td>\n",
              "      <td>2</td>\n",
              "      <td>No</td>\n",
              "      <td>901093</td>\n",
              "      <td>0.000203</td>\n",
              "      <td>0</td>\n",
              "      <td>0.0</td>\n",
              "    </tr>\n",
              "  </tbody>\n",
              "</table>\n",
              "</div>"
            ],
            "text/plain": [
              "                count unique         top    freq percentage_unique null  \\\n",
              "Ind_Household  985477      2          No  640250          0.000203    0   \n",
              "Age_group      985477      4      middle  578936          0.000406    0   \n",
              "District       985477     56          52   53206          0.005683    0   \n",
              "Region         985477      6  South East  382905          0.000609    0   \n",
              "Segment        985477      4      Silver  379739          0.000406    0   \n",
              "Ind_deposit    985477      2         Yes  797999          0.000203    0   \n",
              "Ind_salary     985477      2          No  916207          0.000203    0   \n",
              "Gender         985477      3           F  538741          0.000304    0   \n",
              "Target1        985477      2          No  741971          0.000203    0   \n",
              "Target2        985477      2          No  901093          0.000203    0   \n",
              "\n",
              "              percentage_null  \n",
              "Ind_Household             0.0  \n",
              "Age_group                 0.0  \n",
              "District                  0.0  \n",
              "Region                    0.0  \n",
              "Segment                   0.0  \n",
              "Ind_deposit               0.0  \n",
              "Ind_salary                0.0  \n",
              "Gender                    0.0  \n",
              "Target1                   0.0  \n",
              "Target2                   0.0  "
            ]
          },
          "execution_count": 10,
          "metadata": {},
          "output_type": "execute_result"
        }
      ],
      "source": [
        "profile_cat = df_train.describe(include = 'object').transpose()\n",
        "all1 = [df_train.shape[0]] * profile_cat.shape[0]\n",
        "profile_cat['percentage_unique'] = profile_cat['unique'] / profile_cat['count'] *100\n",
        "profile_cat['null'] = all1 - profile_cat['count']\n",
        "profile_cat['percentage_null'] = profile_cat['null'] / 10243 *100\n",
        "profile_cat"
      ]
    },
    {
      "cell_type": "markdown",
      "metadata": {
        "id": "Gb30g3cTXEjH"
      },
      "source": [
        "Далее построим распределения для переменных.\n",
        "\n"
      ]
    },
    {
      "cell_type": "code",
      "execution_count": null,
      "metadata": {
        "id": "UthIQvTnrM5m"
      },
      "outputs": [],
      "source": [
        "def build_displots(data, columns, n_col=1, name='displots'):\n",
        "    m = n_col\n",
        "    n = (len(columns) + m - 1) // m\n",
        "    fig, axes = plt.subplots(n, m, figsize=(20, n * (16 // m)))\n",
        "    fig.suptitle(name)\n",
        "    fig.tight_layout(pad=3.0)\n",
        "    for idx in range(len(columns)):\n",
        "        cur_data = data[~data[columns[idx]].isna()][columns[idx]]\n",
        "        i, j = idx // m, idx % m\n",
        "        # try:\n",
        "        #     try:\n",
        "        #         sns_plot = sns.distplot(cur_data, ax=axes[i, j], color='blue')\n",
        "        #     except:\n",
        "        #         sns_plot = sns.distplot(cur_data, ax=axes[i, j], kde_kws={'bw': 0.1}, color='red')\n",
        "        # except:\n",
        "        sns_plot = cur_data.hist(ax=axes[i, j], color='green')\n",
        "        axes[i, j].set_title(columns[idx])\n",
        "    plt.show()\n",
        "    return"
      ]
    },
    {
      "cell_type": "code",
      "execution_count": null,
      "metadata": {
        "colab": {
          "base_uri": "https://localhost:8080/",
          "height": 1000
        },
        "id": "eX-blF0XmaK1",
        "outputId": "7540f959-3975-40b0-a9dc-b1617b690db6"
      },
      "outputs": [
        {
          "data": {
            "image/png": "[encoded data removed]",
            "text/plain": [
              "<Figure size 1440x1440 with 20 Axes>"
            ]
          },
          "metadata": {
            "needs_background": "light"
          },
          "output_type": "display_data"
        }
      ],
      "source": [
        "build_displots(df_train, columns=df_train.columns, n_col=4, name='displots')"
      ]
    },
    {
      "cell_type": "markdown",
      "metadata": {
        "id": "FKHY-80LxqRd"
      },
      "source": [
        "Построим матрицу корреляций для датасета train."
      ]
    },
    {
      "cell_type": "code",
      "execution_count": null,
      "metadata": {
        "id": "cYnbZBbex7rk"
      },
      "outputs": [],
      "source": [
        "num_features = profile_num.transpose().columns.tolist()\n",
        "del num_features[0]"
      ]
    },
    {
      "cell_type": "code",
      "execution_count": null,
      "metadata": {
        "colab": {
          "base_uri": "https://localhost:8080/",
          "height": 958
        },
        "id": "pfHWTDZzxpxc",
        "outputId": "e9115c2e-46a3-4b98-dc74-8e138fb83eb9"
      },
      "outputs": [
        {
          "data": {
            "text/plain": [
              "<AxesSubplot:>"
            ]
          },
          "execution_count": 14,
          "metadata": {},
          "output_type": "execute_result"
        },
        {
          "data": {
            "image/png": "[encoded data removed]",
            "text/plain": [
              "<Figure size 1080x1080 with 2 Axes>"
            ]
          },
          "metadata": {
            "needs_background": "light"
          },
          "output_type": "display_data"
        }
      ],
      "source": [
        "corr_matrix = df_train.loc[:,num_features].corr()\n",
        "corr_matrix\n",
        "plt.figure(figsize=(15,15))\n",
        "sns.heatmap(corr_matrix, cmap = 'coolwarm',  linewidths=1, linecolor='white')"
      ]
    },
    {
      "cell_type": "markdown",
      "metadata": {
        "id": "kianDgldrM5q"
      },
      "source": [
        "По матрице корреляций видно, что наиболее коррелирующими переменными являются trans_6_month с trans_9_month и trans_9_month с trans_12_month, они связаны положительно, но есть и отрицательно зависящие друг от друга переменные - это trans_3_month и amount_day_from. Эти переменные коррелированы, вероятно, потому что они основаны друг на друге, то есть транзакции за последние 12 месяцев включают в себя транзакции за последние 9 месяцев. При дальнейшем анализе некоторые коррелированные переменные будут удалены."
      ]
    },
    {
      "cell_type": "markdown",
      "metadata": {
        "id": "PyLDtkulY1JN"
      },
      "source": [
        "Заменим пустые значения в переменной Age, для этого воспользуемся вспомогательной переменной Age_group."
      ]
    },
    {
      "cell_type": "code",
      "execution_count": null,
      "metadata": {
        "colab": {
          "base_uri": "https://localhost:8080/"
        },
        "id": "tPFecp6bbqlq",
        "outputId": "71b70463-0837-4bde-e3f6-eba6d3871357"
      },
      "outputs": [
        {
          "name": "stdout",
          "output_type": "stream",
          "text": [
            "group: middle\n",
            "count: 578936\n",
            "nan: 0 (0.0%)\n",
            "displot:  31.0 - 60.0\n",
            "----------\n",
            "group: senior\n",
            "count: 310393\n",
            "nan: 0 (0.0%)\n",
            "displot:  61.0 - 79.0\n",
            "----------\n",
            "group: unknown\n",
            "count: 66958\n",
            "nan: 66958 (100.0%)\n",
            "displot:  nan - nan\n",
            "----------\n",
            "group: young\n",
            "count: 29190\n",
            "nan: 0 (0.0%)\n",
            "displot:  18.0 - 30.0\n",
            "----------\n"
          ]
        }
      ],
      "source": [
        "for age_group in df_train['Age_group'].unique():\n",
        "    print('group:', age_group)\n",
        "    print('count:', df_train[df_train['Age_group'] == age_group].shape[0])\n",
        "    print('nan: ', df_train[df_train['Age_group'] == age_group]['Age'].isna().sum(), ' (',\n",
        "          round(df_train[df_train['Age_group'] == age_group]['Age'].isna().sum() / \n",
        "                df_train[df_train['Age_group'] == age_group].shape[0] * 100, 2), '%)', sep='')\n",
        "    print('displot: ', df_train[df_train['Age_group'] == age_group]['Age'].min(), '-', \n",
        "          df_train[df_train['Age_group'] == age_group]['Age'].max())\n",
        "    print('-' * 10)"
      ]
    },
    {
      "cell_type": "markdown",
      "metadata": {
        "id": "i66cUrSIY1JO"
      },
      "source": [
        "Видно, что все пропущенные значения содержатся в категории unknown, остальные пользователи разделены на три возрастных группы: с 18 до 30, с 31 до 60 и с 61 до 79. Так как у нас больше нет никаких дополнительных данных, заменим пропуски для категории unknown на средний возраст (округлим его до целого) всех клиентов."
      ]
    },
    {
      "cell_type": "code",
      "execution_count": null,
      "metadata": {
        "id": "gba8oW5tbq0a"
      },
      "outputs": [],
      "source": [
        "df_train['Age'].fillna(round(df_train['Age'].mean(), 0), inplace=True)"
      ]
    },
    {
      "cell_type": "markdown",
      "metadata": {
        "id": "lefhEvxuY1JP"
      },
      "source": [
        "Теперь займемся заменой пропусков в переменной Lifetime - это переменная, которая обозначает время проведенное с банком, то есть то, как долго клиент им пользуется. Для этого нам пригодятся данные по транзакциям, так как они есть во временном разрезе, что поможет нам установить примерное время присоединения клиента. Но для начала проверим правильность данных по транзакциям."
      ]
    },
    {
      "cell_type": "markdown",
      "metadata": {
        "id": "aDc2siyDY1JP"
      },
      "source": [
        "Период 1 - с 12 до 9 месяца, период 2 - с 9 до 6, период 3 - с 6 по 3 месяц, период 4 - последние 3 месяца."
      ]
    },
    {
      "cell_type": "code",
      "execution_count": null,
      "metadata": {
        "id": "mWO6NBTnY1JP"
      },
      "outputs": [],
      "source": [
        "df_transactions = pd.DataFrame()\n",
        "df_transactions['trans_period1'] = df_train['trans_12_month'] - df_train['trans_9_month']\n",
        "df_transactions['trans_period2'] = df_train['trans_9_month'] - df_train['trans_6_month']\n",
        "df_transactions['trans_period3'] = df_train['trans_6_month'] - df_train['trans_3_month']\n",
        "df_transactions['trans_period4'] = df_train['trans_3_month']"
      ]
    },
    {
      "cell_type": "code",
      "execution_count": null,
      "metadata": {
        "id": "rs8DoAxkY1JQ"
      },
      "outputs": [],
      "source": [
        "trans_cols = ['trans_period1', 'trans_period2', 'trans_period3', 'trans_period4']"
      ]
    },
    {
      "cell_type": "code",
      "execution_count": null,
      "metadata": {
        "colab": {
          "base_uri": "https://localhost:8080/",
          "height": 173
        },
        "id": "XcFQToebY1JQ",
        "outputId": "9183dbb7-62ba-411d-b779-a783997dad6e"
      },
      "outputs": [
        {
          "data": {
            "text/html": [
              "<div>\n",
              "<style scoped>\n",
              "    .dataframe tbody tr th:only-of-type {\n",
              "        vertical-align: middle;\n",
              "    }\n",
              "\n",
              "    .dataframe tbody tr th {\n",
              "        vertical-align: top;\n",
              "    }\n",
              "\n",
              "    .dataframe thead th {\n",
              "        text-align: right;\n",
              "    }\n",
              "</style>\n",
              "<table border=\"1\" class=\"dataframe\">\n",
              "  <thead>\n",
              "    <tr style=\"text-align: right;\">\n",
              "      <th></th>\n",
              "      <th>count</th>\n",
              "      <th>mean</th>\n",
              "      <th>std</th>\n",
              "      <th>min</th>\n",
              "      <th>25%</th>\n",
              "      <th>50%</th>\n",
              "      <th>75%</th>\n",
              "      <th>max</th>\n",
              "    </tr>\n",
              "  </thead>\n",
              "  <tbody>\n",
              "    <tr>\n",
              "      <th>trans_period1</th>\n",
              "      <td>985477.0</td>\n",
              "      <td>1120.014865</td>\n",
              "      <td>50.002544</td>\n",
              "      <td>869.600000</td>\n",
              "      <td>1086.33</td>\n",
              "      <td>1120.07</td>\n",
              "      <td>1153.76</td>\n",
              "      <td>1364.66</td>\n",
              "    </tr>\n",
              "    <tr>\n",
              "      <th>trans_period2</th>\n",
              "      <td>985477.0</td>\n",
              "      <td>1020.021823</td>\n",
              "      <td>50.008094</td>\n",
              "      <td>779.020000</td>\n",
              "      <td>986.31</td>\n",
              "      <td>1020.06</td>\n",
              "      <td>1053.69</td>\n",
              "      <td>1285.73</td>\n",
              "    </tr>\n",
              "    <tr>\n",
              "      <th>trans_period3</th>\n",
              "      <td>985477.0</td>\n",
              "      <td>1097.428477</td>\n",
              "      <td>51.783570</td>\n",
              "      <td>803.242469</td>\n",
              "      <td>1063.38</td>\n",
              "      <td>1098.22</td>\n",
              "      <td>1132.37</td>\n",
              "      <td>1363.54</td>\n",
              "    </tr>\n",
              "    <tr>\n",
              "      <th>trans_period4</th>\n",
              "      <td>985477.0</td>\n",
              "      <td>952.514236</td>\n",
              "      <td>48.247139</td>\n",
              "      <td>716.490000</td>\n",
              "      <td>920.52</td>\n",
              "      <td>952.02</td>\n",
              "      <td>984.53</td>\n",
              "      <td>1174.03</td>\n",
              "    </tr>\n",
              "  </tbody>\n",
              "</table>\n",
              "</div>"
            ],
            "text/plain": [
              "                  count         mean        std         min      25%      50%  \\\n",
              "trans_period1  985477.0  1120.014865  50.002544  869.600000  1086.33  1120.07   \n",
              "trans_period2  985477.0  1020.021823  50.008094  779.020000   986.31  1020.06   \n",
              "trans_period3  985477.0  1097.428477  51.783570  803.242469  1063.38  1098.22   \n",
              "trans_period4  985477.0   952.514236  48.247139  716.490000   920.52   952.02   \n",
              "\n",
              "                   75%      max  \n",
              "trans_period1  1153.76  1364.66  \n",
              "trans_period2  1053.69  1285.73  \n",
              "trans_period3  1132.37  1363.54  \n",
              "trans_period4   984.53  1174.03  "
            ]
          },
          "execution_count": 19,
          "metadata": {},
          "output_type": "execute_result"
        }
      ],
      "source": [
        "df_transactions[trans_cols].describe().transpose()"
      ]
    },
    {
      "cell_type": "markdown",
      "metadata": {
        "id": "24Hwr7zOY1JQ"
      },
      "source": [
        "По этой таблице для транзакций за промежутки между имеющимися периодами видно, что минимальные значения не отрицательны и не равны нулю, это значит, что данные правильные, так как у нас нет клиентов, для которых число транзакций за последние 9 месяцев больше, чем за последние 12 месяцев. Также нет клиентов, которые совсем не совершали транзакции в указанный период. Заменим пропуски на средние значения."
      ]
    },
    {
      "cell_type": "code",
      "execution_count": null,
      "metadata": {
        "id": "VWD8GbPKY1JQ"
      },
      "outputs": [],
      "source": [
        "df_train['Lifetime'].fillna(round(df_train['Lifetime'].mean(), 0), inplace=True)"
      ]
    },
    {
      "cell_type": "markdown",
      "metadata": {
        "id": "6QbvNE2nX7nc"
      },
      "source": [
        "Также заметим, что переменная District в USA обозначает название районов Америки (всего их в наших данных 55), которые могут быть объединены в регионы. Также в выборке есть переменная Regions, которая обозначает разделение клиентов по географическому признаку - то есть, более крупным округам, в которые входят дистрикты. Поэтому, чтобы избежать повторений, уберем более мелкую географическую единицу, то есть переменную District."
      ]
    },
    {
      "cell_type": "code",
      "execution_count": null,
      "metadata": {
        "colab": {
          "base_uri": "https://localhost:8080/",
          "height": 551
        },
        "id": "qteSdpOUX7nd",
        "outputId": "1d32d631-fe4d-4865-9c84-bcc5969409c9",
        "scrolled": true
      },
      "outputs": [
        {
          "data": {
            "text/html": [
              "<div>\n",
              "<style scoped>\n",
              "    .dataframe tbody tr th:only-of-type {\n",
              "        vertical-align: middle;\n",
              "    }\n",
              "\n",
              "    .dataframe tbody tr th {\n",
              "        vertical-align: top;\n",
              "    }\n",
              "\n",
              "    .dataframe thead th {\n",
              "        text-align: right;\n",
              "    }\n",
              "</style>\n",
              "<table border=\"1\" class=\"dataframe\">\n",
              "  <thead>\n",
              "    <tr style=\"text-align: right;\">\n",
              "      <th></th>\n",
              "      <th>ID</th>\n",
              "      <th>Age</th>\n",
              "      <th>Ind_Household</th>\n",
              "      <th>Age_group</th>\n",
              "      <th>Region</th>\n",
              "      <th>Lifetime</th>\n",
              "      <th>Income</th>\n",
              "      <th>Segment</th>\n",
              "      <th>Ind_deposit</th>\n",
              "      <th>Ind_salary</th>\n",
              "      <th>trans_6_month</th>\n",
              "      <th>trans_9_month</th>\n",
              "      <th>trans_12_month</th>\n",
              "      <th>amont_trans</th>\n",
              "      <th>amont_day_from</th>\n",
              "      <th>trans_3_month</th>\n",
              "      <th>Gender</th>\n",
              "      <th>Target1</th>\n",
              "      <th>Target2</th>\n",
              "    </tr>\n",
              "  </thead>\n",
              "  <tbody>\n",
              "    <tr>\n",
              "      <th>0</th>\n",
              "      <td>1200000001</td>\n",
              "      <td>51.0</td>\n",
              "      <td>No</td>\n",
              "      <td>middle</td>\n",
              "      <td>Midlands</td>\n",
              "      <td>3.0</td>\n",
              "      <td>53</td>\n",
              "      <td>Platinum</td>\n",
              "      <td>No</td>\n",
              "      <td>No</td>\n",
              "      <td>2026.27</td>\n",
              "      <td>2964.23</td>\n",
              "      <td>4140.91</td>\n",
              "      <td>3</td>\n",
              "      <td>21</td>\n",
              "      <td>910.02</td>\n",
              "      <td>F</td>\n",
              "      <td>No</td>\n",
              "      <td>No</td>\n",
              "    </tr>\n",
              "    <tr>\n",
              "      <th>1</th>\n",
              "      <td>1200000002</td>\n",
              "      <td>47.0</td>\n",
              "      <td>No</td>\n",
              "      <td>middle</td>\n",
              "      <td>Midlands</td>\n",
              "      <td>2.0</td>\n",
              "      <td>51</td>\n",
              "      <td>Gold</td>\n",
              "      <td>No</td>\n",
              "      <td>No</td>\n",
              "      <td>2033.14</td>\n",
              "      <td>2969.30</td>\n",
              "      <td>4202.63</td>\n",
              "      <td>5</td>\n",
              "      <td>14</td>\n",
              "      <td>977.80</td>\n",
              "      <td>U</td>\n",
              "      <td>No</td>\n",
              "      <td>No</td>\n",
              "    </tr>\n",
              "    <tr>\n",
              "      <th>2</th>\n",
              "      <td>1200000003</td>\n",
              "      <td>45.0</td>\n",
              "      <td>No</td>\n",
              "      <td>middle</td>\n",
              "      <td>North</td>\n",
              "      <td>6.0</td>\n",
              "      <td>50</td>\n",
              "      <td>Silver</td>\n",
              "      <td>No</td>\n",
              "      <td>No</td>\n",
              "      <td>2085.68</td>\n",
              "      <td>3080.13</td>\n",
              "      <td>4277.45</td>\n",
              "      <td>11</td>\n",
              "      <td>16</td>\n",
              "      <td>1001.54</td>\n",
              "      <td>M</td>\n",
              "      <td>No</td>\n",
              "      <td>No</td>\n",
              "    </tr>\n",
              "    <tr>\n",
              "      <th>3</th>\n",
              "      <td>1200000004</td>\n",
              "      <td>78.0</td>\n",
              "      <td>No</td>\n",
              "      <td>senior</td>\n",
              "      <td>Midlands</td>\n",
              "      <td>12.0</td>\n",
              "      <td>52</td>\n",
              "      <td>Platinum</td>\n",
              "      <td>Yes</td>\n",
              "      <td>No</td>\n",
              "      <td>2026.58</td>\n",
              "      <td>3001.34</td>\n",
              "      <td>4105.54</td>\n",
              "      <td>3</td>\n",
              "      <td>15</td>\n",
              "      <td>980.78</td>\n",
              "      <td>F</td>\n",
              "      <td>No</td>\n",
              "      <td>No</td>\n",
              "    </tr>\n",
              "    <tr>\n",
              "      <th>4</th>\n",
              "      <td>1200000005</td>\n",
              "      <td>57.0</td>\n",
              "      <td>No</td>\n",
              "      <td>middle</td>\n",
              "      <td>South East</td>\n",
              "      <td>8.0</td>\n",
              "      <td>52</td>\n",
              "      <td>Silver</td>\n",
              "      <td>Yes</td>\n",
              "      <td>No</td>\n",
              "      <td>2142.23</td>\n",
              "      <td>3188.19</td>\n",
              "      <td>4401.98</td>\n",
              "      <td>2</td>\n",
              "      <td>26</td>\n",
              "      <td>1003.68</td>\n",
              "      <td>F</td>\n",
              "      <td>Yes</td>\n",
              "      <td>No</td>\n",
              "    </tr>\n",
              "    <tr>\n",
              "      <th>...</th>\n",
              "      <td>...</td>\n",
              "      <td>...</td>\n",
              "      <td>...</td>\n",
              "      <td>...</td>\n",
              "      <td>...</td>\n",
              "      <td>...</td>\n",
              "      <td>...</td>\n",
              "      <td>...</td>\n",
              "      <td>...</td>\n",
              "      <td>...</td>\n",
              "      <td>...</td>\n",
              "      <td>...</td>\n",
              "      <td>...</td>\n",
              "      <td>...</td>\n",
              "      <td>...</td>\n",
              "      <td>...</td>\n",
              "      <td>...</td>\n",
              "      <td>...</td>\n",
              "      <td>...</td>\n",
              "    </tr>\n",
              "    <tr>\n",
              "      <th>985472</th>\n",
              "      <td>1201048571</td>\n",
              "      <td>54.0</td>\n",
              "      <td>No</td>\n",
              "      <td>unknown</td>\n",
              "      <td>South East</td>\n",
              "      <td>6.0</td>\n",
              "      <td>42</td>\n",
              "      <td>Silver</td>\n",
              "      <td>Yes</td>\n",
              "      <td>No</td>\n",
              "      <td>2139.03</td>\n",
              "      <td>3155.41</td>\n",
              "      <td>4291.97</td>\n",
              "      <td>10</td>\n",
              "      <td>14</td>\n",
              "      <td>989.90</td>\n",
              "      <td>F</td>\n",
              "      <td>No</td>\n",
              "      <td>No</td>\n",
              "    </tr>\n",
              "    <tr>\n",
              "      <th>985473</th>\n",
              "      <td>1201048572</td>\n",
              "      <td>63.0</td>\n",
              "      <td>No</td>\n",
              "      <td>senior</td>\n",
              "      <td>South East</td>\n",
              "      <td>9.0</td>\n",
              "      <td>51</td>\n",
              "      <td>Tin</td>\n",
              "      <td>No</td>\n",
              "      <td>No</td>\n",
              "      <td>1916.91</td>\n",
              "      <td>3000.02</td>\n",
              "      <td>4045.15</td>\n",
              "      <td>11</td>\n",
              "      <td>30</td>\n",
              "      <td>884.63</td>\n",
              "      <td>F</td>\n",
              "      <td>No</td>\n",
              "      <td>No</td>\n",
              "    </tr>\n",
              "    <tr>\n",
              "      <th>985474</th>\n",
              "      <td>1201048573</td>\n",
              "      <td>68.0</td>\n",
              "      <td>No</td>\n",
              "      <td>senior</td>\n",
              "      <td>North</td>\n",
              "      <td>3.0</td>\n",
              "      <td>56</td>\n",
              "      <td>Gold</td>\n",
              "      <td>Yes</td>\n",
              "      <td>No</td>\n",
              "      <td>2053.00</td>\n",
              "      <td>3112.87</td>\n",
              "      <td>4292.20</td>\n",
              "      <td>8</td>\n",
              "      <td>16</td>\n",
              "      <td>922.66</td>\n",
              "      <td>M</td>\n",
              "      <td>No</td>\n",
              "      <td>No</td>\n",
              "    </tr>\n",
              "    <tr>\n",
              "      <th>985475</th>\n",
              "      <td>1201048574</td>\n",
              "      <td>45.0</td>\n",
              "      <td>No</td>\n",
              "      <td>middle</td>\n",
              "      <td>Midlands</td>\n",
              "      <td>1.0</td>\n",
              "      <td>54</td>\n",
              "      <td>Gold</td>\n",
              "      <td>Yes</td>\n",
              "      <td>No</td>\n",
              "      <td>2082.85</td>\n",
              "      <td>3143.77</td>\n",
              "      <td>4207.48</td>\n",
              "      <td>8</td>\n",
              "      <td>15</td>\n",
              "      <td>951.42</td>\n",
              "      <td>M</td>\n",
              "      <td>No</td>\n",
              "      <td>No</td>\n",
              "    </tr>\n",
              "    <tr>\n",
              "      <th>985476</th>\n",
              "      <td>1201048575</td>\n",
              "      <td>71.0</td>\n",
              "      <td>Yes</td>\n",
              "      <td>senior</td>\n",
              "      <td>South East</td>\n",
              "      <td>8.0</td>\n",
              "      <td>41</td>\n",
              "      <td>Silver</td>\n",
              "      <td>Yes</td>\n",
              "      <td>No</td>\n",
              "      <td>2139.16</td>\n",
              "      <td>3211.02</td>\n",
              "      <td>4391.40</td>\n",
              "      <td>10</td>\n",
              "      <td>15</td>\n",
              "      <td>1046.10</td>\n",
              "      <td>M</td>\n",
              "      <td>No</td>\n",
              "      <td>No</td>\n",
              "    </tr>\n",
              "  </tbody>\n",
              "</table>\n",
              "<p>985477 rows × 19 columns</p>\n",
              "</div>"
            ],
            "text/plain": [
              "                ID   Age Ind_Household Age_group      Region  Lifetime  \\\n",
              "0       1200000001  51.0            No    middle    Midlands       3.0   \n",
              "1       1200000002  47.0            No    middle    Midlands       2.0   \n",
              "2       1200000003  45.0            No    middle       North       6.0   \n",
              "3       1200000004  78.0            No    senior    Midlands      12.0   \n",
              "4       1200000005  57.0            No    middle  South East       8.0   \n",
              "...            ...   ...           ...       ...         ...       ...   \n",
              "985472  1201048571  54.0            No   unknown  South East       6.0   \n",
              "985473  1201048572  63.0            No    senior  South East       9.0   \n",
              "985474  1201048573  68.0            No    senior       North       3.0   \n",
              "985475  1201048574  45.0            No    middle    Midlands       1.0   \n",
              "985476  1201048575  71.0           Yes    senior  South East       8.0   \n",
              "\n",
              "        Income   Segment Ind_deposit Ind_salary  trans_6_month  trans_9_month  \\\n",
              "0           53  Platinum          No         No        2026.27        2964.23   \n",
              "1           51      Gold          No         No        2033.14        2969.30   \n",
              "2           50    Silver          No         No        2085.68        3080.13   \n",
              "3           52  Platinum         Yes         No        2026.58        3001.34   \n",
              "4           52    Silver         Yes         No        2142.23        3188.19   \n",
              "...        ...       ...         ...        ...            ...            ...   \n",
              "985472      42    Silver         Yes         No        2139.03        3155.41   \n",
              "985473      51       Tin          No         No        1916.91        3000.02   \n",
              "985474      56      Gold         Yes         No        2053.00        3112.87   \n",
              "985475      54      Gold         Yes         No        2082.85        3143.77   \n",
              "985476      41    Silver         Yes         No        2139.16        3211.02   \n",
              "\n",
              "        trans_12_month  amont_trans  amont_day_from  trans_3_month Gender  \\\n",
              "0              4140.91            3              21         910.02      F   \n",
              "1              4202.63            5              14         977.80      U   \n",
              "2              4277.45           11              16        1001.54      M   \n",
              "3              4105.54            3              15         980.78      F   \n",
              "4              4401.98            2              26        1003.68      F   \n",
              "...                ...          ...             ...            ...    ...   \n",
              "985472         4291.97           10              14         989.90      F   \n",
              "985473         4045.15           11              30         884.63      F   \n",
              "985474         4292.20            8              16         922.66      M   \n",
              "985475         4207.48            8              15         951.42      M   \n",
              "985476         4391.40           10              15        1046.10      M   \n",
              "\n",
              "       Target1 Target2  \n",
              "0           No      No  \n",
              "1           No      No  \n",
              "2           No      No  \n",
              "3           No      No  \n",
              "4          Yes      No  \n",
              "...        ...     ...  \n",
              "985472      No      No  \n",
              "985473      No      No  \n",
              "985474      No      No  \n",
              "985475      No      No  \n",
              "985476      No      No  \n",
              "\n",
              "[985477 rows x 19 columns]"
            ]
          },
          "execution_count": 21,
          "metadata": {},
          "output_type": "execute_result"
        }
      ],
      "source": [
        "df_train.drop(\"District\", axis=1, inplace=True)\n",
        "df_train"
      ]
    },
    {
      "cell_type": "markdown",
      "metadata": {
        "id": "eV5yKajJX7nf"
      },
      "source": [
        "#### Часть 2: преобразование WOE и расчет Information Value"
      ]
    },
    {
      "cell_type": "markdown",
      "metadata": {
        "id": "jau4IJ7FX7nf"
      },
      "source": [
        "Запишем сначала функцию преобразования WOE."
      ]
    },
    {
      "cell_type": "code",
      "execution_count": null,
      "metadata": {
        "id": "0il5QksMX7nf"
      },
      "outputs": [],
      "source": [
        "# преобразование WOE\n",
        "def calculate_woe_iv(dataset, feature, target):\n",
        "    lst = []\n",
        "    for i in range(dataset[feature].nunique()):\n",
        "        val = list(dataset[feature].unique())[i]\n",
        "        lst.append({\n",
        "            'Value': val,\n",
        "            'All': dataset[dataset[feature] == val].count()[feature],\n",
        "            'Good': dataset[(dataset[feature] == val) & (dataset[target] == 0)].count()[feature],\n",
        "            'Bad': dataset[(dataset[feature] == val) & (dataset[target] == 1)].count()[feature]\n",
        "        })\n",
        "        \n",
        "    dset = pd.DataFrame(lst)\n",
        "    dset['Distr_Good'] = dset['Good'] / dset['Good'].sum()\n",
        "    dset['Distr_Bad'] = dset['Bad'] / dset['Bad'].sum()\n",
        "    dset['WoE'] = np.log(dset['Distr_Good'] / dset['Distr_Bad'])\n",
        "    dset = dset.replace({'WoE': {np.inf: 0, -np.inf: 0}})\n",
        "    dset['IV'] = (dset['Distr_Good'] - dset['Distr_Bad']) * dset['WoE']\n",
        "    iv = dset['IV'].sum()\n",
        "    \n",
        "    dset = dset.sort_values(by='WoE')\n",
        "    \n",
        "    return dset, iv"
      ]
    },
    {
      "cell_type": "markdown",
      "metadata": {
        "id": "T8xPfzcaX7ng"
      },
      "source": [
        "Далее необходимо разделить числовые переменные на бины."
      ]
    },
    {
      "cell_type": "code",
      "execution_count": null,
      "metadata": {
        "id": "dF-IAWRtX7ng"
      },
      "outputs": [],
      "source": [
        "for feature in num_features:\n",
        "    df_train[feature + '_bin'] = pd.qcut(df_train[feature], 5, duplicates='drop')"
      ]
    },
    {
      "cell_type": "markdown",
      "metadata": {
        "id": "iE_gu0EiaJWl"
      },
      "source": [
        "Заменим значения Target1 и Target2 на 1 и 0."
      ]
    },
    {
      "cell_type": "code",
      "execution_count": null,
      "metadata": {
        "id": "IYiHK9vLX7nh"
      },
      "outputs": [],
      "source": [
        "def code(data, columns):\n",
        "    for column in columns:\n",
        "        data[column] = 1 * (data[column] == 'Yes')\n",
        "    return data"
      ]
    },
    {
      "cell_type": "code",
      "execution_count": null,
      "metadata": {
        "id": "W-V7q6MBX7nh"
      },
      "outputs": [],
      "source": [
        "df_train = code(df_train, columns=['Target1', \"Target2\"])"
      ]
    },
    {
      "cell_type": "markdown",
      "metadata": {
        "id": "yBPMQK19X7ni"
      },
      "source": [
        "Ниже представлены расчеты Information Value для Target1 сначала для чиловых, а затем для категориальных переменных."
      ]
    },
    {
      "cell_type": "code",
      "execution_count": null,
      "metadata": {
        "colab": {
          "base_uri": "https://localhost:8080/"
        },
        "id": "wAEMXsqKX7ni",
        "outputId": "f316011f-28ec-401e-9cbc-e59aa40b77aa"
      },
      "outputs": [
        {
          "name": "stdout",
          "output_type": "stream",
          "text": [
            "          feature        IV\n",
            "7  amont_day_from  1.472283\n",
            "0             Age  0.593544\n",
            "2          Income  0.049649\n",
            "1        Lifetime  0.020579\n",
            "8   trans_3_month  0.000903\n",
            "4   trans_9_month  0.000044\n",
            "3   trans_6_month  0.000025\n",
            "5  trans_12_month  0.000012\n",
            "6     amont_trans  0.000003\n"
          ]
        }
      ],
      "source": [
        "#для числовых\n",
        "feature_IV_num_1 = pd.DataFrame({'feature': [], 'IV': []})\n",
        "for feature in num_features:\n",
        "    \n",
        "    df, iv = calculate_woe_iv(df_train, feature + '_bin', 'Target1')\n",
        "    df['feature'] = feature\n",
        "    df_train_target1 = df_train.merge(df[['Value', 'WoE']], how='inner', left_on=feature + '_bin', right_on='Value' )\n",
        "    df_train_target1 = df_train_target1.rename(columns={'WoE':'WoE'+'_'+feature})\n",
        "    \n",
        "    df_train_target1 = df_train_target1.drop(columns = [feature, feature + '_bin', 'Value'])\n",
        "    \n",
        "    dict_to_append = {'feature': feature, 'IV': iv}\n",
        "    feature_IV_num_1 = feature_IV_num_1.append(dict_to_append, ignore_index=True)\n",
        "print(feature_IV_num_1.sort_values(by=['IV'], ascending = False))    "
      ]
    },
    {
      "cell_type": "code",
      "execution_count": null,
      "metadata": {
        "id": "6FXzADKKX7nj"
      },
      "outputs": [],
      "source": [
        "cat_features = ()\n",
        "cat_features = ['Ind_Household', 'Age_group', 'Region', \n",
        "                            'Segment', 'Ind_deposit', 'Ind_salary', 'Gender']"
      ]
    },
    {
      "cell_type": "code",
      "execution_count": null,
      "metadata": {
        "colab": {
          "base_uri": "https://localhost:8080/"
        },
        "id": "YU9ZCfncazOO",
        "outputId": "8f6ba1e5-d04c-420a-d1fc-cfe62fb0c578"
      },
      "outputs": [
        {
          "name": "stdout",
          "output_type": "stream",
          "text": [
            "         feature            IV\n",
            "6         Gender  4.311562e-01\n",
            "1      Age_group  1.938650e-01\n",
            "3        Segment  6.917546e-02\n",
            "2         Region  2.083547e-03\n",
            "4    Ind_deposit  1.325528e-05\n",
            "5     Ind_salary  7.740557e-06\n",
            "0  Ind_Household  7.693461e-07\n"
          ]
        }
      ],
      "source": [
        "#для категориальных\n",
        "feature_IV_cat_1 = pd.DataFrame({'feature': [], 'IV': []})\n",
        "for feature in cat_features:\n",
        "    df, iv = calculate_woe_iv(df_train, feature , 'Target1')\n",
        "    df['feature'] = feature\n",
        "    df_train_target1 = df_train.merge(df[['Value', 'WoE']], how='inner', left_on=feature, right_on='Value' )\n",
        "    df_train_target1 = df_train_target1.rename(columns={'WoE':'WoE'+'_'+feature})\n",
        "    df_train_target1 = df_train_target1.drop(columns = [feature, 'Value'])\n",
        "        \n",
        "    dict_to_append = {'feature': feature, 'IV': iv}\n",
        "    feature_IV_cat_1 = feature_IV_cat_1.append(dict_to_append, ignore_index=True)\n",
        "print(feature_IV_cat_1.sort_values(by=['IV'], ascending = False))"
      ]
    },
    {
      "cell_type": "markdown",
      "metadata": {
        "id": "JVM7OE_9a9Ke"
      },
      "source": [
        "Теперь рассчитаем Information Value по числовым и категориальным переменным по Target2."
      ]
    },
    {
      "cell_type": "code",
      "execution_count": null,
      "metadata": {
        "colab": {
          "base_uri": "https://localhost:8080/"
        },
        "id": "5z3llxQVbDrs",
        "outputId": "5cd2c918-4206-4edc-9938-615c00776ea7"
      },
      "outputs": [
        {
          "name": "stdout",
          "output_type": "stream",
          "text": [
            "          feature        IV\n",
            "7  amont_day_from  1.303512\n",
            "0             Age  0.366998\n",
            "2          Income  0.034911\n",
            "1        Lifetime  0.014678\n",
            "8   trans_3_month  0.014486\n",
            "3   trans_6_month  0.001787\n",
            "4   trans_9_month  0.001265\n",
            "5  trans_12_month  0.001029\n",
            "6     amont_trans  0.000011\n"
          ]
        }
      ],
      "source": [
        "#для числовых\n",
        "feature_IV_num_2 = pd.DataFrame({'feature': [], 'IV': []})\n",
        "for feature in num_features:\n",
        "    \n",
        "    df, iv = calculate_woe_iv(df_train, feature + '_bin', 'Target2')\n",
        "    df['feature'] = feature\n",
        "    df_train_target2 = df_train.merge(df[['Value', 'WoE']], how='inner', left_on=feature + '_bin', right_on='Value' )\n",
        "    df_train_target2 = df_train_target2.rename(columns={'WoE':'WoE'+'_'+feature})\n",
        "    \n",
        "    df_train_target2 = df_train_target2.drop(columns = [feature, feature + '_bin', 'Value'])\n",
        "    \n",
        "    dict_to_append = {'feature': feature, 'IV': iv}\n",
        "    feature_IV_num_2 = feature_IV_num_2.append(dict_to_append, ignore_index=True)\n",
        "print(feature_IV_num_2.sort_values(by=['IV'], ascending = False))"
      ]
    },
    {
      "cell_type": "code",
      "execution_count": null,
      "metadata": {
        "colab": {
          "base_uri": "https://localhost:8080/"
        },
        "id": "gs54L-f0bP7S",
        "outputId": "df57c7a8-b6da-4657-8245-228cfe28d850"
      },
      "outputs": [
        {
          "name": "stdout",
          "output_type": "stream",
          "text": [
            "         feature        IV\n",
            "6         Gender  0.301045\n",
            "1      Age_group  0.130817\n",
            "3        Segment  0.046705\n",
            "2         Region  0.001400\n",
            "4    Ind_deposit  0.000025\n",
            "5     Ind_salary  0.000022\n",
            "0  Ind_Household  0.000006\n"
          ]
        }
      ],
      "source": [
        "#для категориальных\n",
        "feature_IV_cat_2 = pd.DataFrame({'feature': [], 'IV': []})\n",
        "for feature in cat_features:\n",
        "    df, iv = calculate_woe_iv(df_train, feature , 'Target2')\n",
        "    df['feature'] = feature\n",
        "    df_train_target2 = df_train.merge(df[['Value', 'WoE']], how='inner', left_on=feature, right_on='Value' )\n",
        "    df_train_target2 = df_train_target2.rename(columns={'WoE':'WoE'+'_'+feature})\n",
        "    df_train_target2 = df_train_target2.drop(columns = [feature, 'Value'])\n",
        "        \n",
        "    dict_to_append = {'feature': feature, 'IV': iv}\n",
        "    feature_IV_cat_2 = feature_IV_cat_2.append(dict_to_append, ignore_index=True)\n",
        "print(feature_IV_cat_2.sort_values(by=['IV'], ascending = False))"
      ]
    },
    {
      "cell_type": "markdown",
      "metadata": {
        "id": "_MGuQXHgbVKc"
      },
      "source": [
        "Уберем переменные, у которых IV меньше, чем *0.01* (они почти одинаковы для обоих таргетов)"
      ]
    },
    {
      "cell_type": "code",
      "execution_count": null,
      "metadata": {
        "id": "coUElWKIbhyx"
      },
      "outputs": [],
      "source": [
        "df_train_final = df_train.drop(columns=[\"trans_6_month\", \"trans_9_month\", \"trans_12_month\", \n",
        "                                             \"amont_trans\", \"trans_3_month\", \"Ind_Household\", \"Ind_deposit\", \"Ind_salary\"])"
      ]
    },
    {
      "cell_type": "markdown",
      "metadata": {
        "id": "4JwHQjHkjBd5"
      },
      "source": [
        "Так как в датасет добавились переменные с бинами, дропнем их из каждой выборки."
      ]
    },
    {
      "cell_type": "code",
      "execution_count": null,
      "metadata": {
        "colab": {
          "base_uri": "https://localhost:8080/"
        },
        "id": "ZuRhpuhDjKNG",
        "outputId": "9dd3ae67-82f2-4d74-e2f6-e30aa486369e"
      },
      "outputs": [
        {
          "data": {
            "text/plain": [
              "Index(['ID', 'Age', 'Age_group', 'Region', 'Lifetime', 'Income', 'Segment',\n",
              "       'amont_day_from', 'Gender', 'Target1', 'Target2', 'Age_bin',\n",
              "       'Lifetime_bin', 'Income_bin', 'trans_6_month_bin', 'trans_9_month_bin',\n",
              "       'trans_12_month_bin', 'amont_trans_bin', 'amont_day_from_bin',\n",
              "       'trans_3_month_bin'],\n",
              "      dtype='object')"
            ]
          },
          "execution_count": 32,
          "metadata": {},
          "output_type": "execute_result"
        }
      ],
      "source": [
        "df_train_final.columns"
      ]
    },
    {
      "cell_type": "code",
      "execution_count": null,
      "metadata": {
        "id": "M0B_raovjKdI"
      },
      "outputs": [],
      "source": [
        "df_train_final.drop(columns=[\"Age_bin\", \"Lifetime_bin\", \"Income_bin\", \"trans_6_month_bin\", \n",
        "                                  \"trans_9_month_bin\", \"trans_12_month_bin\", \"amont_trans_bin\", \n",
        "                             \"trans_3_month_bin\", \"amont_day_from_bin\"], inplace=True)"
      ]
    },
    {
      "cell_type": "code",
      "execution_count": null,
      "metadata": {
        "colab": {
          "base_uri": "https://localhost:8080/"
        },
        "id": "6oXiW24CkMH4",
        "outputId": "7b5a2c3b-00a3-4c8a-ba25-24415284abff"
      },
      "outputs": [
        {
          "data": {
            "text/plain": [
              "Index(['ID', 'Age', 'Age_group', 'Region', 'Lifetime', 'Income', 'Segment',\n",
              "       'amont_day_from', 'Gender', 'Target1', 'Target2'],\n",
              "      dtype='object')"
            ]
          },
          "execution_count": 34,
          "metadata": {},
          "output_type": "execute_result"
        }
      ],
      "source": [
        "df_train_final.columns"
      ]
    },
    {
      "cell_type": "markdown",
      "metadata": {
        "id": "56hbIwjbY1JR"
      },
      "source": [
        "#### Часть 3: Кодировка данных"
      ]
    },
    {
      "cell_type": "markdown",
      "metadata": {
        "id": "-9d47PWOegSN"
      },
      "source": [
        "Сначала поработаем с категориальными переменными, которые принимают больше двух значений, для этого воспользуемся методом One Hot Encoding."
      ]
    },
    {
      "cell_type": "code",
      "execution_count": null,
      "metadata": {
        "id": "6OqhxYNaY1JR"
      },
      "outputs": [],
      "source": [
        "from sklearn.preprocessing import OneHotEncoder"
      ]
    },
    {
      "cell_type": "code",
      "execution_count": null,
      "metadata": {
        "id": "-VM83yuOY1JR"
      },
      "outputs": [],
      "source": [
        "def encoder(data, columns):\n",
        "    for column in columns:\n",
        "        tmp = pd.get_dummies(data[column], prefix=column)\n",
        "        data = data.drop(columns=[column])\n",
        "        data = data.join(tmp)\n",
        "    return data"
      ]
    },
    {
      "cell_type": "code",
      "execution_count": null,
      "metadata": {
        "id": "pTXlxf7XY1JS"
      },
      "outputs": [],
      "source": [
        "df_train_final = encoder(df_train_final, columns=['Age_group', 'Region', 'Segment', 'Gender'])"
      ]
    },
    {
      "cell_type": "markdown",
      "metadata": {
        "id": "zTYSmATneqgV"
      },
      "source": [
        "Уберем переменные со значения Unknown"
      ]
    },
    {
      "cell_type": "code",
      "execution_count": null,
      "metadata": {
        "id": "cJk-ycQPlHMH"
      },
      "outputs": [],
      "source": [
        "df_train_final.drop(columns=[\"Region_Unknown\", \"Age_group_unknown\", \"Gender_U\"], inplace=True)"
      ]
    },
    {
      "cell_type": "markdown",
      "metadata": {
        "id": "MB4hQ1jToKHF"
      },
      "source": [
        "#### Часть 4: Обработка и исследование данных test"
      ]
    },
    {
      "cell_type": "markdown",
      "metadata": {
        "id": "uuTqwj53pDlj"
      },
      "source": [
        "Теперь займемся датасетом test, сначала рассмотрим пропущенные значения."
      ]
    },
    {
      "cell_type": "code",
      "execution_count": null,
      "metadata": {
        "colab": {
          "base_uri": "https://localhost:8080/"
        },
        "id": "yfhOi2KfplqZ",
        "outputId": "e86aeb6f-89ff-4114-a26c-0ea93fc5e2aa",
        "scrolled": true
      },
      "outputs": [
        {
          "name": "stdout",
          "output_type": "stream",
          "text": [
            "<class 'pandas.core.frame.DataFrame'>\n",
            "RangeIndex: 63098 entries, 0 to 63097\n",
            "Data columns (total 18 columns):\n",
            " #   Column          Non-Null Count  Dtype  \n",
            "---  ------          --------------  -----  \n",
            " 0   ID              63098 non-null  int64  \n",
            " 1   Age             58729 non-null  float64\n",
            " 2   Ind_Household   63098 non-null  object \n",
            " 3   Age_group       63098 non-null  object \n",
            " 4   District        63098 non-null  object \n",
            " 5   Region          63098 non-null  object \n",
            " 6   Lifetime        62311 non-null  float64\n",
            " 7   Income          63098 non-null  int64  \n",
            " 8   Segment         63098 non-null  object \n",
            " 9   Ind_deposit     63098 non-null  object \n",
            " 10  Ind_salary      63098 non-null  object \n",
            " 11  trans_6_month   63098 non-null  float64\n",
            " 12  trans_9_month   63098 non-null  float64\n",
            " 13  trans_12_month  63098 non-null  float64\n",
            " 14  amont_trans     63098 non-null  int64  \n",
            " 15  amont_day_from  63098 non-null  int64  \n",
            " 16  trans_3_month   63098 non-null  float64\n",
            " 17  Gender          63098 non-null  object \n",
            "dtypes: float64(6), int64(4), object(8)\n",
            "memory usage: 8.7+ MB\n"
          ]
        }
      ],
      "source": [
        "df_test.info()"
      ]
    },
    {
      "cell_type": "markdown",
      "metadata": {
        "id": "DIn5bcQXqYOM"
      },
      "source": [
        "По результатам видно, что всего наблюдений в датасете 63098, однако в данных по переменным Age и Lifetime немного пропущенных значений. Типы данных по нашей таблице: числовые (int, float) и категориальные (object). При этом категориальных переменных больше, чем числовых показателей. Типы всех переменных установлены верно, дополнительных корректировок не требуется."
      ]
    },
    {
      "cell_type": "markdown",
      "metadata": {
        "id": "EoNiA6uEqpEr"
      },
      "source": [
        "Теперь составим таблицу с описанием данных."
      ]
    },
    {
      "cell_type": "code",
      "execution_count": null,
      "metadata": {
        "colab": {
          "base_uri": "https://localhost:8080/",
          "height": 423
        },
        "id": "IV_8Xwhcqsit",
        "outputId": "91d74f56-9dd7-4aef-d5ae-4cf4282303ad"
      },
      "outputs": [
        {
          "data": {
            "text/html": [
              "<div>\n",
              "<style scoped>\n",
              "    .dataframe tbody tr th:only-of-type {\n",
              "        vertical-align: middle;\n",
              "    }\n",
              "\n",
              "    .dataframe tbody tr th {\n",
              "        vertical-align: top;\n",
              "    }\n",
              "\n",
              "    .dataframe thead th {\n",
              "        text-align: right;\n",
              "    }\n",
              "</style>\n",
              "<table border=\"1\" class=\"dataframe\">\n",
              "  <thead>\n",
              "    <tr style=\"text-align: right;\">\n",
              "      <th></th>\n",
              "      <th>count</th>\n",
              "      <th>mean</th>\n",
              "      <th>std</th>\n",
              "      <th>min</th>\n",
              "      <th>25%</th>\n",
              "      <th>50%</th>\n",
              "      <th>75%</th>\n",
              "      <th>max</th>\n",
              "      <th>unique</th>\n",
              "      <th>percentage_unique</th>\n",
              "      <th>null</th>\n",
              "      <th>percentage_null</th>\n",
              "    </tr>\n",
              "  </thead>\n",
              "  <tbody>\n",
              "    <tr>\n",
              "      <th>ID</th>\n",
              "      <td>63098.0</td>\n",
              "      <td>1.200525e+09</td>\n",
              "      <td>302436.599309</td>\n",
              "      <td>1.200000e+09</td>\n",
              "      <td>1.200264e+09</td>\n",
              "      <td>1.200526e+09</td>\n",
              "      <td>1.200787e+09</td>\n",
              "      <td>1.201049e+09</td>\n",
              "      <td>63098</td>\n",
              "      <td>100.000000</td>\n",
              "      <td>0.0</td>\n",
              "      <td>0.000000</td>\n",
              "    </tr>\n",
              "    <tr>\n",
              "      <th>Age</th>\n",
              "      <td>58729.0</td>\n",
              "      <td>5.380413e+01</td>\n",
              "      <td>13.227846</td>\n",
              "      <td>1.800000e+01</td>\n",
              "      <td>4.400000e+01</td>\n",
              "      <td>5.400000e+01</td>\n",
              "      <td>6.400000e+01</td>\n",
              "      <td>7.900000e+01</td>\n",
              "      <td>62</td>\n",
              "      <td>0.105570</td>\n",
              "      <td>4369.0</td>\n",
              "      <td>6.924150</td>\n",
              "    </tr>\n",
              "    <tr>\n",
              "      <th>Lifetime</th>\n",
              "      <td>62311.0</td>\n",
              "      <td>6.583364e+00</td>\n",
              "      <td>4.714597</td>\n",
              "      <td>0.000000e+00</td>\n",
              "      <td>4.000000e+00</td>\n",
              "      <td>5.000000e+00</td>\n",
              "      <td>8.000000e+00</td>\n",
              "      <td>3.900000e+01</td>\n",
              "      <td>39</td>\n",
              "      <td>0.062589</td>\n",
              "      <td>787.0</td>\n",
              "      <td>1.247266</td>\n",
              "    </tr>\n",
              "    <tr>\n",
              "      <th>Income</th>\n",
              "      <td>63098.0</td>\n",
              "      <td>5.033686e+01</td>\n",
              "      <td>5.484858</td>\n",
              "      <td>2.800000e+01</td>\n",
              "      <td>4.700000e+01</td>\n",
              "      <td>5.000000e+01</td>\n",
              "      <td>5.400000e+01</td>\n",
              "      <td>7.500000e+01</td>\n",
              "      <td>47</td>\n",
              "      <td>0.074487</td>\n",
              "      <td>0.0</td>\n",
              "      <td>0.000000</td>\n",
              "    </tr>\n",
              "    <tr>\n",
              "      <th>trans_6_month</th>\n",
              "      <td>63098.0</td>\n",
              "      <td>2.050644e+03</td>\n",
              "      <td>70.398695</td>\n",
              "      <td>1.756490e+03</td>\n",
              "      <td>2.002803e+03</td>\n",
              "      <td>2.050300e+03</td>\n",
              "      <td>2.098110e+03</td>\n",
              "      <td>2.363480e+03</td>\n",
              "      <td>25355</td>\n",
              "      <td>40.183524</td>\n",
              "      <td>0.0</td>\n",
              "      <td>0.000000</td>\n",
              "    </tr>\n",
              "    <tr>\n",
              "      <th>trans_9_month</th>\n",
              "      <td>63098.0</td>\n",
              "      <td>3.070887e+03</td>\n",
              "      <td>86.455787</td>\n",
              "      <td>2.689650e+03</td>\n",
              "      <td>3.012162e+03</td>\n",
              "      <td>3.070750e+03</td>\n",
              "      <td>3.129270e+03</td>\n",
              "      <td>3.468720e+03</td>\n",
              "      <td>28748</td>\n",
              "      <td>45.560874</td>\n",
              "      <td>0.0</td>\n",
              "      <td>0.000000</td>\n",
              "    </tr>\n",
              "    <tr>\n",
              "      <th>trans_12_month</th>\n",
              "      <td>63098.0</td>\n",
              "      <td>4.191012e+03</td>\n",
              "      <td>99.970075</td>\n",
              "      <td>3.764060e+03</td>\n",
              "      <td>4.123413e+03</td>\n",
              "      <td>4.190575e+03</td>\n",
              "      <td>4.258388e+03</td>\n",
              "      <td>4.613460e+03</td>\n",
              "      <td>31176</td>\n",
              "      <td>49.408856</td>\n",
              "      <td>0.0</td>\n",
              "      <td>0.000000</td>\n",
              "    </tr>\n",
              "    <tr>\n",
              "      <th>amont_trans</th>\n",
              "      <td>63098.0</td>\n",
              "      <td>7.246125e+00</td>\n",
              "      <td>3.044539</td>\n",
              "      <td>1.000000e+00</td>\n",
              "      <td>5.000000e+00</td>\n",
              "      <td>7.000000e+00</td>\n",
              "      <td>9.000000e+00</td>\n",
              "      <td>4.000000e+01</td>\n",
              "      <td>35</td>\n",
              "      <td>0.055469</td>\n",
              "      <td>0.0</td>\n",
              "      <td>0.000000</td>\n",
              "    </tr>\n",
              "    <tr>\n",
              "      <th>amont_day_from</th>\n",
              "      <td>63098.0</td>\n",
              "      <td>2.094459e+01</td>\n",
              "      <td>6.895973</td>\n",
              "      <td>1.700000e+01</td>\n",
              "      <td>1.700000e+01</td>\n",
              "      <td>1.700000e+01</td>\n",
              "      <td>1.700000e+01</td>\n",
              "      <td>3.300000e+01</td>\n",
              "      <td>2</td>\n",
              "      <td>0.003170</td>\n",
              "      <td>0.0</td>\n",
              "      <td>0.000000</td>\n",
              "    </tr>\n",
              "    <tr>\n",
              "      <th>trans_3_month</th>\n",
              "      <td>63098.0</td>\n",
              "      <td>9.528664e+02</td>\n",
              "      <td>47.760230</td>\n",
              "      <td>7.424300e+02</td>\n",
              "      <td>9.216500e+02</td>\n",
              "      <td>9.521700e+02</td>\n",
              "      <td>9.843641e+02</td>\n",
              "      <td>1.177530e+03</td>\n",
              "      <td>21510</td>\n",
              "      <td>34.089829</td>\n",
              "      <td>0.0</td>\n",
              "      <td>0.000000</td>\n",
              "    </tr>\n",
              "  </tbody>\n",
              "</table>\n",
              "</div>"
            ],
            "text/plain": [
              "                  count          mean            std           min  \\\n",
              "ID              63098.0  1.200525e+09  302436.599309  1.200000e+09   \n",
              "Age             58729.0  5.380413e+01      13.227846  1.800000e+01   \n",
              "Lifetime        62311.0  6.583364e+00       4.714597  0.000000e+00   \n",
              "Income          63098.0  5.033686e+01       5.484858  2.800000e+01   \n",
              "trans_6_month   63098.0  2.050644e+03      70.398695  1.756490e+03   \n",
              "trans_9_month   63098.0  3.070887e+03      86.455787  2.689650e+03   \n",
              "trans_12_month  63098.0  4.191012e+03      99.970075  3.764060e+03   \n",
              "amont_trans     63098.0  7.246125e+00       3.044539  1.000000e+00   \n",
              "amont_day_from  63098.0  2.094459e+01       6.895973  1.700000e+01   \n",
              "trans_3_month   63098.0  9.528664e+02      47.760230  7.424300e+02   \n",
              "\n",
              "                         25%           50%           75%           max  \\\n",
              "ID              1.200264e+09  1.200526e+09  1.200787e+09  1.201049e+09   \n",
              "Age             4.400000e+01  5.400000e+01  6.400000e+01  7.900000e+01   \n",
              "Lifetime        4.000000e+00  5.000000e+00  8.000000e+00  3.900000e+01   \n",
              "Income          4.700000e+01  5.000000e+01  5.400000e+01  7.500000e+01   \n",
              "trans_6_month   2.002803e+03  2.050300e+03  2.098110e+03  2.363480e+03   \n",
              "trans_9_month   3.012162e+03  3.070750e+03  3.129270e+03  3.468720e+03   \n",
              "trans_12_month  4.123413e+03  4.190575e+03  4.258388e+03  4.613460e+03   \n",
              "amont_trans     5.000000e+00  7.000000e+00  9.000000e+00  4.000000e+01   \n",
              "amont_day_from  1.700000e+01  1.700000e+01  1.700000e+01  3.300000e+01   \n",
              "trans_3_month   9.216500e+02  9.521700e+02  9.843641e+02  1.177530e+03   \n",
              "\n",
              "                unique  percentage_unique    null  percentage_null  \n",
              "ID               63098         100.000000     0.0         0.000000  \n",
              "Age                 62           0.105570  4369.0         6.924150  \n",
              "Lifetime            39           0.062589   787.0         1.247266  \n",
              "Income              47           0.074487     0.0         0.000000  \n",
              "trans_6_month    25355          40.183524     0.0         0.000000  \n",
              "trans_9_month    28748          45.560874     0.0         0.000000  \n",
              "trans_12_month   31176          49.408856     0.0         0.000000  \n",
              "amont_trans         35           0.055469     0.0         0.000000  \n",
              "amont_day_from       2           0.003170     0.0         0.000000  \n",
              "trans_3_month    21510          34.089829     0.0         0.000000  "
            ]
          },
          "execution_count": 40,
          "metadata": {},
          "output_type": "execute_result"
        }
      ],
      "source": [
        "profile_num_test = pd.DataFrame(df_test.describe().transpose())\n",
        "unique = []\n",
        "for i in df_test.columns:\n",
        "    if df_test[i].dtypes != 'object':\n",
        "        unique.append(df_test[i].nunique())\n",
        "profile_num_test['unique'] = unique\n",
        "all_test = [df_test.shape[0]] * profile_num_test.shape[0]\n",
        "profile_num_test['percentage_unique'] = profile_num_test['unique'] / profile_num_test['count'] *100\n",
        "profile_num_test['null'] = all_test - profile_num_test['count']\n",
        "profile_num_test['percentage_null'] = profile_num_test['null'] / df_test.shape[0] *100\n",
        "profile_num_test"
      ]
    },
    {
      "cell_type": "code",
      "execution_count": null,
      "metadata": {
        "colab": {
          "base_uri": "https://localhost:8080/",
          "height": 297
        },
        "id": "RcOjrWDDrTGM",
        "outputId": "fdb90372-b6b4-4d9f-ff16-9aedff0d94dd"
      },
      "outputs": [
        {
          "data": {
            "text/html": [
              "<div>\n",
              "<style scoped>\n",
              "    .dataframe tbody tr th:only-of-type {\n",
              "        vertical-align: middle;\n",
              "    }\n",
              "\n",
              "    .dataframe tbody tr th {\n",
              "        vertical-align: top;\n",
              "    }\n",
              "\n",
              "    .dataframe thead th {\n",
              "        text-align: right;\n",
              "    }\n",
              "</style>\n",
              "<table border=\"1\" class=\"dataframe\">\n",
              "  <thead>\n",
              "    <tr style=\"text-align: right;\">\n",
              "      <th></th>\n",
              "      <th>count</th>\n",
              "      <th>unique</th>\n",
              "      <th>top</th>\n",
              "      <th>freq</th>\n",
              "      <th>percentage_unique</th>\n",
              "      <th>null</th>\n",
              "      <th>percentage_null</th>\n",
              "    </tr>\n",
              "  </thead>\n",
              "  <tbody>\n",
              "    <tr>\n",
              "      <th>Ind_Household</th>\n",
              "      <td>63098</td>\n",
              "      <td>2</td>\n",
              "      <td>No</td>\n",
              "      <td>40960</td>\n",
              "      <td>0.00317</td>\n",
              "      <td>0</td>\n",
              "      <td>0.0</td>\n",
              "    </tr>\n",
              "    <tr>\n",
              "      <th>Age_group</th>\n",
              "      <td>63098</td>\n",
              "      <td>4</td>\n",
              "      <td>middle</td>\n",
              "      <td>36939</td>\n",
              "      <td>0.006339</td>\n",
              "      <td>0</td>\n",
              "      <td>0.0</td>\n",
              "    </tr>\n",
              "    <tr>\n",
              "      <th>District</th>\n",
              "      <td>63098</td>\n",
              "      <td>56</td>\n",
              "      <td>52</td>\n",
              "      <td>3430</td>\n",
              "      <td>0.088751</td>\n",
              "      <td>0</td>\n",
              "      <td>0.0</td>\n",
              "    </tr>\n",
              "    <tr>\n",
              "      <th>Region</th>\n",
              "      <td>63098</td>\n",
              "      <td>6</td>\n",
              "      <td>South East</td>\n",
              "      <td>24490</td>\n",
              "      <td>0.009509</td>\n",
              "      <td>0</td>\n",
              "      <td>0.0</td>\n",
              "    </tr>\n",
              "    <tr>\n",
              "      <th>Segment</th>\n",
              "      <td>63098</td>\n",
              "      <td>4</td>\n",
              "      <td>Silver</td>\n",
              "      <td>24262</td>\n",
              "      <td>0.006339</td>\n",
              "      <td>0</td>\n",
              "      <td>0.0</td>\n",
              "    </tr>\n",
              "    <tr>\n",
              "      <th>Ind_deposit</th>\n",
              "      <td>63098</td>\n",
              "      <td>2</td>\n",
              "      <td>Yes</td>\n",
              "      <td>51151</td>\n",
              "      <td>0.00317</td>\n",
              "      <td>0</td>\n",
              "      <td>0.0</td>\n",
              "    </tr>\n",
              "    <tr>\n",
              "      <th>Ind_salary</th>\n",
              "      <td>63098</td>\n",
              "      <td>2</td>\n",
              "      <td>No</td>\n",
              "      <td>58608</td>\n",
              "      <td>0.00317</td>\n",
              "      <td>0</td>\n",
              "      <td>0.0</td>\n",
              "    </tr>\n",
              "    <tr>\n",
              "      <th>Gender</th>\n",
              "      <td>63098</td>\n",
              "      <td>3</td>\n",
              "      <td>F</td>\n",
              "      <td>34397</td>\n",
              "      <td>0.004755</td>\n",
              "      <td>0</td>\n",
              "      <td>0.0</td>\n",
              "    </tr>\n",
              "  </tbody>\n",
              "</table>\n",
              "</div>"
            ],
            "text/plain": [
              "               count unique         top   freq percentage_unique null  \\\n",
              "Ind_Household  63098      2          No  40960           0.00317    0   \n",
              "Age_group      63098      4      middle  36939          0.006339    0   \n",
              "District       63098     56          52   3430          0.088751    0   \n",
              "Region         63098      6  South East  24490          0.009509    0   \n",
              "Segment        63098      4      Silver  24262          0.006339    0   \n",
              "Ind_deposit    63098      2         Yes  51151           0.00317    0   \n",
              "Ind_salary     63098      2          No  58608           0.00317    0   \n",
              "Gender         63098      3           F  34397          0.004755    0   \n",
              "\n",
              "              percentage_null  \n",
              "Ind_Household             0.0  \n",
              "Age_group                 0.0  \n",
              "District                  0.0  \n",
              "Region                    0.0  \n",
              "Segment                   0.0  \n",
              "Ind_deposit               0.0  \n",
              "Ind_salary                0.0  \n",
              "Gender                    0.0  "
            ]
          },
          "execution_count": 41,
          "metadata": {},
          "output_type": "execute_result"
        }
      ],
      "source": [
        "profile_cat_test = df_test.describe(include = 'object').transpose()\n",
        "all1_test = [df_test.shape[0]] * profile_cat_test.shape[0]\n",
        "profile_cat_test['percentage_unique'] = profile_cat_test['unique'] / profile_cat_test['count'] *100\n",
        "profile_cat_test['null'] = all1_test - profile_cat_test['count']\n",
        "profile_cat_test['percentage_null'] = profile_cat_test['null'] / 10243 *100\n",
        "profile_cat_test"
      ]
    },
    {
      "cell_type": "markdown",
      "metadata": {
        "id": "BXsHQJaCrpEG"
      },
      "source": [
        "Строим распределения для переменных."
      ]
    },
    {
      "cell_type": "code",
      "execution_count": null,
      "metadata": {
        "id": "-gK69U8jrsvk",
        "outputId": "e86c8d73-bd51-4860-c8ef-ecb4dc4cf2cc"
      },
      "outputs": [
        {
          "data": {
            "image/png": "[encoded data removed]",
            "text/plain": [
              "<Figure size 1440x1440 with 20 Axes>"
            ]
          },
          "metadata": {
            "needs_background": "light"
          },
          "output_type": "display_data"
        }
      ],
      "source": [
        "build_displots(df_test, columns=df_test.columns, n_col=4, name='displots')"
      ]
    },
    {
      "cell_type": "markdown",
      "metadata": {
        "id": "5WGi1zo1yf9r"
      },
      "source": [
        "Построим матрицу корреляций для датасета test."
      ]
    },
    {
      "cell_type": "code",
      "execution_count": null,
      "metadata": {
        "id": "btsMamu0ymjd"
      },
      "outputs": [],
      "source": [
        "num_features_test = profile_num_test.transpose().columns.tolist()\n",
        "del num_features_test[0]"
      ]
    },
    {
      "cell_type": "code",
      "execution_count": null,
      "metadata": {
        "colab": {
          "base_uri": "https://localhost:8080/",
          "height": 958
        },
        "id": "KAITJJ2Vy7Mk",
        "outputId": "67de9b8f-abe6-46f2-a3a7-b06d49f483d2"
      },
      "outputs": [
        {
          "data": {
            "text/plain": [
              "<AxesSubplot:>"
            ]
          },
          "execution_count": 44,
          "metadata": {},
          "output_type": "execute_result"
        },
        {
          "data": {
            "image/png": "[encoded data removed]",
            "text/plain": [
              "<Figure size 1080x1080 with 2 Axes>"
            ]
          },
          "metadata": {
            "needs_background": "light"
          },
          "output_type": "display_data"
        }
      ],
      "source": [
        "corr_matrix = df_test.loc[:,num_features_test].corr()\n",
        "corr_matrix\n",
        "plt.figure(figsize=(15,15))\n",
        "sns.heatmap(corr_matrix, cmap = 'coolwarm',  linewidths=1, linecolor='white')"
      ]
    },
    {
      "cell_type": "markdown",
      "metadata": {
        "id": "FRZaLdtHsHAB"
      },
      "source": [
        "Заменим пропущенные значения для переменных Age и Lifetime."
      ]
    },
    {
      "cell_type": "code",
      "execution_count": null,
      "metadata": {
        "id": "b5oWErPEr3oN"
      },
      "outputs": [],
      "source": [
        "df_test['Age'].fillna(round(df_test['Age'].mean(), 0), inplace=True)"
      ]
    },
    {
      "cell_type": "markdown",
      "metadata": {
        "id": "348XzsWwsbfa"
      },
      "source": [
        "Для замены пропусков в переменной Lifetime сначала проверим правильность данных по транзакциям в тестовой выборке.\n",
        "Период 1 - с 12 до 9 месяца, период 2 - с 9 до 6, период 3 - с 6 по 3 месяц, период 4 - последние 3 месяца."
      ]
    },
    {
      "cell_type": "code",
      "execution_count": null,
      "metadata": {
        "id": "KJzXD_CQsq8g"
      },
      "outputs": [],
      "source": [
        "df_trans_test = pd.DataFrame()\n",
        "df_trans_test['trans_period1'] = df_test['trans_12_month'] - df_test['trans_9_month']\n",
        "df_trans_test['trans_period2'] = df_test['trans_9_month'] - df_test['trans_6_month']\n",
        "df_trans_test['trans_period3'] = df_test['trans_6_month'] - df_test['trans_3_month']\n",
        "df_trans_test['trans_period4'] = df_test['trans_3_month']"
      ]
    },
    {
      "cell_type": "code",
      "execution_count": null,
      "metadata": {
        "colab": {
          "base_uri": "https://localhost:8080/",
          "height": 173
        },
        "id": "vArs61x_s-Ex",
        "outputId": "74181de7-14a9-45d7-9188-eb6a298f0c00"
      },
      "outputs": [
        {
          "data": {
            "text/html": [
              "<div>\n",
              "<style scoped>\n",
              "    .dataframe tbody tr th:only-of-type {\n",
              "        vertical-align: middle;\n",
              "    }\n",
              "\n",
              "    .dataframe tbody tr th {\n",
              "        vertical-align: top;\n",
              "    }\n",
              "\n",
              "    .dataframe thead th {\n",
              "        text-align: right;\n",
              "    }\n",
              "</style>\n",
              "<table border=\"1\" class=\"dataframe\">\n",
              "  <thead>\n",
              "    <tr style=\"text-align: right;\">\n",
              "      <th></th>\n",
              "      <th>count</th>\n",
              "      <th>mean</th>\n",
              "      <th>std</th>\n",
              "      <th>min</th>\n",
              "      <th>25%</th>\n",
              "      <th>50%</th>\n",
              "      <th>75%</th>\n",
              "      <th>max</th>\n",
              "    </tr>\n",
              "  </thead>\n",
              "  <tbody>\n",
              "    <tr>\n",
              "      <th>trans_period1</th>\n",
              "      <td>63098.0</td>\n",
              "      <td>1120.125686</td>\n",
              "      <td>50.156083</td>\n",
              "      <td>899.940000</td>\n",
              "      <td>1086.47</td>\n",
              "      <td>1120.28</td>\n",
              "      <td>1154.057500</td>\n",
              "      <td>1322.17</td>\n",
              "    </tr>\n",
              "    <tr>\n",
              "      <th>trans_period2</th>\n",
              "      <td>63098.0</td>\n",
              "      <td>1020.242958</td>\n",
              "      <td>49.942582</td>\n",
              "      <td>804.480000</td>\n",
              "      <td>986.37</td>\n",
              "      <td>1020.18</td>\n",
              "      <td>1053.920000</td>\n",
              "      <td>1219.08</td>\n",
              "    </tr>\n",
              "    <tr>\n",
              "      <th>trans_period3</th>\n",
              "      <td>63098.0</td>\n",
              "      <td>1097.777263</td>\n",
              "      <td>51.635079</td>\n",
              "      <td>825.926355</td>\n",
              "      <td>1063.92</td>\n",
              "      <td>1098.15</td>\n",
              "      <td>1132.990000</td>\n",
              "      <td>1298.60</td>\n",
              "    </tr>\n",
              "    <tr>\n",
              "      <th>trans_period4</th>\n",
              "      <td>63098.0</td>\n",
              "      <td>952.866352</td>\n",
              "      <td>47.760230</td>\n",
              "      <td>742.430000</td>\n",
              "      <td>921.65</td>\n",
              "      <td>952.17</td>\n",
              "      <td>984.364112</td>\n",
              "      <td>1177.53</td>\n",
              "    </tr>\n",
              "  </tbody>\n",
              "</table>\n",
              "</div>"
            ],
            "text/plain": [
              "                 count         mean        std         min      25%      50%  \\\n",
              "trans_period1  63098.0  1120.125686  50.156083  899.940000  1086.47  1120.28   \n",
              "trans_period2  63098.0  1020.242958  49.942582  804.480000   986.37  1020.18   \n",
              "trans_period3  63098.0  1097.777263  51.635079  825.926355  1063.92  1098.15   \n",
              "trans_period4  63098.0   952.866352  47.760230  742.430000   921.65   952.17   \n",
              "\n",
              "                       75%      max  \n",
              "trans_period1  1154.057500  1322.17  \n",
              "trans_period2  1053.920000  1219.08  \n",
              "trans_period3  1132.990000  1298.60  \n",
              "trans_period4   984.364112  1177.53  "
            ]
          },
          "execution_count": 47,
          "metadata": {},
          "output_type": "execute_result"
        }
      ],
      "source": [
        "df_trans_test[trans_cols].describe().transpose()"
      ]
    },
    {
      "cell_type": "markdown",
      "metadata": {
        "id": "G6WA1pjVtQAF"
      },
      "source": [
        "По этой таблице для транзакций за промежутки между имеющимися периодами видно, что минимальные значения не отрицательны и не равны нулю, это значит, что данные правильные, так как у нас нет клиентов, для которых число транзакций за последние 9 месяцев больше, чем за последние 12 месяцев. Также нет клиентов, которые совсем не совершали транзакции в указанный период. Заменим пропуски на средние значения."
      ]
    },
    {
      "cell_type": "code",
      "execution_count": null,
      "metadata": {
        "id": "MTnVXlBXtUvO"
      },
      "outputs": [],
      "source": [
        "df_test['Lifetime'].fillna(round(df_test['Lifetime'].mean(), 0), inplace=True)"
      ]
    },
    {
      "cell_type": "markdown",
      "metadata": {
        "id": "CZ8rTaS21dta"
      },
      "source": [
        "Уберем колонки, которые мы убирали в тренировочной выборке после рассчета IV."
      ]
    },
    {
      "cell_type": "code",
      "execution_count": null,
      "metadata": {
        "id": "xcvVSyj71Jv8"
      },
      "outputs": [],
      "source": [
        "df_test.drop(columns=[\"Ind_Household\", \"District\", \"Ind_deposit\", \"Ind_salary\",\n",
        "                      \"trans_6_month\", \"trans_9_month\", \"trans_12_month\", \"amont_trans\",\n",
        "                      \"trans_3_month\"], inplace=True)"
      ]
    },
    {
      "cell_type": "markdown",
      "metadata": {
        "id": "EaZn2aWWt7ap"
      },
      "source": [
        "С помощью функции из предыдущего пункта переведем категориальные переменные в числовые."
      ]
    },
    {
      "cell_type": "code",
      "execution_count": null,
      "metadata": {
        "id": "U9BaUi8muETa"
      },
      "outputs": [],
      "source": [
        "df_test_final = encoder(df_test, columns=['Age_group', 'Region', 'Segment', 'Gender'])"
      ]
    },
    {
      "cell_type": "markdown",
      "metadata": {
        "id": "kpivotps286d"
      },
      "source": [
        "Также, как и в тренировочной выборке, уберем колонки со значением Unknown."
      ]
    },
    {
      "cell_type": "code",
      "execution_count": null,
      "metadata": {
        "id": "B9TmrkT53Ed6"
      },
      "outputs": [],
      "source": [
        "df_test_final.drop(columns=[\"Region_Unknown\", \"Gender_U\", \"Age_group_unknown\"], inplace=True)"
      ]
    },
    {
      "cell_type": "code",
      "execution_count": null,
      "metadata": {
        "colab": {
          "base_uri": "https://localhost:8080/"
        },
        "id": "htQzeg8D3Qt0",
        "outputId": "133cf5b0-3bcc-4c4e-857d-72c149c10265"
      },
      "outputs": [
        {
          "data": {
            "text/plain": [
              "Index(['ID', 'Age', 'Lifetime', 'Income', 'amont_day_from', 'Age_group_middle',\n",
              "       'Age_group_senior', 'Age_group_young', 'Region_Midlands',\n",
              "       'Region_North', 'Region_Scottish', 'Region_South East',\n",
              "       'Region_South West', 'Segment_Gold', 'Segment_Platinum',\n",
              "       'Segment_Silver', 'Segment_Tin', 'Gender_F', 'Gender_M'],\n",
              "      dtype='object')"
            ]
          },
          "execution_count": 52,
          "metadata": {},
          "output_type": "execute_result"
        }
      ],
      "source": [
        "df_test_final.columns"
      ]
    },
    {
      "cell_type": "code",
      "execution_count": null,
      "metadata": {
        "colab": {
          "base_uri": "https://localhost:8080/"
        },
        "id": "SzHTMwy53T3S",
        "outputId": "b8562078-db96-494b-e6d3-234d35fea50b",
        "scrolled": true
      },
      "outputs": [
        {
          "data": {
            "text/plain": [
              "Index(['ID', 'Age', 'Lifetime', 'Income', 'amont_day_from', 'Target1',\n",
              "       'Target2', 'Age_group_middle', 'Age_group_senior', 'Age_group_young',\n",
              "       'Region_Midlands', 'Region_North', 'Region_Scottish',\n",
              "       'Region_South East', 'Region_South West', 'Segment_Gold',\n",
              "       'Segment_Platinum', 'Segment_Silver', 'Segment_Tin', 'Gender_F',\n",
              "       'Gender_M'],\n",
              "      dtype='object')"
            ]
          },
          "execution_count": 53,
          "metadata": {},
          "output_type": "execute_result"
        }
      ],
      "source": [
        "df_train_final.columns"
      ]
    },
    {
      "cell_type": "code",
      "execution_count": null,
      "metadata": {
        "colab": {
          "base_uri": "https://localhost:8080/"
        },
        "id": "e860S60o3Y40",
        "outputId": "9668d5c8-b734-46ef-c12b-bd0ae3dc9b86",
        "scrolled": true
      },
      "outputs": [
        {
          "name": "stdout",
          "output_type": "stream",
          "text": [
            "Target1\n",
            "Target2\n"
          ]
        }
      ],
      "source": [
        "for column_train in df_train_final.columns:\n",
        "    was = False\n",
        "    for column_test in df_test_final.columns:\n",
        "        if column_train == column_test:\n",
        "            was = True\n",
        "    if not was:\n",
        "        print(column_train)"
      ]
    },
    {
      "cell_type": "markdown",
      "metadata": {
        "id": "yc6yVppRvZbB"
      },
      "source": [
        "Кодировка данных завершена."
      ]
    }
  ],
  "metadata": {
    "colab": {
      "collapsed_sections": [
        "56hbIwjbY1JR"
      ],
      "name": "Data_preprocessing.ipynb",
      "provenance": []
    },
    "kernelspec": {
      "display_name": "Python 3",
      "language": "python",
      "name": "python3"
    },
    "language_info": {
      "codemirror_mode": {
        "name": "ipython",
        "version": 3
      },
      "file_extension": ".py",
      "mimetype": "text/x-python",
      "name": "python",
      "nbconvert_exporter": "python",
      "pygments_lexer": "ipython3",
      "version": "3.8.8"
    }
  },
  "nbformat": 4,
  "nbformat_minor": 0
}
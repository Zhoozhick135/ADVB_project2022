{
  "cells": [
    {
      "cell_type": "code",
      "execution_count": 1,
      "id": "6b8b81b0",
      "metadata": {
        "id": "6b8b81b0"
      },
      "outputs": [],
      "source": [
        "import pandas as pd\n",
        "import numpy as np\n",
        "import matplotlib.pyplot as plt\n",
        "from matplotlib import pylab as plot\n",
        "from sklearn.metrics import roc_curve, roc_auc_score, f1_score\n",
        "\n",
        "pd.options.display.max_columns = 50\n",
        "pd.options.display.max_rows = 80"
      ]
    },
    {
      "cell_type": "markdown",
      "source": [
        "####Сервис"
      ],
      "metadata": {
        "id": "IKw9eHmQrvIK"
      },
      "id": "IKw9eHmQrvIK"
    },
    {
      "cell_type": "code",
      "execution_count": 2,
      "id": "1e7dea51",
      "metadata": {
        "id": "1e7dea51"
      },
      "outputs": [],
      "source": [
        "'''\n",
        "В этой строчке кода содержатся гиперпараметры (бюджет компании, расценки, конверсия), которые задаются пользователем\n",
        "'''\n",
        "\n",
        "#бюджет компании\n",
        "budget = 1000\n",
        "\n",
        "#стоимость коммуникации\n",
        "cost_email = 2\n",
        "cost_sms = 10\n",
        "\n",
        "#конверсия\n",
        "conversion_email = 0.2\n",
        "conversion_sms = 0.8\n",
        "\n",
        "#ограничения по коммуникации (в %)\n",
        "max_email = 0.6\n",
        "max_sms = 0.4"
      ]
    },
    {
      "cell_type": "code",
      "execution_count": 3,
      "id": "483fb765",
      "metadata": {
        "id": "483fb765"
      },
      "outputs": [],
      "source": [
        "#загрузим тестовые и трейновые данные\n",
        "df_train = pd.read_csv('WORK_bank_data_train.csv', sep=';')\n",
        "df_test = pd.read_csv('WORK_WORK_BANK_DATA_test_sample.csv', sep=';') #файл может быть изменен пользователем\n",
        "\n",
        "#ценность клиента, рассчитываемая по переменной trans_3_month - транзакции за последние три месяца\n",
        "#(сохраним только для тестовой выборки)\n",
        "client_importance = df_test.trans_3_month / df_train.trans_3_month.max()"
      ]
    },
    {
      "cell_type": "code",
      "execution_count": 4,
      "id": "73b4dede",
      "metadata": {
        "id": "73b4dede"
      },
      "outputs": [],
      "source": [
        "'''\n",
        "Функция, которая принимает на вход датафрейм, обрабатывает его и выдает данные, готовые для построения моделей\n",
        "'''\n",
        "\n",
        "def data_preparation(df, is_train=True):\n",
        "    \n",
        "    def encoder(data, columns):\n",
        "        for column in columns:\n",
        "            tmp = pd.get_dummies(data[column], prefix=column)\n",
        "            data = data.drop(columns=[column])\n",
        "            data = data.join(tmp)\n",
        "        return data\n",
        "    \n",
        "    def code(data, columns):\n",
        "        for column in columns:\n",
        "            data[column] = 1 * (data[column] == 'Yes')\n",
        "        return data\n",
        "\n",
        "    df['Age'].fillna(round(df['Age'].mean(), 0), inplace=True)\n",
        "    df['Lifetime'].fillna(round(df['Lifetime'].mean(), 0), inplace=True)\n",
        "    \n",
        "    if not is_train:\n",
        "        df.rename(columns = {'Ind_House_hold' : 'Ind_Household'}, inplace = True)\n",
        "    \n",
        "    columns_to_delete_train = ['Ind_email', 'Ind_phone']\n",
        "\n",
        "    columns_to_delete = [\"Ind_Household\", \"District\", \"Ind_deposit\", \"Ind_salary\",\n",
        "                      \"trans_6_month\", \"trans_9_month\", \"trans_12_month\", \"amont_trans\",\n",
        "                      \"trans_3_month\"] #IV < 0.01\n",
        "\n",
        "    if is_train:\n",
        "        columns_to_label_encoding = ['Target1', 'Target2']\n",
        "        df = code(df, columns=columns_to_label_encoding)\n",
        "        df.drop(columns=columns_to_delete_train, inplace=True)\n",
        "\n",
        "    df.drop(columns=columns_to_delete, inplace=True)\n",
        "    \n",
        "    columns_to_encoder = ['Age_group', 'Region', 'Segment', 'Gender']\n",
        "    df = encoder(df, columns=columns_to_encoder)\n",
        "\n",
        "    df.drop(columns=[\"Region_Unknown\", \"Gender_U\", \"Age_group_unknown\"], inplace=True)\n",
        "    \n",
        "    return df"
      ]
    },
    {
      "cell_type": "code",
      "execution_count": 5,
      "id": "358e13e4",
      "metadata": {
        "colab": {
          "base_uri": "https://localhost:8080/"
        },
        "id": "358e13e4",
        "outputId": "a6c59507-eb10-4303-ad4e-64fc6a1181c3"
      },
      "outputs": [
        {
          "output_type": "stream",
          "name": "stderr",
          "text": [
            "/usr/local/lib/python3.7/dist-packages/sklearn/preprocessing/_label.py:98: DataConversionWarning: A column-vector y was passed when a 1d array was expected. Please change the shape of y to (n_samples, ), for example using ravel().\n",
            "  y = column_or_1d(y, warn=True)\n",
            "/usr/local/lib/python3.7/dist-packages/sklearn/preprocessing/_label.py:133: DataConversionWarning: A column-vector y was passed when a 1d array was expected. Please change the shape of y to (n_samples, ), for example using ravel().\n",
            "  y = column_or_1d(y, warn=True)\n"
          ]
        }
      ],
      "source": [
        "#обработка данных\n",
        "df_train = data_preparation(df_train)\n",
        "df_test = data_preparation(df_test, False)\n",
        "\n",
        "#делим данные на регрессоры и два таргета\n",
        "y1 = df_train.loc[:, ['Target1']] #колонка таргета 1\n",
        "y2 = df_train.loc[:, ['Target2']] #колонка таргета 2\n",
        "x = df_train.drop(columns = ['Target1', 'Target2']) #фичи\n",
        "\n",
        "#лучшая модель для таргета 1 (e-mail)\n",
        "import xgboost as xgb\n",
        "from xgboost.sklearn import XGBClassifier\n",
        "\n",
        "xgb_best_for_email = XGBClassifier(\n",
        "        learning_rate=0.1,     \n",
        "        n_estimators=150,   \n",
        "        max_depth=10,\n",
        "        min_child_weight=4,\n",
        "        gamma=0.4,\n",
        "        subsample=0.9,\n",
        "        colsample_bytree=0.9,\n",
        "        reg_alpha=0.1,\n",
        "        objective='binary:logistic',  \n",
        "        nthread=4,\n",
        "        scale_pos_weight=1,\n",
        "        seed=27)\n",
        "xgb_best_for_email.fit(x, y1.values)\n",
        "\n",
        "df_test['prob_email'] = xgb_best_for_email.predict_proba(df_test)[:, 1]\n",
        "\n",
        "#лучшая модель для таргета 1 (sms)\n",
        "\n",
        "xgb_best_for_sms = XGBClassifier(\n",
        "        learning_rate=0.1,     \n",
        "        n_estimators=150,   \n",
        "        max_depth=15,\n",
        "        min_child_weight=1,\n",
        "        gamma=0.9,\n",
        "        subsample=0.9,\n",
        "        colsample_bytree=0.6,\n",
        "        reg_alpha=0.01,\n",
        "        objective='binary:logistic',\n",
        "        nthread=4,\n",
        "        scale_pos_weight=1,\n",
        "        seed=27)\n",
        "xgb_best_for_sms.fit(x, y2.values)\n",
        "\n",
        "df_test['prob_sms'] = xgb_best_for_sms.predict_proba(df_test.drop(columns=['prob_email']))[:, 1]"
      ]
    },
    {
      "cell_type": "code",
      "source": [
        "'''\n",
        "Алгоритм для определения вероятностей отклика на коммуникацию с учетом ценности клиента и конверсии\n",
        "'''\n",
        "\n",
        "def client_probabilities(df):\n",
        "\n",
        "    #добавим вероятности отклика на каждую коммуникацю в таблицу и добавим столбец ценности каждого клиента\n",
        "    df['client_importance'] = client_importance\n",
        "\n",
        "    #преобразуем вероятности отклика на каждую коммуникацию с учетом конверсии и ценности клиента\n",
        "    df['prob_email_imp_conv'] = df['prob_email'] * df['client_importance'] * conversion_email\n",
        "    df['prob_sms_imp_conv'] = df['prob_sms'] * df['client_importance'] * conversion_sms\n",
        "\n",
        "    #выберем колонку с наибольшей вероятностью для каждого клиента (и создадим еще одну переменную, которая будет означать,\n",
        "    #какая коммуникация для этого клиента подходит (email, sms))\n",
        "    df['communication'] = 'None'\n",
        "    for i in range(0, len(df)):\n",
        "      if df.iloc[i]['prob_email_imp_conv'] >= df.iloc[i]['prob_sms_imp_conv']:\n",
        "        df.at[i, 'communication'] = 'email'\n",
        "      else:\n",
        "        df.at[i, 'communication'] = 'sms'\n",
        "  \n",
        "    #создадим колонку с общими вероятностями для сортировки клиентом (выбираем отклик, на который клиент вероятнее всего откликнется)\n",
        "    df['probs_for_sort'] = df[['prob_email_imp_conv', 'prob_sms_imp_conv']].max(axis = 1)\n",
        "\n",
        "    #отсортируем клиентов по вероятности отклика\n",
        "    df = df.sort_values(by=['probs_for_sort'], ascending=False)\n",
        "    df = df.reset_index(drop=True)\n",
        "\n",
        "    return df"
      ],
      "metadata": {
        "id": "Vu2HvMI_8yUf"
      },
      "id": "Vu2HvMI_8yUf",
      "execution_count": 6,
      "outputs": []
    },
    {
      "cell_type": "code",
      "source": [
        "df_test = client_probabilities(df_test)"
      ],
      "metadata": {
        "id": "NWU2Hp1krvqs"
      },
      "id": "NWU2Hp1krvqs",
      "execution_count": 7,
      "outputs": []
    },
    {
      "cell_type": "code",
      "source": [
        "min_budget = 1000\n",
        "max_budget = 60000"
      ],
      "metadata": {
        "id": "C5P0Yz5U1RnP"
      },
      "id": "C5P0Yz5U1RnP",
      "execution_count": 40,
      "outputs": []
    },
    {
      "cell_type": "code",
      "source": [
        "import random\n",
        "random_response = []\n",
        "optim_response = []\n",
        "# посчитаем чумарную вероятность отклика клиентов на случайную рассылку\n",
        "for budget in range(min_budget, max_budget, 3000):\n",
        "  num_email = budget * max_email / cost_email\n",
        "  num_sms = budget * max_sms / cost_sms\n",
        "  random_clients_email = random.sample(range(0, len(df_test)), int(num_email))\n",
        "  random_clients_sms = random.sample(range(0, len(df_test)), int(num_sms))\n",
        "  random_response.append(df_test.iloc[random_clients_email]['prob_email_imp_conv'].sum()+ df_test.iloc[random_clients_sms]['prob_sms_imp_conv'].sum())\n",
        "  \n",
        "  results = pd.DataFrame(columns=['ID', 'communication_type', 'prob_responce'])\n",
        "  n_email = 0\n",
        "  n_sms = 0\n",
        "  clients_for_email = []\n",
        "  clients_for_sms = []\n",
        "  type_email = []\n",
        "  type_sms = []\n",
        "  prob_responce = []\n",
        "  for i in range(0, len(df_test)):\n",
        "    if n_email == num_email:\n",
        "      break \n",
        "    if df_test.iloc[i]['communication'] == 'email':\n",
        "      clients_for_email.append(df_test.iloc[i]['ID']) \n",
        "      type_email.append(df_test.iloc[i]['communication'])\n",
        "      prob_responce.append(df_test.iloc[i]['prob_email']*conversion_email)\n",
        "      n_email += 1\n",
        "  for i in range(0, len(df_test)):\n",
        "    if n_sms == num_sms:\n",
        "      break \n",
        "    if df_test.iloc[i]['communication'] == 'sms':\n",
        "      clients_for_sms.append(df_test.iloc[i]['ID'])\n",
        "      type_sms.append(df_test.iloc[i]['communication']) \n",
        "      prob_responce.append(df_test.iloc[i]['prob_sms']*conversion_sms) \n",
        "      n_sms += 1\n",
        "  ids = clients_for_email + clients_for_sms\n",
        "  communication_type = type_email + type_sms\n",
        "  results = pd.DataFrame({'ID': ids, 'communication_type': communication_type, 'prob_responce' : prob_responce})\n",
        "  optim_response.append(results.prob_responce.sum()) "
      ],
      "metadata": {
        "id": "14Zx4x2btRJr"
      },
      "id": "14Zx4x2btRJr",
      "execution_count": 41,
      "outputs": []
    },
    {
      "cell_type": "code",
      "source": [
        "y = np.arange(1000, 60000, 3000)"
      ],
      "metadata": {
        "id": "KhYigXLNDuaK"
      },
      "id": "KhYigXLNDuaK",
      "execution_count": 42,
      "outputs": []
    },
    {
      "cell_type": "code",
      "source": [
        "plt.plot(y, random_response, color = 'lightblue', linewidth = 3, label = 'случайная рассылка')\n",
        "plt.plot(y, optim_response, color = 'yellow', linewidth = 3, label = 'рассылка по нашей модели')\n",
        "plt.legend()\n",
        "plt.title('Зависимость оклика от вложенных средств', fontsize = 14)\n",
        "plt.xlabel(\"Бюджет на рассылку\")\n",
        "plt.ylabel(\"Количество откликов\")\n",
        "plt.savefig('saved_figure.jpg')"
      ],
      "metadata": {
        "colab": {
          "base_uri": "https://localhost:8080/",
          "height": 296
        },
        "id": "Kf25590xE_EU",
        "outputId": "e8f3f933-b87d-45cf-e683-8f12572f5a68"
      },
      "id": "Kf25590xE_EU",
      "execution_count": 80,
      "outputs": [
        {
          "output_type": "display_data",
          "data": {
            "text/plain": [
              "<Figure size 432x288 with 1 Axes>"
            ],
            "image/png": "[encoded data removed]"
          },
          "metadata": {
            "needs_background": "light"
          }
        }
      ]
    },
    {
      "cell_type": "code",
      "source": [
        "email_response = []\n",
        "sms_response = []\n",
        "for budget in range(1000, 60000, 3000):\n",
        "  num_email = budget / cost_email\n",
        "  num_sms = budget / cost_sms\n",
        "  random_clients_email = random.sample(range(0, len(df_test)), int(num_email))\n",
        "  random_clients_sms = random.sample(range(0, len(df_test)), int(num_sms))\n",
        "  email_response.append(df_test.iloc[random_clients_email]['prob_email_imp_conv'].sum())\n",
        "  sms_response.append(df_test.iloc[random_clients_sms]['prob_sms_imp_conv'].sum())"
      ],
      "metadata": {
        "id": "g4SPsZAXFXQR"
      },
      "id": "g4SPsZAXFXQR",
      "execution_count": 44,
      "outputs": []
    },
    {
      "cell_type": "code",
      "source": [
        "plt.plot(y, email_response, linewidth = 3, label = 'рассылка только email')\n",
        "plt.plot(y, sms_response, linewidth = 3, label = 'рассылка только sms')\n",
        "plt.plot(y, optim_response, linewidth = 3, label = 'рассылка по нашей модели')\n",
        "\n",
        "plt.legend()\n",
        "plt.title('Зависимость оклика от вложенных средств', fontsize = 14)\n",
        "plt.xlabel(\"Бюджет на рассылку\")\n",
        "plt.ylabel(\"Количество откликов\");"
      ],
      "metadata": {
        "colab": {
          "base_uri": "https://localhost:8080/",
          "height": 296
        },
        "id": "KZvUlRkcKv2-",
        "outputId": "5c489a1d-3eba-4a5a-df38-e54f7cf49d1f"
      },
      "id": "KZvUlRkcKv2-",
      "execution_count": 79,
      "outputs": [
        {
          "output_type": "display_data",
          "data": {
            "text/plain": [
              "<Figure size 432x288 with 1 Axes>"
            ],
            "image/png": "[encoded data removed]"
          },
          "metadata": {
            "needs_background": "light"
          }
        }
      ]
    },
    {
      "cell_type": "code",
      "source": [
        ""
      ],
      "metadata": {
        "id": "G1OxJ8G0Sqe3"
      },
      "id": "G1OxJ8G0Sqe3",
      "execution_count": null,
      "outputs": []
    }
  ],
  "metadata": {
    "kernelspec": {
      "display_name": "Python 3 (ipykernel)",
      "language": "python",
      "name": "python3"
    },
    "language_info": {
      "codemirror_mode": {
        "name": "ipython",
        "version": 3
      },
      "file_extension": ".py",
      "mimetype": "text/x-python",
      "name": "python",
      "nbconvert_exporter": "python",
      "pygments_lexer": "ipython3",
      "version": "3.9.7"
    },
    "colab": {
      "name": "Optimisation_clients_service(3)",
      "provenance": [],
      "collapsed_sections": []
    },
    "accelerator": "GPU"
  },
  "nbformat": 4,
  "nbformat_minor": 5
}